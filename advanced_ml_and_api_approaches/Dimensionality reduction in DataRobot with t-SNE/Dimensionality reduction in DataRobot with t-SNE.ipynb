{
 "cells": [
  {
   "cell_type": "markdown",
   "id": "65a962f4eab92e66bbdf6579",
   "metadata": {
    "chart_settings": null,
    "custom_metric_settings": null,
    "dataframe_view_options": null,
    "datarobot": {
     "language": "markdown"
    },
    "disable_run": false,
    "hide_code": false,
    "hide_results": false,
    "scrolled": false
   },
   "source": [
    "# Dimensionality Reduction in DataRobot Using t-SNE"
   ]
  },
  {
   "cell_type": "markdown",
   "id": "65a96313eab92e66bbdf6584",
   "metadata": {
    "chart_settings": null,
    "custom_metric_settings": null,
    "dataframe_view_options": null,
    "datarobot": {
     "language": "markdown"
    },
    "disable_run": false,
    "hide_code": false,
    "hide_results": false,
    "scrolled": false
   },
   "source": [
    "t-SNE (t-Distributed Stochastic Neighbor Embedding) is a powerful technique for dimensionality reduction that can effectively visualize high-dimensional data in a lower-dimensional space. Dimensionality reduction can improve machine learning results by reducing computational complexity of the algorithms, preventing overfitting, and focusing on the most relevant features in the dataset. Note that this technique should only be used when the number of features is low."
   ]
  },
  {
   "cell_type": "markdown",
   "id": "65a963a7eab92e66bbdf65b3",
   "metadata": {
    "chart_settings": null,
    "custom_metric_settings": null,
    "dataframe_view_options": null,
    "datarobot": {
     "language": "markdown"
    },
    "disable_run": false,
    "hide_code": false,
    "hide_results": false,
    "scrolled": false
   },
   "source": [
    "## Import libraries"
   ]
  },
  {
   "cell_type": "code",
   "execution_count": null,
   "id": "65a962e5d37cff21bf4f863c",
   "metadata": {
    "chart_settings": null,
    "collapsed": true,
    "custom_metric_settings": null,
    "dataframe_view_options": null,
    "datarobot": {
     "language": "python"
    },
    "disable_run": false,
    "hide_code": false,
    "hide_results": false,
    "name": "Import libraries"
   },
   "outputs": [],
   "source": [
    "import datarobot as dr\n",
    "import pandas as pd\n",
    "import seaborn as sns\n",
    "from sklearn.manifold import TSNE"
   ]
  },
  {
   "cell_type": "markdown",
   "id": "65a963b1eab92e66bbdf65b7",
   "metadata": {
    "chart_settings": null,
    "custom_metric_settings": null,
    "dataframe_view_options": null,
    "datarobot": {
     "language": "markdown"
    },
    "disable_run": false,
    "hide_code": false,
    "hide_results": false,
    "scrolled": false
   },
   "source": [
    "## Connect to DataRobot\n",
    "Instructions for obtaining your endpoint and token are located in the [DataRobot API documentation here](https://docs.datarobot.com/en/docs/api/api-quickstart/index.html#configure-api-authentication)"
   ]
  },
  {
   "cell_type": "code",
   "execution_count": 3,
   "id": "65a963c7eab92e66bbdf65bf",
   "metadata": {
    "chart_settings": null,
    "custom_metric_settings": null,
    "dataframe_view_options": null,
    "datarobot": {
     "language": "python"
    },
    "disable_run": false,
    "hide_code": false,
    "hide_results": false,
    "scrolled": false
   },
   "outputs": [
    {
     "data": {
      "text/plain": [
       "<datarobot.rest.RESTClientObject at 0x7f5f10312280>"
      ]
     },
     "execution_count": 3,
     "metadata": {},
     "output_type": "execute_result"
    }
   ],
   "source": [
    "# either directly pass in your endpoint/token, use a config file, or connect using DataRobot notebooks\n",
    "dr.Client()"
   ]
  },
  {
   "cell_type": "markdown",
   "id": "65a9648aeab92e66bbdf65fe",
   "metadata": {
    "chart_settings": null,
    "custom_metric_settings": null,
    "dataframe_view_options": null,
    "datarobot": {
     "language": "markdown"
    },
    "disable_run": false,
    "hide_code": false,
    "hide_results": false,
    "scrolled": false
   },
   "source": [
    "## Get dataset\n",
    "This example uses data on the movement of a double pendulum which has already been loaded into DataRobot for this example, but can be [found here](https://github.com/datarobot-community/tutorials-for-data-scientists/blob/master/Regression/Python/double_pendulum_with_eureqa/src/Double%20Pendulum%20with%20Eureqa%20Models.ipynb)"
   ]
  },
  {
   "cell_type": "code",
   "execution_count": 40,
   "id": "65a9647dd37cff21bf4f86cb",
   "metadata": {
    "chart_settings": null,
    "custom_metric_settings": null,
    "dataframe_view_options": null,
    "datarobot": {
     "language": "python"
    },
    "disable_run": false,
    "hide_code": false,
    "hide_results": false,
    "scrolled": false
   },
   "outputs": [
    {
     "data": {
      "application/vnd.dataframe+json": {
       "columns": [
        {
         "name": "_dr_df_index",
         "type": "integer"
        },
        {
         "name": "t",
         "type": "number"
        },
        {
         "name": "x1",
         "type": "number"
        },
        {
         "name": "x2",
         "type": "number"
        },
        {
         "name": "v1",
         "type": "number"
        },
        {
         "name": "v2",
         "type": "number"
        },
        {
         "name": "a1",
         "type": "number"
        },
        {
         "name": "a2",
         "type": "number"
        }
       ],
       "count": 10,
       "data": [
        {
         "_dr_df_index": 0,
         "a1": -9.24,
         "a2": 6.53,
         "t": 0,
         "v1": -0.01,
         "v2": -0.01,
         "x1": 2.36,
         "x2": 3.14
        },
        {
         "_dr_df_index": 1,
         "a1": -9.24,
         "a2": 6.53,
         "t": 0.000862,
         "v1": -0.018,
         "v2": -0.00437,
         "x1": 2.36,
         "x2": 3.14
        },
        {
         "_dr_df_index": 2,
         "a1": -9.24,
         "a2": 6.53,
         "t": 0.00172,
         "v1": -0.0259,
         "v2": 0.00126,
         "x1": 2.36,
         "x2": 3.14
        },
        {
         "_dr_df_index": 3,
         "a1": -9.24,
         "a2": 6.53,
         "t": 0.00259,
         "v1": -0.0339,
         "v2": 0.00689,
         "x1": 2.36,
         "x2": 3.14
        },
        {
         "_dr_df_index": 4,
         "a1": -9.24,
         "a2": 6.53,
         "t": 0.00345,
         "v1": -0.0418,
         "v2": 0.0125,
         "x1": 2.36,
         "x2": 3.14
        },
        {
         "_dr_df_index": 5,
         "a1": -9.24,
         "a2": 6.53,
         "t": 0.00776,
         "v1": -0.0817,
         "v2": 0.0406,
         "x1": 2.36,
         "x2": 3.14
        },
        {
         "_dr_df_index": 6,
         "a1": -9.23,
         "a2": 6.52,
         "t": 0.0121,
         "v1": -0.121,
         "v2": 0.0687,
         "x1": 2.36,
         "x2": 3.14
        },
        {
         "_dr_df_index": 7,
         "a1": -9.23,
         "a2": 6.5,
         "t": 0.0164,
         "v1": -0.161,
         "v2": 0.0968,
         "x1": 2.35,
         "x2": 3.14
        },
        {
         "_dr_df_index": 8,
         "a1": -9.22,
         "a2": 6.48,
         "t": 0.0207,
         "v1": -0.201,
         "v2": 0.125,
         "x1": 2.35,
         "x2": 3.14
        },
        {
         "_dr_df_index": 9,
         "a1": -9.2,
         "a2": 6.4,
         "t": 0.0336,
         "v1": -0.32,
         "v2": 0.208,
         "x1": 2.35,
         "x2": 3.14
        }
       ],
       "error": [],
       "indexKey": "_dr_df_index",
       "limit": 10,
       "offset": 0,
       "referenceId": 140045812594816,
       "sortedBy": "",
       "totalCount": 2429
      },
      "text/html": [
       "<div>\n",
       "<style scoped>\n",
       "    .dataframe tbody tr th:only-of-type {\n",
       "        vertical-align: middle;\n",
       "    }\n",
       "\n",
       "    .dataframe tbody tr th {\n",
       "        vertical-align: top;\n",
       "    }\n",
       "\n",
       "    .dataframe thead th {\n",
       "        text-align: right;\n",
       "    }\n",
       "</style>\n",
       "<table border=\"1\" class=\"dataframe\">\n",
       "  <thead>\n",
       "    <tr style=\"text-align: right;\">\n",
       "      <th></th>\n",
       "      <th>t</th>\n",
       "      <th>x1</th>\n",
       "      <th>x2</th>\n",
       "      <th>v1</th>\n",
       "      <th>v2</th>\n",
       "      <th>a1</th>\n",
       "      <th>a2</th>\n",
       "    </tr>\n",
       "  </thead>\n",
       "  <tbody>\n",
       "    <tr>\n",
       "      <th>0</th>\n",
       "      <td>0.000000</td>\n",
       "      <td>2.36</td>\n",
       "      <td>3.14</td>\n",
       "      <td>-0.0100</td>\n",
       "      <td>-0.01000</td>\n",
       "      <td>-9.24</td>\n",
       "      <td>6.53</td>\n",
       "    </tr>\n",
       "    <tr>\n",
       "      <th>1</th>\n",
       "      <td>0.000862</td>\n",
       "      <td>2.36</td>\n",
       "      <td>3.14</td>\n",
       "      <td>-0.0180</td>\n",
       "      <td>-0.00437</td>\n",
       "      <td>-9.24</td>\n",
       "      <td>6.53</td>\n",
       "    </tr>\n",
       "    <tr>\n",
       "      <th>2</th>\n",
       "      <td>0.001720</td>\n",
       "      <td>2.36</td>\n",
       "      <td>3.14</td>\n",
       "      <td>-0.0259</td>\n",
       "      <td>0.00126</td>\n",
       "      <td>-9.24</td>\n",
       "      <td>6.53</td>\n",
       "    </tr>\n",
       "    <tr>\n",
       "      <th>3</th>\n",
       "      <td>0.002590</td>\n",
       "      <td>2.36</td>\n",
       "      <td>3.14</td>\n",
       "      <td>-0.0339</td>\n",
       "      <td>0.00689</td>\n",
       "      <td>-9.24</td>\n",
       "      <td>6.53</td>\n",
       "    </tr>\n",
       "    <tr>\n",
       "      <th>4</th>\n",
       "      <td>0.003450</td>\n",
       "      <td>2.36</td>\n",
       "      <td>3.14</td>\n",
       "      <td>-0.0418</td>\n",
       "      <td>0.01250</td>\n",
       "      <td>-9.24</td>\n",
       "      <td>6.53</td>\n",
       "    </tr>\n",
       "    <tr>\n",
       "      <th>...</th>\n",
       "      <td>...</td>\n",
       "      <td>...</td>\n",
       "      <td>...</td>\n",
       "      <td>...</td>\n",
       "      <td>...</td>\n",
       "      <td>...</td>\n",
       "      <td>...</td>\n",
       "    </tr>\n",
       "    <tr>\n",
       "      <th>2424</th>\n",
       "      <td>9.970000</td>\n",
       "      <td>-14.70</td>\n",
       "      <td>-22.40</td>\n",
       "      <td>1.1400</td>\n",
       "      <td>1.82000</td>\n",
       "      <td>6.94</td>\n",
       "      <td>-3.84</td>\n",
       "    </tr>\n",
       "    <tr>\n",
       "      <th>2425</th>\n",
       "      <td>9.980000</td>\n",
       "      <td>-14.70</td>\n",
       "      <td>-22.30</td>\n",
       "      <td>1.2000</td>\n",
       "      <td>1.79000</td>\n",
       "      <td>7.04</td>\n",
       "      <td>-3.64</td>\n",
       "    </tr>\n",
       "    <tr>\n",
       "      <th>2426</th>\n",
       "      <td>9.980000</td>\n",
       "      <td>-14.70</td>\n",
       "      <td>-22.30</td>\n",
       "      <td>1.2500</td>\n",
       "      <td>1.76000</td>\n",
       "      <td>7.12</td>\n",
       "      <td>-3.42</td>\n",
       "    </tr>\n",
       "    <tr>\n",
       "      <th>2427</th>\n",
       "      <td>9.990000</td>\n",
       "      <td>-14.70</td>\n",
       "      <td>-22.30</td>\n",
       "      <td>1.3100</td>\n",
       "      <td>1.73000</td>\n",
       "      <td>7.20</td>\n",
       "      <td>-3.19</td>\n",
       "    </tr>\n",
       "    <tr>\n",
       "      <th>2428</th>\n",
       "      <td>10.000000</td>\n",
       "      <td>-14.70</td>\n",
       "      <td>-22.30</td>\n",
       "      <td>1.3700</td>\n",
       "      <td>1.70000</td>\n",
       "      <td>7.28</td>\n",
       "      <td>-2.95</td>\n",
       "    </tr>\n",
       "  </tbody>\n",
       "</table>\n",
       "<p>2429 rows × 7 columns</p>\n",
       "</div>"
      ],
      "text/plain": [
       "              t     x1     x2      v1       v2    a1    a2\n",
       "0      0.000000   2.36   3.14 -0.0100 -0.01000 -9.24  6.53\n",
       "1      0.000862   2.36   3.14 -0.0180 -0.00437 -9.24  6.53\n",
       "2      0.001720   2.36   3.14 -0.0259  0.00126 -9.24  6.53\n",
       "3      0.002590   2.36   3.14 -0.0339  0.00689 -9.24  6.53\n",
       "4      0.003450   2.36   3.14 -0.0418  0.01250 -9.24  6.53\n",
       "...         ...    ...    ...     ...      ...   ...   ...\n",
       "2424   9.970000 -14.70 -22.40  1.1400  1.82000  6.94 -3.84\n",
       "2425   9.980000 -14.70 -22.30  1.2000  1.79000  7.04 -3.64\n",
       "2426   9.980000 -14.70 -22.30  1.2500  1.76000  7.12 -3.42\n",
       "2427   9.990000 -14.70 -22.30  1.3100  1.73000  7.20 -3.19\n",
       "2428  10.000000 -14.70 -22.30  1.3700  1.70000  7.28 -2.95\n",
       "\n",
       "[2429 rows x 7 columns]"
      ]
     },
     "execution_count": 40,
     "metadata": {},
     "output_type": "execute_result"
    }
   ],
   "source": [
    "# replace the dataset ID with your own data\n",
    "ds_id = \"62fbcdf583b30f0ef972dc31\"\n",
    "\n",
    "# get dataset from DataRobot\n",
    "ds = dr.Dataset.get(ds_id)\n",
    "df = ds.get_as_dataframe()\n",
    "display(df)"
   ]
  },
  {
   "cell_type": "markdown",
   "id": "65a96719eab92e66bbdf66d1",
   "metadata": {
    "chart_settings": null,
    "custom_metric_settings": null,
    "dataframe_view_options": null,
    "datarobot": {
     "language": "markdown"
    },
    "disable_run": false,
    "hide_code": false,
    "hide_results": false,
    "scrolled": false
   },
   "source": [
    "## Reduce the number of features in the dataset"
   ]
  },
  {
   "cell_type": "code",
   "execution_count": null,
   "id": "65a96716fc73aa96261a896e",
   "metadata": {
    "chart_settings": null,
    "custom_metric_settings": null,
    "dataframe_view_options": null,
    "datarobot": {
     "language": "python"
    },
    "disable_run": false,
    "hide_code": false,
    "hide_results": false,
    "name": "tsne calculation",
    "scrolled": false
   },
   "outputs": [],
   "source": [
    "# features to exclude from reduction\n",
    "# can be target columns or ID columns or other\n",
    "exclude_cols = [\"t\", \"a2\"]\n",
    "\n",
    "model = TSNE(learning_rate=100, random_state=42)\n",
    "transformed = model.fit_transform(df.drop(exclude_cols, axis=1))"
   ]
  },
  {
   "cell_type": "code",
   "execution_count": 25,
   "id": "65a96697fc73aa96261a8944",
   "metadata": {
    "chart_settings": null,
    "custom_metric_settings": null,
    "dataframe_view_options": null,
    "datarobot": {
     "language": "python"
    },
    "disable_run": false,
    "hide_code": false,
    "hide_results": false,
    "scrolled": false
   },
   "outputs": [
    {
     "data": {
      "text/plain": [
       "array([[  2.542573 , -80.301025 ],\n",
       "       [  2.5057044, -80.29103  ],\n",
       "       [  2.869162 , -80.113396 ],\n",
       "       ...,\n",
       "       [  9.5524645,  74.92201  ],\n",
       "       [  9.630235 ,  74.90384  ],\n",
       "       [  9.827253 ,  74.67084  ]], dtype=float32)"
      ]
     },
     "execution_count": 25,
     "metadata": {},
     "output_type": "execute_result"
    }
   ],
   "source": [
    "transformed"
   ]
  },
  {
   "cell_type": "markdown",
   "id": "65a96f59d37cff21bf4f8a42",
   "metadata": {
    "chart_settings": null,
    "custom_metric_settings": null,
    "dataframe_view_options": null,
    "datarobot": {
     "language": "markdown"
    },
    "disable_run": false,
    "hide_code": false,
    "hide_results": false,
    "scrolled": false
   },
   "source": [
    "## Create new dataframe with reduced columns and previously excluded columns"
   ]
  },
  {
   "cell_type": "code",
   "execution_count": 39,
   "id": "65a96da9fc73aa96261a8b9c",
   "metadata": {
    "chart_settings": null,
    "custom_metric_settings": null,
    "dataframe_view_options": null,
    "datarobot": {
     "language": "python"
    },
    "disable_run": false,
    "hide_code": false,
    "hide_results": false,
    "scrolled": false
   },
   "outputs": [
    {
     "data": {
      "application/vnd.dataframe+json": {
       "columns": [
        {
         "name": "_dr_df_index",
         "type": "integer"
        },
        {
         "name": "tsne_x",
         "type": "number"
        },
        {
         "name": "tsne_y",
         "type": "number"
        },
        {
         "name": "t",
         "type": "number"
        },
        {
         "name": "a2",
         "type": "number"
        }
       ],
       "count": 10,
       "data": [
        {
         "_dr_df_index": 0,
         "a2": 6.53,
         "t": 0,
         "tsne_x": 2.5425729752,
         "tsne_y": -80.3010253906
        },
        {
         "_dr_df_index": 1,
         "a2": 6.53,
         "t": 0.000862,
         "tsne_x": 2.5057044029,
         "tsne_y": -80.2910308838
        },
        {
         "_dr_df_index": 2,
         "a2": 6.53,
         "t": 0.00172,
         "tsne_x": 2.8691620827,
         "tsne_y": -80.1133956909
        },
        {
         "_dr_df_index": 3,
         "a2": 6.53,
         "t": 0.00259,
         "tsne_x": 2.899721384,
         "tsne_y": -80.068107605
        },
        {
         "_dr_df_index": 4,
         "a2": 6.53,
         "t": 0.00345,
         "tsne_x": 2.9249858856,
         "tsne_y": -80.0203323364
        },
        {
         "_dr_df_index": 5,
         "a2": 6.53,
         "t": 0.00776,
         "tsne_x": 2.2374353409,
         "tsne_y": -80.1635131836
        },
        {
         "_dr_df_index": 6,
         "a2": 6.52,
         "t": 0.0121,
         "tsne_x": 2.197687149,
         "tsne_y": -80.0911102295
        },
        {
         "_dr_df_index": 7,
         "a2": 6.5,
         "t": 0.0164,
         "tsne_x": 2.2075970173,
         "tsne_y": -80.0230331421
        },
        {
         "_dr_df_index": 8,
         "a2": 6.48,
         "t": 0.0207,
         "tsne_x": 2.8990900517,
         "tsne_y": -79.7232208252
        },
        {
         "_dr_df_index": 9,
         "a2": 6.4,
         "t": 0.0336,
         "tsne_x": 2.7812819481,
         "tsne_y": -79.5956420898
        }
       ],
       "error": [],
       "indexKey": "_dr_df_index",
       "limit": 10,
       "offset": 0,
       "referenceId": 140046185089392,
       "sortedBy": "",
       "totalCount": 2429
      },
      "text/html": [
       "<div>\n",
       "<style scoped>\n",
       "    .dataframe tbody tr th:only-of-type {\n",
       "        vertical-align: middle;\n",
       "    }\n",
       "\n",
       "    .dataframe tbody tr th {\n",
       "        vertical-align: top;\n",
       "    }\n",
       "\n",
       "    .dataframe thead th {\n",
       "        text-align: right;\n",
       "    }\n",
       "</style>\n",
       "<table border=\"1\" class=\"dataframe\">\n",
       "  <thead>\n",
       "    <tr style=\"text-align: right;\">\n",
       "      <th></th>\n",
       "      <th>tsne_x</th>\n",
       "      <th>tsne_y</th>\n",
       "      <th>t</th>\n",
       "      <th>a2</th>\n",
       "    </tr>\n",
       "  </thead>\n",
       "  <tbody>\n",
       "    <tr>\n",
       "      <th>0</th>\n",
       "      <td>2.542573</td>\n",
       "      <td>-80.301025</td>\n",
       "      <td>0.000000</td>\n",
       "      <td>6.53</td>\n",
       "    </tr>\n",
       "    <tr>\n",
       "      <th>1</th>\n",
       "      <td>2.505704</td>\n",
       "      <td>-80.291031</td>\n",
       "      <td>0.000862</td>\n",
       "      <td>6.53</td>\n",
       "    </tr>\n",
       "    <tr>\n",
       "      <th>2</th>\n",
       "      <td>2.869162</td>\n",
       "      <td>-80.113396</td>\n",
       "      <td>0.001720</td>\n",
       "      <td>6.53</td>\n",
       "    </tr>\n",
       "    <tr>\n",
       "      <th>3</th>\n",
       "      <td>2.899721</td>\n",
       "      <td>-80.068108</td>\n",
       "      <td>0.002590</td>\n",
       "      <td>6.53</td>\n",
       "    </tr>\n",
       "    <tr>\n",
       "      <th>4</th>\n",
       "      <td>2.924986</td>\n",
       "      <td>-80.020332</td>\n",
       "      <td>0.003450</td>\n",
       "      <td>6.53</td>\n",
       "    </tr>\n",
       "    <tr>\n",
       "      <th>...</th>\n",
       "      <td>...</td>\n",
       "      <td>...</td>\n",
       "      <td>...</td>\n",
       "      <td>...</td>\n",
       "    </tr>\n",
       "    <tr>\n",
       "      <th>2424</th>\n",
       "      <td>9.658271</td>\n",
       "      <td>74.433037</td>\n",
       "      <td>9.970000</td>\n",
       "      <td>-3.84</td>\n",
       "    </tr>\n",
       "    <tr>\n",
       "      <th>2425</th>\n",
       "      <td>9.417135</td>\n",
       "      <td>74.999992</td>\n",
       "      <td>9.980000</td>\n",
       "      <td>-3.64</td>\n",
       "    </tr>\n",
       "    <tr>\n",
       "      <th>2426</th>\n",
       "      <td>9.552464</td>\n",
       "      <td>74.922012</td>\n",
       "      <td>9.980000</td>\n",
       "      <td>-3.42</td>\n",
       "    </tr>\n",
       "    <tr>\n",
       "      <th>2427</th>\n",
       "      <td>9.630235</td>\n",
       "      <td>74.903839</td>\n",
       "      <td>9.990000</td>\n",
       "      <td>-3.19</td>\n",
       "    </tr>\n",
       "    <tr>\n",
       "      <th>2428</th>\n",
       "      <td>9.827253</td>\n",
       "      <td>74.670837</td>\n",
       "      <td>10.000000</td>\n",
       "      <td>-2.95</td>\n",
       "    </tr>\n",
       "  </tbody>\n",
       "</table>\n",
       "<p>2429 rows × 4 columns</p>\n",
       "</div>"
      ],
      "text/plain": [
       "        tsne_x     tsne_y          t    a2\n",
       "0     2.542573 -80.301025   0.000000  6.53\n",
       "1     2.505704 -80.291031   0.000862  6.53\n",
       "2     2.869162 -80.113396   0.001720  6.53\n",
       "3     2.899721 -80.068108   0.002590  6.53\n",
       "4     2.924986 -80.020332   0.003450  6.53\n",
       "...        ...        ...        ...   ...\n",
       "2424  9.658271  74.433037   9.970000 -3.84\n",
       "2425  9.417135  74.999992   9.980000 -3.64\n",
       "2426  9.552464  74.922012   9.980000 -3.42\n",
       "2427  9.630235  74.903839   9.990000 -3.19\n",
       "2428  9.827253  74.670837  10.000000 -2.95\n",
       "\n",
       "[2429 rows x 4 columns]"
      ]
     },
     "execution_count": 39,
     "metadata": {},
     "output_type": "execute_result"
    }
   ],
   "source": [
    "# get the tsne dataset\n",
    "reduced_df = pd.DataFrame(transformed, columns=[\"tsne_x\", \"tsne_y\"])\n",
    "\n",
    "# join in target and time columns from original dataset\n",
    "reduced_df = pd.concat([reduced_df, df[exclude_cols]], axis=1)\n",
    "\n",
    "display(reduced_df)"
   ]
  },
  {
   "cell_type": "markdown",
   "id": "65a97037eab92e66bbdf69af",
   "metadata": {
    "chart_settings": null,
    "custom_metric_settings": null,
    "dataframe_view_options": null,
    "datarobot": {
     "language": "markdown"
    },
    "disable_run": false,
    "hide_code": false,
    "hide_results": false,
    "scrolled": false
   },
   "source": [
    "## Upload back to DataRobot"
   ]
  },
  {
   "cell_type": "code",
   "execution_count": 42,
   "id": "65a96fd6eab92e66bbdf6989",
   "metadata": {
    "chart_settings": null,
    "custom_metric_settings": null,
    "dataframe_view_options": null,
    "datarobot": {
     "language": "python"
    },
    "disable_run": false,
    "hide_code": false,
    "hide_results": false,
    "scrolled": false
   },
   "outputs": [
    {
     "data": {
      "text/plain": [
       "Dataset(name='Double Pendulum.csv.csv t-SNE Reduced', id='65a970bc040d9a438cdfb9de')"
      ]
     },
     "execution_count": 42,
     "metadata": {},
     "output_type": "execute_result"
    }
   ],
   "source": [
    "ds = dr.Dataset.create_from_in_memory_data(\n",
    "    data_frame=reduced_df, fname=f\"{ds.name}.csv\"\n",
    ")\n",
    "ds.modify(name=f\"{ds.name} t-SNE Reduced\")\n",
    "ds"
   ]
  }
 ],
 "metadata": {
  "kernelspec": {
   "display_name": "Python 3.9.18",
   "language": "python",
   "name": "python"
  },
  "language_info": {
   "name": "python",
   "version": ""
  }
 },
 "nbformat": 4,
 "nbformat_minor": 5
}
