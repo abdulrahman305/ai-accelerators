{
 "cells": [
  {
   "cell_type": "markdown",
   "id": "e5baefa9",
   "metadata": {},
   "source": [
    "# Exporting Model Insights and Visuals"
   ]
  },
  {
   "cell_type": "markdown",
   "id": "0a588b01",
   "metadata": {},
   "source": [
    "## Summary"
   ]
  },
  {
   "cell_type": "markdown",
   "id": "2bc3a8dd",
   "metadata": {},
   "source": [
    "This notebook presents some examples for taking a datarobot project and exporting its model insights as both machine readable files and plots in various file formats.\n",
    "\n",
    "This notebook will demonstrate how to use the Python API client to:\n",
    "\n",
    "1. Setting up the environment: Import necessary libraries\n",
    "2. Securely Connect to DataRobot\n",
    "3. Get data\n",
    "4. Start a DataRobot binary classification project\n",
    "5. Retrieve and evaluate model performance and insights\n",
    "6. Package up insights and output them in various file formats"
   ]
  },
  {
   "cell_type": "markdown",
   "id": "62071a85",
   "metadata": {},
   "source": [
    "## Imports"
   ]
  },
  {
   "cell_type": "code",
   "execution_count": 1,
   "id": "65a15b3bf21ec65f7f93db06",
   "metadata": {
    "chart_settings": null,
    "custom_metric_settings": null,
    "dataframe_view_options": null,
    "datarobot": {
     "language": "python"
    },
    "disable_run": false,
    "hide_code": false,
    "hide_results": false,
    "name": "Imports"
   },
   "outputs": [],
   "source": [
    "import warnings\n",
    "\n",
    "warnings.simplefilter(action=\"ignore\", category=FutureWarning)\n",
    "\n",
    "import datarobot as dr\n",
    "import datarobotx as drx\n",
    "from datarobotx.viz.charts import feature_impact_chart, roc_curve_chart\n",
    "from matplotlib.animation import FuncAnimation\n",
    "import matplotlib.pylab as plt\n",
    "import numpy as np\n",
    "import pandas as pd"
   ]
  },
  {
   "cell_type": "markdown",
   "id": "6c43cfae",
   "metadata": {},
   "source": [
    "## Connect to DataRobot and create a project"
   ]
  },
  {
   "cell_type": "code",
   "execution_count": 2,
   "id": "65a15b97f21ec65f7f93db23",
   "metadata": {
    "chart_settings": null,
    "custom_metric_settings": null,
    "dataframe_view_options": null,
    "datarobot": {
     "language": "python"
    },
    "disable_run": false,
    "hide_code": false,
    "hide_results": false,
    "name": "Connect to DataRobot",
    "scrolled": false
   },
   "outputs": [
    {
     "data": {
      "text/plain": [
       "<datarobot.rest.RESTClientObject at 0x7fcc09971d30>"
      ]
     },
     "execution_count": 2,
     "metadata": {},
     "output_type": "execute_result"
    }
   ],
   "source": [
    "# Connect to DataRobot\n",
    "dr.Client(config_path=\"./drconfig.yaml\")"
   ]
  },
  {
   "cell_type": "code",
   "execution_count": 22,
   "id": "65a15b9cc54cabda469627cf",
   "metadata": {
    "chart_settings": null,
    "custom_metric_settings": null,
    "dataframe_view_options": null,
    "datarobot": {
     "language": "python"
    },
    "disable_run": false,
    "hide_code": false,
    "hide_results": false,
    "name": "Grab data for modeling",
    "scrolled": false
   },
   "outputs": [],
   "source": [
    "data = pd.read_csv(\"https://s3.amazonaws.com/datarobot_public_datasets/10k_diabetes.csv\")"
   ]
  },
  {
   "cell_type": "code",
   "execution_count": 4,
   "id": "65a15d4cc54cabda46962859",
   "metadata": {
    "chart_settings": null,
    "custom_metric_settings": null,
    "dataframe_view_options": null,
    "datarobot": {
     "language": "python"
    },
    "disable_run": false,
    "hide_code": false,
    "hide_results": false,
    "scrolled": false
   },
   "outputs": [
    {
     "data": {
      "text/html": [
       "<div>\n",
       "<style scoped>\n",
       "    .dataframe tbody tr th:only-of-type {\n",
       "        vertical-align: middle;\n",
       "    }\n",
       "\n",
       "    .dataframe tbody tr th {\n",
       "        vertical-align: top;\n",
       "    }\n",
       "\n",
       "    .dataframe thead th {\n",
       "        text-align: right;\n",
       "    }\n",
       "</style>\n",
       "<table border=\"1\" class=\"dataframe\">\n",
       "  <thead>\n",
       "    <tr style=\"text-align: right;\">\n",
       "      <th></th>\n",
       "      <th>race</th>\n",
       "      <th>gender</th>\n",
       "      <th>age</th>\n",
       "      <th>weight</th>\n",
       "      <th>admission_type_id</th>\n",
       "      <th>discharge_disposition_id</th>\n",
       "      <th>admission_source_id</th>\n",
       "      <th>time_in_hospital</th>\n",
       "      <th>payer_code</th>\n",
       "      <th>medical_specialty</th>\n",
       "      <th>...</th>\n",
       "      <th>glipizide.metformin</th>\n",
       "      <th>glimepiride.pioglitazone</th>\n",
       "      <th>metformin.rosiglitazone</th>\n",
       "      <th>metformin.pioglitazone</th>\n",
       "      <th>change</th>\n",
       "      <th>diabetesMed</th>\n",
       "      <th>readmitted</th>\n",
       "      <th>diag_1_desc</th>\n",
       "      <th>diag_2_desc</th>\n",
       "      <th>diag_3_desc</th>\n",
       "    </tr>\n",
       "  </thead>\n",
       "  <tbody>\n",
       "    <tr>\n",
       "      <th>0</th>\n",
       "      <td>Caucasian</td>\n",
       "      <td>Female</td>\n",
       "      <td>[50-60)</td>\n",
       "      <td>?</td>\n",
       "      <td>Elective</td>\n",
       "      <td>Discharged to home</td>\n",
       "      <td>Physician Referral</td>\n",
       "      <td>1</td>\n",
       "      <td>CP</td>\n",
       "      <td>Surgery-Neuro</td>\n",
       "      <td>...</td>\n",
       "      <td>No</td>\n",
       "      <td>No</td>\n",
       "      <td>No</td>\n",
       "      <td>No</td>\n",
       "      <td>No</td>\n",
       "      <td>No</td>\n",
       "      <td>False</td>\n",
       "      <td>Spinal stenosis in cervical region</td>\n",
       "      <td>Spinal stenosis in cervical region</td>\n",
       "      <td>Effusion of joint, site unspecified</td>\n",
       "    </tr>\n",
       "    <tr>\n",
       "      <th>1</th>\n",
       "      <td>Caucasian</td>\n",
       "      <td>Female</td>\n",
       "      <td>[20-30)</td>\n",
       "      <td>[50-75)</td>\n",
       "      <td>Urgent</td>\n",
       "      <td>Discharged to home</td>\n",
       "      <td>Physician Referral</td>\n",
       "      <td>2</td>\n",
       "      <td>UN</td>\n",
       "      <td>?</td>\n",
       "      <td>...</td>\n",
       "      <td>No</td>\n",
       "      <td>No</td>\n",
       "      <td>No</td>\n",
       "      <td>No</td>\n",
       "      <td>No</td>\n",
       "      <td>No</td>\n",
       "      <td>False</td>\n",
       "      <td>First-degree perineal laceration, unspecified ...</td>\n",
       "      <td>Diabetes mellitus of mother, complicating preg...</td>\n",
       "      <td>Sideroblastic anemia</td>\n",
       "    </tr>\n",
       "    <tr>\n",
       "      <th>2</th>\n",
       "      <td>Caucasian</td>\n",
       "      <td>Male</td>\n",
       "      <td>[80-90)</td>\n",
       "      <td>?</td>\n",
       "      <td>Not Available</td>\n",
       "      <td>Discharged/transferred to home with home healt...</td>\n",
       "      <td>NaN</td>\n",
       "      <td>7</td>\n",
       "      <td>MC</td>\n",
       "      <td>Family/GeneralPractice</td>\n",
       "      <td>...</td>\n",
       "      <td>No</td>\n",
       "      <td>No</td>\n",
       "      <td>No</td>\n",
       "      <td>No</td>\n",
       "      <td>No</td>\n",
       "      <td>Yes</td>\n",
       "      <td>True</td>\n",
       "      <td>Pneumococcal pneumonia [Streptococcus pneumoni...</td>\n",
       "      <td>Congestive heart failure, unspecified</td>\n",
       "      <td>Hyperosmolality and/or hypernatremia</td>\n",
       "    </tr>\n",
       "    <tr>\n",
       "      <th>3</th>\n",
       "      <td>AfricanAmerican</td>\n",
       "      <td>Female</td>\n",
       "      <td>[50-60)</td>\n",
       "      <td>?</td>\n",
       "      <td>Emergency</td>\n",
       "      <td>Discharged to home</td>\n",
       "      <td>Transfer from another health care facility</td>\n",
       "      <td>4</td>\n",
       "      <td>UN</td>\n",
       "      <td>?</td>\n",
       "      <td>...</td>\n",
       "      <td>No</td>\n",
       "      <td>No</td>\n",
       "      <td>No</td>\n",
       "      <td>No</td>\n",
       "      <td>No</td>\n",
       "      <td>Yes</td>\n",
       "      <td>False</td>\n",
       "      <td>Cellulitis and abscess of face</td>\n",
       "      <td>Streptococcus infection in conditions classifi...</td>\n",
       "      <td>Diabetes mellitus without mention of complicat...</td>\n",
       "    </tr>\n",
       "    <tr>\n",
       "      <th>4</th>\n",
       "      <td>AfricanAmerican</td>\n",
       "      <td>Female</td>\n",
       "      <td>[50-60)</td>\n",
       "      <td>?</td>\n",
       "      <td>Emergency</td>\n",
       "      <td>Discharged to home</td>\n",
       "      <td>Emergency Room</td>\n",
       "      <td>5</td>\n",
       "      <td>?</td>\n",
       "      <td>Psychiatry</td>\n",
       "      <td>...</td>\n",
       "      <td>No</td>\n",
       "      <td>No</td>\n",
       "      <td>No</td>\n",
       "      <td>No</td>\n",
       "      <td>Ch</td>\n",
       "      <td>Yes</td>\n",
       "      <td>False</td>\n",
       "      <td>Bipolar I disorder, single manic episode, unsp...</td>\n",
       "      <td>Diabetes mellitus without mention of complicat...</td>\n",
       "      <td>Depressive type psychosis</td>\n",
       "    </tr>\n",
       "  </tbody>\n",
       "</table>\n",
       "<p>5 rows × 51 columns</p>\n",
       "</div>"
      ],
      "text/plain": [
       "              race  gender      age   weight admission_type_id  \\\n",
       "0        Caucasian  Female  [50-60)        ?          Elective   \n",
       "1        Caucasian  Female  [20-30)  [50-75)            Urgent   \n",
       "2        Caucasian    Male  [80-90)        ?     Not Available   \n",
       "3  AfricanAmerican  Female  [50-60)        ?         Emergency   \n",
       "4  AfricanAmerican  Female  [50-60)        ?         Emergency   \n",
       "\n",
       "                            discharge_disposition_id  \\\n",
       "0                                 Discharged to home   \n",
       "1                                 Discharged to home   \n",
       "2  Discharged/transferred to home with home healt...   \n",
       "3                                 Discharged to home   \n",
       "4                                 Discharged to home   \n",
       "\n",
       "                          admission_source_id  time_in_hospital payer_code  \\\n",
       "0                          Physician Referral                 1         CP   \n",
       "1                          Physician Referral                 2         UN   \n",
       "2                                         NaN                 7         MC   \n",
       "3  Transfer from another health care facility                 4         UN   \n",
       "4                              Emergency Room                 5          ?   \n",
       "\n",
       "        medical_specialty  ...  glipizide.metformin  glimepiride.pioglitazone  \\\n",
       "0           Surgery-Neuro  ...                   No                        No   \n",
       "1                       ?  ...                   No                        No   \n",
       "2  Family/GeneralPractice  ...                   No                        No   \n",
       "3                       ?  ...                   No                        No   \n",
       "4              Psychiatry  ...                   No                        No   \n",
       "\n",
       "   metformin.rosiglitazone  metformin.pioglitazone  change  diabetesMed  \\\n",
       "0                       No                      No      No           No   \n",
       "1                       No                      No      No           No   \n",
       "2                       No                      No      No          Yes   \n",
       "3                       No                      No      No          Yes   \n",
       "4                       No                      No      Ch          Yes   \n",
       "\n",
       "  readmitted                                        diag_1_desc  \\\n",
       "0      False                 Spinal stenosis in cervical region   \n",
       "1      False  First-degree perineal laceration, unspecified ...   \n",
       "2       True  Pneumococcal pneumonia [Streptococcus pneumoni...   \n",
       "3      False                     Cellulitis and abscess of face   \n",
       "4      False  Bipolar I disorder, single manic episode, unsp...   \n",
       "\n",
       "                                         diag_2_desc  \\\n",
       "0                 Spinal stenosis in cervical region   \n",
       "1  Diabetes mellitus of mother, complicating preg...   \n",
       "2              Congestive heart failure, unspecified   \n",
       "3  Streptococcus infection in conditions classifi...   \n",
       "4  Diabetes mellitus without mention of complicat...   \n",
       "\n",
       "                                         diag_3_desc  \n",
       "0                Effusion of joint, site unspecified  \n",
       "1                               Sideroblastic anemia  \n",
       "2               Hyperosmolality and/or hypernatremia  \n",
       "3  Diabetes mellitus without mention of complicat...  \n",
       "4                          Depressive type psychosis  \n",
       "\n",
       "[5 rows x 51 columns]"
      ]
     },
     "execution_count": 4,
     "metadata": {},
     "output_type": "execute_result"
    }
   ],
   "source": [
    "data.head()"
   ]
  },
  {
   "cell_type": "code",
   "execution_count": null,
   "id": "65a15bffc54cabda469627ee",
   "metadata": {
    "chart_settings": null,
    "custom_metric_settings": null,
    "dataframe_view_options": null,
    "datarobot": {
     "language": "python"
    },
    "disable_run": false,
    "hide_code": false,
    "hide_results": false,
    "scrolled": false
   },
   "outputs": [],
   "source": [
    "project = dr.Project.create(data, project_name=\"10k diabetes Readmissions\")"
   ]
  },
  {
   "cell_type": "code",
   "execution_count": null,
   "id": "65a1622fc54cabda469629e3",
   "metadata": {
    "chart_settings": null,
    "custom_metric_settings": null,
    "dataframe_view_options": null,
    "datarobot": {
     "language": "python"
    },
    "disable_run": false,
    "hide_code": false,
    "hide_results": false,
    "scrolled": false
   },
   "outputs": [],
   "source": [
    "target = \"readmitted\"\n",
    "advanced_options = dr.AdvancedOptions(\n",
    "    prepare_model_for_deployment=False,\n",
    "    consider_blenders_in_recommendation=False,\n",
    "    run_leakage_removed_feature_list=False,\n",
    ")"
   ]
  },
  {
   "cell_type": "code",
   "execution_count": null,
   "id": "65a1629bc54cabda46962a05",
   "metadata": {
    "chart_settings": null,
    "custom_metric_settings": null,
    "dataframe_view_options": null,
    "datarobot": {
     "language": "python"
    },
    "disable_run": false,
    "hide_code": false,
    "hide_results": false,
    "scrolled": false
   },
   "outputs": [
    {
     "data": {
      "text/plain": [
       "In progress: 9, queued: 0 (waited: 0s)\n",
       "In progress: 9, queued: 0 (waited: 0s)\n",
       "In progress: 9, queued: 0 (waited: 1s)\n",
       "In progress: 9, queued: 0 (waited: 2s)\n"
      ]
     },
     "execution_count": 8,
     "metadata": {},
     "output_type": "execute_result"
    },
    {
     "data": {
      "text/plain": [
       "In progress: 9, queued: 0 (waited: 3s)\n",
       "In progress: 9, queued: 0 (waited: 5s)\n"
      ]
     },
     "execution_count": 8,
     "metadata": {},
     "output_type": "execute_result"
    },
    {
     "data": {
      "text/plain": [
       "In progress: 9, queued: 0 (waited: 9s)\n"
      ]
     },
     "execution_count": 8,
     "metadata": {},
     "output_type": "execute_result"
    },
    {
     "data": {
      "text/plain": [
       "In progress: 9, queued: 0 (waited: 16s)\n"
      ]
     },
     "execution_count": 8,
     "metadata": {},
     "output_type": "execute_result"
    },
    {
     "data": {
      "text/plain": [
       "In progress: 9, queued: 0 (waited: 29s)\n"
      ]
     },
     "execution_count": 8,
     "metadata": {},
     "output_type": "execute_result"
    },
    {
     "data": {
      "text/plain": [
       "In progress: 9, queued: 0 (waited: 49s)\n"
      ]
     },
     "execution_count": 8,
     "metadata": {},
     "output_type": "execute_result"
    },
    {
     "data": {
      "text/plain": [
       "In progress: 1, queued: 0 (waited: 70s)\n"
      ]
     },
     "execution_count": 8,
     "metadata": {},
     "output_type": "execute_result"
    },
    {
     "data": {
      "text/plain": [
       "In progress: 16, queued: 0 (waited: 90s)\n"
      ]
     },
     "execution_count": 8,
     "metadata": {},
     "output_type": "execute_result"
    },
    {
     "data": {
      "text/plain": [
       "In progress: 13, queued: 0 (waited: 110s)\n"
      ]
     },
     "execution_count": 8,
     "metadata": {},
     "output_type": "execute_result"
    },
    {
     "data": {
      "text/plain": [
       "In progress: 0, queued: 0 (waited: 131s)\n"
      ]
     },
     "execution_count": 8,
     "metadata": {},
     "output_type": "execute_result"
    },
    {
     "data": {
      "text/plain": [
       "In progress: 0, queued: 0 (waited: 151s)\n"
      ]
     },
     "execution_count": 8,
     "metadata": {},
     "output_type": "execute_result"
    }
   ],
   "source": [
    "project.analyze_and_model(\n",
    "    target=target,\n",
    "    metric=\"LogLoss\",\n",
    "    advanced_options=advanced_options,\n",
    "    mode=dr.AUTOPILOT_MODE.QUICK,\n",
    "    worker_count=-1,\n",
    ")\n",
    "project.wait_for_autopilot()"
   ]
  },
  {
   "cell_type": "code",
   "execution_count": 5,
   "id": "65a1aee08f95259710e9f212",
   "metadata": {
    "chart_settings": null,
    "custom_metric_settings": null,
    "dataframe_view_options": null,
    "datarobot": {
     "language": "python"
    },
    "disable_run": false,
    "hide_code": false,
    "hide_results": false,
    "scrolled": false
   },
   "outputs": [],
   "source": [
    "# Leaving this here for testing, rather than waiting for whole project to build\n",
    "project = dr.Project.get(\"65a16328dc2ce073056c7f2c\")"
   ]
  },
  {
   "cell_type": "code",
   "execution_count": null,
   "id": "65a15c7e47e95b84b730a0ee",
   "metadata": {
    "chart_settings": null,
    "custom_metric_settings": null,
    "dataframe_view_options": null,
    "datarobot": {
     "language": "python"
    },
    "disable_run": false,
    "hide_code": false,
    "hide_results": false,
    "scrolled": false
   },
   "outputs": [
    {
     "data": {
      "text/plain": [
       "'65a16328dc2ce073056c7f2c'"
      ]
     },
     "execution_count": 6,
     "metadata": {},
     "output_type": "execute_result"
    }
   ],
   "source": [
    "project.id"
   ]
  },
  {
   "cell_type": "markdown",
   "id": "65a1649647e95b84b730a389",
   "metadata": {
    "chart_settings": null,
    "custom_metric_settings": null,
    "dataframe_view_options": null,
    "datarobot": {
     "language": "markdown"
    },
    "disable_run": false,
    "hide_code": false,
    "hide_results": false,
    "scrolled": false
   },
   "source": [
    "### Now that the project has finished running, we'll grab the top performing model and export different metrics and insights in variosu formats"
   ]
  },
  {
   "cell_type": "code",
   "execution_count": 6,
   "id": "65a162c8f21ec65f7f93dd6c",
   "metadata": {
    "chart_settings": null,
    "custom_metric_settings": null,
    "dataframe_view_options": null,
    "datarobot": {
     "language": "python"
    },
    "disable_run": false,
    "hide_code": false,
    "hide_results": false,
    "scrolled": false
   },
   "outputs": [],
   "source": [
    "top_model = project.get_top_model()"
   ]
  },
  {
   "cell_type": "code",
   "execution_count": 7,
   "id": "65a16500f21ec65f7f93de25",
   "metadata": {
    "chart_settings": null,
    "custom_metric_settings": null,
    "dataframe_view_options": null,
    "datarobot": {
     "language": "python"
    },
    "disable_run": false,
    "hide_code": false,
    "hide_results": false,
    "scrolled": false
   },
   "outputs": [
    {
     "name": "stdout",
     "output_type": "stream",
     "text": [
      "eXtreme Gradient Boosted Trees Classifier with Early Stopping\n"
     ]
    }
   ],
   "source": [
    "print(top_model.model_type)"
   ]
  },
  {
   "cell_type": "markdown",
   "id": "65a976ddd37cff21bf4f8cae",
   "metadata": {
    "chart_settings": null,
    "custom_metric_settings": null,
    "dataframe_view_options": null,
    "datarobot": {
     "language": "markdown"
    },
    "disable_run": false,
    "hide_code": false,
    "hide_results": false,
    "scrolled": false
   },
   "source": [
    "#### To emulate the style of the lift chart from DataRobot's UI, we will use the following helper functions"
   ]
  },
  {
   "cell_type": "code",
   "execution_count": 8,
   "id": "65a1650f47e95b84b730a3af",
   "metadata": {
    "chart_settings": null,
    "custom_metric_settings": null,
    "dataframe_view_options": null,
    "datarobot": {
     "language": "python"
    },
    "disable_run": false,
    "hide_code": false,
    "hide_results": false,
    "name": "Lift Chart Helper functions",
    "scrolled": false
   },
   "outputs": [],
   "source": [
    "def rebin_df(raw_df, number_of_bins):\n",
    "    cols = [\"bin\", \"actual_mean\", \"predicted_mean\", \"bin_weight\"]\n",
    "    new_df = pd.DataFrame(columns=cols)\n",
    "    current_prediction_total = 0\n",
    "    current_actual_total = 0\n",
    "    current_row_total = 0\n",
    "    x_index = 1\n",
    "    bin_size = 60 / number_of_bins\n",
    "    for rowId, data in raw_df.iterrows():\n",
    "        current_prediction_total += data[\"predicted\"] * data[\"bin_weight\"]\n",
    "        current_actual_total += data[\"actual\"] * data[\"bin_weight\"]\n",
    "        current_row_total += data[\"bin_weight\"]\n",
    "\n",
    "        if (rowId + 1) % bin_size == 0:\n",
    "            x_index += 1\n",
    "            bin_properties = {\n",
    "                \"bin\": ((round(rowId + 1) / 60) * number_of_bins),\n",
    "                \"actual_mean\": current_actual_total / current_row_total,\n",
    "                \"predicted_mean\": current_prediction_total / current_row_total,\n",
    "                \"bin_weight\": current_row_total,\n",
    "            }\n",
    "\n",
    "            new_df = new_df.append(bin_properties, ignore_index=True)\n",
    "            current_prediction_total = 0\n",
    "            current_actual_total = 0\n",
    "            current_row_total = 0\n",
    "    return new_df\n",
    "\n",
    "\n",
    "def matplotlib_lift(bins_df, bin_count, ax):\n",
    "    grouped = rebin_df(bins_df, bin_count)\n",
    "    ax.plot(\n",
    "        range(1, len(grouped) + 1),\n",
    "        grouped[\"predicted_mean\"],\n",
    "        marker=\"+\",\n",
    "        lw=1,\n",
    "        color=dr_blue,\n",
    "        label=\"Predicted\",\n",
    "    )\n",
    "    ax.plot(\n",
    "        range(1, len(grouped) + 1),\n",
    "        grouped[\"actual_mean\"],\n",
    "        marker=\"*\",\n",
    "        lw=1,\n",
    "        color=dr_orange,\n",
    "        label=\"Actual\",\n",
    "    )\n",
    "    ax.set_xlim([0, len(grouped) + 1])\n",
    "    ax.set_facecolor(dr_dark_blue)\n",
    "    ax.legend(loc=\"best\")\n",
    "    ax.set_title(\"Lift chart {} bins\".format(bin_count))\n",
    "    ax.set_xlabel(\"Sorted Prediction\")\n",
    "    ax.set_ylabel(\"Value\")\n",
    "    return grouped\n",
    "\n",
    "\n",
    "dr_dark_blue = \"#08233F\"\n",
    "dr_blue = \"#1F77B4\"\n",
    "dr_orange = \"#FF7F0E\"\n",
    "dr_red = \"#BE3C28\""
   ]
  },
  {
   "cell_type": "markdown",
   "id": "65a97714eab92e66bbdf6be3",
   "metadata": {
    "chart_settings": null,
    "custom_metric_settings": null,
    "dataframe_view_options": null,
    "datarobot": {
     "language": "markdown"
    },
    "disable_run": false,
    "hide_code": false,
    "hide_results": false,
    "scrolled": false
   },
   "source": [
    "#### And then we can generate lift charts at various bin sizes and export them in a wide variety of file formats."
   ]
  },
  {
   "cell_type": "code",
   "execution_count": 9,
   "id": "65a16565c54cabda46962ae3",
   "metadata": {
    "chart_settings": null,
    "custom_metric_settings": null,
    "dataframe_view_options": null,
    "datarobot": {
     "language": "python"
    },
    "disable_run": false,
    "hide_code": false,
    "hide_results": false,
    "name": "Lift Chart",
    "scrolled": false
   },
   "outputs": [
    {
     "name": "stderr",
     "output_type": "stream",
     "text": [
      "The PostScript backend does not support transparency; partially transparent artists will be rendered opaque.\n",
      "The PostScript backend does not support transparency; partially transparent artists will be rendered opaque.\n",
      "The PostScript backend does not support transparency; partially transparent artists will be rendered opaque.\n",
      "The PostScript backend does not support transparency; partially transparent artists will be rendered opaque.\n",
      "The PostScript backend does not support transparency; partially transparent artists will be rendered opaque.\n",
      "The PostScript backend does not support transparency; partially transparent artists will be rendered opaque.\n"
     ]
    },
    {
     "data": {
      "image/png": "[encoded data removed]",
      "text/plain": [
       "<Figure size 576x864 with 3 Axes>"
      ]
     },
     "metadata": {
      "needs_background": "light"
     },
     "output_type": "display_data"
    }
   ],
   "source": [
    "lc = top_model.get_lift_chart(\"validation\")\n",
    "\n",
    "bins_df = pd.DataFrame(lc.bins)\n",
    "bin_counts = [10, 15, 30]\n",
    "f, axarr = plt.subplots(len(bin_counts))\n",
    "f.set_size_inches((8, 4 * len(bin_counts)))\n",
    "\n",
    "rebinned_dfs = []\n",
    "for i in range(len(bin_counts)):\n",
    "    rebinned_dfs.append(matplotlib_lift(bins_df, bin_counts[i], axarr[i]))\n",
    "plt.tight_layout()\n",
    "\n",
    "# Saving the plot in various file formats supported by matplotlib\n",
    "plt.savefig(\"./LiftCharts/Lift Chart.pdf\", format=\"pdf\", bbox_inches=\"tight\")\n",
    "plt.savefig(\"./LiftCharts/Lift Chart.svg\", format=\"svg\", bbox_inches=\"tight\")\n",
    "plt.savefig(\"./LiftCharts/Lift Chart.png\", format=\"png\", bbox_inches=\"tight\")\n",
    "plt.savefig(\"./LiftCharts/Lift Chart.eps\", format=\"eps\", bbox_inches=\"tight\")\n",
    "plt.savefig(\"./LiftCharts/Lift Chart.jpeg\", format=\"jpeg\", bbox_inches=\"tight\")"
   ]
  },
  {
   "cell_type": "code",
   "execution_count": 10,
   "id": "65a16584f21ec65f7f93de4f",
   "metadata": {
    "chart_settings": null,
    "custom_metric_settings": null,
    "dataframe_view_options": null,
    "datarobot": {
     "language": "python"
    },
    "disable_run": false,
    "hide_code": false,
    "hide_results": false,
    "scrolled": false
   },
   "outputs": [
    {
     "data": {
      "text/plain": [
       "{'eps': 'Encapsulated Postscript',\n",
       " 'jpg': 'Joint Photographic Experts Group',\n",
       " 'jpeg': 'Joint Photographic Experts Group',\n",
       " 'pdf': 'Portable Document Format',\n",
       " 'pgf': 'PGF code for LaTeX',\n",
       " 'png': 'Portable Network Graphics',\n",
       " 'ps': 'Postscript',\n",
       " 'raw': 'Raw RGBA bitmap',\n",
       " 'rgba': 'Raw RGBA bitmap',\n",
       " 'svg': 'Scalable Vector Graphics',\n",
       " 'svgz': 'Scalable Vector Graphics',\n",
       " 'tif': 'Tagged Image File Format',\n",
       " 'tiff': 'Tagged Image File Format'}"
      ]
     },
     "execution_count": 10,
     "metadata": {},
     "output_type": "execute_result"
    },
    {
     "data": {
      "text/plain": [
       "<Figure size 432x288 with 0 Axes>"
      ]
     },
     "metadata": {},
     "output_type": "display_data"
    }
   ],
   "source": [
    "# For a compelte list of formats supported by matplotlib, run the following\n",
    "plt.gcf().canvas.get_supported_filetypes()"
   ]
  },
  {
   "cell_type": "code",
   "execution_count": 11,
   "id": "65a16875c54cabda46962be9",
   "metadata": {
    "chart_settings": null,
    "custom_metric_settings": null,
    "dataframe_view_options": null,
    "datarobot": {
     "language": "python"
    },
    "disable_run": false,
    "hide_code": false,
    "hide_results": false,
    "name": "Creating a GIF",
    "scrolled": false
   },
   "outputs": [],
   "source": [
    "# rebinned_dfs contains each of the three different binning aproaches for our lift charts\n",
    "for df in rebinned_dfs:\n",
    "    num_bins = len(df)\n",
    "    # We can also save the lift chart data as a csv file\n",
    "    df.to_csv(f\"./LiftCharts/lift-chart-{num_bins}-bins.csv\", index=False)"
   ]
  },
  {
   "cell_type": "markdown",
   "id": "65a97742d37cff21bf4f8cd3",
   "metadata": {
    "chart_settings": null,
    "custom_metric_settings": null,
    "dataframe_view_options": null,
    "datarobot": {
     "language": "markdown"
    },
    "disable_run": false,
    "hide_code": false,
    "hide_results": false,
    "scrolled": false
   },
   "source": [
    "We can also utilize matplotlib's animation library to make animated plots and save them as gifs."
   ]
  },
  {
   "cell_type": "code",
   "execution_count": 12,
   "id": "65a9330c0f3e4c8f64242eeb",
   "metadata": {
    "chart_settings": null,
    "custom_metric_settings": null,
    "dataframe_view_options": null,
    "datarobot": {
     "language": "python"
    },
    "disable_run": false,
    "hide_code": false,
    "hide_results": false,
    "scrolled": false
   },
   "outputs": [],
   "source": [
    "def AnimationFunction(frame, df_list):\n",
    "    ax.clear()\n",
    "\n",
    "    df = df_list[frame]\n",
    "    num_bins = len(df)\n",
    "\n",
    "    ax.plot(df[\"bin\"], df[\"actual_mean\"], marker=\"*\", lw=1, color=dr_orange, label=\"Actual\")\n",
    "    ax.plot(df[\"bin\"], df[\"predicted_mean\"], marker=\"+\", lw=1, color=dr_blue, label=\"Predicted\")\n",
    "    ax.set_xlim([0, num_bins + 1])\n",
    "    ax.set_facecolor(dr_dark_blue)\n",
    "    ax.legend(loc=\"best\")\n",
    "    ax.set_title(\"Lift chart {} bins\".format(num_bins))\n",
    "    ax.set_xlabel(\"Sorted Prediction\")\n",
    "    ax.set_ylabel(\"Value\")"
   ]
  },
  {
   "cell_type": "code",
   "execution_count": 13,
   "id": "65a9346b5bbaffa30765a01c",
   "metadata": {
    "chart_settings": null,
    "custom_metric_settings": null,
    "dataframe_view_options": null,
    "datarobot": {
     "language": "python"
    },
    "disable_run": false,
    "hide_code": false,
    "hide_results": false,
    "scrolled": false
   },
   "outputs": [
    {
     "data": {
      "image/png": "[encoded data removed]",
      "text/plain": [
       "<Figure size 432x288 with 1 Axes>"
      ]
     },
     "metadata": {
      "needs_background": "light"
     },
     "output_type": "display_data"
    }
   ],
   "source": [
    "fig, ax = plt.subplots()\n",
    "anim_created = FuncAnimation(fig, AnimationFunction, frames=3, interval=1000, fargs=(rebinned_dfs,))"
   ]
  },
  {
   "cell_type": "code",
   "execution_count": 14,
   "id": "65a934aa0f3e4c8f64242f69",
   "metadata": {
    "chart_settings": null,
    "custom_metric_settings": null,
    "dataframe_view_options": null,
    "datarobot": {
     "language": "python"
    },
    "disable_run": false,
    "hide_code": false,
    "hide_results": false,
    "scrolled": false
   },
   "outputs": [
    {
     "name": "stderr",
     "output_type": "stream",
     "text": [
      "MovieWriter ffmpeg unavailable; using Pillow instead.\n"
     ]
    }
   ],
   "source": [
    "anim_created.save(\n",
    "    \"./LiftCharts/lift-chart-all-bins.gif\",\n",
    ")"
   ]
  },
  {
   "cell_type": "markdown",
   "id": "65a97775d37cff21bf4f8ce6",
   "metadata": {
    "chart_settings": null,
    "custom_metric_settings": null,
    "dataframe_view_options": null,
    "datarobot": {
     "language": "markdown"
    },
    "disable_run": false,
    "hide_code": false,
    "hide_results": false,
    "scrolled": false
   },
   "source": [
    "#### We can iterate through all of the models in our project and export various different performance metrics (in this case the Log Loss scores), and save them as a csv file."
   ]
  },
  {
   "cell_type": "code",
   "execution_count": 15,
   "id": "65a934bcb7e1adf036c952aa",
   "metadata": {
    "chart_settings": null,
    "custom_metric_settings": null,
    "dataframe_view_options": null,
    "datarobot": {
     "language": "python"
    },
    "disable_run": false,
    "hide_code": false,
    "hide_results": false,
    "scrolled": false
   },
   "outputs": [
    {
     "name": "stdout",
     "output_type": "stream",
     "text": [
      "eXtreme Gradient Boosted Trees Classifier with Early Stopping\n",
      "Light Gradient Boosted Trees Classifier with Early Stopping\n",
      "Light Gradient Boosting on ElasticNet Predictions \n",
      "Elastic-Net Classifier (mixing alpha=0.5 / Binomial Deviance)\n",
      "Generalized Additive2 Model\n",
      "Elastic-Net Classifier (L2 / Binomial Deviance)\n",
      "RuleFit Classifier\n",
      "RandomForest Classifier (Gini)\n",
      "Keras Slim Residual Neural Network Classifier using Training Schedule (1 Layer: 64 Units)\n"
     ]
    }
   ],
   "source": [
    "model_scores = {\"model\": [], \"cv0\": [], \"cv1\": [], \"cv2\": [], \"cv3\": [], \"cv4\": []}\n",
    "\n",
    "# first, make sure all the models have cross validation scores\n",
    "for model in project.get_models():\n",
    "    print(model.model_type)\n",
    "    if model.metrics[\"LogLoss\"][\"crossValidation\"] is None:\n",
    "        print(\"running cross validation\")\n",
    "        model.cross_validate()"
   ]
  },
  {
   "cell_type": "code",
   "execution_count": 16,
   "id": "65a96e91fc73aa96261a8be8",
   "metadata": {
    "chart_settings": null,
    "custom_metric_settings": null,
    "dataframe_view_options": null,
    "datarobot": {
     "language": "python"
    },
    "disable_run": false,
    "hide_code": false,
    "hide_results": false,
    "scrolled": false
   },
   "outputs": [],
   "source": [
    "# Get LogLoss values for all models\n",
    "for model in project.get_models():\n",
    "    logloss_cv = model.get_cross_validation_scores()[\"cvScores\"][\"LogLoss\"]\n",
    "\n",
    "    model_scores[\"model\"].append(model.model_type)\n",
    "    model_scores[\"cv0\"].append(logloss_cv[\"0.0\"])\n",
    "    model_scores[\"cv1\"].append(logloss_cv[\"1.0\"])\n",
    "    model_scores[\"cv2\"].append(logloss_cv[\"2.0\"])\n",
    "    model_scores[\"cv3\"].append(logloss_cv[\"3.0\"])\n",
    "    model_scores[\"cv4\"].append(logloss_cv[\"4.0\"])"
   ]
  },
  {
   "cell_type": "code",
   "execution_count": 17,
   "id": "65a945015bbaffa30765a553",
   "metadata": {
    "chart_settings": null,
    "custom_metric_settings": null,
    "dataframe_view_options": null,
    "datarobot": {
     "language": "python"
    },
    "disable_run": false,
    "hide_code": false,
    "hide_results": false,
    "scrolled": false
   },
   "outputs": [
    {
     "data": {
      "text/html": [
       "<div>\n",
       "<style scoped>\n",
       "    .dataframe tbody tr th:only-of-type {\n",
       "        vertical-align: middle;\n",
       "    }\n",
       "\n",
       "    .dataframe tbody tr th {\n",
       "        vertical-align: top;\n",
       "    }\n",
       "\n",
       "    .dataframe thead th {\n",
       "        text-align: right;\n",
       "    }\n",
       "</style>\n",
       "<table border=\"1\" class=\"dataframe\">\n",
       "  <thead>\n",
       "    <tr style=\"text-align: right;\">\n",
       "      <th></th>\n",
       "      <th>model</th>\n",
       "      <th>cv0</th>\n",
       "      <th>cv1</th>\n",
       "      <th>cv2</th>\n",
       "      <th>cv3</th>\n",
       "      <th>cv4</th>\n",
       "    </tr>\n",
       "  </thead>\n",
       "  <tbody>\n",
       "    <tr>\n",
       "      <th>0</th>\n",
       "      <td>eXtreme Gradient Boosted Trees Classifier with...</td>\n",
       "      <td>0.60652</td>\n",
       "      <td>0.60264</td>\n",
       "      <td>0.61049</td>\n",
       "      <td>0.61547</td>\n",
       "      <td>0.60600</td>\n",
       "    </tr>\n",
       "    <tr>\n",
       "      <th>1</th>\n",
       "      <td>Light Gradient Boosted Trees Classifier with E...</td>\n",
       "      <td>0.60667</td>\n",
       "      <td>0.60184</td>\n",
       "      <td>0.61076</td>\n",
       "      <td>0.61428</td>\n",
       "      <td>0.60711</td>\n",
       "    </tr>\n",
       "    <tr>\n",
       "      <th>2</th>\n",
       "      <td>Light Gradient Boosting on ElasticNet Predicti...</td>\n",
       "      <td>0.60752</td>\n",
       "      <td>0.60222</td>\n",
       "      <td>0.61665</td>\n",
       "      <td>0.61759</td>\n",
       "      <td>0.60810</td>\n",
       "    </tr>\n",
       "    <tr>\n",
       "      <th>3</th>\n",
       "      <td>Elastic-Net Classifier (mixing alpha=0.5 / Bin...</td>\n",
       "      <td>0.60941</td>\n",
       "      <td>0.61105</td>\n",
       "      <td>0.61762</td>\n",
       "      <td>0.61719</td>\n",
       "      <td>0.60847</td>\n",
       "    </tr>\n",
       "    <tr>\n",
       "      <th>4</th>\n",
       "      <td>Generalized Additive2 Model</td>\n",
       "      <td>0.61074</td>\n",
       "      <td>0.60341</td>\n",
       "      <td>0.61737</td>\n",
       "      <td>0.61699</td>\n",
       "      <td>0.60962</td>\n",
       "    </tr>\n",
       "  </tbody>\n",
       "</table>\n",
       "</div>"
      ],
      "text/plain": [
       "                                               model      cv0      cv1  \\\n",
       "0  eXtreme Gradient Boosted Trees Classifier with...  0.60652  0.60264   \n",
       "1  Light Gradient Boosted Trees Classifier with E...  0.60667  0.60184   \n",
       "2  Light Gradient Boosting on ElasticNet Predicti...  0.60752  0.60222   \n",
       "3  Elastic-Net Classifier (mixing alpha=0.5 / Bin...  0.60941  0.61105   \n",
       "4                        Generalized Additive2 Model  0.61074  0.60341   \n",
       "\n",
       "       cv2      cv3      cv4  \n",
       "0  0.61049  0.61547  0.60600  \n",
       "1  0.61076  0.61428  0.60711  \n",
       "2  0.61665  0.61759  0.60810  \n",
       "3  0.61762  0.61719  0.60847  \n",
       "4  0.61737  0.61699  0.60962  "
      ]
     },
     "execution_count": 17,
     "metadata": {},
     "output_type": "execute_result"
    }
   ],
   "source": [
    "logloss_scores = pd.DataFrame(model_scores)\n",
    "logloss_scores.to_csv(\"./models_logloss_scores.csv\", index=False)\n",
    "logloss_scores.head()"
   ]
  },
  {
   "cell_type": "markdown",
   "id": "65a977b7d37cff21bf4f8cfa",
   "metadata": {
    "chart_settings": null,
    "custom_metric_settings": null,
    "dataframe_view_options": null,
    "datarobot": {
     "language": "markdown"
    },
    "disable_run": false,
    "hide_code": false,
    "hide_results": false,
    "scrolled": false
   },
   "source": [
    "#### There is also a library called [datarobotx](https://drx.datarobot.com/index.html) that acts as a way to generalize or streamline many of the actions you can perform through the DataRobot API. In this case we can, in one line, create a feature impact or ROC curve plot and save them in anyway an altair chart can be saved."
   ]
  },
  {
   "cell_type": "code",
   "execution_count": 18,
   "id": "65a97038fc73aa96261a8c69",
   "metadata": {
    "chart_settings": null,
    "custom_metric_settings": null,
    "dataframe_view_options": null,
    "datarobot": {
     "language": "python"
    },
    "disable_run": false,
    "hide_code": false,
    "hide_results": false,
    "scrolled": false
   },
   "outputs": [
    {
     "data": {
      "application/vnd.jupyter.widget-view+json": {
       "model_id": "49f5c866b5894f4cb9388bee681b76f8",
       "version_major": 2,
       "version_minor": 0
      },
      "text/plain": [
       "VBox()"
      ]
     },
     "metadata": {},
     "output_type": "display_data"
    },
    {
     "data": {
      "text/html": [
       "\n",
       "<style>\n",
       "  #altair-viz-d98bf866e23249769cb16360090d06bf.vega-embed {\n",
       "    width: 100%;\n",
       "    display: flex;\n",
       "  }\n",
       "\n",
       "  #altair-viz-d98bf866e23249769cb16360090d06bf.vega-embed details,\n",
       "  #altair-viz-d98bf866e23249769cb16360090d06bf.vega-embed details summary {\n",
       "    position: relative;\n",
       "  }\n",
       "</style>\n",
       "<div id=\"altair-viz-d98bf866e23249769cb16360090d06bf\"></div>\n",
       "<script type=\"text/javascript\">\n",
       "  var VEGA_DEBUG = (typeof VEGA_DEBUG == \"undefined\") ? {} : VEGA_DEBUG;\n",
       "  (function(spec, embedOpt){\n",
       "    let outputDiv = document.currentScript.previousElementSibling;\n",
       "    if (outputDiv.id !== \"altair-viz-d98bf866e23249769cb16360090d06bf\") {\n",
       "      outputDiv = document.getElementById(\"altair-viz-d98bf866e23249769cb16360090d06bf\");\n",
       "    }\n",
       "    const paths = {\n",
       "      \"vega\": \"https://cdn.jsdelivr.net/npm/vega@5?noext\",\n",
       "      \"vega-lib\": \"https://cdn.jsdelivr.net/npm/vega-lib?noext\",\n",
       "      \"vega-lite\": \"https://cdn.jsdelivr.net/npm/vega-lite@5.16.3?noext\",\n",
       "      \"vega-embed\": \"https://cdn.jsdelivr.net/npm/vega-embed@6?noext\",\n",
       "    };\n",
       "\n",
       "    function maybeLoadScript(lib, version) {\n",
       "      var key = `${lib.replace(\"-\", \"\")}_version`;\n",
       "      return (VEGA_DEBUG[key] == version) ?\n",
       "        Promise.resolve(paths[lib]) :\n",
       "        new Promise(function(resolve, reject) {\n",
       "          var s = document.createElement('script');\n",
       "          document.getElementsByTagName(\"head\")[0].appendChild(s);\n",
       "          s.async = true;\n",
       "          s.onload = () => {\n",
       "            VEGA_DEBUG[key] = version;\n",
       "            return resolve(paths[lib]);\n",
       "          };\n",
       "          s.onerror = () => reject(`Error loading script: ${paths[lib]}`);\n",
       "          s.src = paths[lib];\n",
       "        });\n",
       "    }\n",
       "\n",
       "    function showError(err) {\n",
       "      outputDiv.innerHTML = `<div class=\"error\" style=\"color:red;\">${err}</div>`;\n",
       "      throw err;\n",
       "    }\n",
       "\n",
       "    function displayChart(vegaEmbed) {\n",
       "      vegaEmbed(outputDiv, spec, embedOpt)\n",
       "        .catch(err => showError(`Javascript Error: ${err.message}<br>This usually means there's a typo in your chart specification. See the javascript console for the full traceback.`));\n",
       "    }\n",
       "\n",
       "    if(typeof define === \"function\" && define.amd) {\n",
       "      requirejs.config({paths});\n",
       "      require([\"vega-embed\"], displayChart, err => showError(`Error loading script: ${err.message}`));\n",
       "    } else {\n",
       "      maybeLoadScript(\"vega\", \"5\")\n",
       "        .then(() => maybeLoadScript(\"vega-lite\", \"5.16.3\"))\n",
       "        .then(() => maybeLoadScript(\"vega-embed\", \"6\"))\n",
       "        .catch(showError)\n",
       "        .then(() => displayChart(vegaEmbed));\n",
       "    }\n",
       "  })({\"config\": {\"view\": {\"continuousWidth\": 300, \"continuousHeight\": 300}}, \"data\": {\"name\": \"data-ba67733e43f6c9a541b9268f3c6067a2\"}, \"mark\": {\"type\": \"bar\"}, \"encoding\": {\"x\": {\"field\": \"impactNormalized\", \"type\": \"quantitative\"}, \"y\": {\"field\": \"featureName\", \"sort\": \"-x\", \"type\": \"nominal\"}}, \"title\": \"Feature Impact Chart\", \"width\": 400, \"$schema\": \"https://vega.github.io/schema/vega-lite/v5.16.3.json\", \"datasets\": {\"data-ba67733e43f6c9a541b9268f3c6067a2\": [{\"featureName\": \"number_inpatient\", \"impactNormalized\": 1.0, \"impactUnnormalized\": 0.031694067790202674, \"redundantWith\": null, \"adjustedFeatureImpact\": null}, {\"featureName\": \"medical_specialty\", \"impactNormalized\": 0.6461308856209301, \"impactUnnormalized\": 0.02047851609021345, \"redundantWith\": null, \"adjustedFeatureImpact\": null}, {\"featureName\": \"discharge_disposition_id\", \"impactNormalized\": 0.6194282111116935, \"impactUnnormalized\": 0.019632199714137988, \"redundantWith\": null, \"adjustedFeatureImpact\": null}, {\"featureName\": \"number_diagnoses\", \"impactNormalized\": 0.546256108339193, \"impactUnnormalized\": 0.01731307812851468, \"redundantWith\": null, \"adjustedFeatureImpact\": null}, {\"featureName\": \"num_lab_procedures\", \"impactNormalized\": 0.4921409902525018, \"impactUnnormalized\": 0.015597949907400266, \"redundantWith\": null, \"adjustedFeatureImpact\": null}, {\"featureName\": \"diag_2_desc\", \"impactNormalized\": 0.4579337730324042, \"impactUnnormalized\": 0.014513784045912304, \"redundantWith\": null, \"adjustedFeatureImpact\": null}, {\"featureName\": \"diag_1\", \"impactNormalized\": 0.3974006675546081, \"impactUnnormalized\": 0.012595243697347547, \"redundantWith\": null, \"adjustedFeatureImpact\": null}, {\"featureName\": \"num_medications\", \"impactNormalized\": 0.35567456219647803, \"impactUnnormalized\": 0.011272773685505832, \"redundantWith\": null, \"adjustedFeatureImpact\": null}, {\"featureName\": \"number_outpatient\", \"impactNormalized\": 0.3059768683194028, \"impactUnnormalized\": 0.00969765160674907, \"redundantWith\": null, \"adjustedFeatureImpact\": null}, {\"featureName\": \"admission_type_id\", \"impactNormalized\": 0.2848086303603578, \"impactUnnormalized\": 0.009026744037875956, \"redundantWith\": null, \"adjustedFeatureImpact\": null}]}}, {\"mode\": \"vega-lite\"});\n",
       "</script>"
      ],
      "text/plain": [
       "alt.Chart(...)"
      ]
     },
     "execution_count": 18,
     "metadata": {},
     "output_type": "execute_result"
    }
   ],
   "source": [
    "drx.Context(config_path=\"./drconfig.yaml\")\n",
    "\n",
    "feature_impact_chart(project.id, top_model.id)"
   ]
  },
  {
   "cell_type": "code",
   "execution_count": 19,
   "id": "65a9759aeab92e66bbdf6b6c",
   "metadata": {
    "chart_settings": null,
    "custom_metric_settings": null,
    "dataframe_view_options": null,
    "datarobot": {
     "language": "python"
    },
    "disable_run": false,
    "hide_code": false,
    "hide_results": false,
    "scrolled": false
   },
   "outputs": [
    {
     "data": {
      "application/vnd.jupyter.widget-view+json": {
       "model_id": "54c4136188fb4c728bbdb6aaa8116cdc",
       "version_major": 2,
       "version_minor": 0
      },
      "text/plain": [
       "VBox()"
      ]
     },
     "metadata": {},
     "output_type": "display_data"
    },
    {
     "data": {
      "text/html": [
       "\n",
       "<style>\n",
       "  #altair-viz-43fd528887af4bde8ec65f0864f3b5a1.vega-embed {\n",
       "    width: 100%;\n",
       "    display: flex;\n",
       "  }\n",
       "\n",
       "  #altair-viz-43fd528887af4bde8ec65f0864f3b5a1.vega-embed details,\n",
       "  #altair-viz-43fd528887af4bde8ec65f0864f3b5a1.vega-embed details summary {\n",
       "    position: relative;\n",
       "  }\n",
       "</style>\n",
       "<div id=\"altair-viz-43fd528887af4bde8ec65f0864f3b5a1\"></div>\n",
       "<script type=\"text/javascript\">\n",
       "  var VEGA_DEBUG = (typeof VEGA_DEBUG == \"undefined\") ? {} : VEGA_DEBUG;\n",
       "  (function(spec, embedOpt){\n",
       "    let outputDiv = document.currentScript.previousElementSibling;\n",
       "    if (outputDiv.id !== \"altair-viz-43fd528887af4bde8ec65f0864f3b5a1\") {\n",
       "      outputDiv = document.getElementById(\"altair-viz-43fd528887af4bde8ec65f0864f3b5a1\");\n",
       "    }\n",
       "    const paths = {\n",
       "      \"vega\": \"https://cdn.jsdelivr.net/npm/vega@5?noext\",\n",
       "      \"vega-lib\": \"https://cdn.jsdelivr.net/npm/vega-lib?noext\",\n",
       "      \"vega-lite\": \"https://cdn.jsdelivr.net/npm/vega-lite@5.16.3?noext\",\n",
       "      \"vega-embed\": \"https://cdn.jsdelivr.net/npm/vega-embed@6?noext\",\n",
       "    };\n",
       "\n",
       "    function maybeLoadScript(lib, version) {\n",
       "      var key = `${lib.replace(\"-\", \"\")}_version`;\n",
       "      return (VEGA_DEBUG[key] == version) ?\n",
       "        Promise.resolve(paths[lib]) :\n",
       "        new Promise(function(resolve, reject) {\n",
       "          var s = document.createElement('script');\n",
       "          document.getElementsByTagName(\"head\")[0].appendChild(s);\n",
       "          s.async = true;\n",
       "          s.onload = () => {\n",
       "            VEGA_DEBUG[key] = version;\n",
       "            return resolve(paths[lib]);\n",
       "          };\n",
       "          s.onerror = () => reject(`Error loading script: ${paths[lib]}`);\n",
       "          s.src = paths[lib];\n",
       "        });\n",
       "    }\n",
       "\n",
       "    function showError(err) {\n",
       "      outputDiv.innerHTML = `<div class=\"error\" style=\"color:red;\">${err}</div>`;\n",
       "      throw err;\n",
       "    }\n",
       "\n",
       "    function displayChart(vegaEmbed) {\n",
       "      vegaEmbed(outputDiv, spec, embedOpt)\n",
       "        .catch(err => showError(`Javascript Error: ${err.message}<br>This usually means there's a typo in your chart specification. See the javascript console for the full traceback.`));\n",
       "    }\n",
       "\n",
       "    if(typeof define === \"function\" && define.amd) {\n",
       "      requirejs.config({paths});\n",
       "      require([\"vega-embed\"], displayChart, err => showError(`Error loading script: ${err.message}`));\n",
       "    } else {\n",
       "      maybeLoadScript(\"vega\", \"5\")\n",
       "        .then(() => maybeLoadScript(\"vega-lite\", \"5.16.3\"))\n",
       "        .then(() => maybeLoadScript(\"vega-embed\", \"6\"))\n",
       "        .catch(showError)\n",
       "        .then(() => displayChart(vegaEmbed));\n",
       "    }\n",
       "  })({\"config\": {\"view\": {\"continuousWidth\": 300, \"continuousHeight\": 300}}, \"layer\": [{\"data\": {\"name\": \"data-76bf1537bd50d605ac8fc109bf703f3f\"}, \"mark\": {\"type\": \"line\"}, \"encoding\": {\"x\": {\"field\": \"falsePositiveScore\", \"title\": \"False Positive Rate\", \"type\": \"quantitative\"}, \"y\": {\"field\": \"truePositiveScore\", \"title\": \"True Positive Rate\", \"type\": \"quantitative\"}}, \"title\": \"ROC Curve\"}, {\"data\": {\"name\": \"data-8eb2159b55543c668167de8218784fc2\"}, \"mark\": {\"type\": \"line\", \"color\": \"grey\", \"strokeDash\": [6, 4]}, \"encoding\": {\"x\": {\"field\": \"falsePositiveScore\", \"type\": \"quantitative\"}, \"y\": {\"field\": \"truePositiveScore\", \"type\": \"quantitative\"}}}], \"width\": 400, \"$schema\": \"https://vega.github.io/schema/vega-lite/v5.16.3.json\", \"datasets\": {\"data-76bf1537bd50d605ac8fc109bf703f3f\": [{\"accuracy\": 0.6035, \"f1Score\": 0.0, \"falseNegativeScore\": 3172, \"trueNegativeScore\": 4828, \"truePositiveScore\": 0, \"falsePositiveScore\": 0, \"trueNegativeRate\": 1.0, \"falsePositiveRate\": 0.0, \"truePositiveRate\": 0.0, \"matthewsCorrelationCoefficient\": 0.0, \"positivePredictiveValue\": 0.0, \"negativePredictiveValue\": 0.6035, \"threshold\": 1.0, \"fractionPredictedAsPositive\": 0.0, \"fractionPredictedAsNegative\": 1.0, \"liftPositive\": 0.0, \"liftNegative\": 1.0}, {\"accuracy\": 0.603625, \"f1Score\": 0.0006303183107469272, \"falseNegativeScore\": 3171, \"trueNegativeScore\": 4828, \"truePositiveScore\": 1, \"falsePositiveScore\": 0, \"trueNegativeRate\": 1.0, \"falsePositiveRate\": 0.0, \"truePositiveRate\": 0.00031525851197982345, \"matthewsCorrelationCoefficient\": 0.013794284949463014, \"positivePredictiveValue\": 1.0, \"negativePredictiveValue\": 0.6035754469308664, \"threshold\": 0.9614894390106201, \"fractionPredictedAsPositive\": 0.000125, \"fractionPredictedAsNegative\": 0.999875, \"liftPositive\": 2.5220680958385877, \"liftNegative\": 1.0001250156269534}, {\"accuracy\": 0.60425, \"f1Score\": 0.003775959723096287, \"falseNegativeScore\": 3166, \"trueNegativeScore\": 4828, \"truePositiveScore\": 6, \"falsePositiveScore\": 0, \"trueNegativeRate\": 1.0, \"falsePositiveRate\": 0.0, \"truePositiveRate\": 0.0018915510718789407, \"matthewsCorrelationCoefficient\": 0.033799524815998246, \"positivePredictiveValue\": 1.0, \"negativePredictiveValue\": 0.6039529647235427, \"threshold\": 0.9135133624076843, \"fractionPredictedAsPositive\": 0.00075, \"fractionPredictedAsNegative\": 0.99925, \"liftPositive\": 2.5220680958385877, \"liftNegative\": 1.0007505629221918}, {\"accuracy\": 0.60575, \"f1Score\": 0.013141426783479349, \"falseNegativeScore\": 3151, \"trueNegativeScore\": 4825, \"truePositiveScore\": 21, \"falsePositiveScore\": 3, \"trueNegativeRate\": 0.9993786246893124, \"falsePositiveRate\": 0.0006213753106876554, \"truePositiveRate\": 0.006620428751576293, \"matthewsCorrelationCoefficient\": 0.05365803411737367, \"positivePredictiveValue\": 0.875, \"negativePredictiveValue\": 0.6049398194583752, \"threshold\": 0.8648787140846252, \"fractionPredictedAsPositive\": 0.003, \"fractionPredictedAsNegative\": 0.997, \"liftPositive\": 2.2068095838587642, \"liftNegative\": 1.0023857820354187}, {\"accuracy\": 0.60875, \"f1Score\": 0.030959752321981424, \"falseNegativeScore\": 3122, \"trueNegativeScore\": 4820, \"truePositiveScore\": 50, \"falsePositiveScore\": 8, \"trueNegativeRate\": 0.9983429991714996, \"falsePositiveRate\": 0.0016570008285004142, \"truePositiveRate\": 0.015762925598991173, \"matthewsCorrelationCoefficient\": 0.08133413368632245, \"positivePredictiveValue\": 0.8620689655172413, \"negativePredictiveValue\": 0.6069000251825737, \"threshold\": 0.8177491426467896, \"fractionPredictedAsPositive\": 0.00725, \"fractionPredictedAsNegative\": 0.99275, \"liftPositive\": 2.17419663434361, \"liftNegative\": 1.0056338445444468}, {\"accuracy\": 0.610125, \"f1Score\": 0.0411927451583154, \"falseNegativeScore\": 3105, \"trueNegativeScore\": 4814, \"truePositiveScore\": 67, \"falsePositiveScore\": 14, \"trueNegativeRate\": 0.9971002485501242, \"falsePositiveRate\": 0.002899751449875725, \"truePositiveRate\": 0.02112232030264817, \"matthewsCorrelationCoefficient\": 0.08903938240224075, \"positivePredictiveValue\": 0.8271604938271605, \"negativePredictiveValue\": 0.607905038514964, \"threshold\": 0.7951666116714478, \"fractionPredictedAsPositive\": 0.010125, \"fractionPredictedAsNegative\": 0.989875, \"liftPositive\": 2.086155091619572, \"liftNegative\": 1.0072991524688717}, {\"accuracy\": 0.613875, \"f1Score\": 0.06648534300392868, \"falseNegativeScore\": 3062, \"trueNegativeScore\": 4801, \"truePositiveScore\": 110, \"falsePositiveScore\": 27, \"trueNegativeRate\": 0.9944076222038111, \"falsePositiveRate\": 0.005592377796188898, \"truePositiveRate\": 0.03467843631778058, \"matthewsCorrelationCoefficient\": 0.10966818909750756, \"positivePredictiveValue\": 0.8029197080291971, \"negativePredictiveValue\": 0.6105812031031413, \"threshold\": 0.7681089043617249, \"fractionPredictedAsPositive\": 0.017125, \"fractionPredictedAsNegative\": 0.9828749999999999, \"liftPositive\": 2.0250181791404716, \"liftNegative\": 1.011733559408685}, {\"accuracy\": 0.61575, \"f1Score\": 0.07798440311937613, \"falseNegativeScore\": 3042, \"trueNegativeScore\": 4796, \"truePositiveScore\": 130, \"falsePositiveScore\": 32, \"trueNegativeRate\": 0.9933719966859983, \"falsePositiveRate\": 0.006628003314001657, \"truePositiveRate\": 0.040983606557377046, \"matthewsCorrelationCoefficient\": 0.11931297145800161, \"positivePredictiveValue\": 0.8024691358024691, \"negativePredictiveValue\": 0.6118907884664455, \"threshold\": 0.7549112439155579, \"fractionPredictedAsPositive\": 0.02025, \"fractionPredictedAsNegative\": 0.97975, \"liftPositive\": 2.0238818053025702, \"liftNegative\": 1.0139035434406718}, {\"accuracy\": 0.61925, \"f1Score\": 0.10779144698301113, \"falseNegativeScore\": 2988, \"trueNegativeScore\": 4770, \"truePositiveScore\": 184, \"falsePositiveScore\": 58, \"trueNegativeRate\": 0.987986743993372, \"falsePositiveRate\": 0.012013256006628004, \"truePositiveRate\": 0.058007566204287514, \"matthewsCorrelationCoefficient\": 0.13136260715237275, \"positivePredictiveValue\": 0.7603305785123967, \"negativePredictiveValue\": 0.6148491879350348, \"threshold\": 0.7272589802742004, \"fractionPredictedAsPositive\": 0.03025, \"fractionPredictedAsNegative\": 0.96975, \"liftPositive\": 1.917605494356612, \"liftNegative\": 1.0188056138111596}, {\"accuracy\": 0.62175, \"f1Score\": 0.12188044109112015, \"falseNegativeScore\": 2962, \"trueNegativeScore\": 4764, \"truePositiveScore\": 210, \"falsePositiveScore\": 64, \"trueNegativeRate\": 0.9867439933719967, \"falsePositiveRate\": 0.013256006628003313, \"truePositiveRate\": 0.06620428751576292, \"matthewsCorrelationCoefficient\": 0.142412939552029, \"positivePredictiveValue\": 0.7664233576642335, \"negativePredictiveValue\": 0.6166192078695315, \"threshold\": 0.7203514575958252, \"fractionPredictedAsPositive\": 0.03425, \"fractionPredictedAsNegative\": 0.96575, \"liftPositive\": 1.93297189827045, \"liftNegative\": 1.0217385383090827}, {\"accuracy\": 0.624125, \"f1Score\": 0.1396280400572246, \"falseNegativeScore\": 2928, \"trueNegativeScore\": 4749, \"truePositiveScore\": 244, \"falsePositiveScore\": 79, \"trueNegativeRate\": 0.9836371168185584, \"falsePositiveRate\": 0.01636288318144159, \"truePositiveRate\": 0.07692307692307693, \"matthewsCorrelationCoefficient\": 0.15050136693213467, \"positivePredictiveValue\": 0.7554179566563467, \"negativePredictiveValue\": 0.6186010160218836, \"threshold\": 0.7063619494438171, \"fractionPredictedAsPositive\": 0.040375, \"fractionPredictedAsNegative\": 0.959625, \"liftPositive\": 1.9052155275065492, \"liftNegative\": 1.025022396059459}, {\"accuracy\": 0.62875, \"f1Score\": 0.16946308724832215, \"falseNegativeScore\": 2869, \"trueNegativeScore\": 4727, \"truePositiveScore\": 303, \"falsePositiveScore\": 101, \"trueNegativeRate\": 0.9790803645401823, \"falsePositiveRate\": 0.02091963545981773, \"truePositiveRate\": 0.09552332912988651, \"matthewsCorrelationCoefficient\": 0.16665846966373332, \"positivePredictiveValue\": 0.75, \"negativePredictiveValue\": 0.6223012111637704, \"threshold\": 0.68804532289505, \"fractionPredictedAsPositive\": 0.0505, \"fractionPredictedAsNegative\": 0.9495, \"liftPositive\": 1.8915510718789406, \"liftNegative\": 1.031153622475179}, {\"accuracy\": 0.632875, \"f1Score\": 0.19688269073010664, \"falseNegativeScore\": 2812, \"trueNegativeScore\": 4703, \"truePositiveScore\": 360, \"falsePositiveScore\": 125, \"trueNegativeRate\": 0.974109362054681, \"falsePositiveRate\": 0.025890637945318973, \"truePositiveRate\": 0.11349306431273644, \"matthewsCorrelationCoefficient\": 0.17956884674894733, \"positivePredictiveValue\": 0.7422680412371134, \"negativePredictiveValue\": 0.6258150365934797, \"threshold\": 0.672683596611023, \"fractionPredictedAsPositive\": 0.060625, \"fractionPredictedAsNegative\": 0.939375, \"liftPositive\": 1.8720505453647247, \"liftNegative\": 1.0369760341234129}, {\"accuracy\": 0.63325, \"f1Score\": 0.198798470780994, \"falseNegativeScore\": 2808, \"trueNegativeScore\": 4702, \"truePositiveScore\": 364, \"falsePositiveScore\": 126, \"trueNegativeRate\": 0.9739022369511184, \"falsePositiveRate\": 0.026097763048881523, \"truePositiveRate\": 0.11475409836065574, \"matthewsCorrelationCoefficient\": 0.1808597752864544, \"positivePredictiveValue\": 0.7428571428571429, \"negativePredictiveValue\": 0.626098535286285, \"threshold\": 0.6718467473983765, \"fractionPredictedAsPositive\": 0.06125, \"fractionPredictedAsNegative\": 0.93875, \"liftPositive\": 1.873536299765808, \"liftNegative\": 1.03744579169227}, {\"accuracy\": 0.637, \"f1Score\": 0.2231139646869984, \"falseNegativeScore\": 2755, \"trueNegativeScore\": 4679, \"truePositiveScore\": 417, \"falsePositiveScore\": 149, \"trueNegativeRate\": 0.9691383595691798, \"falsePositiveRate\": 0.030861640430820216, \"truePositiveRate\": 0.13146279949558637, \"matthewsCorrelationCoefficient\": 0.19192595509022048, \"positivePredictiveValue\": 0.7367491166077739, \"negativePredictiveValue\": 0.6294054344901803, \"threshold\": 0.6570712327957153, \"fractionPredictedAsPositive\": 0.07075, \"fractionPredictedAsNegative\": 0.92925, \"liftPositive\": 1.8581314416337298, \"liftNegative\": 1.042925326412892}, {\"accuracy\": 0.63975, \"f1Score\": 0.24515453116815086, \"falseNegativeScore\": 2704, \"trueNegativeScore\": 4650, \"truePositiveScore\": 468, \"falsePositiveScore\": 178, \"trueNegativeRate\": 0.9631317315658657, \"falsePositiveRate\": 0.03686826843413422, \"truePositiveRate\": 0.14754098360655737, \"matthewsCorrelationCoefficient\": 0.1987067924836002, \"positivePredictiveValue\": 0.7244582043343654, \"negativePredictiveValue\": 0.6323089475115583, \"threshold\": 0.6442095637321472, \"fractionPredictedAsPositive\": 0.08075, \"fractionPredictedAsNegative\": 0.91925, \"liftPositive\": 1.8271329239202152, \"liftNegative\": 1.0477364498948771}, {\"accuracy\": 0.644625, \"f1Score\": 0.27083867658373945, \"falseNegativeScore\": 2644, \"trueNegativeScore\": 4629, \"truePositiveScore\": 528, \"falsePositiveScore\": 199, \"trueNegativeRate\": 0.9587821043910522, \"falsePositiveRate\": 0.041217895608947806, \"truePositiveRate\": 0.1664564943253468, \"matthewsCorrelationCoefficient\": 0.21313973452545254, \"positivePredictiveValue\": 0.7262723521320495, \"negativePredictiveValue\": 0.636463632613777, \"threshold\": 0.6325026154518127, \"fractionPredictedAsPositive\": 0.090875, \"fractionPredictedAsNegative\": 0.909125, \"liftPositive\": 1.8317083282018904, \"liftNegative\": 1.0546207665514118}, {\"accuracy\": 0.647625, \"f1Score\": 0.28867019934393134, \"falseNegativeScore\": 2600, \"trueNegativeScore\": 4609, \"truePositiveScore\": 572, \"falsePositiveScore\": 219, \"trueNegativeRate\": 0.9546396023198012, \"falsePositiveRate\": 0.04536039768019884, \"truePositiveRate\": 0.18032786885245902, \"matthewsCorrelationCoefficient\": 0.22118393303062903, \"positivePredictiveValue\": 0.7231352718078382, \"negativePredictiveValue\": 0.6393397142460813, \"threshold\": 0.6235024333000183, \"fractionPredictedAsPositive\": 0.098875, \"fractionPredictedAsNegative\": 0.901125, \"liftPositive\": 1.823796398002114, \"liftNegative\": 1.0593864361989749}, {\"accuracy\": 0.64775, \"f1Score\": 0.2919597989949749, \"falseNegativeScore\": 2591, \"trueNegativeScore\": 4601, \"truePositiveScore\": 581, \"falsePositiveScore\": 227, \"trueNegativeRate\": 0.9529826014913008, \"falsePositiveRate\": 0.04701739850869925, \"truePositiveRate\": 0.18316519546027743, \"matthewsCorrelationCoefficient\": 0.22101936079766882, \"positivePredictiveValue\": 0.719059405940594, \"negativePredictiveValue\": 0.6397385984427141, \"threshold\": 0.620698869228363, \"fractionPredictedAsPositive\": 0.101, \"fractionPredictedAsNegative\": 0.899, \"liftPositive\": 1.81351678673542, \"liftNegative\": 1.0600473876432712}, {\"accuracy\": 0.650125, \"f1Score\": 0.31076089633095294, \"falseNegativeScore\": 2541, \"trueNegativeScore\": 4570, \"truePositiveScore\": 631, \"falsePositiveScore\": 258, \"trueNegativeRate\": 0.9465617232808616, \"falsePositiveRate\": 0.05343827671913836, \"truePositiveRate\": 0.1989281210592686, \"matthewsCorrelationCoefficient\": 0.22644705630750653, \"positivePredictiveValue\": 0.7097862767154106, \"negativePredictiveValue\": 0.6426662916608072, \"threshold\": 0.6094130277633667, \"fractionPredictedAsPositive\": 0.111125, \"fractionPredictedAsNegative\": 0.888875, \"liftPositive\": 1.7901293233679965, \"liftNegative\": 1.0648985777312465}, {\"accuracy\": 0.6515, \"f1Score\": 0.32689521970062774, \"falseNegativeScore\": 2495, \"trueNegativeScore\": 4535, \"truePositiveScore\": 677, \"falsePositiveScore\": 293, \"trueNegativeRate\": 0.9393123446561723, \"falsePositiveRate\": 0.060687655343827675, \"truePositiveRate\": 0.21343001261034047, \"matthewsCorrelationCoefficient\": 0.22890020370155564, \"positivePredictiveValue\": 0.6979381443298969, \"negativePredictiveValue\": 0.6450924608819346, \"threshold\": 0.6002330780029297, \"fractionPredictedAsPositive\": 0.12125, \"fractionPredictedAsNegative\": 0.87875, \"liftPositive\": 1.7602475266832205, \"liftNegative\": 1.0689187421407367}, {\"accuracy\": 0.65475, \"f1Score\": 0.3458076740881099, \"falseNegativeScore\": 2442, \"trueNegativeScore\": 4508, \"truePositiveScore\": 730, \"falsePositiveScore\": 320, \"trueNegativeRate\": 0.9337199668599834, \"falsePositiveRate\": 0.06628003314001657, \"truePositiveRate\": 0.23013871374527112, \"matthewsCorrelationCoefficient\": 0.2373737122954239, \"positivePredictiveValue\": 0.6952380952380952, \"negativePredictiveValue\": 0.6486330935251798, \"threshold\": 0.5894641876220703, \"fractionPredictedAsPositive\": 0.13125, \"fractionPredictedAsNegative\": 0.86875, \"liftPositive\": 1.7534378190115893, \"liftNegative\": 1.0747855733640097}, {\"accuracy\": 0.657125, \"f1Score\": 0.36253776435045315, \"falseNegativeScore\": 2392, \"trueNegativeScore\": 4477, \"truePositiveScore\": 780, \"falsePositiveScore\": 351, \"trueNegativeRate\": 0.9272990886495444, \"falsePositiveRate\": 0.07270091135045567, \"truePositiveRate\": 0.2459016393442623, \"matthewsCorrelationCoefficient\": 0.24317665064894725, \"positivePredictiveValue\": 0.6896551724137931, \"negativePredictiveValue\": 0.6517688164216043, \"threshold\": 0.5785492658615112, \"fractionPredictedAsPositive\": 0.141375, \"fractionPredictedAsNegative\": 0.858625, \"liftPositive\": 1.739357307474888, \"liftNegative\": 1.0799814688013327}, {\"accuracy\": 0.657625, \"f1Score\": 0.36874855957593916, \"falseNegativeScore\": 2372, \"trueNegativeScore\": 4461, \"truePositiveScore\": 800, \"falsePositiveScore\": 367, \"trueNegativeRate\": 0.9239850869925434, \"falsePositiveRate\": 0.0760149130074565, \"truePositiveRate\": 0.25220680958385877, \"matthewsCorrelationCoefficient\": 0.24417152300819092, \"positivePredictiveValue\": 0.6855184233076264, \"negativePredictiveValue\": 0.65286111517635, \"threshold\": 0.5751453042030334, \"fractionPredictedAsPositive\": 0.145875, \"fractionPredictedAsNegative\": 0.854125, \"liftPositive\": 1.7289241445337362, \"liftNegative\": 1.0817914087429163}, {\"accuracy\": 0.65875, \"f1Score\": 0.3772810218978102, \"falseNegativeScore\": 2345, \"trueNegativeScore\": 4443, \"truePositiveScore\": 827, \"falsePositiveScore\": 385, \"trueNegativeRate\": 0.9202568351284176, \"falsePositiveRate\": 0.07974316487158244, \"truePositiveRate\": 0.260718789407314, \"matthewsCorrelationCoefficient\": 0.2469153430320354, \"positivePredictiveValue\": 0.6823432343234324, \"negativePredictiveValue\": 0.6545374189746611, \"threshold\": 0.5704587697982788, \"fractionPredictedAsPositive\": 0.1515, \"fractionPredictedAsNegative\": 0.8485, \"liftPositive\": 1.7209161016984424, \"liftNegative\": 1.0845690455255363}, {\"accuracy\": 0.662125, \"f1Score\": 0.39462486002239644, \"falseNegativeScore\": 2291, \"trueNegativeScore\": 4416, \"truePositiveScore\": 881, \"falsePositiveScore\": 412, \"trueNegativeRate\": 0.9146644573322287, \"falsePositiveRate\": 0.08533554266777134, \"truePositiveRate\": 0.27774274905422447, \"matthewsCorrelationCoefficient\": 0.2556867002419159, \"positivePredictiveValue\": 0.6813611755607115, \"negativePredictiveValue\": 0.6584165796928582, \"threshold\": 0.5628759860992432, \"fractionPredictedAsPositive\": 0.161625, \"fractionPredictedAsNegative\": 0.838375, \"liftPositive\": 1.7184392826247454, \"liftNegative\": 1.0909968180494751}, {\"accuracy\": 0.66225, \"f1Score\": 0.40563132424109105, \"falseNegativeScore\": 2250, \"trueNegativeScore\": 4376, \"truePositiveScore\": 922, \"falsePositiveScore\": 452, \"trueNegativeRate\": 0.9063794531897266, \"falsePositiveRate\": 0.0936205468102734, \"truePositiveRate\": 0.2906683480453972, \"matthewsCorrelationCoefficient\": 0.25556579721401196, \"positivePredictiveValue\": 0.6710334788937409, \"negativePredictiveValue\": 0.6604286145487474, \"threshold\": 0.5557397603988647, \"fractionPredictedAsPositive\": 0.17175, \"fractionPredictedAsNegative\": 0.8282499999999999, \"liftPositive\": 1.6923921283574799, \"liftNegative\": 1.0943307614726552}, {\"accuracy\": 0.66475, \"f1Score\": 0.42023346303501946, \"falseNegativeScore\": 2200, \"trueNegativeScore\": 4346, \"truePositiveScore\": 972, \"falsePositiveScore\": 482, \"trueNegativeRate\": 0.90016570008285, \"falsePositiveRate\": 0.09983429991714995, \"truePositiveRate\": 0.3064312736443884, \"matthewsCorrelationCoefficient\": 0.2620619521787299, \"positivePredictiveValue\": 0.6685006877579092, \"negativePredictiveValue\": 0.6639168958142377, \"threshold\": 0.5476062297821045, \"fractionPredictedAsPositive\": 0.18175, \"fractionPredictedAsNegative\": 0.81825, \"liftPositive\": 1.6860042566403763, \"liftNegative\": 1.100110846419615}, {\"accuracy\": 0.663375, \"f1Score\": 0.42787338007223286, \"falseNegativeScore\": 2165, \"trueNegativeScore\": 4300, \"truePositiveScore\": 1007, \"falsePositiveScore\": 528, \"trueNegativeRate\": 0.8906379453189727, \"falsePositiveRate\": 0.10936205468102735, \"truePositiveRate\": 0.31746532156368223, \"matthewsCorrelationCoefficient\": 0.2585179262573885, \"positivePredictiveValue\": 0.6560260586319219, \"negativePredictiveValue\": 0.6651198762567672, \"threshold\": 0.540554404258728, \"fractionPredictedAsPositive\": 0.191875, \"fractionPredictedAsNegative\": 0.808125, \"liftPositive\": 1.6545423925143048, \"liftNegative\": 1.1021041860095564}, {\"accuracy\": 0.6645, \"f1Score\": 0.4394319131161236, \"falseNegativeScore\": 2120, \"trueNegativeScore\": 4264, \"truePositiveScore\": 1052, \"falsePositiveScore\": 564, \"trueNegativeRate\": 0.8831814415907208, \"falsePositiveRate\": 0.11681855840927921, \"truePositiveRate\": 0.3316519546027743, \"matthewsCorrelationCoefficient\": 0.2617489189592493, \"positivePredictiveValue\": 0.650990099009901, \"negativePredictiveValue\": 0.6679197994987469, \"threshold\": 0.5343797206878662, \"fractionPredictedAsPositive\": 0.202, \"fractionPredictedAsNegative\": 0.798, \"liftPositive\": 1.6418413594196746, \"liftNegative\": 1.106743661141254}, {\"accuracy\": 0.665875, \"f1Score\": 0.4510166358595194, \"falseNegativeScore\": 2074, \"trueNegativeScore\": 4229, \"truePositiveScore\": 1098, \"falsePositiveScore\": 599, \"trueNegativeRate\": 0.8759320629660314, \"falsePositiveRate\": 0.12406793703396851, \"truePositiveRate\": 0.34615384615384615, \"matthewsCorrelationCoefficient\": 0.265739828061576, \"positivePredictiveValue\": 0.6470241602828521, \"negativePredictiveValue\": 0.6709503411074091, \"threshold\": 0.5275434851646423, \"fractionPredictedAsPositive\": 0.212125, \"fractionPredictedAsNegative\": 0.787875, \"liftPositive\": 1.6318389918861338, \"liftNegative\": 1.1117652710976125}, {\"accuracy\": 0.665875, \"f1Score\": 0.4512420447546705, \"falseNegativeScore\": 2073, \"trueNegativeScore\": 4228, \"truePositiveScore\": 1099, \"falsePositiveScore\": 600, \"trueNegativeRate\": 0.875724937862469, \"falsePositiveRate\": 0.12427506213753108, \"truePositiveRate\": 0.346469104665826, \"matthewsCorrelationCoefficient\": 0.26575485131035115, \"positivePredictiveValue\": 0.6468510888758093, \"negativePredictiveValue\": 0.6710046024440565, \"threshold\": 0.5272853374481201, \"fractionPredictedAsPositive\": 0.212375, \"fractionPredictedAsNegative\": 0.787625, \"liftPositive\": 1.6314024940121292, \"liftNegative\": 1.1118551821773928}, {\"accuracy\": 0.6655, \"f1Score\": 0.4593939393939394, \"falseNegativeScore\": 2035, \"trueNegativeScore\": 4187, \"truePositiveScore\": 1137, \"falsePositiveScore\": 641, \"trueNegativeRate\": 0.8672328086164043, \"falsePositiveRate\": 0.1327671913835957, \"truePositiveRate\": 0.3584489281210593, \"matthewsCorrelationCoefficient\": 0.2655313195044367, \"positivePredictiveValue\": 0.6394825646794151, \"negativePredictiveValue\": 0.6729347476695596, \"threshold\": 0.521111011505127, \"fractionPredictedAsPositive\": 0.22225, \"fractionPredictedAsNegative\": 0.7777499999999999, \"liftPositive\": 1.6128185742229888, \"liftNegative\": 1.1150534344151775}, {\"accuracy\": 0.66575, \"f1Score\": 0.468389662027833, \"falseNegativeScore\": 1994, \"trueNegativeScore\": 4148, \"truePositiveScore\": 1178, \"falsePositiveScore\": 680, \"trueNegativeRate\": 0.8591549295774648, \"falsePositiveRate\": 0.14084507042253522, \"truePositiveRate\": 0.371374527112232, \"matthewsCorrelationCoefficient\": 0.2670538761344086, \"positivePredictiveValue\": 0.6340150699677072, \"negativePredictiveValue\": 0.6753500488440247, \"threshold\": 0.5149610042572021, \"fractionPredictedAsPositive\": 0.23225, \"fractionPredictedAsNegative\": 0.7677499999999999, \"liftPositive\": 1.599029180246424, \"liftNegative\": 1.1190555904623443}, {\"accuracy\": 0.665625, \"f1Score\": 0.47661905693602036, \"falseNegativeScore\": 1954, \"trueNegativeScore\": 4107, \"truePositiveScore\": 1218, \"falsePositiveScore\": 721, \"trueNegativeRate\": 0.8506628003314002, \"falsePositiveRate\": 0.14933719966859985, \"truePositiveRate\": 0.38398486759142497, \"matthewsCorrelationCoefficient\": 0.2678584896988025, \"positivePredictiveValue\": 0.628158844765343, \"negativePredictiveValue\": 0.6776109552879063, \"threshold\": 0.5080626606941223, \"fractionPredictedAsPositive\": 0.242375, \"fractionPredictedAsNegative\": 0.757625, \"liftPositive\": 1.5842593815014954, \"liftNegative\": 1.122801914313018}, {\"accuracy\": 0.666, \"f1Score\": 0.48536209553158705, \"falseNegativeScore\": 1912, \"trueNegativeScore\": 4068, \"truePositiveScore\": 1260, \"falsePositiveScore\": 760, \"trueNegativeRate\": 0.8425849212924607, \"falsePositiveRate\": 0.15741507870753935, \"truePositiveRate\": 0.39722572509457754, \"matthewsCorrelationCoefficient\": 0.2700178052967173, \"positivePredictiveValue\": 0.6237623762376238, \"negativePredictiveValue\": 0.6802675585284281, \"threshold\": 0.5022439360618591, \"fractionPredictedAsPositive\": 0.2525, \"fractionPredictedAsNegative\": 0.7475, \"liftPositive\": 1.5731711884933763, \"liftNegative\": 1.1272039080835594}, {\"accuracy\": 0.667625, \"f1Score\": 0.4957329793286554, \"falseNegativeScore\": 1865, \"trueNegativeScore\": 4034, \"truePositiveScore\": 1307, \"falsePositiveScore\": 794, \"trueNegativeRate\": 0.8355426677713339, \"falsePositiveRate\": 0.16445733222866613, \"truePositiveRate\": 0.4120428751576293, \"matthewsCorrelationCoefficient\": 0.2752157458235457, \"positivePredictiveValue\": 0.6220847215611613, \"negativePredictiveValue\": 0.6838447194439735, \"threshold\": 0.4960000514984131, \"fractionPredictedAsPositive\": 0.262625, \"fractionPredictedAsNegative\": 0.737375, \"liftPositive\": 1.5689400291580362, \"liftNegative\": 1.1331312666842976}, {\"accuracy\": 0.66775, \"f1Score\": 0.5035487485991782, \"falseNegativeScore\": 1824, \"trueNegativeScore\": 3994, \"truePositiveScore\": 1348, \"falsePositiveScore\": 834, \"trueNegativeRate\": 0.8272576636288318, \"falsePositiveRate\": 0.17274233637116818, \"truePositiveRate\": 0.424968474148802, \"matthewsCorrelationCoefficient\": 0.2770295383124839, \"positivePredictiveValue\": 0.617781851512374, \"negativePredictiveValue\": 0.6864902028188381, \"threshold\": 0.4899618327617645, \"fractionPredictedAsPositive\": 0.27275, \"fractionPredictedAsNegative\": 0.72725, \"liftPositive\": 1.5580878978874502, \"liftNegative\": 1.1375148348282322}, {\"accuracy\": 0.667, \"f1Score\": 0.5097534044902466, \"falseNegativeScore\": 1787, \"trueNegativeScore\": 3951, \"truePositiveScore\": 1385, \"falsePositiveScore\": 877, \"trueNegativeRate\": 0.8183512841756421, \"falsePositiveRate\": 0.1816487158243579, \"truePositiveRate\": 0.4366330390920555, \"matthewsCorrelationCoefficient\": 0.2769728042499754, \"positivePredictiveValue\": 0.612290008841733, \"negativePredictiveValue\": 0.6885674451028233, \"threshold\": 0.4833850562572479, \"fractionPredictedAsPositive\": 0.28275, \"fractionPredictedAsNegative\": 0.7172499999999999, \"liftPositive\": 1.5442370967004615, \"liftNegative\": 1.1409568270137918}, {\"accuracy\": 0.666, \"f1Score\": 0.5145348837209303, \"falseNegativeScore\": 1756, \"trueNegativeScore\": 3912, \"truePositiveScore\": 1416, \"falsePositiveScore\": 916, \"trueNegativeRate\": 0.8102734051367025, \"falsePositiveRate\": 0.18972659486329743, \"truePositiveRate\": 0.44640605296343, \"matthewsCorrelationCoefficient\": 0.2762880746265495, \"positivePredictiveValue\": 0.6072041166380789, \"negativePredictiveValue\": 0.6901905434015526, \"threshold\": 0.47869154810905457, \"fractionPredictedAsPositive\": 0.2915, \"fractionPredictedAsNegative\": 0.7085, \"liftPositive\": 1.5314101302347514, \"liftNegative\": 1.1436463022395236}, {\"accuracy\": 0.665875, \"f1Score\": 0.51532184950136, \"falseNegativeScore\": 1751, \"trueNegativeScore\": 3906, \"truePositiveScore\": 1421, \"falsePositiveScore\": 922, \"trueNegativeRate\": 0.8090306545153273, \"falsePositiveRate\": 0.19096934548467273, \"truePositiveRate\": 0.4479823455233291, \"matthewsCorrelationCoefficient\": 0.27626513343164283, \"positivePredictiveValue\": 0.6064874093043107, \"negativePredictiveValue\": 0.6904719816156973, \"threshold\": 0.4777657985687256, \"fractionPredictedAsPositive\": 0.292875, \"fractionPredictedAsNegative\": 0.707125, \"liftPositive\": 1.529602545534201, \"liftNegative\": 1.1441126455935333}, {\"accuracy\": 0.66575, \"f1Score\": 0.5221586847748392, \"falseNegativeScore\": 1711, \"trueNegativeScore\": 3865, \"truePositiveScore\": 1461, \"falsePositiveScore\": 963, \"trueNegativeRate\": 0.8005385252692626, \"falsePositiveRate\": 0.19946147473073736, \"truePositiveRate\": 0.46059268600252207, \"matthewsCorrelationCoefficient\": 0.27795936636398155, \"positivePredictiveValue\": 0.6027227722772277, \"negativePredictiveValue\": 0.6931492109038737, \"threshold\": 0.4713600277900696, \"fractionPredictedAsPositive\": 0.303, \"fractionPredictedAsNegative\": 0.6970000000000001, \"liftPositive\": 1.5201078745957823, \"liftNegative\": 1.148548816742127}, {\"accuracy\": 0.666125, \"f1Score\": 0.529505020257178, \"falseNegativeScore\": 1669, \"trueNegativeScore\": 3826, \"truePositiveScore\": 1503, \"falsePositiveScore\": 1002, \"trueNegativeRate\": 0.7924606462303231, \"falsePositiveRate\": 0.2075393537696769, \"truePositiveRate\": 0.47383354350567464, \"matthewsCorrelationCoefficient\": 0.2808821865298213, \"positivePredictiveValue\": 0.6, \"negativePredictiveValue\": 0.6962693357597817, \"threshold\": 0.46542108058929443, \"fractionPredictedAsPositive\": 0.313125, \"fractionPredictedAsNegative\": 0.686875, \"liftPositive\": 1.5132408575031526, \"liftNegative\": 1.1537188662133913}, {\"accuracy\": 0.66575, \"f1Score\": 0.5356026398054881, \"falseNegativeScore\": 1630, \"trueNegativeScore\": 3784, \"truePositiveScore\": 1542, \"falsePositiveScore\": 1044, \"trueNegativeRate\": 0.7837613918806959, \"falsePositiveRate\": 0.21623860811930407, \"truePositiveRate\": 0.48612862547288777, \"matthewsCorrelationCoefficient\": 0.28226930587719423, \"positivePredictiveValue\": 0.5962877030162413, \"negativePredictiveValue\": 0.698928703361655, \"threshold\": 0.4607692360877991, \"fractionPredictedAsPositive\": 0.32325, \"fractionPredictedAsNegative\": 0.67675, \"liftPositive\": 1.503878191718137, \"liftNegative\": 1.1581254405329826}, {\"accuracy\": 0.6665, \"f1Score\": 0.5429941760877013, \"falseNegativeScore\": 1587, \"trueNegativeScore\": 3747, \"truePositiveScore\": 1585, \"falsePositiveScore\": 1081, \"trueNegativeRate\": 0.7760977630488816, \"falsePositiveRate\": 0.22390223695111847, \"truePositiveRate\": 0.49968474148802017, \"matthewsCorrelationCoefficient\": 0.2861938870175517, \"positivePredictiveValue\": 0.594523630907727, \"negativePredictiveValue\": 0.7024746906636671, \"threshold\": 0.45427218079566956, \"fractionPredictedAsPositive\": 0.33325, \"fractionPredictedAsNegative\": 0.66675, \"liftPositive\": 1.4994290817344942, \"liftNegative\": 1.1640011444302687}, {\"accuracy\": 0.666375, \"f1Score\": 0.5490792363574928, \"falseNegativeScore\": 1547, \"trueNegativeScore\": 3706, \"truePositiveScore\": 1625, \"falsePositiveScore\": 1122, \"trueNegativeRate\": 0.7676056338028169, \"falsePositiveRate\": 0.2323943661971831, \"truePositiveRate\": 0.5122950819672131, \"matthewsCorrelationCoefficient\": 0.2883508254471778, \"positivePredictiveValue\": 0.5915544230069166, \"negativePredictiveValue\": 0.7055016181229773, \"threshold\": 0.4500778317451477, \"fractionPredictedAsPositive\": 0.343375, \"fractionPredictedAsNegative\": 0.656625, \"liftPositive\": 1.4919405372179486, \"liftNegative\": 1.1690167657381563}, {\"accuracy\": 0.66425, \"f1Score\": 0.5523333333333333, \"falseNegativeScore\": 1515, \"trueNegativeScore\": 3657, \"truePositiveScore\": 1657, \"falsePositiveScore\": 1171, \"trueNegativeRate\": 0.7574565037282519, \"falsePositiveRate\": 0.24254349627174815, \"truePositiveRate\": 0.5223833543505675, \"matthewsCorrelationCoefficient\": 0.2863458091011552, \"positivePredictiveValue\": 0.5859264497878359, \"negativePredictiveValue\": 0.70707656612529, \"threshold\": 0.44431614875793457, \"fractionPredictedAsPositive\": 0.3535, \"fractionPredictedAsNegative\": 0.6465000000000001, \"liftPositive\": 1.4777464055178713, \"liftNegative\": 1.1716264558828335}, {\"accuracy\": 0.665625, \"f1Score\": 0.5601052458477224, \"falseNegativeScore\": 1469, \"trueNegativeScore\": 3622, \"truePositiveScore\": 1703, \"falsePositiveScore\": 1206, \"trueNegativeRate\": 0.7502071251035626, \"falsePositiveRate\": 0.24979287489643745, \"truePositiveRate\": 0.5368852459016393, \"matthewsCorrelationCoefficient\": 0.2919432664631688, \"positivePredictiveValue\": 0.5854245445170162, \"negativePredictiveValue\": 0.7114515812217639, \"threshold\": 0.4395171105861664, \"fractionPredictedAsPositive\": 0.363625, \"fractionPredictedAsNegative\": 0.636375, \"liftPositive\": 1.4764805662472036, \"liftNegative\": 1.1788758595223925}, {\"accuracy\": 0.664, \"f1Score\": 0.563777994157741, \"falseNegativeScore\": 1435, \"trueNegativeScore\": 3575, \"truePositiveScore\": 1737, \"falsePositiveScore\": 1253, \"trueNegativeRate\": 0.7404722452361227, \"falsePositiveRate\": 0.2595277547638774, \"truePositiveRate\": 0.5476040353089533, \"matthewsCorrelationCoefficient\": 0.29127503559902773, \"positivePredictiveValue\": 0.5809364548494983, \"negativePredictiveValue\": 0.7135728542914171, \"threshold\": 0.43421003222465515, \"fractionPredictedAsPositive\": 0.37375, \"fractionPredictedAsNegative\": 0.62625, \"liftPositive\": 1.4651612984854936, \"liftNegative\": 1.1823908107562837}, {\"accuracy\": 0.6625, \"f1Score\": 0.5661953727506427, \"falseNegativeScore\": 1410, \"trueNegativeScore\": 3538, \"truePositiveScore\": 1762, \"falsePositiveScore\": 1290, \"trueNegativeRate\": 0.7328086164043082, \"falsePositiveRate\": 0.2671913835956918, \"truePositiveRate\": 0.5554854981084489, \"matthewsCorrelationCoefficient\": 0.2903212909410435, \"positivePredictiveValue\": 0.5773263433813892, \"negativePredictiveValue\": 0.7150363783346807, \"threshold\": 0.43037527799606323, \"fractionPredictedAsPositive\": 0.3815, \"fractionPredictedAsNegative\": 0.6185, \"liftPositive\": 1.456056351529355, \"liftNegative\": 1.1848158713085013}, {\"accuracy\": 0.6625, \"f1Score\": 0.5674463313040692, \"falseNegativeScore\": 1401, \"trueNegativeScore\": 3529, \"truePositiveScore\": 1771, \"falsePositiveScore\": 1299, \"trueNegativeRate\": 0.7309444904722452, \"falsePositiveRate\": 0.26905550952775475, \"truePositiveRate\": 0.5583228247162674, \"matthewsCorrelationCoefficient\": 0.29097584455447795, \"positivePredictiveValue\": 0.576872964169381, \"negativePredictiveValue\": 0.7158215010141988, \"threshold\": 0.4291752576828003, \"fractionPredictedAsPositive\": 0.38375, \"fractionPredictedAsNegative\": 0.61625, \"liftPositive\": 1.454912898283433, \"liftNegative\": 1.1861168202389374}, {\"accuracy\": 0.659625, \"f1Score\": 0.5693499920923613, \"falseNegativeScore\": 1372, \"trueNegativeScore\": 3477, \"truePositiveScore\": 1800, \"falsePositiveScore\": 1351, \"trueNegativeRate\": 0.7201739850869926, \"falsePositiveRate\": 0.27982601491300746, \"truePositiveRate\": 0.5674653215636822, \"matthewsCorrelationCoefficient\": 0.2879706055343258, \"positivePredictiveValue\": 0.5712472231037766, \"negativePredictiveValue\": 0.7170550628995669, \"threshold\": 0.4246613681316376, \"fractionPredictedAsPositive\": 0.393875, \"fractionPredictedAsNegative\": 0.606125, \"liftPositive\": 1.4407243962264227, \"liftNegative\": 1.188160833304999}, {\"accuracy\": 0.65875, \"f1Score\": 0.5737039350405996, \"falseNegativeScore\": 1335, \"trueNegativeScore\": 3433, \"truePositiveScore\": 1837, \"falsePositiveScore\": 1395, \"trueNegativeRate\": 0.7110604805302403, \"falsePositiveRate\": 0.2889395194697597, \"truePositiveRate\": 0.5791298865069356, \"matthewsCorrelationCoefficient\": 0.2892873295130157, \"positivePredictiveValue\": 0.5683787128712872, \"negativePredictiveValue\": 0.7200083892617449, \"threshold\": 0.4209040403366089, \"fractionPredictedAsPositive\": 0.404, \"fractionPredictedAsNegative\": 0.596, \"liftPositive\": 1.4334898180864744, \"liftNegative\": 1.1930544975339603}, {\"accuracy\": 0.658125, \"f1Score\": 0.5782575173477256, \"falseNegativeScore\": 1297, \"trueNegativeScore\": 3390, \"truePositiveScore\": 1875, \"falsePositiveScore\": 1438, \"trueNegativeRate\": 0.7021541010770506, \"falsePositiveRate\": 0.29784589892294944, \"truePositiveRate\": 0.5911097099621689, \"matthewsCorrelationCoefficient\": 0.291239649271755, \"positivePredictiveValue\": 0.565952309085421, \"negativePredictiveValue\": 0.72327714956262, \"threshold\": 0.4161740839481354, \"fractionPredictedAsPositive\": 0.414125, \"fractionPredictedAsNegative\": 0.5858749999999999, \"liftPositive\": 1.4273702625105196, \"liftNegative\": 1.1984708360606795}, {\"accuracy\": 0.65525, \"f1Score\": 0.579957356076759, \"falseNegativeScore\": 1268, \"trueNegativeScore\": 3338, \"truePositiveScore\": 1904, \"falsePositiveScore\": 1490, \"trueNegativeRate\": 0.6913835956917979, \"falsePositiveRate\": 0.30861640430820214, \"truePositiveRate\": 0.6002522068095839, \"matthewsCorrelationCoefficient\": 0.28865107088963243, \"positivePredictiveValue\": 0.5609899823217442, \"negativePredictiveValue\": 0.724706904038211, \"threshold\": 0.4111804664134979, \"fractionPredictedAsPositive\": 0.42425, \"fractionPredictedAsNegative\": 0.57575, \"liftPositive\": 1.4148549364987246, \"liftNegative\": 1.200839940411286}, {\"accuracy\": 0.65475, \"f1Score\": 0.5844116761962083, \"falseNegativeScore\": 1230, \"trueNegativeScore\": 3296, \"truePositiveScore\": 1942, \"falsePositiveScore\": 1532, \"trueNegativeRate\": 0.6826843413421707, \"falsePositiveRate\": 0.31731565865782935, \"truePositiveRate\": 0.6122320302648171, \"matthewsCorrelationCoefficient\": 0.2910562437714331, \"positivePredictiveValue\": 0.5590097869890616, \"negativePredictiveValue\": 0.7282368537339814, \"threshold\": 0.4067955017089844, \"fractionPredictedAsPositive\": 0.43425, \"fractionPredictedAsNegative\": 0.56575, \"liftPositive\": 1.4098607490266368, \"liftNegative\": 1.2066890699817423}, {\"accuracy\": 0.653625, \"f1Score\": 0.5880778950497993, \"falseNegativeScore\": 1194, \"trueNegativeScore\": 3251, \"truePositiveScore\": 1978, \"falsePositiveScore\": 1577, \"trueNegativeRate\": 0.6733637116818558, \"falsePositiveRate\": 0.3266362883181442, \"truePositiveRate\": 0.6235813366960908, \"matthewsCorrelationCoefficient\": 0.29232813951559655, \"positivePredictiveValue\": 0.5563994374120956, \"negativePredictiveValue\": 0.7313835770528684, \"threshold\": 0.40114545822143555, \"fractionPredictedAsPositive\": 0.444375, \"fractionPredictedAsNegative\": 0.555625, \"liftPositive\": 1.4032772696395854, \"liftNegative\": 1.2119031931281994}, {\"accuracy\": 0.6515, \"f1Score\": 0.5904817861339601, \"falseNegativeScore\": 1162, \"trueNegativeScore\": 3202, \"truePositiveScore\": 2010, \"falsePositiveScore\": 1626, \"trueNegativeRate\": 0.6632145816072909, \"falsePositiveRate\": 0.3367854183927092, \"truePositiveRate\": 0.6336696090794451, \"matthewsCorrelationCoefficient\": 0.2916641047023642, \"positivePredictiveValue\": 0.5528052805280528, \"negativePredictiveValue\": 0.733730522456462, \"threshold\": 0.39742180705070496, \"fractionPredictedAsPositive\": 0.4545, \"fractionPredictedAsNegative\": 0.5455, \"liftPositive\": 1.3942125612309024, \"liftNegative\": 1.2157920836063993}, {\"accuracy\": 0.649375, \"f1Score\": 0.5928291479169691, \"falseNegativeScore\": 1130, \"trueNegativeScore\": 3153, \"truePositiveScore\": 2042, \"falsePositiveScore\": 1675, \"trueNegativeRate\": 0.6530654515327258, \"falsePositiveRate\": 0.34693454846727423, \"truePositiveRate\": 0.6437578814627994, \"matthewsCorrelationCoefficient\": 0.2911239530414205, \"positivePredictiveValue\": 0.5493677697067527, \"negativePredictiveValue\": 0.7361662386177913, \"threshold\": 0.39317113161087036, \"fractionPredictedAsPositive\": 0.464625, \"fractionPredictedAsNegative\": 0.5353749999999999, \"liftPositive\": 1.3855429248594016, \"liftNegative\": 1.2198280673037138}, {\"accuracy\": 0.64775, \"f1Score\": 0.5956958393113343, \"falseNegativeScore\": 1096, \"trueNegativeScore\": 3106, \"truePositiveScore\": 2076, \"falsePositiveScore\": 1722, \"trueNegativeRate\": 0.6433305716652858, \"falsePositiveRate\": 0.35666942833471416, \"truePositiveRate\": 0.6544766708701135, \"matthewsCorrelationCoefficient\": 0.2917292471069364, \"positivePredictiveValue\": 0.5466034755134281, \"negativePredictiveValue\": 0.7391718229414564, \"threshold\": 0.388095498085022, \"fractionPredictedAsPositive\": 0.47475, \"fractionPredictedAsNegative\": 0.52525, \"liftPositive\": 1.3785711866669057, \"liftNegative\": 1.2248083230181548}, {\"accuracy\": 0.64625, \"f1Score\": 0.5985815602836879, \"falseNegativeScore\": 1062, \"trueNegativeScore\": 3060, \"truePositiveScore\": 2110, \"falsePositiveScore\": 1768, \"trueNegativeRate\": 0.6338028169014085, \"falsePositiveRate\": 0.36619718309859156, \"truePositiveRate\": 0.6651954602774275, \"matthewsCorrelationCoefficient\": 0.29265841075097043, \"positivePredictiveValue\": 0.5440948942753997, \"negativePredictiveValue\": 0.74235807860262, \"threshold\": 0.3838667571544647, \"fractionPredictedAsPositive\": 0.48475, \"fractionPredictedAsNegative\": 0.51525, \"liftPositive\": 1.372244373960655, \"liftNegative\": 1.2300879512885172}, {\"accuracy\": 0.646, \"f1Score\": 0.6, \"falseNegativeScore\": 1048, \"trueNegativeScore\": 3044, \"truePositiveScore\": 2124, \"falsePositiveScore\": 1784, \"trueNegativeRate\": 0.6304888152444076, \"falsePositiveRate\": 0.36951118475559236, \"truePositiveRate\": 0.669609079445145, \"matthewsCorrelationCoefficient\": 0.2936757446778433, \"positivePredictiveValue\": 0.5435005117707267, \"negativePredictiveValue\": 0.7438905180840665, \"threshold\": 0.3821476101875305, \"fractionPredictedAsPositive\": 0.4885, \"fractionPredictedAsNegative\": 0.5115000000000001, \"liftPositive\": 1.3707453008088946, \"liftNegative\": 1.2326272047789002}, {\"accuracy\": 0.645375, \"f1Score\": 0.6021595849109522, \"falseNegativeScore\": 1025, \"trueNegativeScore\": 3016, \"truePositiveScore\": 2147, \"falsePositiveScore\": 1812, \"trueNegativeRate\": 0.6246893123446562, \"falsePositiveRate\": 0.3753106876553438, \"truePositiveRate\": 0.676860025220681, \"matthewsCorrelationCoefficient\": 0.2950335620479979, \"positivePredictiveValue\": 0.5423086638039909, \"negativePredictiveValue\": 0.7463499133877753, \"threshold\": 0.3794451057910919, \"fractionPredictedAsPositive\": 0.494875, \"fractionPredictedAsNegative\": 0.505125, \"liftPositive\": 1.3677393790769001, \"liftNegative\": 1.236702424834756}, {\"accuracy\": 0.6405, \"f1Score\": 0.6012201885745979, \"falseNegativeScore\": 1004, \"trueNegativeScore\": 2956, \"truePositiveScore\": 2168, \"falsePositiveScore\": 1872, \"trueNegativeRate\": 0.6122618061309031, \"falsePositiveRate\": 0.3877381938690969, \"truePositiveRate\": 0.6834804539722572, \"matthewsCorrelationCoefficient\": 0.2893512294440784, \"positivePredictiveValue\": 0.5366336633663367, \"negativePredictiveValue\": 0.7464646464646465, \"threshold\": 0.37450075149536133, \"fractionPredictedAsPositive\": 0.505, \"fractionPredictedAsNegative\": 0.495, \"liftPositive\": 1.3534266415292222, \"liftNegative\": 1.236892537638188}, {\"accuracy\": 0.638375, \"f1Score\": 0.6033182503770739, \"falseNegativeScore\": 972, \"trueNegativeScore\": 2907, \"truePositiveScore\": 2200, \"falsePositiveScore\": 1921, \"trueNegativeRate\": 0.602112676056338, \"falsePositiveRate\": 0.397887323943662, \"truePositiveRate\": 0.6935687263556116, \"matthewsCorrelationCoefficient\": 0.2894096662218942, \"positivePredictiveValue\": 0.533851007037127, \"negativePredictiveValue\": 0.7494199535962877, \"threshold\": 0.3701070547103882, \"fractionPredictedAsPositive\": 0.515125, \"fractionPredictedAsNegative\": 0.48487499999999994, \"liftPositive\": 1.346408592779639, \"liftNegative\": 1.2417894840037909}, {\"accuracy\": 0.633875, \"f1Score\": 0.6027397260273972, \"falseNegativeScore\": 950, \"trueNegativeScore\": 2849, \"truePositiveScore\": 2222, \"falsePositiveScore\": 1979, \"trueNegativeRate\": 0.59009942004971, \"falsePositiveRate\": 0.40990057995029, \"truePositiveRate\": 0.7005044136191677, \"matthewsCorrelationCoefficient\": 0.28466925956191036, \"positivePredictiveValue\": 0.5289216853130208, \"negativePredictiveValue\": 0.7499341932087391, \"threshold\": 0.36670324206352234, \"fractionPredictedAsPositive\": 0.525125, \"fractionPredictedAsNegative\": 0.47487500000000005, \"liftPositive\": 1.3339765077251469, \"liftNegative\": 1.2426415794676704}, {\"accuracy\": 0.62975, \"f1Score\": 0.6026294606922458, \"falseNegativeScore\": 926, \"trueNegativeScore\": 2792, \"truePositiveScore\": 2246, \"falsePositiveScore\": 2036, \"trueNegativeRate\": 0.5782932891466446, \"falsePositiveRate\": 0.4217067108533554, \"truePositiveRate\": 0.7080706179066835, \"matthewsCorrelationCoefficient\": 0.280860377340435, \"positivePredictiveValue\": 0.524521251751518, \"negativePredictiveValue\": 0.7509413663259817, \"threshold\": 0.3630389869213104, \"fractionPredictedAsPositive\": 0.53525, \"fractionPredictedAsNegative\": 0.46475, \"liftPositive\": 1.3228783146318233, \"liftNegative\": 1.2443104661573847}, {\"accuracy\": 0.627875, \"f1Score\": 0.6049104180491042, \"falseNegativeScore\": 893, \"trueNegativeScore\": 2744, \"truePositiveScore\": 2279, \"falsePositiveScore\": 2084, \"trueNegativeRate\": 0.5683512841756421, \"falsePositiveRate\": 0.43164871582435793, \"truePositiveRate\": 0.7184741488020177, \"matthewsCorrelationCoefficient\": 0.28177575418310336, \"positivePredictiveValue\": 0.5223470089388036, \"negativePredictiveValue\": 0.7544679681055815, \"threshold\": 0.3597862720489502, \"fractionPredictedAsPositive\": 0.545375, \"fractionPredictedAsNegative\": 0.45462499999999995, \"liftPositive\": 1.31739472620127, \"liftNegative\": 1.2501540482279727}, {\"accuracy\": 0.62625, \"f1Score\": 0.6074054621848739, \"falseNegativeScore\": 859, \"trueNegativeScore\": 2697, \"truePositiveScore\": 2313, \"falsePositiveScore\": 2131, \"trueNegativeRate\": 0.5586164043082021, \"falsePositiveRate\": 0.44138359569179786, \"truePositiveRate\": 0.7291929382093316, \"matthewsCorrelationCoefficient\": 0.28332650614178023, \"positivePredictiveValue\": 0.5204770477047704, \"negativePredictiveValue\": 0.7584364454443194, \"threshold\": 0.355816513299942, \"fractionPredictedAsPositive\": 0.5555, \"fractionPredictedAsNegative\": 0.4445, \"liftPositive\": 1.3126785566324601, \"liftNegative\": 1.2567298184661466}, {\"accuracy\": 0.624875, \"f1Score\": 0.6101078342211251, \"falseNegativeScore\": 824, \"trueNegativeScore\": 2651, \"truePositiveScore\": 2348, \"falsePositiveScore\": 2177, \"trueNegativeRate\": 0.5490886495443248, \"falsePositiveRate\": 0.4509113504556752, \"truePositiveRate\": 0.7402269861286255, \"matthewsCorrelationCoefficient\": 0.2855192728757656, \"positivePredictiveValue\": 0.5188950276243094, \"negativePredictiveValue\": 0.7628776978417267, \"threshold\": 0.3513457179069519, \"fractionPredictedAsPositive\": 0.565625, \"fractionPredictedAsNegative\": 0.43437499999999996, \"liftPositive\": 1.3086885942605533, \"liftNegative\": 1.2640889773682298}, {\"accuracy\": 0.620875, \"f1Score\": 0.61000385752861, \"falseNegativeScore\": 800, \"trueNegativeScore\": 2595, \"truePositiveScore\": 2372, \"falsePositiveScore\": 2233, \"trueNegativeRate\": 0.5374896437448219, \"falsePositiveRate\": 0.4625103562551781, \"truePositiveRate\": 0.7477931904161412, \"matthewsCorrelationCoefficient\": 0.2823521856108239, \"positivePredictiveValue\": 0.5150922909880564, \"negativePredictiveValue\": 0.7643593519882179, \"threshold\": 0.34741830825805664, \"fractionPredictedAsPositive\": 0.575625, \"fractionPredictedAsNegative\": 0.42437499999999995, \"liftPositive\": 1.2990978335133831, \"liftNegative\": 1.266544079516517}, {\"accuracy\": 0.6175, \"f1Score\": 0.6105879358615424, \"falseNegativeScore\": 773, \"trueNegativeScore\": 2541, \"truePositiveScore\": 2399, \"falsePositiveScore\": 2287, \"trueNegativeRate\": 0.526304888152444, \"falsePositiveRate\": 0.4736951118475559, \"truePositiveRate\": 0.7563051702395964, \"matthewsCorrelationCoefficient\": 0.2806470235867843, \"positivePredictiveValue\": 0.5119504908237302, \"negativePredictiveValue\": 0.7667471333735667, \"threshold\": 0.3432773947715759, \"fractionPredictedAsPositive\": 0.58575, \"fractionPredictedAsNegative\": 0.41425, \"liftPositive\": 1.2911739995554357, \"liftNegative\": 1.2705006352503174}, {\"accuracy\": 0.613375, \"f1Score\": 0.6104043330394257, \"falseNegativeScore\": 749, \"trueNegativeScore\": 2484, \"truePositiveScore\": 2423, \"falsePositiveScore\": 2344, \"trueNegativeRate\": 0.5144987572493787, \"falsePositiveRate\": 0.4855012427506214, \"truePositiveRate\": 0.7638713745271122, \"matthewsCorrelationCoefficient\": 0.2774900574235104, \"positivePredictiveValue\": 0.5082861338367947, \"negativePredictiveValue\": 0.7683266316115064, \"threshold\": 0.3396211266517639, \"fractionPredictedAsPositive\": 0.595875, \"fractionPredictedAsNegative\": 0.40412499999999996, \"liftPositive\": 1.2819322417069219, \"liftNegative\": 1.2731178651391988}, {\"accuracy\": 0.611, \"f1Score\": 0.6119700748129676, \"falseNegativeScore\": 718, \"trueNegativeScore\": 2434, \"truePositiveScore\": 2454, \"falsePositiveScore\": 2394, \"trueNegativeRate\": 0.504142502071251, \"falsePositiveRate\": 0.49585749792874895, \"truePositiveRate\": 0.7736443883984867, \"matthewsCorrelationCoefficient\": 0.278091398654568, \"positivePredictiveValue\": 0.5061881188118812, \"negativePredictiveValue\": 0.7722081218274112, \"threshold\": 0.334333211183548, \"fractionPredictedAsPositive\": 0.606, \"fractionPredictedAsNegative\": 0.394, \"liftPositive\": 1.2766409049479979, \"liftNegative\": 1.279549497642769}, {\"accuracy\": 0.610875, \"f1Score\": 0.6120872274143302, \"falseNegativeScore\": 716, \"trueNegativeScore\": 2431, \"truePositiveScore\": 2456, \"falsePositiveScore\": 2397, \"trueNegativeRate\": 0.5035211267605634, \"falsePositiveRate\": 0.4964788732394366, \"truePositiveRate\": 0.7742749054224464, \"matthewsCorrelationCoefficient\": 0.27817797493819957, \"positivePredictiveValue\": 0.5060787141974037, \"negativePredictiveValue\": 0.7724817286304417, \"threshold\": 0.3337787687778473, \"fractionPredictedAsPositive\": 0.606625, \"fractionPredictedAsNegative\": 0.39337500000000003, \"liftPositive\": 1.2763649790602867, \"liftNegative\": 1.280002864342074}, {\"accuracy\": 0.607875, \"f1Score\": 0.6127638563140353, \"falseNegativeScore\": 690, \"trueNegativeScore\": 2381, \"truePositiveScore\": 2482, \"falsePositiveScore\": 2447, \"trueNegativeRate\": 0.49316487158243577, \"falsePositiveRate\": 0.5068351284175642, \"truePositiveRate\": 0.7824716267339218, \"matthewsCorrelationCoefficient\": 0.2772474923574611, \"positivePredictiveValue\": 0.5035504159058632, \"negativePredictiveValue\": 0.7753174861608596, \"threshold\": 0.3298187255859375, \"fractionPredictedAsPositive\": 0.616125, \"fractionPredictedAsNegative\": 0.38387499999999997, \"liftPositive\": 1.2699884386024294, \"liftNegative\": 1.284701716919403}, {\"accuracy\": 0.604125, \"f1Score\": 0.6128835105732795, \"falseNegativeScore\": 665, \"trueNegativeScore\": 2326, \"truePositiveScore\": 2507, \"falsePositiveScore\": 2502, \"trueNegativeRate\": 0.48177299088649544, \"falsePositiveRate\": 0.5182270091135046, \"truePositiveRate\": 0.7903530895334174, \"matthewsCorrelationCoefficient\": 0.27512918647139895, \"positivePredictiveValue\": 0.5004991016170892, \"negativePredictiveValue\": 0.7776663323303243, \"threshold\": 0.32613420486450195, \"fractionPredictedAsPositive\": 0.626125, \"fractionPredictedAsNegative\": 0.37387499999999996, \"liftPositive\": 1.262292816184336, \"liftNegative\": 1.288593756968226}, {\"accuracy\": 0.60125, \"f1Score\": 0.6138949406923263, \"falseNegativeScore\": 636, \"trueNegativeScore\": 2274, \"truePositiveScore\": 2536, \"falsePositiveScore\": 2554, \"trueNegativeRate\": 0.47100248550124274, \"falsePositiveRate\": 0.5289975144987572, \"truePositiveRate\": 0.7994955863808323, \"matthewsCorrelationCoefficient\": 0.2750483273141322, \"positivePredictiveValue\": 0.49823182711198427, \"negativePredictiveValue\": 0.7814432989690722, \"threshold\": 0.32145053148269653, \"fractionPredictedAsPositive\": 0.63625, \"fractionPredictedAsNegative\": 0.36375, \"liftPositive\": 1.2565745954905025, \"liftNegative\": 1.2948521938178494}, {\"accuracy\": 0.596375, \"f1Score\": 0.6129689560110272, \"falseNegativeScore\": 615, \"trueNegativeScore\": 2214, \"truePositiveScore\": 2557, \"falsePositiveScore\": 2614, \"trueNegativeRate\": 0.45857497928748964, \"falsePositiveRate\": 0.5414250207125103, \"truePositiveRate\": 0.8061160151324086, \"matthewsCorrelationCoefficient\": 0.2708230613396041, \"positivePredictiveValue\": 0.49448849352156254, \"negativePredictiveValue\": 0.782608695652174, \"threshold\": 0.3175015151500702, \"fractionPredictedAsPositive\": 0.646375, \"fractionPredictedAsNegative\": 0.35362499999999997, \"liftPositive\": 1.247133653270019, \"liftNegative\": 1.2967832570872808}, {\"accuracy\": 0.59175, \"f1Score\": 0.612298195631529, \"falseNegativeScore\": 593, \"trueNegativeScore\": 2155, \"truePositiveScore\": 2579, \"falsePositiveScore\": 2673, \"trueNegativeRate\": 0.4463545981772991, \"falsePositiveRate\": 0.5536454018227009, \"truePositiveRate\": 0.8130517023959647, \"matthewsCorrelationCoefficient\": 0.26721449787818086, \"positivePredictiveValue\": 0.49105102817974106, \"negativePredictiveValue\": 0.7842066957787481, \"threshold\": 0.31332850456237793, \"fractionPredictedAsPositive\": 0.6565, \"fractionPredictedAsNegative\": 0.3435, \"liftPositive\": 1.2384641316008602, \"liftNegative\": 1.299431144620958}, {\"accuracy\": 0.586125, \"f1Score\": 0.6106995884773663, \"falseNegativeScore\": 575, \"trueNegativeScore\": 2092, \"truePositiveScore\": 2597, \"falsePositiveScore\": 2736, \"trueNegativeRate\": 0.43330571665285833, \"falsePositiveRate\": 0.5666942833471417, \"truePositiveRate\": 0.8187263556116016, \"matthewsCorrelationCoefficient\": 0.26152230216616895, \"positivePredictiveValue\": 0.4869679354959685, \"negativePredictiveValue\": 0.7844019497562804, \"threshold\": 0.3085874319076538, \"fractionPredictedAsPositive\": 0.666625, \"fractionPredictedAsNegative\": 0.333375, \"liftPositive\": 1.2281662938107656, \"liftNegative\": 1.2997546806234972}, {\"accuracy\": 0.581625, \"f1Score\": 0.6101339545719278, \"falseNegativeScore\": 553, \"trueNegativeScore\": 2034, \"truePositiveScore\": 2619, \"falsePositiveScore\": 2794, \"trueNegativeRate\": 0.4212924606462303, \"falsePositiveRate\": 0.5787075393537697, \"truePositiveRate\": 0.8256620428751577, \"matthewsCorrelationCoefficient\": 0.2582557160104254, \"positivePredictiveValue\": 0.48383521152780345, \"negativePredictiveValue\": 0.7862388867413993, \"threshold\": 0.304436594247818, \"fractionPredictedAsPositive\": 0.676625, \"fractionPredictedAsNegative\": 0.32337499999999997, \"liftPositive\": 1.2202653506375876, \"liftNegative\": 1.3027984867297422}, {\"accuracy\": 0.57775, \"f1Score\": 0.6102007846757442, \"falseNegativeScore\": 528, \"trueNegativeScore\": 1978, \"truePositiveScore\": 2644, \"falsePositiveScore\": 2850, \"trueNegativeRate\": 0.4096934548467274, \"falsePositiveRate\": 0.5903065451532725, \"truePositiveRate\": 0.8335435056746532, \"matthewsCorrelationCoefficient\": 0.25653399650363556, \"positivePredictiveValue\": 0.48125227520931924, \"negativePredictiveValue\": 0.7893056664006385, \"threshold\": 0.29991018772125244, \"fractionPredictedAsPositive\": 0.68675, \"fractionPredictedAsNegative\": 0.31325000000000003, \"liftPositive\": 1.2137510093551558, \"liftNegative\": 1.3078801431659295}, {\"accuracy\": 0.572875, \"f1Score\": 0.6093517777523723, \"falseNegativeScore\": 507, \"trueNegativeScore\": 1918, \"truePositiveScore\": 2665, \"falsePositiveScore\": 2910, \"trueNegativeRate\": 0.3972659486329743, \"falsePositiveRate\": 0.6027340513670257, \"truePositiveRate\": 0.8401639344262295, \"matthewsCorrelationCoefficient\": 0.25270119246973927, \"positivePredictiveValue\": 0.4780269058295964, \"negativePredictiveValue\": 0.7909278350515464, \"threshold\": 0.29594090580940247, \"fractionPredictedAsPositive\": 0.696875, \"fractionPredictedAsNegative\": 0.303125, \"liftPositive\": 1.205616408145262, \"liftNegative\": 1.3105680779644515}, {\"accuracy\": 0.56825, \"f1Score\": 0.6087449025826914, \"falseNegativeScore\": 485, \"trueNegativeScore\": 1859, \"truePositiveScore\": 2687, \"falsePositiveScore\": 2969, \"trueNegativeRate\": 0.38504556752278374, \"falsePositiveRate\": 0.6149544324772163, \"truePositiveRate\": 0.8470996216897856, \"matthewsCorrelationCoefficient\": 0.2495033631965092, \"positivePredictiveValue\": 0.47507072135785006, \"negativePredictiveValue\": 0.7930887372013652, \"threshold\": 0.29191410541534424, \"fractionPredictedAsPositive\": 0.707, \"fractionPredictedAsNegative\": 0.29300000000000004, \"liftPositive\": 1.1981607096036573, \"liftNegative\": 1.3141486946170091}, {\"accuracy\": 0.561875, \"f1Score\": 0.6065776181389606, \"falseNegativeScore\": 470, \"trueNegativeScore\": 1793, \"truePositiveScore\": 2702, \"falsePositiveScore\": 3035, \"trueNegativeRate\": 0.37137531068765534, \"falsePositiveRate\": 0.6286246893123446, \"truePositiveRate\": 0.851828499369483, \"matthewsCorrelationCoefficient\": 0.24241926033793743, \"positivePredictiveValue\": 0.4709778629945965, \"negativePredictiveValue\": 0.792311091471498, \"threshold\": 0.28703707456588745, \"fractionPredictedAsPositive\": 0.717125, \"fractionPredictedAsNegative\": 0.282875, \"liftPositive\": 1.1878382421049092, \"liftNegative\": 1.3128601349983398}, {\"accuracy\": 0.559375, \"f1Score\": 0.6056605884327106, \"falseNegativeScore\": 465, \"trueNegativeScore\": 1768, \"truePositiveScore\": 2707, \"falsePositiveScore\": 3060, \"trueNegativeRate\": 0.36619718309859156, \"falsePositiveRate\": 0.6338028169014085, \"truePositiveRate\": 0.8534047919293821, \"matthewsCorrelationCoefficient\": 0.23947882823877745, \"positivePredictiveValue\": 0.46939483266863186, \"negativePredictiveValue\": 0.7917599641737573, \"threshold\": 0.2855372726917267, \"fractionPredictedAsPositive\": 0.720875, \"fractionPredictedAsNegative\": 0.27912499999999996, \"liftPositive\": 1.1838457318250488, \"liftNegative\": 1.3119469166093745}, {\"accuracy\": 0.557125, \"f1Score\": 0.6058515963955946, \"falseNegativeScore\": 449, \"trueNegativeScore\": 1734, \"truePositiveScore\": 2723, \"falsePositiveScore\": 3094, \"trueNegativeRate\": 0.3591549295774648, \"falsePositiveRate\": 0.6408450704225352, \"truePositiveRate\": 0.8584489281210592, \"matthewsCorrelationCoefficient\": 0.23896836412070083, \"positivePredictiveValue\": 0.4681107099879663, \"negativePredictiveValue\": 0.7943197434722858, \"threshold\": 0.28306570649147034, \"fractionPredictedAsPositive\": 0.727125, \"fractionPredictedAsNegative\": 0.272875, \"liftPositive\": 1.1806070869809995, \"liftNegative\": 1.3161884730278144}, {\"accuracy\": 0.5525, \"f1Score\": 0.6052921719955898, \"falseNegativeScore\": 427, \"trueNegativeScore\": 1675, \"truePositiveScore\": 2745, \"falsePositiveScore\": 3153, \"trueNegativeRate\": 0.34693454846727423, \"falsePositiveRate\": 0.6530654515327258, \"truePositiveRate\": 0.8653846153846154, \"matthewsCorrelationCoefficient\": 0.235977543185815, \"positivePredictiveValue\": 0.465412004069176, \"negativePredictiveValue\": 0.79686013320647, \"threshold\": 0.2773486077785492, \"fractionPredictedAsPositive\": 0.73725, \"fractionPredictedAsNegative\": 0.26275000000000004, \"liftPositive\": 1.1738007668831678, \"liftNegative\": 1.320397900922071}, {\"accuracy\": 0.548625, \"f1Score\": 0.6053983171238116, \"falseNegativeScore\": 402, \"trueNegativeScore\": 1619, \"truePositiveScore\": 2770, \"falsePositiveScore\": 3209, \"trueNegativeRate\": 0.3353355426677713, \"falsePositiveRate\": 0.6646644573322287, \"truePositiveRate\": 0.873266078184111, \"matthewsCorrelationCoefficient\": 0.23483913128795303, \"positivePredictiveValue\": 0.4632881752801472, \"negativePredictiveValue\": 0.8010885700148441, \"threshold\": 0.2721276581287384, \"fractionPredictedAsPositive\": 0.747375, \"fractionPredictedAsNegative\": 0.252625, \"liftPositive\": 1.1684443260533346, \"liftNegative\": 1.3274044242168088}, {\"accuracy\": 0.54275, \"f1Score\": 0.6037694974003466, \"falseNegativeScore\": 385, \"trueNegativeScore\": 1555, \"truePositiveScore\": 2787, \"falsePositiveScore\": 3273, \"trueNegativeRate\": 0.322079536039768, \"falsePositiveRate\": 0.677920463960232, \"truePositiveRate\": 0.8786254728877679, \"matthewsCorrelationCoefficient\": 0.22907160258007478, \"positivePredictiveValue\": 0.4599009900990099, \"negativePredictiveValue\": 0.8015463917525774, \"threshold\": 0.26778900623321533, \"fractionPredictedAsPositive\": 0.7575, \"fractionPredictedAsNegative\": 0.24250000000000005, \"liftPositive\": 1.159901614373291, \"liftNegative\": 1.328163035215538}, {\"accuracy\": 0.541125, \"f1Score\": 0.6058198217545366, \"falseNegativeScore\": 351, \"trueNegativeScore\": 1508, \"truePositiveScore\": 2821, \"falsePositiveScore\": 3320, \"trueNegativeRate\": 0.3123446561723281, \"falsePositiveRate\": 0.6876553438276719, \"truePositiveRate\": 0.889344262295082, \"matthewsCorrelationCoefficient\": 0.23360009420860534, \"positivePredictiveValue\": 0.4593714378765673, \"negativePredictiveValue\": 0.8111888111888111, \"threshold\": 0.2634168565273285, \"fractionPredictedAsPositive\": 0.767625, \"fractionPredictedAsNegative\": 0.232375, \"liftPositive\": 1.1585660476079882, \"liftNegative\": 1.3441405322101263}, {\"accuracy\": 0.536875, \"f1Score\": 0.605557329926541, \"falseNegativeScore\": 328, \"trueNegativeScore\": 1451, \"truePositiveScore\": 2844, \"falsePositiveScore\": 3377, \"trueNegativeRate\": 0.3005385252692626, \"falsePositiveRate\": 0.6994614747307374, \"truePositiveRate\": 0.8965952080706179, \"matthewsCorrelationCoefficient\": 0.2318959116388345, \"positivePredictiveValue\": 0.45716122809837645, \"negativePredictiveValue\": 0.8156267566048342, \"threshold\": 0.2589643895626068, \"fractionPredictedAsPositive\": 0.777625, \"fractionPredictedAsNegative\": 0.222375, \"liftPositive\": 1.1529917480413026, \"liftNegative\": 1.351494211441316}, {\"accuracy\": 0.53075, \"f1Score\": 0.6037576525226936, \"falseNegativeScore\": 312, \"trueNegativeScore\": 1386, \"truePositiveScore\": 2860, \"falsePositiveScore\": 3442, \"trueNegativeRate\": 0.2870753935376968, \"falsePositiveRate\": 0.7129246064623033, \"truePositiveRate\": 0.9016393442622951, \"matthewsCorrelationCoefficient\": 0.22576051944293324, \"positivePredictiveValue\": 0.4538241827991114, \"negativePredictiveValue\": 0.8162544169611308, \"threshold\": 0.25434383749961853, \"fractionPredictedAsPositive\": 0.78775, \"fractionPredictedAsNegative\": 0.21225000000000005, \"liftPositive\": 1.1445754925576581, \"liftNegative\": 1.352534245171716}, {\"accuracy\": 0.525875, \"f1Score\": 0.6030350601779173, \"falseNegativeScore\": 291, \"trueNegativeScore\": 1326, \"truePositiveScore\": 2881, \"falsePositiveScore\": 3502, \"trueNegativeRate\": 0.2746478873239437, \"falsePositiveRate\": 0.7253521126760564, \"truePositiveRate\": 0.9082597730138714, \"matthewsCorrelationCoefficient\": 0.22279974137219763, \"positivePredictiveValue\": 0.4513551621494595, \"negativePredictiveValue\": 0.8200371057513914, \"threshold\": 0.24941809475421906, \"fractionPredictedAsPositive\": 0.797875, \"fractionPredictedAsNegative\": 0.202125, \"liftPositive\": 1.1383484543492044, \"liftNegative\": 1.3588021636311376}, {\"accuracy\": 0.51975, \"f1Score\": 0.6012868410128684, \"falseNegativeScore\": 275, \"trueNegativeScore\": 1261, \"truePositiveScore\": 2897, \"falsePositiveScore\": 3567, \"trueNegativeRate\": 0.2611847555923778, \"falsePositiveRate\": 0.7388152444076223, \"truePositiveRate\": 0.9133039092055486, \"matthewsCorrelationCoefficient\": 0.21670611066730583, \"positivePredictiveValue\": 0.44817450495049505, \"negativePredictiveValue\": 0.8209635416666666, \"threshold\": 0.24451860785484314, \"fractionPredictedAsPositive\": 0.808, \"fractionPredictedAsNegative\": 0.19199999999999995, \"liftPositive\": 1.1303266203038966, \"liftNegative\": 1.3603372687103015}, {\"accuracy\": 0.514375, \"f1Score\": 0.6001852423587527, \"falseNegativeScore\": 256, \"trueNegativeScore\": 1199, \"truePositiveScore\": 2916, \"falsePositiveScore\": 3629, \"trueNegativeRate\": 0.24834299917149957, \"falsePositiveRate\": 0.7516570008285004, \"truePositiveRate\": 0.9192938209331651, \"matthewsCorrelationCoefficient\": 0.21258534001021664, \"positivePredictiveValue\": 0.4455309396485867, \"negativePredictiveValue\": 0.8240549828178694, \"threshold\": 0.23939473927021027, \"fractionPredictedAsPositive\": 0.818125, \"fractionPredictedAsNegative\": 0.181875, \"liftPositive\": 1.1236593685966878, \"liftNegative\": 1.365459789259104}, {\"accuracy\": 0.510625, \"f1Score\": 0.5989140456920398, \"falseNegativeScore\": 249, \"trueNegativeScore\": 1162, \"truePositiveScore\": 2923, \"falsePositiveScore\": 3666, \"trueNegativeRate\": 0.24067937033968517, \"falsePositiveRate\": 0.7593206296603149, \"truePositiveRate\": 0.9215006305170239, \"matthewsCorrelationCoefficient\": 0.20814896596762245, \"positivePredictiveValue\": 0.4436181514645621, \"negativePredictiveValue\": 0.8235294117647058, \"threshold\": 0.23718662559986115, \"fractionPredictedAsPositive\": 0.823625, \"fractionPredictedAsNegative\": 0.17637499999999995, \"liftPositive\": 1.1188351865436623, \"liftNegative\": 1.3645889175885768}, {\"accuracy\": 0.509875, \"f1Score\": 0.5997754414616719, \"falseNegativeScore\": 234, \"trueNegativeScore\": 1141, \"truePositiveScore\": 2938, \"falsePositiveScore\": 3687, \"trueNegativeRate\": 0.23632974316487157, \"falsePositiveRate\": 0.7636702568351285, \"truePositiveRate\": 0.9262295081967213, \"matthewsCorrelationCoefficient\": 0.21077428279167804, \"positivePredictiveValue\": 0.4434716981132075, \"negativePredictiveValue\": 0.8298181818181818, \"threshold\": 0.23505260050296783, \"fractionPredictedAsPositive\": 0.828125, \"fractionPredictedAsNegative\": 0.171875, \"liftPositive\": 1.1184658212186824, \"liftNegative\": 1.3750094147774345}, {\"accuracy\": 0.50475, \"f1Score\": 0.5989066612674631, \"falseNegativeScore\": 214, \"trueNegativeScore\": 1080, \"truePositiveScore\": 2958, \"falsePositiveScore\": 3748, \"trueNegativeRate\": 0.22369511184755592, \"falsePositiveRate\": 0.776304888152444, \"truePositiveRate\": 0.9325346784363178, \"matthewsCorrelationCoefficient\": 0.20754637724873448, \"positivePredictiveValue\": 0.4410975246048315, \"negativePredictiveValue\": 0.8346213292117465, \"threshold\": 0.2297518104314804, \"fractionPredictedAsPositive\": 0.83825, \"fractionPredictedAsNegative\": 0.16174999999999995, \"liftPositive\": 1.1124779939592218, \"liftNegative\": 1.3829682339879814}, {\"accuracy\": 0.501125, \"f1Score\": 0.5992569535093885, \"falseNegativeScore\": 188, \"trueNegativeScore\": 1025, \"truePositiveScore\": 2984, \"falsePositiveScore\": 3803, \"trueNegativeRate\": 0.21230323115161556, \"falsePositiveRate\": 0.7876967688483845, \"truePositiveRate\": 0.9407313997477932, \"matthewsCorrelationCoefficient\": 0.20872314759680116, \"positivePredictiveValue\": 0.43966406365109767, \"negativePredictiveValue\": 0.8450123660346249, \"threshold\": 0.2247277796268463, \"fractionPredictedAsPositive\": 0.848375, \"fractionPredictedAsNegative\": 0.151625, \"liftPositive\": 1.1088627078211795, \"liftNegative\": 1.4001861906124686}, {\"accuracy\": 0.49425, \"f1Score\": 0.597011952191235, \"falseNegativeScore\": 175, \"trueNegativeScore\": 957, \"truePositiveScore\": 2997, \"falsePositiveScore\": 3871, \"trueNegativeRate\": 0.19821872410936206, \"falsePositiveRate\": 0.801781275890638, \"truePositiveRate\": 0.944829760403531, \"matthewsCorrelationCoefficient\": 0.2007682920895284, \"positivePredictiveValue\": 0.436371578334304, \"negativePredictiveValue\": 0.8454063604240283, \"threshold\": 0.21881221234798431, \"fractionPredictedAsPositive\": 0.8585, \"fractionPredictedAsNegative\": 0.14149999999999996, \"liftPositive\": 1.1005588356476772, \"liftNegative\": 1.400839039642135}, {\"accuracy\": 0.4875, \"f1Score\": 0.5949417111242837, \"falseNegativeScore\": 161, \"trueNegativeScore\": 889, \"truePositiveScore\": 3011, \"falsePositiveScore\": 3939, \"trueNegativeRate\": 0.18413421706710853, \"falsePositiveRate\": 0.8158657829328915, \"truePositiveRate\": 0.9492433795712484, \"matthewsCorrelationCoefficient\": 0.19321732076776635, \"positivePredictiveValue\": 0.43323741007194244, \"negativePredictiveValue\": 0.8466666666666667, \"threshold\": 0.21292400360107422, \"fractionPredictedAsPositive\": 0.86875, \"fractionPredictedAsNegative\": 0.13124999999999998, \"liftPositive\": 1.092654249866185, \"liftNegative\": 1.402927368130351}, {\"accuracy\": 0.4815, \"f1Score\": 0.5934130562634777, \"falseNegativeScore\": 145, \"trueNegativeScore\": 825, \"truePositiveScore\": 3027, \"falsePositiveScore\": 4003, \"trueNegativeRate\": 0.17087821043910523, \"falsePositiveRate\": 0.8291217895608948, \"truePositiveRate\": 0.9542875157629256, \"matthewsCorrelationCoefficient\": 0.18757377283438922, \"positivePredictiveValue\": 0.4305832147937411, \"negativePredictiveValue\": 0.8505154639175257, \"threshold\": 0.20721884071826935, \"fractionPredictedAsPositive\": 0.87875, \"fractionPredictedAsNegative\": 0.12124999999999997, \"liftPositive\": 1.0859601886349082, \"liftNegative\": 1.4093048283637548}, {\"accuracy\": 0.475375, \"f1Score\": 0.5918506272488573, \"falseNegativeScore\": 129, \"trueNegativeScore\": 760, \"truePositiveScore\": 3043, \"falsePositiveScore\": 4068, \"trueNegativeRate\": 0.15741507870753935, \"falsePositiveRate\": 0.8425849212924607, \"truePositiveRate\": 0.9593316519546028, \"matthewsCorrelationCoefficient\": 0.18170995791405442, \"positivePredictiveValue\": 0.4279285613837716, \"negativePredictiveValue\": 0.8548931383577053, \"threshold\": 0.20144023001194, \"fractionPredictedAsPositive\": 0.888875, \"fractionPredictedAsNegative\": 0.11112500000000003, \"liftPositive\": 1.0792649719641152, \"liftNegative\": 1.4165586385380364}, {\"accuracy\": 0.46775, \"f1Score\": 0.5891547664994211, \"falseNegativeScore\": 119, \"trueNegativeScore\": 689, \"truePositiveScore\": 3053, \"falsePositiveScore\": 4139, \"trueNegativeRate\": 0.14270919635459817, \"falsePositiveRate\": 0.8572908036454018, \"truePositiveRate\": 0.962484237074401, \"matthewsCorrelationCoefficient\": 0.17076872294054424, \"positivePredictiveValue\": 0.42449944382647387, \"negativePredictiveValue\": 0.8527227722772277, \"threshold\": 0.19554905593395233, \"fractionPredictedAsPositive\": 0.899, \"fractionPredictedAsNegative\": 0.10099999999999998, \"liftPositive\": 1.0706165039759743, \"liftNegative\": 1.4129623401445366}, {\"accuracy\": 0.462, \"f1Score\": 0.5877394636015326, \"falseNegativeScore\": 104, \"trueNegativeScore\": 628, \"truePositiveScore\": 3068, \"falsePositiveScore\": 4200, \"trueNegativeRate\": 0.1300745650372825, \"falsePositiveRate\": 0.8699254349627175, \"truePositiveRate\": 0.9672131147540983, \"matthewsCorrelationCoefficient\": 0.16506122589008596, \"positivePredictiveValue\": 0.4221243808475509, \"negativePredictiveValue\": 0.8579234972677595, \"threshold\": 0.18899808824062347, \"fractionPredictedAsPositive\": 0.9085, \"fractionPredictedAsNegative\": 0.09150000000000003, \"liftPositive\": 1.0646264334112254, \"liftNegative\": 1.4215799457626501}, {\"accuracy\": 0.461625, \"f1Score\": 0.5876495931067497, \"falseNegativeScore\": 103, \"trueNegativeScore\": 624, \"truePositiveScore\": 3069, \"falsePositiveScore\": 4204, \"trueNegativeRate\": 0.12924606462303231, \"falsePositiveRate\": 0.8707539353769677, \"truePositiveRate\": 0.9675283732660782, \"matthewsCorrelationCoefficient\": 0.16469745120067394, \"positivePredictiveValue\": 0.4219716760621477, \"negativePredictiveValue\": 0.8583218707015131, \"threshold\": 0.18876568973064423, \"fractionPredictedAsPositive\": 0.909125, \"fractionPredictedAsNegative\": 0.09087500000000004, \"liftPositive\": 1.064241301543878, \"liftNegative\": 1.422240050872432}, {\"accuracy\": 0.4555, \"f1Score\": 0.5861675850275508, \"falseNegativeScore\": 87, \"trueNegativeScore\": 559, \"truePositiveScore\": 3085, \"falsePositiveScore\": 4269, \"trueNegativeRate\": 0.11578293289146645, \"falsePositiveRate\": 0.8842170671085335, \"truePositiveRate\": 0.9725725094577553, \"matthewsCorrelationCoefficient\": 0.15863735266936177, \"positivePredictiveValue\": 0.41949959205874354, \"negativePredictiveValue\": 0.8653250773993808, \"threshold\": 0.18162782490253448, \"fractionPredictedAsPositive\": 0.91925, \"fractionPredictedAsNegative\": 0.08074999999999999, \"liftPositive\": 1.0580065373486596, \"liftNegative\": 1.4338443701729593}, {\"accuracy\": 0.44925, \"f1Score\": 0.58457476899868, \"falseNegativeScore\": 72, \"trueNegativeScore\": 494, \"truePositiveScore\": 3100, \"falsePositiveScore\": 4334, \"trueNegativeRate\": 0.10231980115990058, \"falsePositiveRate\": 0.8976801988400994, \"truePositiveRate\": 0.9773013871374527, \"matthewsCorrelationCoefficient\": 0.15190056209541086, \"positivePredictiveValue\": 0.41700295937584075, \"negativePredictiveValue\": 0.872791519434629, \"threshold\": 0.1747439056634903, \"fractionPredictedAsPositive\": 0.92925, \"fractionPredictedAsNegative\": 0.07074999999999998, \"liftPositive\": 1.0517098597120826, \"liftNegative\": 1.446216270811316}, {\"accuracy\": 0.443625, \"f1Score\": 0.5835126789557407, \"falseNegativeScore\": 54, \"trueNegativeScore\": 431, \"truePositiveScore\": 3118, \"falsePositiveScore\": 4397, \"trueNegativeRate\": 0.08927091963545981, \"falsePositiveRate\": 0.9107290803645401, \"truePositiveRate\": 0.9829760403530895, \"matthewsCorrelationCoefficient\": 0.14809296756061532, \"positivePredictiveValue\": 0.4149035262807718, \"negativePredictiveValue\": 0.8886597938144329, \"threshold\": 0.16582703590393066, \"fractionPredictedAsPositive\": 0.939375, \"fractionPredictedAsNegative\": 0.06062500000000004, \"liftPositive\": 1.0464149464836616, \"liftNegative\": 1.4725100146055217}, {\"accuracy\": 0.4355, \"f1Score\": 0.5806092124814265, \"falseNegativeScore\": 46, \"trueNegativeScore\": 358, \"truePositiveScore\": 3126, \"falsePositiveScore\": 4470, \"trueNegativeRate\": 0.07415078707539353, \"falsePositiveRate\": 0.9258492129246064, \"truePositiveRate\": 0.9854981084489282, \"matthewsCorrelationCoefficient\": 0.13325068982748928, \"positivePredictiveValue\": 0.41153238546603477, \"negativePredictiveValue\": 0.8861386138613861, \"threshold\": 0.1563340425491333, \"fractionPredictedAsPositive\": 0.9495, \"fractionPredictedAsNegative\": 0.05049999999999999, \"liftPositive\": 1.037912699788234, \"liftNegative\": 1.4683324173345258}, {\"accuracy\": 0.428875, \"f1Score\": 0.5788551940270993, \"falseNegativeScore\": 32, \"trueNegativeScore\": 291, \"truePositiveScore\": 3140, \"falsePositiveScore\": 4537, \"trueNegativeRate\": 0.06027340513670257, \"falsePositiveRate\": 0.9397265948632975, \"truePositiveRate\": 0.9899117276166457, \"matthewsCorrelationCoefficient\": 0.12471774960417416, \"positivePredictiveValue\": 0.40901393773609485, \"negativePredictiveValue\": 0.9009287925696594, \"threshold\": 0.14651834964752197, \"fractionPredictedAsPositive\": 0.959625, \"fractionPredictedAsNegative\": 0.04037500000000005, \"liftPositive\": 1.0315610031175155, \"liftNegative\": 1.4928397557078017}, {\"accuracy\": 0.424625, \"f1Score\": 0.5773574511064181, \"falseNegativeScore\": 28, \"trueNegativeScore\": 253, \"truePositiveScore\": 3144, \"falsePositiveScore\": 4575, \"trueNegativeRate\": 0.052402651201325604, \"falsePositiveRate\": 0.9475973487986744, \"truePositiveRate\": 0.9911727616645649, \"matthewsCorrelationCoefficient\": 0.11578653305791363, \"positivePredictiveValue\": 0.40730664593859306, \"negativePredictiveValue\": 0.900355871886121, \"threshold\": 0.1408938765525818, \"fractionPredictedAsPositive\": 0.964875, \"fractionPredictedAsNegative\": 0.03512499999999996, \"liftPositive\": 1.0272550969447491, \"liftNegative\": 1.491890425660517}, {\"accuracy\": 0.422, \"f1Score\": 0.5769441903019213, \"falseNegativeScore\": 19, \"trueNegativeScore\": 223, \"truePositiveScore\": 3153, \"falsePositiveScore\": 4605, \"trueNegativeRate\": 0.046188898094449045, \"falsePositiveRate\": 0.953811101905551, \"truePositiveRate\": 0.9940100882723834, \"matthewsCorrelationCoefficient\": 0.11481080227828933, \"positivePredictiveValue\": 0.40641918020108275, \"negativePredictiveValue\": 0.9214876033057852, \"threshold\": 0.13500499725341797, \"fractionPredictedAsPositive\": 0.96975, \"fractionPredictedAsNegative\": 0.03025, \"liftPositive\": 1.0250168479220245, \"liftNegative\": 1.5269057221305469}, {\"accuracy\": 0.414, \"f1Score\": 0.574205267938238, \"falseNegativeScore\": 11, \"trueNegativeScore\": 151, \"truePositiveScore\": 3161, \"falsePositiveScore\": 4677, \"trueNegativeRate\": 0.03127589063794532, \"falsePositiveRate\": 0.9687241093620547, \"truePositiveRate\": 0.9965321563682219, \"matthewsCorrelationCoefficient\": 0.09657407833143977, \"positivePredictiveValue\": 0.40329165603470274, \"negativePredictiveValue\": 0.9320987654320988, \"threshold\": 0.11936775594949722, \"fractionPredictedAsPositive\": 0.97975, \"fractionPredictedAsNegative\": 0.02024999999999999, \"liftPositive\": 1.0171290190030333, \"liftNegative\": 1.544488426565202}, {\"accuracy\": 0.406375, \"f1Score\": 0.5718149851230727, \"falseNegativeScore\": 1, \"trueNegativeScore\": 80, \"truePositiveScore\": 3171, \"falsePositiveScore\": 4748, \"trueNegativeRate\": 0.016570008285004142, \"falsePositiveRate\": 0.9834299917149959, \"truePositiveRate\": 0.9996847414880202, \"matthewsCorrelationCoefficient\": 0.07942419603879555, \"positivePredictiveValue\": 0.4004293471397904, \"negativePredictiveValue\": 0.9876543209876543, \"threshold\": 0.0990474745631218, \"fractionPredictedAsPositive\": 0.989875, \"fractionPredictedAsNegative\": 0.01012500000000005, \"liftPositive\": 1.00991008105874, \"liftNegative\": 1.636544028148549}, {\"accuracy\": 0.404375, \"f1Score\": 0.5709912667687044, \"falseNegativeScore\": 1, \"trueNegativeScore\": 64, \"truePositiveScore\": 3171, \"falsePositiveScore\": 4764, \"trueNegativeRate\": 0.013256006628003313, \"falsePositiveRate\": 0.9867439933719967, \"truePositiveRate\": 0.9996847414880202, \"matthewsCorrelationCoefficient\": 0.07051466713731394, \"positivePredictiveValue\": 0.3996219281663516, \"negativePredictiveValue\": 0.9846153846153847, \"threshold\": 0.09245041757822037, \"fractionPredictedAsPositive\": 0.991875, \"fractionPredictedAsNegative\": 0.008125000000000049, \"liftPositive\": 1.0078737154258552, \"liftNegative\": 1.6315085080619365}, {\"accuracy\": 0.3965, \"f1Score\": 0.5678481919083422, \"falseNegativeScore\": 0, \"trueNegativeScore\": 0, \"truePositiveScore\": 3172, \"falsePositiveScore\": 4828, \"trueNegativeRate\": 0.0, \"falsePositiveRate\": 1.0, \"truePositiveRate\": 1.0, \"matthewsCorrelationCoefficient\": 0.0, \"positivePredictiveValue\": 0.3965, \"negativePredictiveValue\": 0.0, \"threshold\": 0.041198454797267914, \"fractionPredictedAsPositive\": 1.0, \"fractionPredictedAsNegative\": 0.0, \"liftPositive\": 1.0, \"liftNegative\": 0.0}], \"data-8eb2159b55543c668167de8218784fc2\": [{\"falsePositiveScore\": 0.0, \"truePositiveScore\": 0.0}, {\"falsePositiveScore\": 4828.0, \"truePositiveScore\": 3172.0}]}}, {\"mode\": \"vega-lite\"});\n",
       "</script>"
      ],
      "text/plain": [
       "alt.LayerChart(...)"
      ]
     },
     "execution_count": 19,
     "metadata": {},
     "output_type": "execute_result"
    }
   ],
   "source": [
    "roc_curve_chart(project.id, top_model.id)"
   ]
  },
  {
   "cell_type": "code",
   "execution_count": 20,
   "id": "65a972b0eab92e66bbdf6a84",
   "metadata": {
    "chart_settings": null,
    "custom_metric_settings": null,
    "dataframe_view_options": null,
    "datarobot": {
     "language": "python"
    },
    "disable_run": false,
    "hide_code": false,
    "hide_results": false,
    "scrolled": false
   },
   "outputs": [
    {
     "data": {
      "application/vnd.jupyter.widget-view+json": {
       "model_id": "9c26f4de1d7a4cab8e6e460390c050ca",
       "version_major": 2,
       "version_minor": 0
      },
      "text/plain": [
       "VBox()"
      ]
     },
     "metadata": {},
     "output_type": "display_data"
    }
   ],
   "source": [
    "# The charts created by drx are altair plots and can be saved in multiple file formats\n",
    "fi_chart = feature_impact_chart(project.id, top_model.id)\n",
    "fi_chart.save(\"./feature_impact.svg\")"
   ]
  }
 ],
 "metadata": {
  "kernelspec": {
   "display_name": "Python 3 (ipykernel)",
   "language": "python",
   "name": "python3"
  },
  "language_info": {
   "codemirror_mode": {
    "name": "ipython",
    "version": 3
   },
   "file_extension": ".py",
   "mimetype": "text/x-python",
   "name": "python",
   "nbconvert_exporter": "python",
   "pygments_lexer": "ipython3",
   "version": "3.7.12"
  }
 },
 "nbformat": 4,
 "nbformat_minor": 5
}
