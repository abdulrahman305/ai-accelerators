{
 "cells": [
  {
   "cell_type": "markdown",
   "metadata": {
    "application/vnd.databricks.v1+cell": {
     "cellMetadata": {},
     "inputWidgets": {},
     "nuid": "ad9c4103-876a-4bcc-8210-2242544d48b9",
     "showTitle": false,
     "title": ""
    }
   },
   "source": [
    "# Defect Detection Using Computer Vision\n",
    "\n",
    "## Summary\n",
    "\n",
    "The use case presented in this notebook includes utilizing the DataRobot platform to host a non-DataRobot, pre-trained object detection model to leverage a host of ML Production features such as model monitoring with custom metrics. The included notebook `FasterR-CNN_training.ipynb` details the model training process which generated the model artifacts used here.\n",
    "\n",
    "This notebook outlines how to:\n",
    "\n",
    "1. Use the Python client to create/select a custom environment\n",
    "2. Create a custom model framework for an object detection model\n",
    "3. Iteratively test and debug a custom model in a custom environment\n",
    "4. Deploy and run predictions on a custom model\n",
    "5. Manage custom metrics with a deployment\n",
    "\n",
    "The below images display a result of the trained object detection model with bounding boxes, class, and confidence values shown.\n",
    "\n",
    "<p>\n",
    "<table><tr>\n",
    "<td> <img src=\"./display_imgs/scratches_261.jpg\" style=\"width: 250px;\"/> </td>\n",
    "<td> <img src=\"./display_imgs/scratches_261_scored.png\" style=\"width: 250px;\"/> </td>\n",
    "</tr></table>\n",
    "</p>"
   ]
  },
  {
   "cell_type": "markdown",
   "metadata": {},
   "source": [
    "## Setup\n",
    "This tutorial assumes a few things about your filepath and prior work. \n",
    "\n",
    "`custom_model_folder` should contain:\n",
    "1. The object detection model artifact, e.g. `model_state_dict.pth`\n",
    "2. `requirements.txt` listing all the dependencies needed to run the model\n",
    "3. `custom.py` which includes any required function hook edits needed for running the particular model\n",
    "    - Additional documentation for defining an \"unstructured model\" and associated function hooks can be found here: [Define Inference Model](https://github.com/datarobot/datarobot-user-models/blob/master/DEFINE-INFERENCE-MODEL.md#unstructured_inference_model)\n",
    "<!-- 3. The current version of the DataRobot Python Client.\n",
    "   - Full documentation for the client can be found here: [DataRobot Python Client Docs](https://datarobot-public-api-client.readthedocs-hosted.com/en/v2.20.0/index.html) -->\n",
    "\n",
    "This tutorial also assumes that you have access to app.datarobot.com.\n",
    "If you use another instance of DataRobot - use appropriate credentials and URL.\n",
    "\n",
    "\n",
    "### Configuring Models and Environments\n",
    "For more information on how to properly configure custom models and environments, read the README of our [DataRobot User Models repository](https://github.com/datarobot/datarobot-user-models).\n",
    "\n",
    "<!-- This tutorial utilizes the `python3_pytorch` environment, which can be found in the [datarobot-user-models](https://github.com/datarobot/datarobot-user-models/tree/master) GitHub repo. -->\n"
   ]
  },
  {
   "cell_type": "markdown",
   "metadata": {},
   "source": [
    "### Import libraries"
   ]
  },
  {
   "cell_type": "code",
   "execution_count": 50,
   "metadata": {},
   "outputs": [],
   "source": [
    "import base64\n",
    "import getpass\n",
    "import glob\n",
    "from io import BytesIO\n",
    "import json\n",
    "import os\n",
    "from pprint import pprint\n",
    "import sys\n",
    "import urllib.request\n",
    "import xml.etree.ElementTree as ET\n",
    "import zipfile\n",
    "\n",
    "from PIL import Image, ImageDraw\n",
    "import datarobot as dr\n",
    "from matplotlib import cm\n",
    "import matplotlib.pyplot as plt\n",
    "import pandas as pd\n",
    "from pandas.tseries.offsets import DateOffset\n",
    "import requests"
   ]
  },
  {
   "cell_type": "code",
   "execution_count": null,
   "metadata": {},
   "outputs": [],
   "source": [
    "# install custom metrics python pkg\n",
    "!{sys.executable} -m pip install map-boxes"
   ]
  },
  {
   "cell_type": "code",
   "execution_count": 5,
   "metadata": {},
   "outputs": [],
   "source": [
    "from map_boxes import mean_average_precision_for_boxes"
   ]
  },
  {
   "cell_type": "code",
   "execution_count": null,
   "metadata": {},
   "outputs": [
    {
     "data": {
      "text/plain": [
       "['.DS_Store', 'images', 'annotations']"
      ]
     },
     "execution_count": 87,
     "metadata": {},
     "output_type": "execute_result"
    }
   ],
   "source": [
    "# download and extract data\n",
    "urllib.request.urlretrieve(\n",
    "    \"https://s3.amazonaws.com/datarobot_public_datasets/ai_accelerators/NEU-DET/validation_data.zip\",\n",
    "    \"./validation_data.zip\",\n",
    ")\n",
    "with zipfile.ZipFile(\"./validation_data.zip\", \"r\") as zip_ref:\n",
    "    zip_ref.extractall(\"./\")\n",
    "\n",
    "os.listdir(\"./validation_data/\")"
   ]
  },
  {
   "cell_type": "code",
   "execution_count": 88,
   "metadata": {},
   "outputs": [],
   "source": [
    "!rm -rf storage/validation_data.zip\n",
    "!rm -rf storage/__MACOSX"
   ]
  },
  {
   "cell_type": "code",
   "execution_count": 6,
   "metadata": {},
   "outputs": [],
   "source": [
    "# Path to folder which holds custom.py, model artifact, requirements.txt, etc.\n",
    "# NOTE: here we use a non-standard extension for our model file (.pth -> .htp) to ensure load_model() in custom.py is used\n",
    "custom_model_folder = \"./assets/\"\n",
    "\n",
    "# Test dataset path\n",
    "data_path = \"./validation_data/\""
   ]
  },
  {
   "cell_type": "markdown",
   "metadata": {},
   "source": [
    "### Connect to DataRobot\n",
    "\n",
    "You can read more about different options for [connecting to DataRobot from the client](https://docs.datarobot.com/en/docs/api/api-quickstart/api-qs.html)."
   ]
  },
  {
   "cell_type": "code",
   "execution_count": 7,
   "metadata": {},
   "outputs": [
    {
     "name": "stdin",
     "output_type": "stream",
     "text": [
      " ········\n"
     ]
    },
    {
     "data": {
      "text/plain": [
       "<datarobot.rest.RESTClientObject at 0x10e317f70>"
      ]
     },
     "execution_count": 7,
     "metadata": {},
     "output_type": "execute_result"
    }
   ],
   "source": [
    "API_KEY = getpass.getpass()  # Get this from the Developer Tools page in the DataRobot UI\n",
    "endpoint = \"https://app.datarobot.com/\"  # This should be the URL you use to access the DataRobot UI\n",
    "\n",
    "dr.client.Client(endpoint=\"%sapi/v2\" % (endpoint), token=API_KEY)\n",
    "dr.client.get_client()"
   ]
  },
  {
   "cell_type": "markdown",
   "metadata": {
    "application/vnd.databricks.v1+cell": {
     "inputWidgets": {},
     "nuid": "8bd3c19e-91ce-4c7e-868f-182513ea3479",
     "showTitle": false,
     "title": ""
    }
   },
   "source": [
    "## Creating/Selecting a Custom Environment\n",
    "Custom environment templates for Python 3, Java and R can be found here: [environment templates](https://github.com/datarobot/datarobot-user-models/tree/master/public_dropin_environments)\n",
    "\n",
    "These can also be selected from the `ExecutionEnvironment` module."
   ]
  },
  {
   "cell_type": "code",
   "execution_count": 8,
   "metadata": {},
   "outputs": [
    {
     "name": "stdout",
     "output_type": "stream",
     "text": [
      "[Experimental] Python 3.9 Streamlit 6542cd582a9d3d51bf4ac71e\n",
      "[DataRobot] Python 3.11 GenAI 64d2ba178dd3f0b1fa2162f0\n",
      "[DataRobot] Python 3.9 GenAI 64c964448dd3f0c07f47d040\n",
      "[DataRobot] Python 3.9 Notebook Drop-In with GPU support 64be639d675d8528870a6630\n",
      "[DataRobot] Python 3.9 ONNX Drop-In 62059a573f7d5f5cebabcba5\n",
      "Python 3 YOLOv5 test3 61f4484bb73510b7295b3c2d\n",
      "Python 3 YOLOv5 613906cb384e15533e12496f\n",
      "[DataRobot] Julia Drop-In 606234e1879feab31ec1abdd\n",
      "[DataRobot] Legacy Code Environment 6075db569f564155a821b3ab\n",
      "[DEPRECATED] H2O Drop-In 5f2455d788cef3214ccd8c4a\n",
      "[DataRobot] Python 3.9 PMML Drop-In 5ee7dfc6433a8423386102ce\n",
      "[DataRobot] R 4.2.1 Drop-In 5ea850ca1d41c8173c2feef6\n",
      "[DataRobot] Python 3.9 PyTorch Drop-In 5e8c888007389fe0f466c72b\n",
      "[DataRobot] Java 11 Drop-In (DR Codegen, H2O) 5e3028d9c38741266ef86452\n",
      "[DataRobot] Python 3.9 Scikit-Learn Drop-In 5e8c889607389fe0f466c72d\n",
      "[DataRobot] Python 3.9 XGBoost Drop-In 5e8c88a407389fe0f466c72f\n",
      "[DataRobot] Python 3.9 Keras Drop-In 5e8c886607389fe0f466c729\n"
     ]
    }
   ],
   "source": [
    "for dr_env in dr.ExecutionEnvironment.list():\n",
    "    print(dr_env.name, dr_env.id)"
   ]
  },
  {
   "cell_type": "code",
   "execution_count": 9,
   "metadata": {},
   "outputs": [],
   "source": [
    "# Select the \"Python 3.9 PyTorch Drop-In\" env\n",
    "execution_environment = dr.ExecutionEnvironment.get(\"5e8c888007389fe0f466c72b\")"
   ]
  },
  {
   "cell_type": "markdown",
   "metadata": {
    "application/vnd.databricks.v1+cell": {
     "inputWidgets": {},
     "nuid": "1c90826e-7088-4ba5-b00d-7873a9cfc0d4",
     "showTitle": false,
     "title": ""
    }
   },
   "source": [
    "## Creating a Custom Model\n",
    "Once the environment is selected, it's time to build the Custom Model. You will need to define details about your custom model in this command depending on the type of model.\n",
    "\n",
    "### Required fields:\n",
    "`name` : string that defines the name of the model.\n",
    "\n",
    "`target_type` : enum that describes the target type. Unstructured (via `datarobot.TARGET_TYPE.UNSTRUCTURED`) allows inputs and outputs that are not verified and beyond the supported project types of DataRobot, therefore allowing the ingest of unbounded images and an output with several dimensions (bounding box coordinates, confidence, class/label).\n",
    "\n",
    "### Optional Fields:\n",
    "`description` : a string that describe the model. User can input whatever they want for the description.\n",
    "\n",
    "`language` : a string that specifies the programming language used in `custom.py`."
   ]
  },
  {
   "cell_type": "code",
   "execution_count": 10,
   "metadata": {
    "application/vnd.databricks.v1+cell": {
     "inputWidgets": {},
     "nuid": "cfb7d5ff-30cd-4f51-a68f-d1de1593cd64",
     "showTitle": false,
     "title": ""
    }
   },
   "outputs": [],
   "source": [
    "# Create the custom model metadata\n",
    "custom_model = dr.CustomInferenceModel.create(\n",
    "    name=\"Faster R-CNN Python 3 PyTorch Custom Model\",\n",
    "    target_type=dr.TARGET_TYPE.UNSTRUCTURED,\n",
    "    description=\"This is a Python3-based object detection custom model using a pre-trained Faster R-CNN model.\",\n",
    "    language=\"python\",\n",
    ")"
   ]
  },
  {
   "cell_type": "markdown",
   "metadata": {},
   "source": [
    "#### Optionally retrieve an existing custom inference model"
   ]
  },
  {
   "cell_type": "code",
   "execution_count": 10,
   "metadata": {},
   "outputs": [
    {
     "data": {
      "text/plain": [
       "[CustomInferenceModel('eager-liskov'),\n",
       " CustomInferenceModel('Faster R-CNN Python 3 PyTorch Custom Model'),\n",
       " CustomInferenceModel('Faster R-CNN Python 3 PyTorch Custom Model'),\n",
       " CustomInferenceModel('DR Knowledge Base'),\n",
       " CustomInferenceModel('DR Knowledge Base'),\n",
       " CustomInferenceModel('DR Knowledge Base'),\n",
       " CustomInferenceModel('faster_rcnn'),\n",
       " CustomInferenceModel('torch_test'),\n",
       " CustomInferenceModel('YOLO Ship Detection (DataFrame style)'),\n",
       " CustomInferenceModel('YOLO test 3'),\n",
       " CustomInferenceModel('SAS Model 2'),\n",
       " CustomInferenceModel('Object Detection'),\n",
       " CustomInferenceModel('yolov5_drone-project-drone-retrain-video-frames_train_coco-real'),\n",
       " CustomInferenceModel('YOLO Ship Detection')]"
      ]
     },
     "execution_count": 10,
     "metadata": {},
     "output_type": "execute_result"
    }
   ],
   "source": [
    "custom_model_list = dr.CustomInferenceModel.list(\n",
    "    # is_deployed=True,  # set to return only deployed models\n",
    "    order_by=\"-updated\",  # set to define order of returned results\n",
    "    # search_for='model 1',  # return only models containing 'model 1' in name or description\n",
    ")\n",
    "custom_model_list"
   ]
  },
  {
   "cell_type": "code",
   "execution_count": 28,
   "metadata": {},
   "outputs": [
    {
     "data": {
      "text/plain": [
       "CustomInferenceModel('Faster R-CNN Python 3 PyTorch Custom Model')"
      ]
     },
     "execution_count": 28,
     "metadata": {},
     "output_type": "execute_result"
    }
   ],
   "source": [
    "custom_model = custom_model_list[2]\n",
    "custom_model"
   ]
  },
  {
   "cell_type": "markdown",
   "metadata": {},
   "source": [
    "### Create the custom model and kick off environment build"
   ]
  },
  {
   "cell_type": "code",
   "execution_count": 11,
   "metadata": {},
   "outputs": [],
   "source": [
    "model_version = dr.CustomModelVersion.create_clean(\n",
    "    custom_model_id=custom_model.id,\n",
    "    folder_path=custom_model_folder,\n",
    "    base_environment_id=execution_environment.id,\n",
    ")"
   ]
  },
  {
   "cell_type": "code",
   "execution_count": 12,
   "metadata": {},
   "outputs": [
    {
     "data": {
      "text/plain": [
       "CustomModelVersion('v1.0')"
      ]
     },
     "execution_count": 12,
     "metadata": {},
     "output_type": "execute_result"
    }
   ],
   "source": [
    "model_version"
   ]
  },
  {
   "cell_type": "code",
   "execution_count": 13,
   "metadata": {
    "tags": []
   },
   "outputs": [
    {
     "name": "stdout",
     "output_type": "stream",
     "text": [
      "https://app.datarobot.com/model-registry/custom-models/65771c1ce9b1a4da9c3219f6/assemble\n"
     ]
    }
   ],
   "source": [
    "# view custom model in custom model environment in the gui\n",
    "print(f\"{endpoint}model-registry/custom-models/{custom_model.id}/assemble\")"
   ]
  },
  {
   "cell_type": "markdown",
   "metadata": {
    "application/vnd.databricks.v1+cell": {
     "inputWidgets": {},
     "nuid": "90a533ea-0830-470d-b452-f43685cc6847",
     "showTitle": false,
     "title": ""
    }
   },
   "source": [
    "## The Model Testing Workflow\n",
    "The below steps contain an easy way to help ensure that a custom inference model will work in production: You can actually test your custom unstructured model with a specific environment to verify the environment builds before deploying the model."
   ]
  },
  {
   "cell_type": "markdown",
   "metadata": {
    "application/vnd.databricks.v1+cell": {
     "inputWidgets": {},
     "nuid": "3aca62d1-eaf6-4175-8383-d4d9da87af27",
     "showTitle": false,
     "title": ""
    }
   },
   "source": [
    "## Model Testing"
   ]
  },
  {
   "cell_type": "markdown",
   "metadata": {
    "application/vnd.databricks.v1+cell": {
     "inputWidgets": {},
     "nuid": "90a82acb-4cdc-4520-8636-d000ec346242",
     "showTitle": false,
     "title": ""
    }
   },
   "source": [
    "### Step 1: Run the Test\n",
    "To run a custom model test, you upload and save a test dataset from the sample inference data. Then, you simply select the appropriate model and environment (as well as version) IDs, and test it on that dataset.\n",
    "\n",
    "Once the test is finished, it will have a status property to let you know whether the test passed. If it failed, it will contain an `error` property.\n",
    "\n",
    "An important note: being an unstructured project type, this test simply checks the environment can build successfully."
   ]
  },
  {
   "cell_type": "code",
   "execution_count": null,
   "metadata": {
    "application/vnd.databricks.v1+cell": {
     "inputWidgets": {},
     "nuid": "a862f4c5-9d52-4333-a71d-df5d32af4cae",
     "showTitle": false,
     "title": ""
    }
   },
   "outputs": [],
   "source": [
    "# For non-unstructured custom model types, predictions can be tested via sample inference datasets\n",
    "# dataset = dr.Dataset.create_from_file(file_path=test_dataset)"
   ]
  },
  {
   "cell_type": "code",
   "execution_count": 14,
   "metadata": {
    "application/vnd.databricks.v1+cell": {
     "inputWidgets": {},
     "nuid": "88132775-5fc9-4826-a748-e1013ef8262a",
     "showTitle": false,
     "title": ""
    },
    "scrolled": true
   },
   "outputs": [
    {
     "name": "stdout",
     "output_type": "stream",
     "text": [
      "Overall testing status: succeeded\n"
     ]
    }
   ],
   "source": [
    "# Perform custom model test (~15min, can view progress in the gui)\n",
    "# This will also build the environment, including the additional dependencies specified\n",
    "# in requirements.txt in the custom model folder\n",
    "custom_model_test = dr.CustomModelTest.create(\n",
    "    custom_model_id=custom_model.id,\n",
    "    custom_model_version_id=model_version.id,\n",
    "    # dataset_id=dataset.id,  # for non-unstructured model types\n",
    "    max_wait=3600,  # 1 hour timeout\n",
    ")\n",
    "\n",
    "print(\"Overall testing status: {}\".format(custom_model_test.overall_status))\n",
    "\n",
    "if any(test[\"status\"] == \"failed\" for test in custom_model_test.detailed_status.values()):\n",
    "    print(\"Test log:\\n\")\n",
    "    print(custom_model_test.get_log())"
   ]
  },
  {
   "cell_type": "markdown",
   "metadata": {
    "application/vnd.databricks.v1+cell": {
     "inputWidgets": {},
     "nuid": "c360433d-660b-4d27-9879-41ded210ba67",
     "showTitle": false,
     "title": ""
    }
   },
   "source": [
    "### Step 2: Iterate\n",
    "It's easy to iterate if the test happened to fail. First, check the error from the custom model test. Then, fix any errors in the code that you uploaded. Finally, upload a new version of the model using the updated code, and test it again."
   ]
  },
  {
   "cell_type": "code",
   "execution_count": 15,
   "metadata": {
    "application/vnd.databricks.v1+cell": {
     "inputWidgets": {},
     "nuid": "95f38d17-68c5-4559-a87a-112d8a61af56",
     "showTitle": false,
     "title": ""
    }
   },
   "outputs": [],
   "source": [
    "# Add new version of custom model. Repeat these last two blocks until the model passes testing!\n",
    "model_version = dr.CustomModelVersion.create_clean(\n",
    "    custom_model_id=custom_model.id,\n",
    "    folder_path=custom_model_folder,\n",
    "    base_environment_id=execution_environment.id,\n",
    ")\n",
    "model_version.update(description=\"Fixing errors from testing (test iteration)\")"
   ]
  },
  {
   "cell_type": "code",
   "execution_count": 16,
   "metadata": {
    "application/vnd.databricks.v1+cell": {
     "inputWidgets": {},
     "nuid": "a09543e1-866d-43ad-87b3-278228f0e9fd",
     "showTitle": false,
     "title": ""
    }
   },
   "outputs": [
    {
     "name": "stdout",
     "output_type": "stream",
     "text": [
      "Overall testing status: succeeded\n"
     ]
    }
   ],
   "source": [
    "# Perform custom model test... again\n",
    "custom_model_test = dr.CustomModelTest.create(\n",
    "    custom_model_id=custom_model.id,\n",
    "    custom_model_version_id=model_version.id,\n",
    "    # dataset_id=dataset.id,\n",
    "    max_wait=3600,  # 1 hour timeout\n",
    ")\n",
    "\n",
    "print(\"Overall testing status: {}\".format(custom_model_test.overall_status))\n",
    "\n",
    "if any(test[\"status\"] == \"failed\" for test in custom_model_test.detailed_status.values()):\n",
    "    print(\"Test log:\\n\")\n",
    "    print(custom_model_test.get_log())"
   ]
  },
  {
   "cell_type": "code",
   "execution_count": 17,
   "metadata": {
    "application/vnd.databricks.v1+cell": {
     "inputWidgets": {},
     "nuid": "cffd7143-4f42-4442-be4c-c35fbb1fc089",
     "showTitle": false,
     "title": ""
    }
   },
   "outputs": [
    {
     "name": "stdout",
     "output_type": "stream",
     "text": [
      "[CustomModelTest('657724aa445396d4da6e7c98'), CustomModelTest('65771c82e80660de696e7ade')]\n"
     ]
    }
   ],
   "source": [
    "# This command shows all tests that have been run on the model\n",
    "model_tests = dr.CustomModelTest.list(custom_model_id=custom_model.id)\n",
    "print(model_tests)"
   ]
  },
  {
   "cell_type": "markdown",
   "metadata": {
    "application/vnd.databricks.v1+cell": {
     "inputWidgets": {},
     "nuid": "590a5da3-a9da-4a78-a520-66ab1489f948",
     "showTitle": false,
     "title": ""
    }
   },
   "source": [
    "## Deploying the model\n",
    "To deploy an inference model, you create something called a `custom_model_image`, which saves the custom model code with a _specific_ environment. This will make it easy to see which custom models have been tested or deployed on specific environments.\n",
    "\n",
    "Once you have the desired custom model image, simply call the `dr.Deployment.create_from_custom_model_image()` method, inputting the model image's id, the prediction server's `default_prediction_server_id`, and the desired deployment label."
   ]
  },
  {
   "cell_type": "code",
   "execution_count": 18,
   "metadata": {},
   "outputs": [
    {
     "data": {
      "text/plain": [
       "[PredictionServer(https://mlops.dynamic.orm.datarobot.com),\n",
       " PredictionServer(https://datarobot-cfds.dynamic.orm.datarobot.com),\n",
       " PredictionServer(https://prod-internal-genai-tests-dont-use.dynamic.orm.datarobot.com),\n",
       " PredictionServer(https://cfds-ccm-prod.orm.datarobot.com)]"
      ]
     },
     "execution_count": 18,
     "metadata": {},
     "output_type": "execute_result"
    }
   ],
   "source": [
    "dr.PredictionServer.list()"
   ]
  },
  {
   "cell_type": "code",
   "execution_count": 19,
   "metadata": {},
   "outputs": [
    {
     "data": {
      "text/plain": [
       "PredictionServer(https://mlops.dynamic.orm.datarobot.com)"
      ]
     },
     "execution_count": 19,
     "metadata": {},
     "output_type": "execute_result"
    }
   ],
   "source": [
    "prediction_server = dr.PredictionServer.list()[0]\n",
    "prediction_server"
   ]
  },
  {
   "cell_type": "code",
   "execution_count": 20,
   "metadata": {
    "application/vnd.databricks.v1+cell": {
     "inputWidgets": {},
     "nuid": "0ee2ce04-6a79-4331-b3a8-c807d285756d",
     "showTitle": false,
     "title": ""
    },
    "scrolled": true
   },
   "outputs": [],
   "source": [
    "deployment = dr.Deployment.create_from_custom_model_version(\n",
    "    model_version.id,\n",
    "    label=\"Object detection custom model deployment Faster R-CNN\",\n",
    "    # instance id is only required for Cloud DataRobot App\n",
    "    # ignore for on-premises Platform installations.\n",
    "    default_prediction_server_id=prediction_server.id,\n",
    "    max_wait=3600,  # 1 hour timeout\n",
    ")"
   ]
  },
  {
   "cell_type": "code",
   "execution_count": 21,
   "metadata": {},
   "outputs": [
    {
     "data": {
      "text/plain": [
       "'65772909c73cb89b896ef917'"
      ]
     },
     "execution_count": 21,
     "metadata": {},
     "output_type": "execute_result"
    }
   ],
   "source": [
    "deployment.id"
   ]
  },
  {
   "cell_type": "code",
   "execution_count": null,
   "metadata": {},
   "outputs": [],
   "source": [
    "# or connect to existing deployment\n",
    "deployment = dr.Deployment.get(\"65284d6ed98ce69a5c535911\")\n",
    "deployment"
   ]
  },
  {
   "cell_type": "markdown",
   "metadata": {
    "application/vnd.databricks.v1+cell": {
     "inputWidgets": {},
     "nuid": "0e33fda9-f612-4719-8a36-398f5ce770a9",
     "showTitle": false,
     "title": ""
    },
    "tags": []
   },
   "source": [
    "### Making predictions on a deployed custom inference model\n",
    "\n",
    "We can use the Starter Code available in the DataRobot Deployment (Predictions > Prediction API > Single) for pre-generated Python code that contains functions to interact with the deployement. Primarily, the code contains `make_datarobot_deployment_unstructured_predictions()` and conveniently provides the necessary credentials (API_URL, API_KEY, DATAROBOT_KEY, deployment ID)."
   ]
  },
  {
   "cell_type": "code",
   "execution_count": 22,
   "metadata": {},
   "outputs": [],
   "source": [
    "API_URL = \"{}/predApi/v1.0/deployments/{}/predictionsUnstructured\".format(\n",
    "    prediction_server.url, deployment.id\n",
    ")\n",
    "DATAROBOT_KEY = deployment.default_prediction_server[\"datarobot-key\"]\n",
    "\n",
    "# Don't change this. It is enforced server-side too.\n",
    "MAX_PREDICTION_FILE_SIZE_BYTES = 52428800  # 50 MB"
   ]
  },
  {
   "cell_type": "code",
   "execution_count": 23,
   "metadata": {
    "tags": []
   },
   "outputs": [],
   "source": [
    "class DataRobotPredictionError(Exception):\n",
    "    \"\"\"Raised if there are issues getting predictions from DataRobot\"\"\"\n",
    "\n",
    "\n",
    "def make_datarobot_deployment_unstructured_predictions(data, deployment_id, mimetype, charset):\n",
    "    \"\"\"\n",
    "    Make unstructured predictions on data provided using DataRobot deployment_id provided.\n",
    "    See docs for details:\n",
    "         https://app.datarobot.com/docs/predictions/api/dr-predapi.html\n",
    "\n",
    "    Parameters\n",
    "    ----------\n",
    "    data : bytes\n",
    "        Bytes data read from provided file.\n",
    "    deployment_id : str\n",
    "        The ID of the deployment to make predictions with.\n",
    "    mimetype : str\n",
    "        Mimetype describing data being sent.\n",
    "        If mimetype starts with 'text/' or equal to 'application/json',\n",
    "        data will be decoded with provided or default(UTF-8) charset\n",
    "        and passed into the 'score_unstructured' hook implemented in custom.py provided with the model.\n",
    "\n",
    "        In case of other mimetype values data is treated as binary and passed without decoding.\n",
    "    charset : str\n",
    "        Charset should match the contents of the file, if file is text.\n",
    "\n",
    "    Returns\n",
    "    -------\n",
    "    data : bytes\n",
    "        Arbitrary data returned by unstructured model.\n",
    "\n",
    "\n",
    "    Raises\n",
    "    ------\n",
    "    DataRobotPredictionError if there are issues getting predictions from DataRobot\n",
    "    \"\"\"\n",
    "    # Set HTTP headers. The charset should match the contents of the file.\n",
    "    headers = {\n",
    "        \"Content-Type\": \"{};charset={}\".format(mimetype, charset),\n",
    "        \"Authorization\": \"Bearer {}\".format(API_KEY),\n",
    "        \"DataRobot-Key\": DATAROBOT_KEY,\n",
    "    }\n",
    "\n",
    "    url = API_URL.format(deployment_id=deployment_id)\n",
    "\n",
    "    # Make API request for predictions\n",
    "    predictions_response = requests.post(\n",
    "        url,\n",
    "        data=data,\n",
    "        headers=headers,\n",
    "    )\n",
    "    _raise_dataroboterror_for_status(predictions_response)\n",
    "    # Return raw response content\n",
    "    return predictions_response.content\n",
    "\n",
    "\n",
    "def _raise_dataroboterror_for_status(response):\n",
    "    \"\"\"Raise DataRobotPredictionError if the request fails along with the response returned\"\"\"\n",
    "    try:\n",
    "        response.raise_for_status()\n",
    "    except requests.exceptions.HTTPError:\n",
    "        err_msg = \"{code} Error: {msg}\".format(code=response.status_code, msg=response.text)\n",
    "        raise DataRobotPredictionError(err_msg)\n",
    "\n",
    "\n",
    "def make_predictions(data, deployment_id, mimetype, charset):\n",
    "    \"\"\"\n",
    "    Return predictions on `data` using make_datarobot_deployment_unstructured_predictions()\n",
    "    \"\"\"\n",
    "    data_size = sys.getsizeof(data)\n",
    "    if data_size >= MAX_PREDICTION_FILE_SIZE_BYTES:\n",
    "        raise ValueError(\n",
    "            (\"Input file is too large: {} bytes. \" \"Max allowed size is: {} bytes.\").format(\n",
    "                data_size, MAX_PREDICTION_FILE_SIZE_BYTES\n",
    "            )\n",
    "        )\n",
    "    try:\n",
    "        predictions = make_datarobot_deployment_unstructured_predictions(\n",
    "            data, deployment_id, mimetype, charset\n",
    "        )\n",
    "    except DataRobotPredictionError as exc:\n",
    "        print(exc)\n",
    "        raise\n",
    "    return predictions"
   ]
  },
  {
   "cell_type": "markdown",
   "metadata": {},
   "source": [
    "#### Additional functions for working with image and object detection data"
   ]
  },
  {
   "cell_type": "code",
   "execution_count": 24,
   "metadata": {},
   "outputs": [],
   "source": [
    "def get_base_64_image(im):\n",
    "    # From an image, return base64 encoded PNG image\n",
    "    with BytesIO() as outfile:\n",
    "        im.save(outfile, \"png\")\n",
    "        image_bytes = outfile.getvalue()\n",
    "    image_b64 = base64.b64encode(image_bytes).decode(\"ascii\")\n",
    "    return image_b64"
   ]
  },
  {
   "cell_type": "code",
   "execution_count": 25,
   "metadata": {},
   "outputs": [],
   "source": [
    "def annotate_image(prediction_image: Image, predictions_df, groundtruth=False, thresh=0.8):\n",
    "    annotated_image = prediction_image.copy()\n",
    "    draw = ImageDraw.Draw(annotated_image)\n",
    "    class_colors = plt.cm.get_cmap(\"Set1\", predictions_df[\"labels\"].max() + 1).colors\n",
    "\n",
    "    if \"scores\" not in predictions_df.columns:\n",
    "        predictions_df[\"scores\"] = 1.0\n",
    "\n",
    "    for ix, row in predictions_df.pipe(lambda df: df[df.scores >= thresh]).iterrows():\n",
    "        if groundtruth:\n",
    "            class_color = 0\n",
    "            text = \"{}\".format(row[\"labels\"])\n",
    "        else:\n",
    "            class_color = tuple(int(x * 255) for x in class_colors[row[\"labels\"]][:1])\n",
    "            text = \"{} ({:0.3})\".format(row[\"labels\"], row[\"scores\"])\n",
    "        if max(row.xmin, row.ymin, row.xmax, row.ymax) <= 1.0:\n",
    "            size = prediction_image.size\n",
    "            row.xmin *= size[1]\n",
    "            row.ymin *= size[0]\n",
    "            row.xmax *= size[1]\n",
    "            row.ymax *= size[0]\n",
    "        draw.rectangle([(row.xmin, row.ymin), (row.xmax, row.ymax)], outline=class_color, width=3)\n",
    "        draw.text((row.xmin, row.ymin), text, fill=\"white\")\n",
    "\n",
    "    return annotated_image"
   ]
  },
  {
   "cell_type": "markdown",
   "metadata": {},
   "source": [
    "#### Send image to deployment for prediction"
   ]
  },
  {
   "cell_type": "code",
   "execution_count": 26,
   "metadata": {},
   "outputs": [
    {
     "data": {
      "text/plain": [
       "'scratches_261.jpg'"
      ]
     },
     "execution_count": 26,
     "metadata": {},
     "output_type": "execute_result"
    }
   ],
   "source": [
    "test_img_paths = sorted(glob.glob(os.path.join(data_path, \"images\", \"*.jpg\")))[:20]\n",
    "test_img_path = test_img_paths[-1]\n",
    "test_img_path.split(\"/\")[-1]"
   ]
  },
  {
   "cell_type": "markdown",
   "metadata": {},
   "source": [
    "##### Test with single image"
   ]
  },
  {
   "cell_type": "code",
   "execution_count": 27,
   "metadata": {},
   "outputs": [
    {
     "data": {
      "image/png": "[encoded data removed]",
      "text/plain": [
       "<PIL.JpegImagePlugin.JpegImageFile image mode=RGB size=200x200 at 0x10E3529D0>"
      ]
     },
     "execution_count": 27,
     "metadata": {},
     "output_type": "execute_result"
    }
   ],
   "source": [
    "prediction_image = Image.open(test_img_path)\n",
    "prediction_image"
   ]
  },
  {
   "cell_type": "code",
   "execution_count": 28,
   "metadata": {},
   "outputs": [
    {
     "data": {
      "text/plain": [
       "'iVBORw0KGgoAAAANSUhE'"
      ]
     },
     "execution_count": 28,
     "metadata": {},
     "output_type": "execute_result"
    }
   ],
   "source": [
    "prediction_input = get_base_64_image(prediction_image)\n",
    "prediction_input[:20]"
   ]
  },
  {
   "cell_type": "code",
   "execution_count": 29,
   "metadata": {},
   "outputs": [
    {
     "data": {
      "text/plain": [
       "b'{\"labels\":{\"0\":1,\"1\":1,\"2\":1,\"3\":1,\"4\":1,\"5\":1,\"6\":1,\"7\":1,\"8\":1,\"9\":1,\"10\":1,\"11\":1,\"12\":1,\"13\":1,\"14\":1,\"15\":1,\"16\":1,\"17\":1,\"18\":1,\"19\":1,\"20\":1,\"21\":1,\"22\":1,\"23\":1,\"24\":1,\"25\":1,\"26\":1,\"27\":1,\"28\":1,\"29\":1,\"30\":1,\"31\":1,\"32\":1,\"33\":1,\"34\":1,\"35\":1,\"36\":1,\"37\":1,\"38\":1,\"39\":1},\"scores\":{\"0\":0.8988790512,\"1\":0.730989933,\"2\":0.6375282407,\"3\":0.6011441946,\"4\":0.467871815,\"5\":0.4407708645,\"6\":0.3251947761,\"7\":0.3114542961,\"8\":0.3046292067,\"9\":0.2860198915,\"10\":0.2737721205,\"11\":0.245634973,\"12\":0.224807173,\"13\":0.2215317786,\"14\":0.2035304457,\"15\":0.1871270686,\"16\":0.1849171668,\"17\":0.1839261651,\"18\":0.1786868572,\"19\":0.1599763781,\"20\":0.1461728513,\"21\":0.132313624,\"22\":0.1308245361,\"23\":0.1215151623,\"24\":0.1185274571,\"25\":0.1146500632,\"26\":0.1129995063,\"27\":0.1120025218,\"28\":0.1110348403,\"29\":0.1087057069,\"30\":0.1085053384,\"31\":0.1039033011,\"32\":0.0926248953,\"33\":0.084703438,\"34\":0.0832260251,\"35\":0.0807019323,\"36\":0.0770947412,\"37\":0.060823366,\"38\":0.0588032007,\"39\":0.0560027063},\"xmin\":{\"0\":0.0,\"1\":65.9064941406,\"2\":63.2508239746,\"3\":0.0,\"4\":68.5852432251,\"5\":71.516418457,\"6\":0.0,\"7\":35.8548660278,\"8\":67.0080108643,\"9\":58.2535743713,\"10\":36.3385505676,\"11\":43.150062561,\"12\":0.0,\"13\":20.491443634,\"14\":10.7384643555,\"15\":82.7519378662,\"16\":23.080406189,\"17\":47.6919708252,\"18\":0.0,\"19\":55.331489563,\"20\":75.9751739502,\"21\":44.1201667786,\"22\":83.4251785278,\"23\":58.9454689026,\"24\":104.5970535278,\"25\":43.7771530151,\"26\":47.5422134399,\"27\":130.8366241455,\"28\":65.7716827393,\"29\":43.2565002441,\"30\":37.5222091675,\"31\":72.2175521851,\"32\":0.7568054199,\"33\":49.4093208313,\"34\":64.9892807007,\"35\":121.5844268799,\"36\":110.2706604004,\"37\":52.0247192383,\"38\":86.9035949707,\"39\":31.5070896149},\"ymin\":{\"0\":155.1079711914,\"1\":4.1505737305,\"2\":100.4486923218,\"3\":134.913482666,\"4\":2.4249010086,\"5\":9.6577568054,\"6\":112.160194397,\"7\":151.441192627,\"8\":7.2477807999,\"9\":114.2640304565,\"10\":88.5044708252,\"11\":41.986328125,\"12\":158.4080963135,\"13\":97.7949829102,\"14\":95.8867492676,\"15\":142.5251922607,\"16\":89.1776733398,\"17\":2.8929424286,\"18\":151.731842041,\"19\":103.0985031128,\"20\":1.7329273224,\"21\":109.9859695435,\"22\":158.3586730957,\"23\":121.1905822754,\"24\":1.7398414612,\"25\":44.0448608398,\"26\":101.6566772461,\"27\":5.0870966911,\"28\":119.1983795166,\"29\":37.3652877808,\"30\":109.5387268066,\"31\":8.2001552582,\"32\":168.2059936523,\"33\":40.7572593689,\"34\":116.5317764282,\"35\":10.561088562,\"36\":3.3246746063,\"37\":107.6755371094,\"38\":152.1412658691,\"39\":92.8260498047},\"xmax\":{\"0\":196.0492858887,\"1\":185.2562561035,\"2\":120.2991638184,\"3\":200.0,\"4\":198.4838562012,\"5\":185.8243408203,\"6\":139.6945495605,\"7\":200.0,\"8\":152.2763671875,\"9\":127.0430908203,\"10\":119.2539825439,\"11\":80.2964477539,\"12\":128.4151000977,\"13\":125.8477630615,\"14\":118.6450805664,\"15\":198.231552124,\"16\":188.5862121582,\"17\":185.8870849609,\"18\":94.7935333252,\"19\":137.8880310059,\"20\":172.6444091797,\"21\":147.1219482422,\"22\":200.0,\"23\":133.1228942871,\"24\":184.3028259277,\"25\":70.4479141235,\"26\":123.3143234253,\"27\":197.1938323975,\"28\":119.5764770508,\"29\":79.7659988403,\"30\":121.799156189,\"31\":141.18359375,\"32\":181.9732666016,\"33\":73.0233001709,\"34\":169.729888916,\"35\":196.3372039795,\"36\":191.3546447754,\"37\":123.6588287354,\"38\":194.1660461426,\"39\":89.4423446655},\"ymax\":{\"0\":185.6528015137,\"1\":17.3356609344,\"2\":132.620010376,\"3\":179.0323791504,\"4\":28.4785194397,\"5\":22.2177314758,\"6\":195.358001709,\"7\":174.9688720703,\"8\":20.015083313,\"9\":132.053604126,\"10\":139.4448547363,\"11\":50.8608016968,\"12\":175.8658294678,\"13\":170.299621582,\"14\":125.5364379883,\"15\":195.1548919678,\"16\":194.2462768555,\"17\":50.2637023926,\"18\":182.8252868652,\"19\":160.1411590576,\"20\":12.9045696259,\"21\":138.4504241943,\"22\":177.2215270996,\"23\":136.1362304688,\"24\":21.6049480438,\"25\":49.5108413696,\"26\":120.2887878418,\"27\":19.7705135345,\"28\":129.1667022705,\"29\":57.6769638062,\"30\":128.8975524902,\"31\":15.3966617584,\"32\":194.1463928223,\"33\":54.2598991394,\"34\":178.8181762695,\"35\":23.4015846252,\"36\":46.96509552,\"37\":192.8249206543,\"38\":168.290435791,\"39\":193.1131896973}}'"
      ]
     },
     "execution_count": 29,
     "metadata": {},
     "output_type": "execute_result"
    }
   ],
   "source": [
    "pred_single_bytes = make_predictions(\n",
    "    prediction_input, deployment.id, mimetype=\"application/json\", charset=\"UTF-8\"\n",
    ")\n",
    "pred_single_bytes"
   ]
  },
  {
   "cell_type": "code",
   "execution_count": 30,
   "metadata": {
    "collapsed": true,
    "jupyter": {
     "outputs_hidden": true
    },
    "tags": []
   },
   "outputs": [
    {
     "data": {
      "text/html": [
       "<div>\n",
       "<style scoped>\n",
       "    .dataframe tbody tr th:only-of-type {\n",
       "        vertical-align: middle;\n",
       "    }\n",
       "\n",
       "    .dataframe tbody tr th {\n",
       "        vertical-align: top;\n",
       "    }\n",
       "\n",
       "    .dataframe thead th {\n",
       "        text-align: right;\n",
       "    }\n",
       "</style>\n",
       "<table border=\"1\" class=\"dataframe\">\n",
       "  <thead>\n",
       "    <tr style=\"text-align: right;\">\n",
       "      <th></th>\n",
       "      <th>labels</th>\n",
       "      <th>scores</th>\n",
       "      <th>xmin</th>\n",
       "      <th>ymin</th>\n",
       "      <th>xmax</th>\n",
       "      <th>ymax</th>\n",
       "    </tr>\n",
       "  </thead>\n",
       "  <tbody>\n",
       "    <tr>\n",
       "      <th>0</th>\n",
       "      <td>1</td>\n",
       "      <td>0.898879</td>\n",
       "      <td>0.000000</td>\n",
       "      <td>155.107971</td>\n",
       "      <td>196.049286</td>\n",
       "      <td>185.652802</td>\n",
       "    </tr>\n",
       "    <tr>\n",
       "      <th>1</th>\n",
       "      <td>1</td>\n",
       "      <td>0.730990</td>\n",
       "      <td>65.906494</td>\n",
       "      <td>4.150574</td>\n",
       "      <td>185.256256</td>\n",
       "      <td>17.335661</td>\n",
       "    </tr>\n",
       "    <tr>\n",
       "      <th>2</th>\n",
       "      <td>1</td>\n",
       "      <td>0.637528</td>\n",
       "      <td>63.250824</td>\n",
       "      <td>100.448692</td>\n",
       "      <td>120.299164</td>\n",
       "      <td>132.620010</td>\n",
       "    </tr>\n",
       "    <tr>\n",
       "      <th>3</th>\n",
       "      <td>1</td>\n",
       "      <td>0.601144</td>\n",
       "      <td>0.000000</td>\n",
       "      <td>134.913483</td>\n",
       "      <td>200.000000</td>\n",
       "      <td>179.032379</td>\n",
       "    </tr>\n",
       "    <tr>\n",
       "      <th>4</th>\n",
       "      <td>1</td>\n",
       "      <td>0.467872</td>\n",
       "      <td>68.585243</td>\n",
       "      <td>2.424901</td>\n",
       "      <td>198.483856</td>\n",
       "      <td>28.478519</td>\n",
       "    </tr>\n",
       "    <tr>\n",
       "      <th>5</th>\n",
       "      <td>1</td>\n",
       "      <td>0.440771</td>\n",
       "      <td>71.516418</td>\n",
       "      <td>9.657757</td>\n",
       "      <td>185.824341</td>\n",
       "      <td>22.217731</td>\n",
       "    </tr>\n",
       "    <tr>\n",
       "      <th>6</th>\n",
       "      <td>1</td>\n",
       "      <td>0.325195</td>\n",
       "      <td>0.000000</td>\n",
       "      <td>112.160194</td>\n",
       "      <td>139.694550</td>\n",
       "      <td>195.358002</td>\n",
       "    </tr>\n",
       "    <tr>\n",
       "      <th>7</th>\n",
       "      <td>1</td>\n",
       "      <td>0.311454</td>\n",
       "      <td>35.854866</td>\n",
       "      <td>151.441193</td>\n",
       "      <td>200.000000</td>\n",
       "      <td>174.968872</td>\n",
       "    </tr>\n",
       "    <tr>\n",
       "      <th>8</th>\n",
       "      <td>1</td>\n",
       "      <td>0.304629</td>\n",
       "      <td>67.008011</td>\n",
       "      <td>7.247781</td>\n",
       "      <td>152.276367</td>\n",
       "      <td>20.015083</td>\n",
       "    </tr>\n",
       "    <tr>\n",
       "      <th>9</th>\n",
       "      <td>1</td>\n",
       "      <td>0.286020</td>\n",
       "      <td>58.253574</td>\n",
       "      <td>114.264030</td>\n",
       "      <td>127.043091</td>\n",
       "      <td>132.053604</td>\n",
       "    </tr>\n",
       "    <tr>\n",
       "      <th>10</th>\n",
       "      <td>1</td>\n",
       "      <td>0.273772</td>\n",
       "      <td>36.338551</td>\n",
       "      <td>88.504471</td>\n",
       "      <td>119.253983</td>\n",
       "      <td>139.444855</td>\n",
       "    </tr>\n",
       "    <tr>\n",
       "      <th>11</th>\n",
       "      <td>1</td>\n",
       "      <td>0.245635</td>\n",
       "      <td>43.150063</td>\n",
       "      <td>41.986328</td>\n",
       "      <td>80.296448</td>\n",
       "      <td>50.860802</td>\n",
       "    </tr>\n",
       "    <tr>\n",
       "      <th>12</th>\n",
       "      <td>1</td>\n",
       "      <td>0.224807</td>\n",
       "      <td>0.000000</td>\n",
       "      <td>158.408096</td>\n",
       "      <td>128.415100</td>\n",
       "      <td>175.865829</td>\n",
       "    </tr>\n",
       "    <tr>\n",
       "      <th>13</th>\n",
       "      <td>1</td>\n",
       "      <td>0.221532</td>\n",
       "      <td>20.491444</td>\n",
       "      <td>97.794983</td>\n",
       "      <td>125.847763</td>\n",
       "      <td>170.299622</td>\n",
       "    </tr>\n",
       "    <tr>\n",
       "      <th>14</th>\n",
       "      <td>1</td>\n",
       "      <td>0.203530</td>\n",
       "      <td>10.738464</td>\n",
       "      <td>95.886749</td>\n",
       "      <td>118.645081</td>\n",
       "      <td>125.536438</td>\n",
       "    </tr>\n",
       "    <tr>\n",
       "      <th>15</th>\n",
       "      <td>1</td>\n",
       "      <td>0.187127</td>\n",
       "      <td>82.751938</td>\n",
       "      <td>142.525192</td>\n",
       "      <td>198.231552</td>\n",
       "      <td>195.154892</td>\n",
       "    </tr>\n",
       "    <tr>\n",
       "      <th>16</th>\n",
       "      <td>1</td>\n",
       "      <td>0.184917</td>\n",
       "      <td>23.080406</td>\n",
       "      <td>89.177673</td>\n",
       "      <td>188.586212</td>\n",
       "      <td>194.246277</td>\n",
       "    </tr>\n",
       "    <tr>\n",
       "      <th>17</th>\n",
       "      <td>1</td>\n",
       "      <td>0.183926</td>\n",
       "      <td>47.691971</td>\n",
       "      <td>2.892942</td>\n",
       "      <td>185.887085</td>\n",
       "      <td>50.263702</td>\n",
       "    </tr>\n",
       "    <tr>\n",
       "      <th>18</th>\n",
       "      <td>1</td>\n",
       "      <td>0.178687</td>\n",
       "      <td>0.000000</td>\n",
       "      <td>151.731842</td>\n",
       "      <td>94.793533</td>\n",
       "      <td>182.825287</td>\n",
       "    </tr>\n",
       "    <tr>\n",
       "      <th>19</th>\n",
       "      <td>1</td>\n",
       "      <td>0.159976</td>\n",
       "      <td>55.331490</td>\n",
       "      <td>103.098503</td>\n",
       "      <td>137.888031</td>\n",
       "      <td>160.141159</td>\n",
       "    </tr>\n",
       "    <tr>\n",
       "      <th>20</th>\n",
       "      <td>1</td>\n",
       "      <td>0.146173</td>\n",
       "      <td>75.975174</td>\n",
       "      <td>1.732927</td>\n",
       "      <td>172.644409</td>\n",
       "      <td>12.904570</td>\n",
       "    </tr>\n",
       "    <tr>\n",
       "      <th>21</th>\n",
       "      <td>1</td>\n",
       "      <td>0.132314</td>\n",
       "      <td>44.120167</td>\n",
       "      <td>109.985970</td>\n",
       "      <td>147.121948</td>\n",
       "      <td>138.450424</td>\n",
       "    </tr>\n",
       "    <tr>\n",
       "      <th>22</th>\n",
       "      <td>1</td>\n",
       "      <td>0.130825</td>\n",
       "      <td>83.425179</td>\n",
       "      <td>158.358673</td>\n",
       "      <td>200.000000</td>\n",
       "      <td>177.221527</td>\n",
       "    </tr>\n",
       "    <tr>\n",
       "      <th>23</th>\n",
       "      <td>1</td>\n",
       "      <td>0.121515</td>\n",
       "      <td>58.945469</td>\n",
       "      <td>121.190582</td>\n",
       "      <td>133.122894</td>\n",
       "      <td>136.136230</td>\n",
       "    </tr>\n",
       "    <tr>\n",
       "      <th>24</th>\n",
       "      <td>1</td>\n",
       "      <td>0.118527</td>\n",
       "      <td>104.597054</td>\n",
       "      <td>1.739841</td>\n",
       "      <td>184.302826</td>\n",
       "      <td>21.604948</td>\n",
       "    </tr>\n",
       "    <tr>\n",
       "      <th>25</th>\n",
       "      <td>1</td>\n",
       "      <td>0.114650</td>\n",
       "      <td>43.777153</td>\n",
       "      <td>44.044861</td>\n",
       "      <td>70.447914</td>\n",
       "      <td>49.510841</td>\n",
       "    </tr>\n",
       "    <tr>\n",
       "      <th>26</th>\n",
       "      <td>1</td>\n",
       "      <td>0.113000</td>\n",
       "      <td>47.542213</td>\n",
       "      <td>101.656677</td>\n",
       "      <td>123.314323</td>\n",
       "      <td>120.288788</td>\n",
       "    </tr>\n",
       "    <tr>\n",
       "      <th>27</th>\n",
       "      <td>1</td>\n",
       "      <td>0.112003</td>\n",
       "      <td>130.836624</td>\n",
       "      <td>5.087097</td>\n",
       "      <td>197.193832</td>\n",
       "      <td>19.770514</td>\n",
       "    </tr>\n",
       "    <tr>\n",
       "      <th>28</th>\n",
       "      <td>1</td>\n",
       "      <td>0.111035</td>\n",
       "      <td>65.771683</td>\n",
       "      <td>119.198380</td>\n",
       "      <td>119.576477</td>\n",
       "      <td>129.166702</td>\n",
       "    </tr>\n",
       "    <tr>\n",
       "      <th>29</th>\n",
       "      <td>1</td>\n",
       "      <td>0.108706</td>\n",
       "      <td>43.256500</td>\n",
       "      <td>37.365288</td>\n",
       "      <td>79.765999</td>\n",
       "      <td>57.676964</td>\n",
       "    </tr>\n",
       "    <tr>\n",
       "      <th>30</th>\n",
       "      <td>1</td>\n",
       "      <td>0.108505</td>\n",
       "      <td>37.522209</td>\n",
       "      <td>109.538727</td>\n",
       "      <td>121.799156</td>\n",
       "      <td>128.897552</td>\n",
       "    </tr>\n",
       "    <tr>\n",
       "      <th>31</th>\n",
       "      <td>1</td>\n",
       "      <td>0.103903</td>\n",
       "      <td>72.217552</td>\n",
       "      <td>8.200155</td>\n",
       "      <td>141.183594</td>\n",
       "      <td>15.396662</td>\n",
       "    </tr>\n",
       "    <tr>\n",
       "      <th>32</th>\n",
       "      <td>1</td>\n",
       "      <td>0.092625</td>\n",
       "      <td>0.756805</td>\n",
       "      <td>168.205994</td>\n",
       "      <td>181.973267</td>\n",
       "      <td>194.146393</td>\n",
       "    </tr>\n",
       "    <tr>\n",
       "      <th>33</th>\n",
       "      <td>1</td>\n",
       "      <td>0.084703</td>\n",
       "      <td>49.409321</td>\n",
       "      <td>40.757259</td>\n",
       "      <td>73.023300</td>\n",
       "      <td>54.259899</td>\n",
       "    </tr>\n",
       "    <tr>\n",
       "      <th>34</th>\n",
       "      <td>1</td>\n",
       "      <td>0.083226</td>\n",
       "      <td>64.989281</td>\n",
       "      <td>116.531776</td>\n",
       "      <td>169.729889</td>\n",
       "      <td>178.818176</td>\n",
       "    </tr>\n",
       "    <tr>\n",
       "      <th>35</th>\n",
       "      <td>1</td>\n",
       "      <td>0.080702</td>\n",
       "      <td>121.584427</td>\n",
       "      <td>10.561089</td>\n",
       "      <td>196.337204</td>\n",
       "      <td>23.401585</td>\n",
       "    </tr>\n",
       "    <tr>\n",
       "      <th>36</th>\n",
       "      <td>1</td>\n",
       "      <td>0.077095</td>\n",
       "      <td>110.270660</td>\n",
       "      <td>3.324675</td>\n",
       "      <td>191.354645</td>\n",
       "      <td>46.965096</td>\n",
       "    </tr>\n",
       "    <tr>\n",
       "      <th>37</th>\n",
       "      <td>1</td>\n",
       "      <td>0.060823</td>\n",
       "      <td>52.024719</td>\n",
       "      <td>107.675537</td>\n",
       "      <td>123.658829</td>\n",
       "      <td>192.824921</td>\n",
       "    </tr>\n",
       "    <tr>\n",
       "      <th>38</th>\n",
       "      <td>1</td>\n",
       "      <td>0.058803</td>\n",
       "      <td>86.903595</td>\n",
       "      <td>152.141266</td>\n",
       "      <td>194.166046</td>\n",
       "      <td>168.290436</td>\n",
       "    </tr>\n",
       "    <tr>\n",
       "      <th>39</th>\n",
       "      <td>1</td>\n",
       "      <td>0.056003</td>\n",
       "      <td>31.507090</td>\n",
       "      <td>92.826050</td>\n",
       "      <td>89.442345</td>\n",
       "      <td>193.113190</td>\n",
       "    </tr>\n",
       "  </tbody>\n",
       "</table>\n",
       "</div>"
      ],
      "text/plain": [
       "    labels    scores        xmin        ymin        xmax        ymax\n",
       "0        1  0.898879    0.000000  155.107971  196.049286  185.652802\n",
       "1        1  0.730990   65.906494    4.150574  185.256256   17.335661\n",
       "2        1  0.637528   63.250824  100.448692  120.299164  132.620010\n",
       "3        1  0.601144    0.000000  134.913483  200.000000  179.032379\n",
       "4        1  0.467872   68.585243    2.424901  198.483856   28.478519\n",
       "5        1  0.440771   71.516418    9.657757  185.824341   22.217731\n",
       "6        1  0.325195    0.000000  112.160194  139.694550  195.358002\n",
       "7        1  0.311454   35.854866  151.441193  200.000000  174.968872\n",
       "8        1  0.304629   67.008011    7.247781  152.276367   20.015083\n",
       "9        1  0.286020   58.253574  114.264030  127.043091  132.053604\n",
       "10       1  0.273772   36.338551   88.504471  119.253983  139.444855\n",
       "11       1  0.245635   43.150063   41.986328   80.296448   50.860802\n",
       "12       1  0.224807    0.000000  158.408096  128.415100  175.865829\n",
       "13       1  0.221532   20.491444   97.794983  125.847763  170.299622\n",
       "14       1  0.203530   10.738464   95.886749  118.645081  125.536438\n",
       "15       1  0.187127   82.751938  142.525192  198.231552  195.154892\n",
       "16       1  0.184917   23.080406   89.177673  188.586212  194.246277\n",
       "17       1  0.183926   47.691971    2.892942  185.887085   50.263702\n",
       "18       1  0.178687    0.000000  151.731842   94.793533  182.825287\n",
       "19       1  0.159976   55.331490  103.098503  137.888031  160.141159\n",
       "20       1  0.146173   75.975174    1.732927  172.644409   12.904570\n",
       "21       1  0.132314   44.120167  109.985970  147.121948  138.450424\n",
       "22       1  0.130825   83.425179  158.358673  200.000000  177.221527\n",
       "23       1  0.121515   58.945469  121.190582  133.122894  136.136230\n",
       "24       1  0.118527  104.597054    1.739841  184.302826   21.604948\n",
       "25       1  0.114650   43.777153   44.044861   70.447914   49.510841\n",
       "26       1  0.113000   47.542213  101.656677  123.314323  120.288788\n",
       "27       1  0.112003  130.836624    5.087097  197.193832   19.770514\n",
       "28       1  0.111035   65.771683  119.198380  119.576477  129.166702\n",
       "29       1  0.108706   43.256500   37.365288   79.765999   57.676964\n",
       "30       1  0.108505   37.522209  109.538727  121.799156  128.897552\n",
       "31       1  0.103903   72.217552    8.200155  141.183594   15.396662\n",
       "32       1  0.092625    0.756805  168.205994  181.973267  194.146393\n",
       "33       1  0.084703   49.409321   40.757259   73.023300   54.259899\n",
       "34       1  0.083226   64.989281  116.531776  169.729889  178.818176\n",
       "35       1  0.080702  121.584427   10.561089  196.337204   23.401585\n",
       "36       1  0.077095  110.270660    3.324675  191.354645   46.965096\n",
       "37       1  0.060823   52.024719  107.675537  123.658829  192.824921\n",
       "38       1  0.058803   86.903595  152.141266  194.166046  168.290436\n",
       "39       1  0.056003   31.507090   92.826050   89.442345  193.113190"
      ]
     },
     "execution_count": 30,
     "metadata": {},
     "output_type": "execute_result"
    }
   ],
   "source": [
    "pred_single_df = pd.DataFrame(json.loads(pred_single_bytes))\n",
    "pred_single_df"
   ]
  },
  {
   "cell_type": "code",
   "execution_count": 31,
   "metadata": {},
   "outputs": [
    {
     "data": {
      "text/html": [
       "<div>\n",
       "<style scoped>\n",
       "    .dataframe tbody tr th:only-of-type {\n",
       "        vertical-align: middle;\n",
       "    }\n",
       "\n",
       "    .dataframe tbody tr th {\n",
       "        vertical-align: top;\n",
       "    }\n",
       "\n",
       "    .dataframe thead th {\n",
       "        text-align: right;\n",
       "    }\n",
       "</style>\n",
       "<table border=\"1\" class=\"dataframe\">\n",
       "  <thead>\n",
       "    <tr style=\"text-align: right;\">\n",
       "      <th></th>\n",
       "      <th>labels</th>\n",
       "      <th>scores</th>\n",
       "      <th>xmin</th>\n",
       "      <th>ymin</th>\n",
       "      <th>xmax</th>\n",
       "      <th>ymax</th>\n",
       "      <th>filename</th>\n",
       "      <th>timestamp</th>\n",
       "    </tr>\n",
       "  </thead>\n",
       "  <tbody>\n",
       "    <tr>\n",
       "      <th>0</th>\n",
       "      <td>1</td>\n",
       "      <td>0.881277</td>\n",
       "      <td>0.000000</td>\n",
       "      <td>104.507248</td>\n",
       "      <td>159.336609</td>\n",
       "      <td>133.358154</td>\n",
       "      <td>scratches_241.jpg</td>\n",
       "      <td>2023-12-11 10:38:57.023346</td>\n",
       "    </tr>\n",
       "    <tr>\n",
       "      <th>1</th>\n",
       "      <td>1</td>\n",
       "      <td>0.814754</td>\n",
       "      <td>6.901443</td>\n",
       "      <td>24.614864</td>\n",
       "      <td>200.000000</td>\n",
       "      <td>47.612072</td>\n",
       "      <td>scratches_241.jpg</td>\n",
       "      <td>2023-12-11 10:38:57.023346</td>\n",
       "    </tr>\n",
       "    <tr>\n",
       "      <th>2</th>\n",
       "      <td>1</td>\n",
       "      <td>0.662734</td>\n",
       "      <td>120.827332</td>\n",
       "      <td>174.528442</td>\n",
       "      <td>191.507202</td>\n",
       "      <td>193.147614</td>\n",
       "      <td>scratches_241.jpg</td>\n",
       "      <td>2023-12-11 10:38:57.023346</td>\n",
       "    </tr>\n",
       "    <tr>\n",
       "      <th>3</th>\n",
       "      <td>1</td>\n",
       "      <td>0.599043</td>\n",
       "      <td>80.770538</td>\n",
       "      <td>164.872620</td>\n",
       "      <td>196.405060</td>\n",
       "      <td>194.066833</td>\n",
       "      <td>scratches_241.jpg</td>\n",
       "      <td>2023-12-11 10:38:57.023346</td>\n",
       "    </tr>\n",
       "    <tr>\n",
       "      <th>4</th>\n",
       "      <td>1</td>\n",
       "      <td>0.591915</td>\n",
       "      <td>128.783890</td>\n",
       "      <td>164.855438</td>\n",
       "      <td>181.432785</td>\n",
       "      <td>195.831787</td>\n",
       "      <td>scratches_241.jpg</td>\n",
       "      <td>2023-12-11 10:38:57.023346</td>\n",
       "    </tr>\n",
       "    <tr>\n",
       "      <th>...</th>\n",
       "      <td>...</td>\n",
       "      <td>...</td>\n",
       "      <td>...</td>\n",
       "      <td>...</td>\n",
       "      <td>...</td>\n",
       "      <td>...</td>\n",
       "      <td>...</td>\n",
       "      <td>...</td>\n",
       "    </tr>\n",
       "    <tr>\n",
       "      <th>551</th>\n",
       "      <td>1</td>\n",
       "      <td>0.080702</td>\n",
       "      <td>121.584427</td>\n",
       "      <td>10.561089</td>\n",
       "      <td>196.337204</td>\n",
       "      <td>23.401585</td>\n",
       "      <td>scratches_261.jpg</td>\n",
       "      <td>2023-12-11 10:40:01.735730</td>\n",
       "    </tr>\n",
       "    <tr>\n",
       "      <th>552</th>\n",
       "      <td>1</td>\n",
       "      <td>0.077095</td>\n",
       "      <td>110.270660</td>\n",
       "      <td>3.324675</td>\n",
       "      <td>191.354645</td>\n",
       "      <td>46.965096</td>\n",
       "      <td>scratches_261.jpg</td>\n",
       "      <td>2023-12-11 10:40:01.735730</td>\n",
       "    </tr>\n",
       "    <tr>\n",
       "      <th>553</th>\n",
       "      <td>1</td>\n",
       "      <td>0.060823</td>\n",
       "      <td>52.024719</td>\n",
       "      <td>107.675537</td>\n",
       "      <td>123.658829</td>\n",
       "      <td>192.824921</td>\n",
       "      <td>scratches_261.jpg</td>\n",
       "      <td>2023-12-11 10:40:01.735730</td>\n",
       "    </tr>\n",
       "    <tr>\n",
       "      <th>554</th>\n",
       "      <td>1</td>\n",
       "      <td>0.058803</td>\n",
       "      <td>86.903595</td>\n",
       "      <td>152.141266</td>\n",
       "      <td>194.166046</td>\n",
       "      <td>168.290436</td>\n",
       "      <td>scratches_261.jpg</td>\n",
       "      <td>2023-12-11 10:40:01.735730</td>\n",
       "    </tr>\n",
       "    <tr>\n",
       "      <th>555</th>\n",
       "      <td>1</td>\n",
       "      <td>0.056003</td>\n",
       "      <td>31.507090</td>\n",
       "      <td>92.826050</td>\n",
       "      <td>89.442345</td>\n",
       "      <td>193.113190</td>\n",
       "      <td>scratches_261.jpg</td>\n",
       "      <td>2023-12-11 10:40:01.735730</td>\n",
       "    </tr>\n",
       "  </tbody>\n",
       "</table>\n",
       "<p>556 rows × 8 columns</p>\n",
       "</div>"
      ],
      "text/plain": [
       "     labels    scores        xmin        ymin        xmax        ymax  \\\n",
       "0         1  0.881277    0.000000  104.507248  159.336609  133.358154   \n",
       "1         1  0.814754    6.901443   24.614864  200.000000   47.612072   \n",
       "2         1  0.662734  120.827332  174.528442  191.507202  193.147614   \n",
       "3         1  0.599043   80.770538  164.872620  196.405060  194.066833   \n",
       "4         1  0.591915  128.783890  164.855438  181.432785  195.831787   \n",
       "..      ...       ...         ...         ...         ...         ...   \n",
       "551       1  0.080702  121.584427   10.561089  196.337204   23.401585   \n",
       "552       1  0.077095  110.270660    3.324675  191.354645   46.965096   \n",
       "553       1  0.060823   52.024719  107.675537  123.658829  192.824921   \n",
       "554       1  0.058803   86.903595  152.141266  194.166046  168.290436   \n",
       "555       1  0.056003   31.507090   92.826050   89.442345  193.113190   \n",
       "\n",
       "              filename                  timestamp  \n",
       "0    scratches_241.jpg 2023-12-11 10:38:57.023346  \n",
       "1    scratches_241.jpg 2023-12-11 10:38:57.023346  \n",
       "2    scratches_241.jpg 2023-12-11 10:38:57.023346  \n",
       "3    scratches_241.jpg 2023-12-11 10:38:57.023346  \n",
       "4    scratches_241.jpg 2023-12-11 10:38:57.023346  \n",
       "..                 ...                        ...  \n",
       "551  scratches_261.jpg 2023-12-11 10:40:01.735730  \n",
       "552  scratches_261.jpg 2023-12-11 10:40:01.735730  \n",
       "553  scratches_261.jpg 2023-12-11 10:40:01.735730  \n",
       "554  scratches_261.jpg 2023-12-11 10:40:01.735730  \n",
       "555  scratches_261.jpg 2023-12-11 10:40:01.735730  \n",
       "\n",
       "[556 rows x 8 columns]"
      ]
     },
     "execution_count": 31,
     "metadata": {},
     "output_type": "execute_result"
    }
   ],
   "source": [
    "# predict on batch\n",
    "preds_df = pd.DataFrame()\n",
    "for test_img_p in test_img_paths:\n",
    "    pred_img_b64 = get_base_64_image(Image.open(test_img_p))\n",
    "    pred_bytes = make_predictions(\n",
    "        pred_img_b64, deployment.id, mimetype=\"application/json\", charset=\"UTF-8\"\n",
    "    )\n",
    "    df_ = pd.DataFrame(json.loads(pred_bytes))\n",
    "    df_[\"filename\"] = test_img_p.split(\"/\")[-1]\n",
    "    df_[\"timestamp\"] = pd.to_datetime(\"today\")\n",
    "\n",
    "    preds_df = pd.concat([preds_df, df_], axis=0, ignore_index=True)\n",
    "\n",
    "preds_df"
   ]
  },
  {
   "cell_type": "code",
   "execution_count": 32,
   "metadata": {},
   "outputs": [
    {
     "data": {
      "image/png": "[encoded data removed]",
      "text/plain": [
       "<PIL.Image.Image image mode=RGB size=200x200 at 0x1213085E0>"
      ]
     },
     "execution_count": 32,
     "metadata": {},
     "output_type": "execute_result"
    }
   ],
   "source": [
    "# view prediction\n",
    "prediction_image_annotated = annotate_image(\n",
    "    prediction_image,\n",
    "    preds_df[preds_df.filename == test_img_path.split(\"/\")[-1]],\n",
    "    thresh=0.6,\n",
    ")\n",
    "prediction_image_annotated"
   ]
  },
  {
   "cell_type": "markdown",
   "metadata": {},
   "source": [
    "## Custom metrics"
   ]
  },
  {
   "cell_type": "markdown",
   "metadata": {},
   "source": [
    "### Creating custom metric with GUI"
   ]
  },
  {
   "cell_type": "markdown",
   "metadata": {},
   "source": [
    "Navigate to the custom metrics tab of the deployment in the gui and utilize the [custom metrics docs page](https://app.datarobot.com/docs/mlops/monitor/custom-metrics.html#add-custom-metrics) to set up custom metrics. For this object detection workflow we created a metric for mean average precision (mAP).\n",
    "\n",
    "- Name: mAP\n",
    "- Name of y-axis (label): mAP\n",
    "- Aggregation type: Gauge\n",
    "- Metric direction: Higher is better\n",
    "- timestamp column: timestamp\n",
    "- Value Column: mAP\n",
    "- Date format: %Y-%m-%d %H:%M:%S 2077-01-31 12:57:25\n",
    "\n",
    "Note: When presented with the Upload Data dialog box, select the \"Use API\" option to generate the Python code used here (with the `if __name__ == \"__main__\":` block removed).\n",
    "\n",
    "The image below shows a sample mAP custom metric view after processing two batches of images.\n",
    "<table><tr>\n",
    "<td> <img src=\"display_imgs/mAP_sample.png\"/> </td>\n",
    "</tr></table>"
   ]
  },
  {
   "cell_type": "code",
   "execution_count": 33,
   "metadata": {},
   "outputs": [
    {
     "name": "stdout",
     "output_type": "stream",
     "text": [
      "https://app.datarobot.com/deployments/65772909c73cb89b896ef917/custom-metrics\n"
     ]
    }
   ],
   "source": [
    "# get the url for the custom metrics section of the deployment\n",
    "deployment_url = deployment.get_uri()\n",
    "print(deployment_url.replace(\"overview\", \"custom-metrics\"))"
   ]
  },
  {
   "cell_type": "code",
   "execution_count": 66,
   "metadata": {},
   "outputs": [],
   "source": [
    "\"\"\"\n",
    "Usage:\n",
    "    python datarobot-custom-metric-upload.py <input-file.csv>\n",
    "    CSV should contain timestamp and value columns\n",
    "\n",
    "This example uses the requests and pandas library which you can install with:\n",
    "    pip install requests\n",
    "    pip install pandas\n",
    "We highly recommend that you update SSL certificates with:\n",
    "    pip install -U \"urllib3[secure]\" certifi\n",
    "\"\"\"\n",
    "from __future__ import absolute_import\n",
    "\n",
    "import sys\n",
    "\n",
    "import pandas as pd\n",
    "import requests\n",
    "\n",
    "API_URL = \"https://app.datarobot.com/api/v2/deployments/{}/customMetrics/{}/fromJSON/\"\n",
    "DEPLOYMENT_ID = \"65772909c73cb89b896ef917\"\n",
    "CUSTOM_METRIC_ID = \"65774ede3760421973d89174\"\n",
    "MODEL_PACKAGE_ID = None\n",
    "\n",
    "HEADERS = {\n",
    "    \"Authorization\": \"Bearer {}\".format(API_KEY),\n",
    "    \"User-Agent\": \"IntegrationSnippet-Requests\",\n",
    "}\n",
    "\n",
    "\n",
    "def submit_data(df):\n",
    "    rows = [\n",
    "        {\"timestamp\": ts.isoformat(), \"value\": value}\n",
    "        for ts, value in zip(df[\"timestamp\"], df[\"value\"])\n",
    "    ]\n",
    "    response = requests.post(\n",
    "        API_URL.format(DEPLOYMENT_ID, CUSTOM_METRIC_ID),\n",
    "        json={\n",
    "            \"modelPackageId\": MODEL_PACKAGE_ID,\n",
    "            \"buckets\": rows,\n",
    "        },\n",
    "        headers=HEADERS,\n",
    "    )\n",
    "    response.raise_for_status()"
   ]
  },
  {
   "cell_type": "code",
   "execution_count": 67,
   "metadata": {},
   "outputs": [],
   "source": [
    "# support funciton to pull ai catalog data into pandas df\n",
    "\n",
    "\n",
    "def ai_catalog_to_pandas(dataset):\n",
    "    with BytesIO() as outfile:\n",
    "        dataset.get_file(filelike=outfile)\n",
    "        outfile.seek(0)\n",
    "        df = pd.read_csv(outfile)\n",
    "    return df"
   ]
  },
  {
   "cell_type": "markdown",
   "metadata": {},
   "source": [
    "#### Read all groundtruth"
   ]
  },
  {
   "cell_type": "code",
   "execution_count": 37,
   "metadata": {},
   "outputs": [],
   "source": [
    "# custom function to pull labels into required format\n",
    "\n",
    "\n",
    "def get_gt_from_dir(img_dir):\n",
    "    img_paths = sorted(glob.glob(os.path.join(img_dir, \"*.jpg\")))\n",
    "    result_dict = {\n",
    "        \"xmin\": [],\n",
    "        \"ymin\": [],\n",
    "        \"ymax\": [],\n",
    "        \"xmax\": [],\n",
    "        \"filename\": [],\n",
    "        \"labels\": [],\n",
    "        \"label_idx\": [],\n",
    "    }\n",
    "    for img_path in img_paths:\n",
    "        label_idx = 0\n",
    "        img_trg_path = img_path.replace(\"images\", \"annotations\").replace(\".jpg\", \".xml\")\n",
    "        with open(img_trg_path, \"r\") as file:\n",
    "            xml_data = file.read()\n",
    "            root = ET.fromstring(xml_data)\n",
    "            for obj in root.findall(\"object\"):\n",
    "                xmin = float(obj.find(\"bndbox/xmin\").text)\n",
    "                ymin = float(obj.find(\"bndbox/ymin\").text)\n",
    "                xmax = float(obj.find(\"bndbox/xmax\").text)\n",
    "                ymax = float(obj.find(\"bndbox/ymax\").text)\n",
    "                # would also grab class here for a multiclass object detector\n",
    "                result_dict[\"xmin\"].append(xmin)\n",
    "                result_dict[\"ymin\"].append(ymin)\n",
    "                result_dict[\"xmax\"].append(xmax)\n",
    "                result_dict[\"ymax\"].append(ymax)\n",
    "                result_dict[\"filename\"].append(img_path.split(\"/\")[-1])\n",
    "                result_dict[\"labels\"].append(1)\n",
    "                result_dict[\"label_idx\"].append(label_idx)\n",
    "                label_idx += 1\n",
    "\n",
    "    return pd.DataFrame.from_dict(result_dict)"
   ]
  },
  {
   "cell_type": "code",
   "execution_count": 44,
   "metadata": {},
   "outputs": [
    {
     "data": {
      "text/html": [
       "<div>\n",
       "<style scoped>\n",
       "    .dataframe tbody tr th:only-of-type {\n",
       "        vertical-align: middle;\n",
       "    }\n",
       "\n",
       "    .dataframe tbody tr th {\n",
       "        vertical-align: top;\n",
       "    }\n",
       "\n",
       "    .dataframe thead th {\n",
       "        text-align: right;\n",
       "    }\n",
       "</style>\n",
       "<table border=\"1\" class=\"dataframe\">\n",
       "  <thead>\n",
       "    <tr style=\"text-align: right;\">\n",
       "      <th></th>\n",
       "      <th>xmin</th>\n",
       "      <th>ymin</th>\n",
       "      <th>ymax</th>\n",
       "      <th>xmax</th>\n",
       "      <th>filename</th>\n",
       "      <th>labels</th>\n",
       "      <th>label_idx</th>\n",
       "    </tr>\n",
       "  </thead>\n",
       "  <tbody>\n",
       "    <tr>\n",
       "      <th>0</th>\n",
       "      <td>1.0</td>\n",
       "      <td>25.0</td>\n",
       "      <td>50.0</td>\n",
       "      <td>199.0</td>\n",
       "      <td>scratches_241.jpg</td>\n",
       "      <td>1</td>\n",
       "      <td>0</td>\n",
       "    </tr>\n",
       "    <tr>\n",
       "      <th>1</th>\n",
       "      <td>1.0</td>\n",
       "      <td>106.0</td>\n",
       "      <td>136.0</td>\n",
       "      <td>161.0</td>\n",
       "      <td>scratches_241.jpg</td>\n",
       "      <td>1</td>\n",
       "      <td>1</td>\n",
       "    </tr>\n",
       "    <tr>\n",
       "      <th>2</th>\n",
       "      <td>7.0</td>\n",
       "      <td>35.0</td>\n",
       "      <td>52.0</td>\n",
       "      <td>108.0</td>\n",
       "      <td>scratches_242.jpg</td>\n",
       "      <td>1</td>\n",
       "      <td>0</td>\n",
       "    </tr>\n",
       "    <tr>\n",
       "      <th>3</th>\n",
       "      <td>82.0</td>\n",
       "      <td>156.0</td>\n",
       "      <td>171.0</td>\n",
       "      <td>199.0</td>\n",
       "      <td>scratches_242.jpg</td>\n",
       "      <td>1</td>\n",
       "      <td>1</td>\n",
       "    </tr>\n",
       "    <tr>\n",
       "      <th>4</th>\n",
       "      <td>2.0</td>\n",
       "      <td>169.0</td>\n",
       "      <td>195.0</td>\n",
       "      <td>27.0</td>\n",
       "      <td>scratches_242.jpg</td>\n",
       "      <td>1</td>\n",
       "      <td>2</td>\n",
       "    </tr>\n",
       "    <tr>\n",
       "      <th>...</th>\n",
       "      <td>...</td>\n",
       "      <td>...</td>\n",
       "      <td>...</td>\n",
       "      <td>...</td>\n",
       "      <td>...</td>\n",
       "      <td>...</td>\n",
       "      <td>...</td>\n",
       "    </tr>\n",
       "    <tr>\n",
       "      <th>118</th>\n",
       "      <td>13.0</td>\n",
       "      <td>121.0</td>\n",
       "      <td>135.0</td>\n",
       "      <td>99.0</td>\n",
       "      <td>scratches_297.jpg</td>\n",
       "      <td>1</td>\n",
       "      <td>1</td>\n",
       "    </tr>\n",
       "    <tr>\n",
       "      <th>119</th>\n",
       "      <td>6.0</td>\n",
       "      <td>7.0</td>\n",
       "      <td>44.0</td>\n",
       "      <td>199.0</td>\n",
       "      <td>scratches_298.jpg</td>\n",
       "      <td>1</td>\n",
       "      <td>0</td>\n",
       "    </tr>\n",
       "    <tr>\n",
       "      <th>120</th>\n",
       "      <td>2.0</td>\n",
       "      <td>135.0</td>\n",
       "      <td>186.0</td>\n",
       "      <td>200.0</td>\n",
       "      <td>scratches_299.jpg</td>\n",
       "      <td>1</td>\n",
       "      <td>0</td>\n",
       "    </tr>\n",
       "    <tr>\n",
       "      <th>121</th>\n",
       "      <td>88.0</td>\n",
       "      <td>1.0</td>\n",
       "      <td>34.0</td>\n",
       "      <td>200.0</td>\n",
       "      <td>scratches_300.jpg</td>\n",
       "      <td>1</td>\n",
       "      <td>0</td>\n",
       "    </tr>\n",
       "    <tr>\n",
       "      <th>122</th>\n",
       "      <td>2.0</td>\n",
       "      <td>16.0</td>\n",
       "      <td>34.0</td>\n",
       "      <td>86.0</td>\n",
       "      <td>scratches_300.jpg</td>\n",
       "      <td>1</td>\n",
       "      <td>1</td>\n",
       "    </tr>\n",
       "  </tbody>\n",
       "</table>\n",
       "<p>123 rows × 7 columns</p>\n",
       "</div>"
      ],
      "text/plain": [
       "     xmin   ymin   ymax   xmax           filename  labels  label_idx\n",
       "0     1.0   25.0   50.0  199.0  scratches_241.jpg       1          0\n",
       "1     1.0  106.0  136.0  161.0  scratches_241.jpg       1          1\n",
       "2     7.0   35.0   52.0  108.0  scratches_242.jpg       1          0\n",
       "3    82.0  156.0  171.0  199.0  scratches_242.jpg       1          1\n",
       "4     2.0  169.0  195.0   27.0  scratches_242.jpg       1          2\n",
       "..    ...    ...    ...    ...                ...     ...        ...\n",
       "118  13.0  121.0  135.0   99.0  scratches_297.jpg       1          1\n",
       "119   6.0    7.0   44.0  199.0  scratches_298.jpg       1          0\n",
       "120   2.0  135.0  186.0  200.0  scratches_299.jpg       1          0\n",
       "121  88.0    1.0   34.0  200.0  scratches_300.jpg       1          0\n",
       "122   2.0   16.0   34.0   86.0  scratches_300.jpg       1          1\n",
       "\n",
       "[123 rows x 7 columns]"
      ]
     },
     "execution_count": 44,
     "metadata": {},
     "output_type": "execute_result"
    }
   ],
   "source": [
    "gt_df = get_gt_from_dir(os.path.join(data_path, \"images\"))\n",
    "gt_df"
   ]
  },
  {
   "cell_type": "markdown",
   "metadata": {},
   "source": [
    "#### Upload ground truth dataframe to the AI Catalog"
   ]
  },
  {
   "cell_type": "code",
   "execution_count": 47,
   "metadata": {},
   "outputs": [
    {
     "name": "stdout",
     "output_type": "stream",
     "text": [
      "(123, 7)\n"
     ]
    }
   ],
   "source": [
    "# Join with existing ground truth dataframe if one exists\n",
    "\n",
    "GT_AI_CATALOG_ID = \"657333649081a0db62ef8558\"\n",
    "dataset = dr.Dataset.get(GT_AI_CATALOG_ID)\n",
    "\n",
    "gt_existing_df = ai_catalog_to_pandas(dataset)\n",
    "\n",
    "# pull unique filenames from each dataset\n",
    "gt_existing_fns = gt_existing_df.filename.unique()\n",
    "gt_fns = gt_df.filename.unique()\n",
    "\n",
    "existing_dupe_fns = [fn for fn in gt_existing_fns if fn in gt_fns]\n",
    "\n",
    "# drop outdated ground truth labels\n",
    "gt_existing_df = gt_existing_df[~gt_existing_df[\"filename\"].isin(existing_dupe_fns)]\n",
    "\n",
    "gt_df = pd.concat([gt_existing_df, gt_df], axis=0)\n",
    "print(gt_df.shape)\n",
    "\n",
    "# update AI Catalog\n",
    "gt_dataset = dr.Dataset.create_version_from_in_memory_data(\n",
    "    dataset_id=GT_AI_CATALOG_ID, data_frame=gt_df\n",
    ")"
   ]
  },
  {
   "cell_type": "code",
   "execution_count": 48,
   "metadata": {},
   "outputs": [
    {
     "data": {
      "text/plain": [
       "'https://app.datarobot.com/ai-catalog/657333649081a0db62ef8558'"
      ]
     },
     "execution_count": 48,
     "metadata": {},
     "output_type": "execute_result"
    }
   ],
   "source": [
    "# view dataset in the ai catalog\n",
    "gt_dataset.get_uri()"
   ]
  },
  {
   "cell_type": "code",
   "execution_count": null,
   "metadata": {},
   "outputs": [],
   "source": [
    "# if new ai catalog entry\n",
    "\n",
    "gt_dataset = dr.Dataset.create_from_in_memory_data(data_frame=gt_df)\n",
    "gt_dataset.modify(name=\"Object Detection Ground Truth Table\")\n",
    "\n",
    "gt_dataset.get_uri()"
   ]
  },
  {
   "cell_type": "markdown",
   "metadata": {},
   "source": [
    "#### Test custom metric data submission"
   ]
  },
  {
   "cell_type": "code",
   "execution_count": 60,
   "metadata": {},
   "outputs": [
    {
     "data": {
      "text/html": [
       "<div>\n",
       "<style scoped>\n",
       "    .dataframe tbody tr th:only-of-type {\n",
       "        vertical-align: middle;\n",
       "    }\n",
       "\n",
       "    .dataframe tbody tr th {\n",
       "        vertical-align: top;\n",
       "    }\n",
       "\n",
       "    .dataframe thead th {\n",
       "        text-align: right;\n",
       "    }\n",
       "</style>\n",
       "<table border=\"1\" class=\"dataframe\">\n",
       "  <thead>\n",
       "    <tr style=\"text-align: right;\">\n",
       "      <th></th>\n",
       "      <th>timestamp</th>\n",
       "      <th>value</th>\n",
       "    </tr>\n",
       "  </thead>\n",
       "  <tbody>\n",
       "    <tr>\n",
       "      <th>0</th>\n",
       "      <td>2023-12-10 13:17:09.085422</td>\n",
       "      <td>0.65</td>\n",
       "    </tr>\n",
       "    <tr>\n",
       "      <th>1</th>\n",
       "      <td>2023-12-11 13:17:09.085766</td>\n",
       "      <td>0.71</td>\n",
       "    </tr>\n",
       "  </tbody>\n",
       "</table>\n",
       "</div>"
      ],
      "text/plain": [
       "                   timestamp  value\n",
       "0 2023-12-10 13:17:09.085422   0.65\n",
       "1 2023-12-11 13:17:09.085766   0.71"
      ]
     },
     "execution_count": 60,
     "metadata": {},
     "output_type": "execute_result"
    }
   ],
   "source": [
    "df = pd.DataFrame(\n",
    "    {\n",
    "        \"timestamp\": [\n",
    "            pd.to_datetime(\"today\") - DateOffset(days=1),\n",
    "            pd.to_datetime(\"today\"),\n",
    "        ],\n",
    "        \"value\": [0.65, 0.71],\n",
    "    }\n",
    ")\n",
    "df"
   ]
  },
  {
   "cell_type": "code",
   "execution_count": 61,
   "metadata": {},
   "outputs": [],
   "source": [
    "submit_data(df)"
   ]
  },
  {
   "cell_type": "markdown",
   "metadata": {},
   "source": [
    "### Compute metrics"
   ]
  },
  {
   "cell_type": "code",
   "execution_count": 54,
   "metadata": {},
   "outputs": [
    {
     "data": {
      "text/html": [
       "<div>\n",
       "<style scoped>\n",
       "    .dataframe tbody tr th:only-of-type {\n",
       "        vertical-align: middle;\n",
       "    }\n",
       "\n",
       "    .dataframe tbody tr th {\n",
       "        vertical-align: top;\n",
       "    }\n",
       "\n",
       "    .dataframe thead th {\n",
       "        text-align: right;\n",
       "    }\n",
       "</style>\n",
       "<table border=\"1\" class=\"dataframe\">\n",
       "  <thead>\n",
       "    <tr style=\"text-align: right;\">\n",
       "      <th></th>\n",
       "      <th>xmin</th>\n",
       "      <th>ymin</th>\n",
       "      <th>ymax</th>\n",
       "      <th>xmax</th>\n",
       "      <th>filename</th>\n",
       "      <th>labels</th>\n",
       "      <th>label_idx</th>\n",
       "    </tr>\n",
       "  </thead>\n",
       "  <tbody>\n",
       "    <tr>\n",
       "      <th>0</th>\n",
       "      <td>1.0</td>\n",
       "      <td>25.0</td>\n",
       "      <td>50.0</td>\n",
       "      <td>199.0</td>\n",
       "      <td>scratches_241.jpg</td>\n",
       "      <td>1</td>\n",
       "      <td>0</td>\n",
       "    </tr>\n",
       "    <tr>\n",
       "      <th>1</th>\n",
       "      <td>1.0</td>\n",
       "      <td>106.0</td>\n",
       "      <td>136.0</td>\n",
       "      <td>161.0</td>\n",
       "      <td>scratches_241.jpg</td>\n",
       "      <td>1</td>\n",
       "      <td>1</td>\n",
       "    </tr>\n",
       "    <tr>\n",
       "      <th>2</th>\n",
       "      <td>7.0</td>\n",
       "      <td>35.0</td>\n",
       "      <td>52.0</td>\n",
       "      <td>108.0</td>\n",
       "      <td>scratches_242.jpg</td>\n",
       "      <td>1</td>\n",
       "      <td>0</td>\n",
       "    </tr>\n",
       "    <tr>\n",
       "      <th>3</th>\n",
       "      <td>82.0</td>\n",
       "      <td>156.0</td>\n",
       "      <td>171.0</td>\n",
       "      <td>199.0</td>\n",
       "      <td>scratches_242.jpg</td>\n",
       "      <td>1</td>\n",
       "      <td>1</td>\n",
       "    </tr>\n",
       "    <tr>\n",
       "      <th>4</th>\n",
       "      <td>2.0</td>\n",
       "      <td>169.0</td>\n",
       "      <td>195.0</td>\n",
       "      <td>27.0</td>\n",
       "      <td>scratches_242.jpg</td>\n",
       "      <td>1</td>\n",
       "      <td>2</td>\n",
       "    </tr>\n",
       "  </tbody>\n",
       "</table>\n",
       "</div>"
      ],
      "text/plain": [
       "   xmin   ymin   ymax   xmax           filename  labels  label_idx\n",
       "0   1.0   25.0   50.0  199.0  scratches_241.jpg       1          0\n",
       "1   1.0  106.0  136.0  161.0  scratches_241.jpg       1          1\n",
       "2   7.0   35.0   52.0  108.0  scratches_242.jpg       1          0\n",
       "3  82.0  156.0  171.0  199.0  scratches_242.jpg       1          1\n",
       "4   2.0  169.0  195.0   27.0  scratches_242.jpg       1          2"
      ]
     },
     "execution_count": 54,
     "metadata": {},
     "output_type": "execute_result"
    }
   ],
   "source": [
    "# get groundtruth for predictions\n",
    "gt_fns = gt_df.filename.unique()\n",
    "pred_fns = preds_df.filename.unique()\n",
    "\n",
    "fns = [fn for fn in gt_fns if fn in pred_fns]\n",
    "\n",
    "gt_subset_df = gt_df[gt_df.filename.isin(fns)]\n",
    "gt_subset_df.head()"
   ]
  },
  {
   "cell_type": "code",
   "execution_count": 55,
   "metadata": {},
   "outputs": [],
   "source": [
    "# metric computing package expects normalized box coordinates\n",
    "# this function and the operation below assumes square images\n",
    "\n",
    "img_size = prediction_image.size\n",
    "\n",
    "\n",
    "def norm(row):\n",
    "    return row / img_size[0]"
   ]
  },
  {
   "cell_type": "code",
   "execution_count": 56,
   "metadata": {},
   "outputs": [
    {
     "name": "stdout",
     "output_type": "stream",
     "text": [
      "Raw predictions: 556\n",
      "Predictions after thresholding with 0.5: 64\n"
     ]
    }
   ],
   "source": [
    "# reduce predictions to those above thresh and normalize coordinates\n",
    "\n",
    "\n",
    "CONF_THRESH = 0.5\n",
    "\n",
    "preds_norm_df = preds_df.copy()\n",
    "print(\"Raw predictions:\", len(preds_norm_df))\n",
    "preds_norm_df = preds_norm_df[preds_norm_df.scores > CONF_THRESH].reset_index(drop=True)\n",
    "# preds_norm_df = preds_norm_df[preds_norm_df.filename.isin(fns)]  # if testing with a subset\n",
    "print(f\"Predictions after thresholding with {CONF_THRESH}: {len(preds_norm_df)}\")\n",
    "preds_norm_df.xmin = preds_norm_df.xmin.apply(norm)\n",
    "preds_norm_df.ymin = preds_norm_df.ymin.apply(norm)\n",
    "preds_norm_df.xmax = preds_norm_df.xmax.apply(norm)\n",
    "preds_norm_df.ymax = preds_norm_df.ymax.apply(norm)\n",
    "\n",
    "gt_norm_df = gt_subset_df.copy()\n",
    "gt_norm_df.xmin = gt_norm_df.xmin.apply(norm)\n",
    "gt_norm_df.ymin = gt_norm_df.ymin.apply(norm)\n",
    "gt_norm_df.xmax = gt_norm_df.xmax.apply(norm)\n",
    "gt_norm_df.ymax = gt_norm_df.ymax.apply(norm)"
   ]
  },
  {
   "cell_type": "code",
   "execution_count": 57,
   "metadata": {},
   "outputs": [
    {
     "name": "stdout",
     "output_type": "stream",
     "text": [
      "Number of files in annotations: 20\n",
      "Number of files in predictions: 20\n",
      "Unique classes: 1\n",
      "Detections length: 20\n",
      "Annotations length: 20\n",
      "1                              | 0.823475 |      38\n",
      "mAP: 0.823475\n"
     ]
    }
   ],
   "source": [
    "# compute metrics\n",
    "ann = gt_norm_df[[\"filename\", \"labels\", \"xmin\", \"xmax\", \"ymin\", \"ymax\"]].values\n",
    "det = preds_norm_df[[\"filename\", \"labels\", \"scores\", \"xmin\", \"xmax\", \"ymin\", \"ymax\"]].values\n",
    "mean_ap, average_precisions = mean_average_precision_for_boxes(ann, det, iou_threshold=0.5)"
   ]
  },
  {
   "cell_type": "code",
   "execution_count": 62,
   "metadata": {},
   "outputs": [
    {
     "data": {
      "text/html": [
       "<div>\n",
       "<style scoped>\n",
       "    .dataframe tbody tr th:only-of-type {\n",
       "        vertical-align: middle;\n",
       "    }\n",
       "\n",
       "    .dataframe tbody tr th {\n",
       "        vertical-align: top;\n",
       "    }\n",
       "\n",
       "    .dataframe thead th {\n",
       "        text-align: right;\n",
       "    }\n",
       "</style>\n",
       "<table border=\"1\" class=\"dataframe\">\n",
       "  <thead>\n",
       "    <tr style=\"text-align: right;\">\n",
       "      <th></th>\n",
       "      <th>labels</th>\n",
       "      <th>scores</th>\n",
       "      <th>xmin</th>\n",
       "      <th>ymin</th>\n",
       "      <th>xmax</th>\n",
       "      <th>ymax</th>\n",
       "      <th>filename</th>\n",
       "      <th>timestamp</th>\n",
       "      <th>mAP</th>\n",
       "      <th>ave_prec</th>\n",
       "    </tr>\n",
       "  </thead>\n",
       "  <tbody>\n",
       "    <tr>\n",
       "      <th>0</th>\n",
       "      <td>1</td>\n",
       "      <td>0.881277</td>\n",
       "      <td>0.000000</td>\n",
       "      <td>0.522536</td>\n",
       "      <td>0.796683</td>\n",
       "      <td>0.666791</td>\n",
       "      <td>scratches_241.jpg</td>\n",
       "      <td>2023-12-11 10:38:57.023346</td>\n",
       "      <td>0.823475</td>\n",
       "      <td>0.823475</td>\n",
       "    </tr>\n",
       "    <tr>\n",
       "      <th>1</th>\n",
       "      <td>1</td>\n",
       "      <td>0.814754</td>\n",
       "      <td>0.034507</td>\n",
       "      <td>0.123074</td>\n",
       "      <td>1.000000</td>\n",
       "      <td>0.238060</td>\n",
       "      <td>scratches_241.jpg</td>\n",
       "      <td>2023-12-11 10:38:57.023346</td>\n",
       "      <td>0.823475</td>\n",
       "      <td>0.823475</td>\n",
       "    </tr>\n",
       "    <tr>\n",
       "      <th>2</th>\n",
       "      <td>1</td>\n",
       "      <td>0.662734</td>\n",
       "      <td>0.604137</td>\n",
       "      <td>0.872642</td>\n",
       "      <td>0.957536</td>\n",
       "      <td>0.965738</td>\n",
       "      <td>scratches_241.jpg</td>\n",
       "      <td>2023-12-11 10:38:57.023346</td>\n",
       "      <td>0.823475</td>\n",
       "      <td>0.823475</td>\n",
       "    </tr>\n",
       "    <tr>\n",
       "      <th>3</th>\n",
       "      <td>1</td>\n",
       "      <td>0.599043</td>\n",
       "      <td>0.403853</td>\n",
       "      <td>0.824363</td>\n",
       "      <td>0.982025</td>\n",
       "      <td>0.970334</td>\n",
       "      <td>scratches_241.jpg</td>\n",
       "      <td>2023-12-11 10:38:57.023346</td>\n",
       "      <td>0.823475</td>\n",
       "      <td>0.823475</td>\n",
       "    </tr>\n",
       "    <tr>\n",
       "      <th>4</th>\n",
       "      <td>1</td>\n",
       "      <td>0.591915</td>\n",
       "      <td>0.643919</td>\n",
       "      <td>0.824277</td>\n",
       "      <td>0.907164</td>\n",
       "      <td>0.979159</td>\n",
       "      <td>scratches_241.jpg</td>\n",
       "      <td>2023-12-11 10:38:57.023346</td>\n",
       "      <td>0.823475</td>\n",
       "      <td>0.823475</td>\n",
       "    </tr>\n",
       "    <tr>\n",
       "      <th>...</th>\n",
       "      <td>...</td>\n",
       "      <td>...</td>\n",
       "      <td>...</td>\n",
       "      <td>...</td>\n",
       "      <td>...</td>\n",
       "      <td>...</td>\n",
       "      <td>...</td>\n",
       "      <td>...</td>\n",
       "      <td>...</td>\n",
       "      <td>...</td>\n",
       "    </tr>\n",
       "    <tr>\n",
       "      <th>59</th>\n",
       "      <td>1</td>\n",
       "      <td>0.543772</td>\n",
       "      <td>0.514475</td>\n",
       "      <td>0.352245</td>\n",
       "      <td>1.000000</td>\n",
       "      <td>0.470509</td>\n",
       "      <td>scratches_260.jpg</td>\n",
       "      <td>2023-12-11 10:39:57.733130</td>\n",
       "      <td>0.823475</td>\n",
       "      <td>0.823475</td>\n",
       "    </tr>\n",
       "    <tr>\n",
       "      <th>60</th>\n",
       "      <td>1</td>\n",
       "      <td>0.898879</td>\n",
       "      <td>0.000000</td>\n",
       "      <td>0.775540</td>\n",
       "      <td>0.980246</td>\n",
       "      <td>0.928264</td>\n",
       "      <td>scratches_261.jpg</td>\n",
       "      <td>2023-12-11 10:40:01.735730</td>\n",
       "      <td>0.823475</td>\n",
       "      <td>0.823475</td>\n",
       "    </tr>\n",
       "    <tr>\n",
       "      <th>61</th>\n",
       "      <td>1</td>\n",
       "      <td>0.730990</td>\n",
       "      <td>0.329532</td>\n",
       "      <td>0.020753</td>\n",
       "      <td>0.926281</td>\n",
       "      <td>0.086678</td>\n",
       "      <td>scratches_261.jpg</td>\n",
       "      <td>2023-12-11 10:40:01.735730</td>\n",
       "      <td>0.823475</td>\n",
       "      <td>0.823475</td>\n",
       "    </tr>\n",
       "    <tr>\n",
       "      <th>62</th>\n",
       "      <td>1</td>\n",
       "      <td>0.637528</td>\n",
       "      <td>0.316254</td>\n",
       "      <td>0.502243</td>\n",
       "      <td>0.601496</td>\n",
       "      <td>0.663100</td>\n",
       "      <td>scratches_261.jpg</td>\n",
       "      <td>2023-12-11 10:40:01.735730</td>\n",
       "      <td>0.823475</td>\n",
       "      <td>0.823475</td>\n",
       "    </tr>\n",
       "    <tr>\n",
       "      <th>63</th>\n",
       "      <td>1</td>\n",
       "      <td>0.601144</td>\n",
       "      <td>0.000000</td>\n",
       "      <td>0.674567</td>\n",
       "      <td>1.000000</td>\n",
       "      <td>0.895162</td>\n",
       "      <td>scratches_261.jpg</td>\n",
       "      <td>2023-12-11 10:40:01.735730</td>\n",
       "      <td>0.823475</td>\n",
       "      <td>0.823475</td>\n",
       "    </tr>\n",
       "  </tbody>\n",
       "</table>\n",
       "<p>64 rows × 10 columns</p>\n",
       "</div>"
      ],
      "text/plain": [
       "    labels    scores      xmin      ymin      xmax      ymax  \\\n",
       "0        1  0.881277  0.000000  0.522536  0.796683  0.666791   \n",
       "1        1  0.814754  0.034507  0.123074  1.000000  0.238060   \n",
       "2        1  0.662734  0.604137  0.872642  0.957536  0.965738   \n",
       "3        1  0.599043  0.403853  0.824363  0.982025  0.970334   \n",
       "4        1  0.591915  0.643919  0.824277  0.907164  0.979159   \n",
       "..     ...       ...       ...       ...       ...       ...   \n",
       "59       1  0.543772  0.514475  0.352245  1.000000  0.470509   \n",
       "60       1  0.898879  0.000000  0.775540  0.980246  0.928264   \n",
       "61       1  0.730990  0.329532  0.020753  0.926281  0.086678   \n",
       "62       1  0.637528  0.316254  0.502243  0.601496  0.663100   \n",
       "63       1  0.601144  0.000000  0.674567  1.000000  0.895162   \n",
       "\n",
       "             filename                  timestamp       mAP  ave_prec  \n",
       "0   scratches_241.jpg 2023-12-11 10:38:57.023346  0.823475  0.823475  \n",
       "1   scratches_241.jpg 2023-12-11 10:38:57.023346  0.823475  0.823475  \n",
       "2   scratches_241.jpg 2023-12-11 10:38:57.023346  0.823475  0.823475  \n",
       "3   scratches_241.jpg 2023-12-11 10:38:57.023346  0.823475  0.823475  \n",
       "4   scratches_241.jpg 2023-12-11 10:38:57.023346  0.823475  0.823475  \n",
       "..                ...                        ...       ...       ...  \n",
       "59  scratches_260.jpg 2023-12-11 10:39:57.733130  0.823475  0.823475  \n",
       "60  scratches_261.jpg 2023-12-11 10:40:01.735730  0.823475  0.823475  \n",
       "61  scratches_261.jpg 2023-12-11 10:40:01.735730  0.823475  0.823475  \n",
       "62  scratches_261.jpg 2023-12-11 10:40:01.735730  0.823475  0.823475  \n",
       "63  scratches_261.jpg 2023-12-11 10:40:01.735730  0.823475  0.823475  \n",
       "\n",
       "[64 rows x 10 columns]"
      ]
     },
     "execution_count": 62,
     "metadata": {},
     "output_type": "execute_result"
    }
   ],
   "source": [
    "# add metrics to prediction dataframe\n",
    "preds_norm_df[\"mAP\"] = mean_ap\n",
    "preds_norm_df[\"ave_prec\"] = 0.0\n",
    "for k, v in average_precisions.items():\n",
    "    preds_norm_df.loc[preds_norm_df[\"labels\"] == int(k), \"ave_prec\"] = v[0]\n",
    "\n",
    "preds_norm_df"
   ]
  },
  {
   "cell_type": "markdown",
   "metadata": {},
   "source": [
    "### View predictions"
   ]
  },
  {
   "cell_type": "code",
   "execution_count": 63,
   "metadata": {},
   "outputs": [
    {
     "data": {
      "text/plain": [
       "'scratches_245.jpg'"
      ]
     },
     "execution_count": 63,
     "metadata": {},
     "output_type": "execute_result"
    }
   ],
   "source": [
    "test_img_fn = gt_norm_df.filename.unique()[4]\n",
    "test_img_fn"
   ]
  },
  {
   "cell_type": "code",
   "execution_count": 64,
   "metadata": {},
   "outputs": [],
   "source": [
    "prediction_image = Image.open(test_img_path.replace(test_img_path.split(\"/\")[-1], test_img_fn))"
   ]
  },
  {
   "cell_type": "code",
   "execution_count": 68,
   "metadata": {},
   "outputs": [
    {
     "data": {
      "image/png": "[encoded data removed]",
      "text/plain": [
       "<PIL.Image.Image image mode=RGB size=200x200 at 0x1261A9D90>"
      ]
     },
     "execution_count": 68,
     "metadata": {},
     "output_type": "execute_result"
    }
   ],
   "source": [
    "pred_img = annotate_image(\n",
    "    prediction_image,\n",
    "    preds_norm_df[preds_norm_df.filename == test_img_fn],\n",
    "    thresh=CONF_THRESH,\n",
    ")\n",
    "pred_img"
   ]
  },
  {
   "cell_type": "code",
   "execution_count": 73,
   "metadata": {},
   "outputs": [
    {
     "data": {
      "image/png": "[encoded data removed]",
      "text/plain": [
       "<PIL.Image.Image image mode=RGB size=200x200 at 0x129FA95E0>"
      ]
     },
     "execution_count": 73,
     "metadata": {},
     "output_type": "execute_result"
    }
   ],
   "source": [
    "# add groundtruth boxes to pred_img\n",
    "annotate_image(\n",
    "    pred_img,\n",
    "    gt_norm_df[gt_norm_df.filename == test_img_fn],\n",
    "    groundtruth=True,\n",
    "    thresh=CONF_THRESH,\n",
    ")"
   ]
  },
  {
   "cell_type": "markdown",
   "metadata": {},
   "source": [
    "### Upload custom metrics to the DataRobot deployment"
   ]
  },
  {
   "cell_type": "code",
   "execution_count": 74,
   "metadata": {
    "tags": []
   },
   "outputs": [
    {
     "data": {
      "text/html": [
       "<div>\n",
       "<style scoped>\n",
       "    .dataframe tbody tr th:only-of-type {\n",
       "        vertical-align: middle;\n",
       "    }\n",
       "\n",
       "    .dataframe tbody tr th {\n",
       "        vertical-align: top;\n",
       "    }\n",
       "\n",
       "    .dataframe thead th {\n",
       "        text-align: right;\n",
       "    }\n",
       "</style>\n",
       "<table border=\"1\" class=\"dataframe\">\n",
       "  <thead>\n",
       "    <tr style=\"text-align: right;\">\n",
       "      <th></th>\n",
       "      <th>timestamp</th>\n",
       "      <th>value</th>\n",
       "    </tr>\n",
       "  </thead>\n",
       "  <tbody>\n",
       "    <tr>\n",
       "      <th>0</th>\n",
       "      <td>2023-12-11 10:39:28.812912896</td>\n",
       "      <td>0.823475</td>\n",
       "    </tr>\n",
       "  </tbody>\n",
       "</table>\n",
       "</div>"
      ],
      "text/plain": [
       "                      timestamp     value\n",
       "0 2023-12-11 10:39:28.812912896  0.823475"
      ]
     },
     "execution_count": 74,
     "metadata": {},
     "output_type": "execute_result"
    }
   ],
   "source": [
    "mean_ts = pd.DataFrame(preds_norm_df.timestamp.unique(), columns=[\"timestamp\"]).timestamp.mean()\n",
    "df_map = pd.DataFrame({\"timestamp\": [mean_ts], \"value\": [mean_ap]})\n",
    "df_map"
   ]
  },
  {
   "cell_type": "code",
   "execution_count": 75,
   "metadata": {},
   "outputs": [],
   "source": [
    "submit_data(df_map)"
   ]
  },
  {
   "cell_type": "code",
   "execution_count": 77,
   "metadata": {},
   "outputs": [
    {
     "name": "stdout",
     "output_type": "stream",
     "text": [
      "https://app.datarobot.com/deployments/65772909c73cb89b896ef917/custom-metrics\n"
     ]
    }
   ],
   "source": [
    "# view in gui\n",
    "print(deployment_url.replace(\"overview\", \"custom-metrics\"))"
   ]
  },
  {
   "cell_type": "markdown",
   "metadata": {},
   "source": [
    "#### Upload prediction dataframe to the AI Catalog"
   ]
  },
  {
   "cell_type": "code",
   "execution_count": 79,
   "metadata": {},
   "outputs": [
    {
     "data": {
      "text/plain": [
       "'https://app.datarobot.com/ai-catalog/65733a719081a0db62ef85d3'"
      ]
     },
     "execution_count": 79,
     "metadata": {},
     "output_type": "execute_result"
    }
   ],
   "source": [
    "# Join with existing prediction df if needed\n",
    "\n",
    "PRED_AI_CATALOG_ID = \"65733a719081a0db62ef85d3\"\n",
    "dataset = dr.Dataset.get(PRED_AI_CATALOG_ID)\n",
    "\n",
    "pred_existing_df = ai_catalog_to_pandas(dataset)\n",
    "\n",
    "pred_df = pd.concat([pred_existing_df, preds_norm_df], axis=0)\n",
    "\n",
    "# update AI Catalog\n",
    "pred_dataset = dr.Dataset.create_version_from_in_memory_data(\n",
    "    dataset_id=PRED_AI_CATALOG_ID, data_frame=pred_df\n",
    ")\n",
    "pred_dataset.get_uri()"
   ]
  },
  {
   "cell_type": "code",
   "execution_count": 92,
   "metadata": {},
   "outputs": [
    {
     "data": {
      "text/plain": [
       "'65733a719081a0db62ef85d3'"
      ]
     },
     "execution_count": 92,
     "metadata": {},
     "output_type": "execute_result"
    }
   ],
   "source": [
    "# if new ai catalog entry\n",
    "# pred_dataset = dr.Dataset.create_from_in_memory_data(data_frame=pred_df)\n",
    "# pred_dataset.modify(name='Object Detection Prediction Table')\n",
    "\n",
    "pred_dataset.get_uri()"
   ]
  },
  {
   "cell_type": "markdown",
   "metadata": {},
   "source": [
    "### Altering model architecture / problem spaces\n",
    "\n",
    "This notebook assumes the use of a Faster R-CNN model and its associated input/output schema. To alter the workflow for alternative architectures, changes to the following may be needed:\n",
    "- do_faster_rcnn_scoring() in custom.py\n",
    "- annotate_image()\n",
    "- get_gt_from_dir()\n",
    "- norm()"
   ]
  }
 ],
 "metadata": {
  "kernelspec": {
   "display_name": "Python 3 (ipykernel)",
   "language": "python",
   "name": "python3"
  },
  "language_info": {
   "codemirror_mode": {
    "name": "ipython",
    "version": 3
   },
   "file_extension": ".py",
   "mimetype": "text/x-python",
   "name": "python",
   "nbconvert_exporter": "python",
   "pygments_lexer": "ipython3",
   "version": "3.9.12"
  },
  "toc-autonumbering": true,
  "toc-showmarkdowntxt": true,
  "vscode": {
   "interpreter": {
    "hash": "397704579725e15f5c7cb49fe5f0341eb7531c82d19f2c29d197e8b64ab5776b"
   }
  }
 },
 "nbformat": 4,
 "nbformat_minor": 4
}
