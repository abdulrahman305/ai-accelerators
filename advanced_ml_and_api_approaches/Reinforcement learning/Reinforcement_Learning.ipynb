{
 "cells": [
  {
   "cell_type": "markdown",
   "id": "65ab067991dd89fea0716e99",
   "metadata": {
    "chart_settings": null,
    "custom_metric_settings": null,
    "dataframe_view_options": null,
    "datarobot": {
     "language": "markdown"
    },
    "disable_run": false,
    "hide_code": false,
    "hide_results": false,
    "scrolled": false
   },
   "source": [
    "# Reinforcement Learning in DataRobot\n",
    "\n",
    "In this notebook, we implement a very simple model based on the Q-learning algorithm. This notebook is intend to show a basic form of RL that doesn't require a deep understanding of neural networks or advanced mathematics and how one might deploy such a model in DataRobot.\n",
    "\n",
    "This example shows the Grid World problem, where an agent learns to navigate a grid to reach a goal.\n",
    "\n",
    "The notebook will go through the following steps:\n",
    "\n",
    "1. Define State and Action Space\n",
    "2. Create a Q-table to store expected rewards for each state/action combination\n",
    "3. Implement learning algorithm and train model\n",
    "4. Evaluate model\n",
    "5. Deploy to a DataRobot Rest API end-point"
   ]
  },
  {
   "cell_type": "markdown",
   "id": "65ab067991dd89fea0716e9a",
   "metadata": {
    "chart_settings": null,
    "custom_metric_settings": null,
    "dataframe_view_options": null,
    "datarobot": {
     "language": "markdown"
    },
    "disable_run": false,
    "hide_code": false,
    "hide_results": false,
    "scrolled": false
   },
   "source": [
    "## 1. Define State and Action Space"
   ]
  },
  {
   "cell_type": "markdown",
   "id": "65abd1fe9cb2c8bfa3859952",
   "metadata": {
    "chart_settings": null,
    "custom_metric_settings": null,
    "dataframe_view_options": null,
    "datarobot": {
     "language": "markdown"
    },
    "disable_run": false,
    "hide_code": false,
    "hide_results": false,
    "scrolled": false
   },
   "source": [
    "Let's first install datarobotx for some convenient DataRobot deployment procedures."
   ]
  },
  {
   "cell_type": "code",
   "execution_count": null,
   "id": "65abd1ca9cb2c8bfa3859942",
   "metadata": {
    "chart_settings": null,
    "custom_metric_settings": null,
    "dataframe_view_options": null,
    "datarobot": {
     "language": "python"
    },
    "disable_run": false,
    "hide_code": false,
    "hide_results": false,
    "scrolled": false
   },
   "outputs": [],
   "source": [
    "%%bash\n",
    "pip install -U datarobotx"
   ]
  },
  {
   "cell_type": "code",
   "execution_count": null,
   "id": "65ab067991dd89fea0716e9b",
   "metadata": {
    "chart_settings": null,
    "custom_metric_settings": null,
    "dataframe_view_options": null,
    "datarobot": {
     "language": "python"
    },
    "disable_run": false,
    "hide_code": false,
    "hide_results": false,
    "scrolled": false
   },
   "outputs": [],
   "source": [
    "import random\n",
    "\n",
    "import numpy as np"
   ]
  },
  {
   "cell_type": "code",
   "execution_count": null,
   "id": "65ab067991dd89fea0716e9c",
   "metadata": {
    "chart_settings": null,
    "custom_metric_settings": null,
    "dataframe_view_options": null,
    "datarobot": {
     "language": "python"
    },
    "disable_run": false,
    "hide_code": false,
    "hide_results": false,
    "scrolled": false
   },
   "outputs": [],
   "source": [
    "# Grid settings\n",
    "grid_size = 4\n",
    "\n",
    "# funtion to build list of all state tuples\n",
    "\n",
    "\n",
    "def build_state_list(grid_size):\n",
    "    state_list = []\n",
    "    for i in range(grid_size):\n",
    "        for j in range(grid_size):\n",
    "            state_list.append((i, j))\n",
    "    return state_list\n",
    "\n",
    "\n",
    "all_states = build_state_list(grid_size)\n",
    "\n",
    "# Here we just try to reach the top right corner (could be center or any other state)\n",
    "goal_state = (3, 3)\n",
    "n_states = grid_size * grid_size\n",
    "n_actions = 4  # Up, Down, Left, Right"
   ]
  },
  {
   "cell_type": "markdown",
   "id": "65ab067991dd89fea0716e9d",
   "metadata": {
    "chart_settings": null,
    "custom_metric_settings": null,
    "dataframe_view_options": null,
    "datarobot": {
     "language": "markdown"
    },
    "disable_run": false,
    "hide_code": false,
    "hide_results": false,
    "scrolled": false
   },
   "source": [
    "## 2. Create a Q-table to store expected rewards for each state/action combination"
   ]
  },
  {
   "cell_type": "code",
   "execution_count": null,
   "id": "65ab067991dd89fea0716e9e",
   "metadata": {
    "chart_settings": null,
    "custom_metric_settings": null,
    "dataframe_view_options": null,
    "datarobot": {
     "language": "python"
    },
    "disable_run": false,
    "hide_code": false,
    "hide_results": false,
    "scrolled": false
   },
   "outputs": [],
   "source": [
    "# Initialize Q-table\n",
    "Q = np.zeros((n_states, n_actions))\n",
    "\n",
    "# Helper functions\n",
    "\n",
    "\n",
    "def state_to_index(state):\n",
    "    return state[0] * grid_size + state[1]\n",
    "\n",
    "\n",
    "def index_to_state(index):\n",
    "    return (index // grid_size, index % grid_size)\n",
    "\n",
    "\n",
    "def get_possible_actions(state):\n",
    "    actions = []\n",
    "    if state[0] > 0:\n",
    "        actions.append(0)  # Up\n",
    "    if state[0] < grid_size - 1:\n",
    "        actions.append(1)  # Down\n",
    "    if state[1] > 0:\n",
    "        actions.append(2)  # Left\n",
    "    if state[1] < grid_size - 1:\n",
    "        actions.append(3)  # Right\n",
    "    return actions\n",
    "\n",
    "\n",
    "# Correct the state transition function to prevent invalid states\n",
    "\n",
    "\n",
    "def take_action(state, action):\n",
    "    new_state = list(state)\n",
    "    if action == 0 and state[0] > 0:\n",
    "        new_state[0] -= 1  # Up\n",
    "    if action == 1 and state[0] < grid_size - 1:\n",
    "        new_state[0] += 1  # Down\n",
    "    if action == 2 and state[1] > 0:\n",
    "        new_state[1] -= 1  # Left\n",
    "    if action == 3 and state[1] < grid_size - 1:\n",
    "        new_state[1] += 1  # Right\n",
    "    return tuple(new_state)"
   ]
  },
  {
   "cell_type": "markdown",
   "id": "65ab067991dd89fea0716e9f",
   "metadata": {
    "chart_settings": null,
    "custom_metric_settings": null,
    "dataframe_view_options": null,
    "datarobot": {
     "language": "markdown"
    },
    "disable_run": false,
    "hide_code": false,
    "hide_results": false,
    "scrolled": false
   },
   "source": [
    "## 3. Implement learning algorithm and train model"
   ]
  },
  {
   "cell_type": "code",
   "execution_count": null,
   "id": "65ab067991dd89fea0716ea0",
   "metadata": {
    "chart_settings": null,
    "custom_metric_settings": null,
    "dataframe_view_options": null,
    "datarobot": {
     "language": "python"
    },
    "disable_run": false,
    "hide_code": false,
    "hide_results": false,
    "scrolled": false
   },
   "outputs": [],
   "source": [
    "# Learning parameters\n",
    "learning_rate = 0.1\n",
    "discount_factor = 0.9\n",
    "epsilon = 0.1  # Exploration rate\n",
    "n_episodes = 100000\n",
    "\n",
    "# Training the model with corrected state transitions\n",
    "for episode in range(n_episodes):\n",
    "    # start at a random state\n",
    "    state = random.choice(all_states)\n",
    "    done = state == goal_state\n",
    "\n",
    "    while not done:\n",
    "        state_index = state_to_index(state)\n",
    "        if random.uniform(0, 1) < epsilon:\n",
    "            # Explore: choose a random action\n",
    "            action = random.choice(get_possible_actions(state))\n",
    "        else:\n",
    "            # Exploit: choose the best action from Q-table\n",
    "            action = np.argmax(Q[state_index])\n",
    "\n",
    "        # Take action and observe reward\n",
    "        next_state = take_action(state, action)\n",
    "        reward = 1 if next_state == goal_state else 0\n",
    "        next_state_index = state_to_index(next_state)\n",
    "\n",
    "        # Q-learning update\n",
    "        Q[state_index, action] = Q[state_index, action] + learning_rate * (\n",
    "            reward + discount_factor * np.max(Q[next_state_index]) - Q[state_index, action]\n",
    "        )\n",
    "\n",
    "        # Transition to the next state\n",
    "        state = next_state\n",
    "        done = state == goal_state"
   ]
  },
  {
   "cell_type": "markdown",
   "id": "65ab067991dd89fea0716ea1",
   "metadata": {
    "chart_settings": null,
    "custom_metric_settings": null,
    "dataframe_view_options": null,
    "datarobot": {
     "language": "markdown"
    },
    "disable_run": false,
    "hide_code": false,
    "hide_results": false,
    "scrolled": false
   },
   "source": [
    "## 4. Evaluate model"
   ]
  },
  {
   "cell_type": "markdown",
   "id": "65ab067991dd89fea0716ea2",
   "metadata": {
    "chart_settings": null,
    "custom_metric_settings": null,
    "dataframe_view_options": null,
    "datarobot": {
     "language": "markdown"
    },
    "disable_run": false,
    "hide_code": false,
    "hide_results": false,
    "scrolled": false
   },
   "source": [
    "First, we will just show one path then see on average how many actions it takes to get to the goal state"
   ]
  },
  {
   "cell_type": "code",
   "execution_count": null,
   "id": "65ab067991dd89fea0716ea3",
   "metadata": {
    "chart_settings": null,
    "custom_metric_settings": null,
    "dataframe_view_options": null,
    "datarobot": {
     "language": "python"
    },
    "disable_run": false,
    "hide_code": false,
    "hide_results": false,
    "scrolled": false
   },
   "outputs": [
    {
     "data": {
      "text/plain": [
       "Initial state: (3, 3)\n",
       "[(3, 3)]\n"
      ]
     },
     "execution_count": 7,
     "metadata": {},
     "output_type": "execute_result"
    }
   ],
   "source": [
    "# Evaluating the model\n",
    "state = random.choice(all_states)\n",
    "print(\"Initial state:\", state)\n",
    "trajectory = [state]\n",
    "done = state == goal_state\n",
    "while not done:\n",
    "    state_index = state_to_index(state)\n",
    "    action = np.argmax(Q[state_index])  # Choose the best action\n",
    "    state = take_action(state, action)\n",
    "    trajectory.append(state)\n",
    "    done = state == goal_state\n",
    "\n",
    "print(trajectory)"
   ]
  },
  {
   "cell_type": "code",
   "execution_count": null,
   "id": "65ab067991dd89fea0716ea4",
   "metadata": {
    "chart_settings": null,
    "custom_metric_settings": null,
    "dataframe_view_options": null,
    "datarobot": {
     "language": "python"
    },
    "disable_run": false,
    "hide_code": false,
    "hide_results": false,
    "scrolled": false
   },
   "outputs": [
    {
     "data": {
      "text/plain": [
       "Average number of actions taken to reach the goal: 3.0\n"
      ]
     },
     "execution_count": 8,
     "metadata": {},
     "output_type": "execute_result"
    }
   ],
   "source": [
    "total_actions = 0  # Total number of actions taken to reach the goal\n",
    "for state in all_states:\n",
    "    # Evaluating the model\n",
    "    trajectory = [state]\n",
    "    done = state == goal_state\n",
    "    while not done:\n",
    "        state_index = state_to_index(state)\n",
    "        action = np.argmax(Q[state_index])  # Choose the best action\n",
    "        state = take_action(state, action)\n",
    "        trajectory.append(state)\n",
    "        done = state == goal_state\n",
    "        total_actions += 1\n",
    "print(\"Average number of actions taken to reach the goal:\", total_actions / len(all_states))"
   ]
  },
  {
   "cell_type": "markdown",
   "id": "65ab067991dd89fea0716ea5",
   "metadata": {
    "chart_settings": null,
    "custom_metric_settings": null,
    "dataframe_view_options": null,
    "datarobot": {
     "language": "markdown"
    },
    "disable_run": false,
    "hide_code": false,
    "hide_results": false,
    "scrolled": false
   },
   "source": [
    "Is this optimal? We know the optimal policy is to move up or to the right until we reach the goal. From the bottom left, this is 6 actions, for the next 2 states it is 5 actions, for the next 3 it is 4 actions, then 4->3, 3->2, 2->1, 1->0 as we already start at the goal state. By simple arithmetic we have\n",
    "\n",
    "6+2\\*5+3\\*4+4\\*3+3\\*2+2\\*1 = 48\n",
    "\n",
    "Total state = 16\n",
    "\n",
    "Therefore, the optimal is 48/16 = 3 which is exactly our average number of actions."
   ]
  },
  {
   "cell_type": "markdown",
   "id": "65ab067991dd89fea0716ea6",
   "metadata": {
    "chart_settings": null,
    "custom_metric_settings": null,
    "dataframe_view_options": null,
    "datarobot": {
     "language": "markdown"
    },
    "disable_run": false,
    "hide_code": false,
    "hide_results": false,
    "scrolled": false
   },
   "source": [
    "## 5. Deploy to DataRobot Rest API end-point"
   ]
  },
  {
   "cell_type": "code",
   "execution_count": null,
   "id": "65ab067991dd89fea0716ea7",
   "metadata": {
    "chart_settings": null,
    "custom_metric_settings": null,
    "dataframe_view_options": null,
    "datarobot": {
     "language": "python"
    },
    "disable_run": false,
    "hide_code": false,
    "hide_results": false,
    "scrolled": false
   },
   "outputs": [],
   "source": [
    "import pickle\n",
    "\n",
    "import datarobot as dr\n",
    "import numpy as np\n",
    "import pandas as pd"
   ]
  },
  {
   "cell_type": "code",
   "execution_count": null,
   "id": "65ab067991dd89fea0716ea8",
   "metadata": {
    "chart_settings": null,
    "custom_metric_settings": null,
    "dataframe_view_options": null,
    "datarobot": {
     "language": "python"
    },
    "disable_run": false,
    "hide_code": false,
    "hide_results": false,
    "scrolled": false
   },
   "outputs": [],
   "source": [
    "import os\n",
    "\n",
    "os.makedirs(\"./storage/deploy/\", exist_ok=True)\n",
    "# save the Q table to a pickle file\n",
    "with open(\"./storage/deploy/q_table.pkl\", \"wb\") as f:\n",
    "    pickle.dump(Q, f)"
   ]
  },
  {
   "cell_type": "markdown",
   "id": "65ab067991dd89fea0716ea9",
   "metadata": {
    "chart_settings": null,
    "custom_metric_settings": null,
    "dataframe_view_options": null,
    "datarobot": {
     "language": "markdown"
    },
    "disable_run": false,
    "hide_code": false,
    "hide_results": false,
    "scrolled": false
   },
   "source": [
    "### Connect to DataRobot\n",
    "\n",
    "Read more about different options for [connecting to DataRobot from the client](https://docs.datarobot.com/en/docs/api/api-quickstart/api-qs.html)."
   ]
  },
  {
   "cell_type": "code",
   "execution_count": null,
   "id": "65ab067991dd89fea0716eaa",
   "metadata": {
    "chart_settings": null,
    "custom_metric_settings": null,
    "dataframe_view_options": null,
    "datarobot": {
     "language": "python"
    },
    "disable_run": false,
    "hide_code": false,
    "hide_results": false,
    "scrolled": false
   },
   "outputs": [],
   "source": [
    "dr_client = dr.Client()"
   ]
  },
  {
   "cell_type": "markdown",
   "id": "65ab067991dd89fea0716eab",
   "metadata": {
    "chart_settings": null,
    "custom_metric_settings": null,
    "dataframe_view_options": null,
    "datarobot": {
     "language": "markdown"
    },
    "disable_run": false,
    "hide_code": false,
    "hide_results": false,
    "scrolled": false
   },
   "source": [
    "Define Hooks for Deploying an Unstructured Custom Model. One could use a standard custom deployment, but using this to illustrate flexibity for more complex RL problems"
   ]
  },
  {
   "cell_type": "code",
   "execution_count": null,
   "id": "65ab067991dd89fea0716eac",
   "metadata": {
    "chart_settings": null,
    "custom_metric_settings": null,
    "dataframe_view_options": null,
    "datarobot": {
     "language": "python"
    },
    "disable_run": false,
    "hide_code": false,
    "hide_results": false,
    "scrolled": false
   },
   "outputs": [],
   "source": [
    "def load_model(input_dir):\n",
    "    \"\"\"Custom model hook for loading our Q-table\n",
    "\n",
    "    Make sure to execute the cell earlier in the notebook that create Q-table before deploying\n",
    "    \"\"\"\n",
    "\n",
    "    with open(input_dir + \"/storage/deploy/\" + \"q_table.pkl\", \"rb\") as f:\n",
    "        Q = pickle.load(f)\n",
    "\n",
    "    return Q\n",
    "\n",
    "\n",
    "def score_unstructured(model, data, query, **kwargs) -> str:\n",
    "    \"\"\"Custom model hook for return action.\n",
    "\n",
    "    model: The output of load_model is passed to this object\n",
    "    data: str\n",
    "        Expects json string passed in request body.\n",
    "        Required keys:\n",
    "                state: tuple(int, int) .. Current state of the agent\n",
    "    query: None\n",
    "        Unused\n",
    "    **kwargs: dict\n",
    "        Unused\n",
    "\n",
    "    Returns:\n",
    "        JSON string with output action\n",
    "\n",
    "    \"\"\"\n",
    "    import json\n",
    "\n",
    "    import numpy as np\n",
    "\n",
    "    Q = model\n",
    "    grid_size = int(np.sqrt(len(Q)))  # Grid size is inferred from the Q-table\n",
    "\n",
    "    # Helper functions\n",
    "    def state_to_index(state):\n",
    "        return state[0] * grid_size + state[1]\n",
    "\n",
    "    data_dict = json.loads(data)\n",
    "    state = data_dict[\"state\"]\n",
    "\n",
    "    state_index = state_to_index(state)\n",
    "    action = np.argmax(Q[state_index])\n",
    "\n",
    "    return json.dumps({\"action\": action}, default=int)"
   ]
  },
  {
   "cell_type": "markdown",
   "id": "65ab067991dd89fea0716ead",
   "metadata": {
    "chart_settings": null,
    "custom_metric_settings": null,
    "dataframe_view_options": null,
    "datarobot": {
     "language": "markdown"
    },
    "disable_run": false,
    "hide_code": false,
    "hide_results": false,
    "scrolled": false
   },
   "source": [
    "Test out the prediction structure proior to deployment"
   ]
  },
  {
   "cell_type": "code",
   "execution_count": null,
   "id": "65ab067991dd89fea0716eae",
   "metadata": {
    "chart_settings": null,
    "custom_metric_settings": null,
    "dataframe_view_options": null,
    "datarobot": {
     "language": "python"
    },
    "disable_run": false,
    "hide_code": false,
    "hide_results": false,
    "scrolled": false
   },
   "outputs": [
    {
     "data": {
      "text/plain": [
       "'{\"action\": 1}'"
      ]
     },
     "execution_count": 13,
     "metadata": {},
     "output_type": "execute_result"
    }
   ],
   "source": [
    "import json\n",
    "\n",
    "score_unstructured(\n",
    "    load_model(\".\"),\n",
    "    json.dumps({\"state\": (0, 1)}),\n",
    "    None,\n",
    ")"
   ]
  },
  {
   "cell_type": "markdown",
   "id": "65ab067991dd89fea0716eaf",
   "metadata": {
    "chart_settings": null,
    "custom_metric_settings": null,
    "dataframe_view_options": null,
    "datarobot": {
     "language": "markdown"
    },
    "disable_run": false,
    "hide_code": false,
    "hide_results": false,
    "scrolled": false
   },
   "source": [
    "Deploy the RL policy model. We will use this convenience method in drx.\n",
    "\n",
    "- Builds a new Custom Model Environment\n",
    "- You can also use a DataRobot Python Drop-in Enviroment (e.g. \"6386dc1159c606b0d8beddc7\")\n",
    "- Assembles a new Custom Model with the provided hooks\n",
    "- Deploys an Unstructured Custom Model to your Deployments\n",
    "- Returns an object which can be used to make predictions\n",
    "\n",
    "Use `environment_id` to re-use an existing Custom Model Environment that you're happy with for shorter iteration cycles on the custom model hooks.\n",
    "\n",
    "Note: See https://app.datarobot.com/docs/api/api-quickstart/index.html for instructions to setup a drconfig.yaml or call drx.Context() to initialize your credentials."
   ]
  },
  {
   "cell_type": "code",
   "execution_count": null,
   "id": "65ac13a5df1b3956ea05d846",
   "metadata": {
    "chart_settings": null,
    "custom_metric_settings": null,
    "dataframe_view_options": null,
    "datarobot": {
     "language": "python"
    },
    "disable_run": false,
    "hide_code": false,
    "hide_results": false,
    "scrolled": false
   },
   "outputs": [],
   "source": [
    "import datarobotx as drx\n",
    "\n",
    "drx.Context().endpoint = dr_client.endpoint\n",
    "drx.Context().token = dr_client.token"
   ]
  },
  {
   "cell_type": "code",
   "execution_count": null,
   "id": "65ab067991dd89fea0716eb0",
   "metadata": {
    "chart_settings": null,
    "custom_metric_settings": null,
    "dataframe_view_options": null,
    "datarobot": {
     "language": "python"
    },
    "disable_run": false,
    "hide_code": false,
    "hide_results": false,
    "scrolled": false
   },
   "outputs": [
    {
     "data": {
      "text/plain": [
       "\u001b[1m\u001b[34m#\u001b[0m\u001b[1m Deploying custom model\u001b[0m\n",
       "\u001b[1m  - \u001b[0mUnable to auto-detect model type; any provided paths and files will be\n",
       "    exported - dependencies should be explicitly specified using\n",
       "    `extra_requirements` or `environment_id`\n",
       "\u001b[1m  - \u001b[0mPreparing model and environment...\n",
       "\u001b[1m  - \u001b[0mConfigured environment [[Custom]\n",
       "    priceless-ganguly](https://app.datarobot.com/model-registry/custom-environments/65ac4115be769b7f85d5aaf9)\n",
       "    with requirements:\n",
       "      python 3.9.16\n",
       "      datarobot-drum==1.10.14\n",
       "      datarobot-mlops==9.2.8\n",
       "      cloudpickle==2.2.1\n",
       "\u001b[1m  - \u001b[0mAwaiting custom environment build...\n"
      ]
     },
     "execution_count": 15,
     "metadata": {},
     "output_type": "execute_result"
    },
    {
     "data": {
      "text/plain": [
       "\u001b[1m  - \u001b[0mConfiguring and uploading custom model...\n",
       "\r",
       "    100%|██████████████████████████████████| 11.0k/11.0k [00:00<00:00, 5.14MB/s]\n",
       "\u001b[1m  - \u001b[0mRegistered custom model\n",
       "    [priceless-ganguly](https://app.datarobot.com/model-registry/custom-models/65ac42ce046ed058aada50c7/info)\n",
       "    with target type: Unstructured\n",
       "\u001b[1m  - \u001b[0mCreating and deploying model package...\n"
      ]
     },
     "execution_count": 15,
     "metadata": {},
     "output_type": "execute_result"
    },
    {
     "data": {
      "text/plain": [
       "\u001b[1m  - \u001b[0mCreated deployment\n",
       "    [priceless-ganguly](https://app.datarobot.com/deployments/65ac42d34958c314b9badcb9/overview)\n",
       "\u001b[1m\u001b[34m#\u001b[0m\u001b[1m Custom model deployment complete\u001b[0m\n"
      ]
     },
     "execution_count": 15,
     "metadata": {},
     "output_type": "execute_result"
    }
   ],
   "source": [
    "deployment = drx.deploy(\n",
    "    \"storage/deploy/\",\n",
    "    hooks={\"score_unstructured\": score_unstructured, \"load_model\": load_model},\n",
    "    extra_requirements=[],\n",
    "    # environment_id=\"6386dc1159c606b0d8beddc7\",\n",
    ")"
   ]
  },
  {
   "cell_type": "markdown",
   "id": "65ab067991dd89fea0716eb1",
   "metadata": {
    "chart_settings": null,
    "custom_metric_settings": null,
    "dataframe_view_options": null,
    "datarobot": {
     "language": "markdown"
    },
    "disable_run": false,
    "hide_code": false,
    "hide_results": false,
    "scrolled": false
   },
   "source": [
    "Let's try out our deployment and track the trajectory from the deployed policy (returns action)"
   ]
  },
  {
   "cell_type": "code",
   "execution_count": null,
   "id": "65abff439cb2c8bfa385a78b",
   "metadata": {
    "chart_settings": null,
    "custom_metric_settings": null,
    "dataframe_view_options": null,
    "datarobot": {
     "language": "python"
    },
    "disable_run": false,
    "hide_code": false,
    "hide_results": false,
    "scrolled": false
   },
   "outputs": [
    {
     "data": {
      "text/plain": [
       "\u001b[1m\u001b[34m#\u001b[0m\u001b[1m Making predictions\u001b[0m\n",
       "\u001b[1m  - \u001b[0mMaking predictions with deployment\n",
       "    [priceless-ganguly](https://app.datarobot.com/deployments/65ac42d34958c314b9badcb9/overview)\n",
       "\u001b[1m\u001b[34m#\u001b[0m\u001b[1m Predictions complete\u001b[0m\n",
       "{'action': 1}"
      ]
     },
     "execution_count": 17,
     "metadata": {},
     "output_type": "execute_result"
    }
   ],
   "source": [
    "# If your deployment already occured or your notebook restarted due to inactivity, get ID from URL in the UI\n",
    "# deployment = drx.Deployment(\"YOUR DEPLOYEMENT ID HERE\")\n",
    "deployment.predict_unstructured({\"state\": (0, 1)})"
   ]
  },
  {
   "cell_type": "markdown",
   "id": "e225c6f5",
   "metadata": {},
   "source": [
    "Test and print trajectory"
   ]
  },
  {
   "cell_type": "code",
   "execution_count": null,
   "id": "65ab067991dd89fea0716eb2",
   "metadata": {
    "chart_settings": null,
    "custom_metric_settings": null,
    "dataframe_view_options": null,
    "datarobot": {
     "language": "python"
    },
    "disable_run": false,
    "hide_code": false,
    "hide_results": false,
    "scrolled": false
   },
   "outputs": [
    {
     "data": {
      "text/plain": [
       "Initial state: (0, 1)\n",
       "\u001b[1m\u001b[34m#\u001b[0m\u001b[1m Making predictions\u001b[0m\n",
       "\u001b[1m  - \u001b[0mMaking predictions with deployment\n",
       "    [priceless-ganguly](https://app.datarobot.com/deployments/65ac42d34958c314b9badcb9/overview)\n",
       "\u001b[1m\u001b[34m#\u001b[0m\u001b[1m Predictions complete\u001b[0m\n",
       "\u001b[1m\u001b[34m#\u001b[0m\u001b[1m Making predictions\u001b[0m\n",
       "\u001b[1m  - \u001b[0mMaking predictions with deployment\n",
       "    [priceless-ganguly](https://app.datarobot.com/deployments/65ac42d34958c314b9badcb9/overview)\n",
       "\u001b[1m\u001b[34m#\u001b[0m\u001b[1m Predictions complete\u001b[0m\n",
       "\u001b[1m\u001b[34m#\u001b[0m\u001b[1m Making predictions\u001b[0m\n",
       "\u001b[1m  - \u001b[0mMaking predictions with deployment\n",
       "    [priceless-ganguly](https://app.datarobot.com/deployments/65ac42d34958c314b9badcb9/overview)\n",
       "\u001b[1m\u001b[34m#\u001b[0m\u001b[1m Predictions complete\u001b[0m\n",
       "\u001b[1m\u001b[34m#\u001b[0m\u001b[1m Making predictions\u001b[0m\n",
       "\u001b[1m  - \u001b[0mMaking predictions with deployment\n",
       "    [priceless-ganguly](https://app.datarobot.com/deployments/65ac42d34958c314b9badcb9/overview)\n",
       "\u001b[1m\u001b[34m#\u001b[0m\u001b[1m Predictions complete\u001b[0m\n",
       "\u001b[1m\u001b[34m#\u001b[0m\u001b[1m Making predictions\u001b[0m\n",
       "\u001b[1m  - \u001b[0mMaking predictions with deployment\n",
       "    [priceless-ganguly](https://app.datarobot.com/deployments/65ac42d34958c314b9badcb9/overview)\n",
       "\u001b[1m\u001b[34m#\u001b[0m\u001b[1m Predictions complete\u001b[0m\n",
       "[(0, 1), (1, 1), (2, 1), (3, 1), (3, 2), (3, 3)]\n"
      ]
     },
     "execution_count": 18,
     "metadata": {},
     "output_type": "execute_result"
    }
   ],
   "source": [
    "state = (0, 1)\n",
    "goal_state = (3, 3)\n",
    "\n",
    "print(\"Initial state:\", state)\n",
    "trajectory = [state]\n",
    "done = state == goal_state\n",
    "while not done:\n",
    "    action = deployment.predict_unstructured({\"state\": state})[\"action\"]\n",
    "    state = take_action(state, action)\n",
    "    trajectory.append(state)\n",
    "    done = state == goal_state\n",
    "\n",
    "print(trajectory)"
   ]
  }
 ],
 "metadata": {
  "kernelspec": {
   "display_name": "Python 3 (ipykernel)",
   "language": "python",
   "name": "python3"
  },
  "language_info": {
   "codemirror_mode": {
    "name": "ipython",
    "version": 3
   },
   "file_extension": ".py",
   "mimetype": "text/x-python",
   "name": "python",
   "nbconvert_exporter": "python",
   "pygments_lexer": "ipython3",
   "version": "3.7.12"
  }
 },
 "nbformat": 4,
 "nbformat_minor": 5
}
