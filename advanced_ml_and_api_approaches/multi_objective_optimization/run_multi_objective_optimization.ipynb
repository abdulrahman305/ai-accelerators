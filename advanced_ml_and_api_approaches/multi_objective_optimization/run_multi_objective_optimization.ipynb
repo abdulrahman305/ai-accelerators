{
 "cells": [
  {
   "cell_type": "markdown",
   "id": "666c08ab1acd9b92f3f9e939",
   "metadata": {
    "chart_settings": null,
    "custom_llm_metric_settings": null,
    "custom_metric_settings": null,
    "dataframe_view_options": null,
    "datarobot": {
     "language": "markdown"
    },
    "disable_run": false,
    "hide_code": false,
    "hide_results": false
   },
   "source": [
    "# Multi-objective Optimization Streamlit Application\n",
    "- Author: senkin.zhan@datarobot.com, yifu.gu@datarobot.com\n",
    "\n",
    "## Summary\n",
    "This accelerator introduces an approach to build a streamlit application using DataRobot deploments for multi-objective optimization.\n",
    "\n",
    "This notebook outlines how to:\n",
    "\n",
    "1. Create multiple projects\n",
    "2. Build deployment with best model\n",
    "3. Build Streamlit application connecting to DataRobot\n"
   ]
  },
  {
   "cell_type": "markdown",
   "id": "666c08ab1acd9b92f3f9e93a",
   "metadata": {
    "chart_settings": null,
    "custom_llm_metric_settings": null,
    "custom_metric_settings": null,
    "dataframe_view_options": null,
    "datarobot": {
     "language": "markdown"
    },
    "disable_run": false,
    "hide_code": false,
    "hide_results": false
   },
   "source": [
    "## Setup\n",
    "\n",
    "### Install and import libraries"
   ]
  },
  {
   "cell_type": "code",
   "execution_count": 10,
   "id": "666c08ab1acd9b92f3f9e93b",
   "metadata": {
    "chart_settings": null,
    "collapsed": false,
    "custom_llm_metric_settings": null,
    "custom_metric_settings": null,
    "dataframe_view_options": null,
    "datarobot": {
     "language": "python"
    },
    "disable_run": false,
    "hide_code": false,
    "hide_results": false,
    "jupyter": {
     "outputs_hidden": false
    }
   },
   "outputs": [],
   "source": [
    "%pip install drapps pathspec -q"
   ]
  },
  {
   "cell_type": "code",
   "execution_count": null,
   "id": "666c08ab1acd9b92f3f9e93c",
   "metadata": {
    "chart_settings": null,
    "collapsed": false,
    "custom_llm_metric_settings": null,
    "custom_metric_settings": null,
    "dataframe_view_options": null,
    "datarobot": {
     "language": "python"
    },
    "disable_run": false,
    "hide_code": false,
    "hide_results": false,
    "jupyter": {
     "outputs_hidden": false
    }
   },
   "outputs": [],
   "source": [
    "import datetime as dt\n",
    "import os\n",
    "import pickle\n",
    "import time\n",
    "\n",
    "from dask import compute, delayed\n",
    "import datarobot as dr\n",
    "from datarobot.models.dataset import Dataset\n",
    "import numpy as np\n",
    "import pandas as pd\n",
    "\n",
    "if not os.getenv(\"DATAROBOT_NOTEBOOK_IMAGE\"):\n",
    "    print(\"not running in DataRobot Notebook\")\n",
    "    from dotenv import load_dotenv\n",
    "    load_dotenv()"
   ]
  },
  {
   "cell_type": "markdown",
   "id": "666c08ab1acd9b92f3f9e940",
   "metadata": {
    "chart_settings": null,
    "custom_llm_metric_settings": null,
    "custom_metric_settings": null,
    "dataframe_view_options": null,
    "datarobot": {
     "language": "markdown"
    },
    "disable_run": false,
    "hide_code": false,
    "hide_results": false
   },
   "source": [
    "### Bind variables"
   ]
  },
  {
   "cell_type": "code",
   "execution_count": null,
   "id": "666c08ab1acd9b92f3f9e941",
   "metadata": {
    "chart_settings": null,
    "collapsed": false,
    "custom_llm_metric_settings": null,
    "custom_metric_settings": null,
    "dataframe_view_options": null,
    "datarobot": {
     "language": "python"
    },
    "disable_run": false,
    "hide_code": false,
    "hide_results": false,
    "jupyter": {
     "outputs_hidden": false
    }
   },
   "outputs": [],
   "source": [
    "# Application Path\n",
    "# アプリのソースコードのフォルダパス\n",
    "input_path = \"./multi-objective-optimization-files/\"\n",
    "\n",
    "# If use groupkfold input group column [\"Group_ID\"], if use randomkfold input False\n",
    "# グループパーティション使用したい場合は`True`, `False`の場合はランダムパーティション\n",
    "group_col = False\n",
    "\n",
    "# File name, default is japanese version, if use english input steel_strength_en\n",
    "# データセットのファイル名を指定\n",
    "file_name = \"steel_strength_jp.csv\"\n",
    "\n",
    "# Targets(multiple objective), default is japanese version, if use english input ['Yield strength','Tensile strength','Average strength']\n",
    "# 目的変数を指定\n",
    "targets = [\"降伏強度\", \"引張強度\", \"平均強度\"]\n",
    "\n",
    "# Optimization Directions, choose minimize or maximize,max 30 targets\n",
    "# 目的関数の最適化方向を指定\n",
    "directions = [\"maximize\", \"maximize\", \"maximize\"]\n",
    "\n",
    "# Streamlit App name to upload to DataRobot, cannot be duplicated in the same org\n",
    "# DataRobotにアップロードするカスタムアプリの名前、同じ組織内で重複できない\n",
    "app_name = \"multi-objective-optimization-demo\""
   ]
  },
  {
   "cell_type": "markdown",
   "id": "666c08ab1acd9b92f3f9e942",
   "metadata": {
    "chart_settings": null,
    "custom_llm_metric_settings": null,
    "custom_metric_settings": null,
    "dataframe_view_options": null,
    "datarobot": {
     "language": "markdown"
    },
    "disable_run": false,
    "hide_code": false,
    "hide_results": false
   },
   "source": [
    "### Run autopilot on datarobot"
   ]
  },
  {
   "cell_type": "code",
   "execution_count": 15,
   "id": "666c08ab1acd9b92f3f9e943",
   "metadata": {
    "chart_settings": null,
    "collapsed": false,
    "custom_llm_metric_settings": null,
    "custom_metric_settings": null,
    "dataframe_view_options": null,
    "datarobot": {
     "language": "python"
    },
    "disable_run": false,
    "hide_code": false,
    "hide_results": false,
    "jupyter": {
     "outputs_hidden": false
    }
   },
   "outputs": [],
   "source": [
    "%%time\n",
    "\n",
    "\n",
    "def __run_autopilot(target, df, group_col):\n",
    "    project = dr.Project.create(df, project_name=target)\n",
    "\n",
    "    ao = dr.AdvancedOptions()\n",
    "    if group_col != False:\n",
    "        pm = dr.GroupCV(holdout_pct=0, partition_key_cols=[group_col], reps=5)\n",
    "    else:\n",
    "        pm = dr.RandomCV(holdout_pct=0, reps=5)\n",
    "\n",
    "    project.analyze_and_model(\n",
    "        worker_count=-1,\n",
    "        target=target,\n",
    "        mode=\"quick\",\n",
    "        partitioning_method=pm,\n",
    "        advanced_options=ao,\n",
    "        max_wait=10000,\n",
    "    )\n",
    "\n",
    "    return project\n",
    "\n",
    "\n",
    "def __wait_for_cv(projects):\n",
    "    for i in range(len(projects)):\n",
    "        try:\n",
    "            project = dr.Project.get(project_id=projects[i - 1].id)\n",
    "            jobs_list = project.get_all_jobs()\n",
    "            for job in jobs_list:\n",
    "                job.wait_for_completion(max_wait=60000)\n",
    "            print(\"Project \" + targets[i] + \" completed running autopilot\")\n",
    "        except:\n",
    "            print(\"Project \" + targets[i] + \" occured error\")\n",
    "\n",
    "\n",
    "df = pd.read_csv(input_path + file_name)\n",
    "df.to_csv(input_path + \"feature.csv\", index=False)\n",
    "df_feature = df.drop(targets, axis=1)\n",
    "\n",
    "delayed_dr_projects = []\n",
    "for i in range(len(targets)):\n",
    "    df_ = df_feature.copy()\n",
    "    df_[targets[i]] = df[targets[i]]\n",
    "    temp = delayed(__run_autopilot)(targets[i], df_, group_col)\n",
    "    delayed_dr_projects.append(temp)\n",
    "\n",
    "projects = compute(delayed_dr_projects)[0]\n",
    "\n",
    "__wait_for_cv(projects)"
   ]
  },
  {
   "cell_type": "markdown",
   "id": "666c08ab1acd9b92f3f9e944",
   "metadata": {
    "chart_settings": null,
    "custom_llm_metric_settings": null,
    "custom_metric_settings": null,
    "dataframe_view_options": null,
    "datarobot": {
     "language": "markdown"
    },
    "disable_run": false,
    "hide_code": false,
    "hide_results": false
   },
   "source": [
    "### Run delopyment on datarobot"
   ]
  },
  {
   "cell_type": "code",
   "execution_count": 16,
   "id": "666c08ab1acd9b92f3f9e945",
   "metadata": {
    "chart_settings": null,
    "collapsed": false,
    "custom_llm_metric_settings": null,
    "custom_metric_settings": null,
    "dataframe_view_options": null,
    "datarobot": {
     "language": "python"
    },
    "disable_run": false,
    "hide_code": false,
    "hide_results": false,
    "jupyter": {
     "outputs_hidden": false
    }
   },
   "outputs": [],
   "source": [
    "%%time\n",
    "\n",
    "\n",
    "def __run_deployment(project):\n",
    "    model = project.get_model_records()[0]\n",
    "    target = project.target\n",
    "    prediction_server = dr.PredictionServer.list()[0]\n",
    "\n",
    "    registered_model_version = dr.RegisteredModelVersion.create_for_leaderboard_item(\n",
    "        model_id=model.id,\n",
    "        name=target,\n",
    "    )\n",
    "\n",
    "    deployment = dr.Deployment.create_from_registered_model_version(\n",
    "        registered_model_version.id,\n",
    "        label=target,\n",
    "        default_prediction_server_id=prediction_server.id,\n",
    "    )\n",
    "\n",
    "    return deployment\n",
    "\n",
    "\n",
    "delayed_dr_projects = []\n",
    "for i in range(len(projects)):\n",
    "    temp = delayed(__run_deployment)(projects[i])\n",
    "    delayed_dr_projects.append(temp)\n",
    "\n",
    "deployments = compute(delayed_dr_projects)[0]"
   ]
  },
  {
   "cell_type": "markdown",
   "id": "666c08ab1acd9b92f3f9e946",
   "metadata": {
    "chart_settings": null,
    "custom_llm_metric_settings": null,
    "custom_metric_settings": null,
    "dataframe_view_options": null,
    "datarobot": {
     "language": "markdown"
    },
    "disable_run": false,
    "hide_code": false,
    "hide_results": false
   },
   "source": [
    "### Save deployment ids"
   ]
  },
  {
   "cell_type": "code",
   "execution_count": 17,
   "id": "666c08ab1acd9b92f3f9e947",
   "metadata": {
    "chart_settings": null,
    "collapsed": false,
    "custom_llm_metric_settings": null,
    "custom_metric_settings": null,
    "dataframe_view_options": null,
    "datarobot": {
     "language": "python"
    },
    "disable_run": false,
    "hide_code": false,
    "hide_results": false,
    "jupyter": {
     "outputs_hidden": false
    }
   },
   "outputs": [],
   "source": [
    "deployment_ids = []\n",
    "for i, d in enumerate(deployments):\n",
    "    deployment_ids.append(d.id)\n",
    "    print(d, targets[i], d.id, directions[i])\n",
    "df_config = pd.DataFrame(\n",
    "    {\n",
    "        \"Target Name\": targets,\n",
    "        \"Deployment ID\": deployment_ids,\n",
    "        \"Optimization Direction\": directions,\n",
    "    }\n",
    ")\n",
    "df_config.to_csv(input_path + \"config.csv\", index=False)"
   ]
  },
  {
   "cell_type": "markdown",
   "id": "666c08ab1acd9b92f3f9e948",
   "metadata": {
    "chart_settings": null,
    "custom_llm_metric_settings": null,
    "custom_metric_settings": null,
    "dataframe_view_options": null,
    "datarobot": {
     "language": "markdown"
    },
    "disable_run": false,
    "hide_code": false,
    "hide_results": false
   },
   "source": [
    "### Build streamlit app on datarobot"
   ]
  },
  {
   "cell_type": "code",
   "execution_count": 23,
   "id": "666c08ab1acd9b92f3f9e949",
   "metadata": {
    "chart_settings": null,
    "collapsed": false,
    "custom_llm_metric_settings": null,
    "custom_metric_settings": null,
    "dataframe_view_options": null,
    "datarobot": {
     "language": "python"
    },
    "disable_run": false,
    "hide_code": false,
    "hide_results": false,
    "jupyter": {
     "outputs_hidden": false
    }
   },
   "outputs": [],
   "source": [
    "%%time\n",
    "\n",
    "# if not running in DataRobot, please input your DataRobot API Token\n",
    "# DataRobot上で実行していない場合は、DataRobotのAPIトークンを入力してください\n",
    "# !drapps create -t $DATAROBOT_API_TOKEN -e '[DataRobot] Python 3.12 Applications Base' -p $input_path $app_name\n",
    "!drapps create -e '[DataRobot] Python 3.12 Applications Base' -p $input_path $app_name"
   ]
  },
  {
   "cell_type": "markdown",
   "id": "5bb8c2fc",
   "metadata": {},
   "source": [
    "### Clean up\n",
    "delete resources have up limit"
   ]
  },
  {
   "cell_type": "code",
   "execution_count": null,
   "id": "12f3c3d0",
   "metadata": {},
   "outputs": [],
   "source": [
    "# !drapps terminate $app_name\n",
    "# for deployment_id in deployment_ids:\n",
    "#     deployment = dr.Deployment.get(deployment_id)\n",
    "#     deployment.delete()"
   ]
  }
 ],
 "metadata": {
  "kernelspec": {
   "display_name": ".venv",
   "language": "python",
   "name": "python3"
  },
  "language_info": {
   "codemirror_mode": {
    "name": "ipython",
    "version": 3
   },
   "file_extension": ".py",
   "mimetype": "text/x-python",
   "name": "python",
   "nbconvert_exporter": "python",
   "pygments_lexer": "ipython3",
   "version": "3.11.11"
  }
 },
 "nbformat": 4,
 "nbformat_minor": 5
}
