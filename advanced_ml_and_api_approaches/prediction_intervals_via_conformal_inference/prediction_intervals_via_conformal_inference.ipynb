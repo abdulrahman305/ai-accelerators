{
 "cells": [
  {
   "cell_type": "markdown",
   "id": "2fa2b485-e1a8-49e3-896c-7d225badeab7",
   "metadata": {},
   "source": [
    "Author: Taylor Larkin \\\n",
    "Version Date: 2024-04-25"
   ]
  },
  {
   "cell_type": "markdown",
   "id": "39899650-6a23-4378-8fea-22c1c500793d",
   "metadata": {
    "tags": []
   },
   "source": [
    "# Prediction Intervals via Conformal Inference\n",
    "\n",
    "This AI Accelerator demonstrates various ways for generating prediction intervals for any DataRobot model. The methods presented here are rooted in the area of [conformal inference](https://arxiv.org/abs/1604.04173) (also known as [conformal prediction](https://arxiv.org/abs/2107.07511)). These types of approaches have become increasingly popular for uncertainty quantification because they do not require strict distributional assumptions to be met in order to achieve proper coverage (i.e., they only require that the testing data is exchangeable with the training data). While conformal inference can be applied across a wide array of prediction problems, the focus in this notebook will be prediction interval generation on regression targets. This notebook is formatted as follows:\n",
    "\n",
    "1. Importing libraries\n",
    "2. Notebook parameters and helper functions\n",
    "3. Loading the example dataset\n",
    "4. Modeling building and making predictions\n",
    "5. Method 1: Absolute conformal\n",
    "6. Method 2: Signed conformal\n",
    "7. Method 3: Locally-weighted conformal \n",
    "8. Method 4: Conformalized quantile regression\n",
    "9. Comparing methods\n",
    "10. Conclusion\n",
    "\n",
    "Note: the particulars for each method have been simplified (e.g., authors use an \"adjusted\" quantile level rather than the traditional quantile calculation implemented here). For a full treatment of each approach and specific algorithm details, see the cited reference papers below."
   ]
  },
  {
   "cell_type": "markdown",
   "id": "91214e68-e386-4871-93dc-e486b30717d7",
   "metadata": {},
   "source": [
    "### 1. Importing libraries\n",
    "\n",
    "[Read](https://docs.datarobot.com/en/docs/api/api-quickstart/index.html) about different options for connecting to DataRobot from the client. Load the remaining libraries below in the usual way."
   ]
  },
  {
   "cell_type": "code",
   "execution_count": 1,
   "id": "21a2b094-fd18-4239-b666-7c909022109f",
   "metadata": {},
   "outputs": [
    {
     "name": "stdout",
     "output_type": "stream",
     "text": [
      "DataRobot version: 3.2.0\n"
     ]
    },
    {
     "data": {
      "text/plain": [
       "<datarobot.rest.RESTClientObject at 0x7ff0807fa220>"
      ]
     },
     "execution_count": 1,
     "metadata": {},
     "output_type": "execute_result"
    }
   ],
   "source": [
    "# Establish connection\n",
    "import datarobot as dr\n",
    "\n",
    "print(f\"DataRobot version: {dr.__version__}\")\n",
    "dr.Client()"
   ]
  },
  {
   "cell_type": "code",
   "execution_count": 2,
   "id": "07e132e1-1b1c-4d30-9607-58e3fbc1a75c",
   "metadata": {},
   "outputs": [],
   "source": [
    "# Imports\n",
    "import numpy as np\n",
    "import pandas as pd\n",
    "from datarobot.models.modeljob import wait_for_async_model_creation"
   ]
  },
  {
   "cell_type": "markdown",
   "id": "d38d11d4-c381-4a96-953c-34b23f332d83",
   "metadata": {},
   "source": [
    "### 2. Notebook parameters and helper functions\n",
    "\n",
    "Below, you'll have two parameters for this notebook:\n",
    "\n",
    "1. COVERAGE_LEVEL: fraction of prediction intervals that should contain the target\n",
    "2. TEST_DATA_FRACTION: fraction of data to hold out and use as a testing dataset to evaluate each method\n",
    "\n",
    "In addition, a couple functions are provided to make the following analysis easier - one of which computes the two metrics that will be used for comparison:\n",
    "\n",
    "1. _Coverage_: fraction of computed prediction intervals that contain the target across all rows\n",
    "2. _Average Width_: the average width of the prediction intervals across all rows\n",
    "\n",
    "Here, a desirable method should achieve the proper coverage with the smallest width on average."
   ]
  },
  {
   "cell_type": "code",
   "execution_count": 3,
   "id": "39cfbb26-2904-4b31-be07-ef22bad1102a",
   "metadata": {},
   "outputs": [],
   "source": [
    "# Coverage level\n",
    "COVERAGE_LEVEL = 0.9\n",
    "\n",
    "# Fraction of data to use to evaluate each method\n",
    "TEST_DATA_FRACTION = 0.2"
   ]
  },
  {
   "cell_type": "code",
   "execution_count": 4,
   "id": "b81970dc-df6c-41e1-b535-504cce3360be",
   "metadata": {
    "tags": []
   },
   "outputs": [],
   "source": [
    "# Helpers\n",
    "def compute_coverage(\n",
    "    y_test: np.array,\n",
    "    y_lower: np.array,\n",
    "    y_upper: np.array,\n",
    "    significance: float,\n",
    "    name: str = \"\",\n",
    ") -> (float, float):\n",
    "    \"\"\"\n",
    "    Computes coverage and average width\n",
    "    Courtesy of https://github.com/yromano/cqr/blob/master/cqr/helper.py\n",
    "\n",
    "    Parameters\n",
    "    ----------\n",
    "    y_test: true labels (n)\n",
    "    y_lower: estimated lower bound for the labels (n)\n",
    "    y_upper: estimated upper bound for the labels (n)\n",
    "    significance: desired significance level\n",
    "    name: optional output string (e.g. the method name)\n",
    "\n",
    "    Returns\n",
    "    -------\n",
    "    coverage : average coverage\n",
    "    avg_width : average width\n",
    "\n",
    "    \"\"\"\n",
    "    # Compute coverage\n",
    "    in_the_range = np.sum((y_test >= y_lower) & (y_test <= y_upper))\n",
    "    coverage = in_the_range / len(y_test) * 100\n",
    "    print(\n",
    "        \"%s: Percentage in the range (expecting %.2f): %f\"\n",
    "        % (name, 100 - significance * 100, coverage)\n",
    "    )\n",
    "\n",
    "    # Compute average width\n",
    "    avg_width = np.mean(abs(y_upper - y_lower))\n",
    "    print(\"%s: Average width: %f\" % (name, avg_width))\n",
    "\n",
    "    return coverage, avg_width\n",
    "\n",
    "\n",
    "def compute_training_predictions(model: dr.Model) -> pd.DataFrame:\n",
    "    \"\"\"\n",
    "    Computes (or gathers) the out-of-sample training predictions from a model\n",
    "\n",
    "    Parameters\n",
    "    ----------\n",
    "    model: DataRobot model\n",
    "\n",
    "    Returns\n",
    "    -------\n",
    "    DataFrame of training predictions\n",
    "\n",
    "    \"\"\"\n",
    "\n",
    "    # Get project to unlock holdout\n",
    "    project = dr.Project.get(model.project_id)\n",
    "    project.unlock_holdout()\n",
    "\n",
    "    # Request or gather predictions\n",
    "    try:\n",
    "\n",
    "        training_predict_job = model.request_training_predictions(\n",
    "            dr.enums.DATA_SUBSET.ALL\n",
    "        )\n",
    "        training_predictions = training_predict_job.get_result_when_complete()\n",
    "\n",
    "    except dr.errors.ClientError:\n",
    "\n",
    "        training_predictions = [\n",
    "            tp\n",
    "            for tp in dr.TrainingPredictions.list(project.id)\n",
    "            if tp.model_id == model.id and tp.data_subset == \"all\"\n",
    "        ][0]\n",
    "\n",
    "    return training_predictions.get_all_as_dataframe()\n",
    "\n",
    "\n",
    "def quantile_rearrangement(\n",
    "    quantile_preds: pd.DataFrame,\n",
    "    quantiles: [float],\n",
    ") -> pd.DataFrame:\n",
    "    \"\"\"\n",
    "    Produces monotonic values for rows that are non-monotonic\n",
    "    Based on: https://github.com/yromano/cqr/blob/master/cqr/torch_models.py#L66-#L94\n",
    "\n",
    "    Parameters\n",
    "    ----------\n",
    "    quantile_preds: dataframe of quantile predictions to rearrange, sorted from lowest quantile to highest\n",
    "    quantiles: quantile values each column represents, sorted from lowest quantile to highest\n",
    "\n",
    "    Returns\n",
    "    -------\n",
    "    Dataframe of rearranged quantile predictions\n",
    "\n",
    "    References\n",
    "    ----------\n",
    "    Yaniv Romano, Evan Patterson, and Emmanuel J. Candes, “Conformalized quantile regression.” 2019.\n",
    "    \n",
    "    \"\"\"\n",
    "\n",
    "    # Copy\n",
    "    df = quantile_preds.copy(deep=True)\n",
    "\n",
    "    # Ensure we have enough columns and supplied quantile values\n",
    "    assert df.shape[1] == len(\n",
    "        quantiles\n",
    "    ), \"Need to have the same number of columns and quantiles values!\"\n",
    "\n",
    "    # Create a mask where True indicates the expected order is not met\n",
    "    mask = (np.diff(df.values, axis=1) < 0).any(axis=1)\n",
    "\n",
    "    # Extract those rows\n",
    "    non_monotonic_rows = df[mask]\n",
    "\n",
    "    # Rearrange the values via interpolation\n",
    "    rearranged_rows = np.quantile(\n",
    "        a=non_monotonic_rows.values, q=quantiles, method=\"linear\", axis=1\n",
    "    )\n",
    "\n",
    "    # Update the original values with rearranged values\n",
    "    df.loc[mask] = rearranged_rows.T\n",
    "\n",
    "    return df"
   ]
  },
  {
   "cell_type": "markdown",
   "id": "fb07a072-4614-418d-af60-02860ce2a83f",
   "metadata": {
    "tags": []
   },
   "source": [
    "### 3. Loading the example dataset\n",
    "\n",
    "\n",
    "The dataset you'll use comes from [this](https://www.datarobot.com/blog/solving-regression-problem-nba-player-performance/) DataRobot blog post. Each row represents a player in the National Basketball Association (NBA) and the columns signify different NBA statistics from various repositories, fantasy basketball news sources, and betting information. The target, `game_score`, is a single statistic that attempts to quantify player performance and productivity.\n",
    "\n",
    "Additionally, you'll partition the data into a training and testing sets. The training set will be used for modeling building while the testing set will be used for evaluating each method."
   ]
  },
  {
   "cell_type": "code",
   "execution_count": 5,
   "id": "b52712dd-a48c-4c7e-a13b-c8d9bba17f7e",
   "metadata": {},
   "outputs": [
    {
     "data": {
      "text/html": [
       "<div>\n",
       "<style scoped>\n",
       "    .dataframe tbody tr th:only-of-type {\n",
       "        vertical-align: middle;\n",
       "    }\n",
       "\n",
       "    .dataframe tbody tr th {\n",
       "        vertical-align: top;\n",
       "    }\n",
       "\n",
       "    .dataframe thead th {\n",
       "        text-align: right;\n",
       "    }\n",
       "</style>\n",
       "<table border=\"1\" class=\"dataframe\">\n",
       "  <thead>\n",
       "    <tr style=\"text-align: right;\">\n",
       "      <th></th>\n",
       "      <th>roto_fpts_per_min</th>\n",
       "      <th>roto_minutes</th>\n",
       "      <th>roto_fpts</th>\n",
       "      <th>roto_value</th>\n",
       "      <th>free_throws_lag30_mean</th>\n",
       "      <th>field_goals_decay1_mean</th>\n",
       "      <th>game_score_lag30_mean</th>\n",
       "      <th>minutes_played_decay1_mean</th>\n",
       "      <th>PF_lastseason</th>\n",
       "      <th>free_throws_attempted_lag30_mean</th>\n",
       "      <th>...</th>\n",
       "      <th>team</th>\n",
       "      <th>opponent</th>\n",
       "      <th>over_under</th>\n",
       "      <th>eff_field_goal_percent_lastseason</th>\n",
       "      <th>spread_decay1_mean</th>\n",
       "      <th>position</th>\n",
       "      <th>OWS_lastseason</th>\n",
       "      <th>free_throws_percent_decay1</th>\n",
       "      <th>text_yesterday_and_today</th>\n",
       "      <th>game_score</th>\n",
       "    </tr>\n",
       "  </thead>\n",
       "  <tbody>\n",
       "    <tr>\n",
       "      <th>0</th>\n",
       "      <td>NaN</td>\n",
       "      <td>NaN</td>\n",
       "      <td>NaN</td>\n",
       "      <td>NaN</td>\n",
       "      <td>NaN</td>\n",
       "      <td>NaN</td>\n",
       "      <td>NaN</td>\n",
       "      <td>NaN</td>\n",
       "      <td>3.1</td>\n",
       "      <td>NaN</td>\n",
       "      <td>...</td>\n",
       "      <td>PHO</td>\n",
       "      <td>POR</td>\n",
       "      <td>NaN</td>\n",
       "      <td>0.475</td>\n",
       "      <td>NaN</td>\n",
       "      <td>SG</td>\n",
       "      <td>1.3</td>\n",
       "      <td>NaN</td>\n",
       "      <td>NaN</td>\n",
       "      <td>8.1</td>\n",
       "    </tr>\n",
       "    <tr>\n",
       "      <th>1</th>\n",
       "      <td>NaN</td>\n",
       "      <td>NaN</td>\n",
       "      <td>NaN</td>\n",
       "      <td>NaN</td>\n",
       "      <td>0.0</td>\n",
       "      <td>6.000000</td>\n",
       "      <td>8.10</td>\n",
       "      <td>27.066667</td>\n",
       "      <td>3.1</td>\n",
       "      <td>0.00</td>\n",
       "      <td>...</td>\n",
       "      <td>PHO</td>\n",
       "      <td>LAL</td>\n",
       "      <td>NaN</td>\n",
       "      <td>0.475</td>\n",
       "      <td>-48.000000</td>\n",
       "      <td>SG</td>\n",
       "      <td>1.3</td>\n",
       "      <td>NaN</td>\n",
       "      <td>NaN</td>\n",
       "      <td>18.6</td>\n",
       "    </tr>\n",
       "    <tr>\n",
       "      <th>2</th>\n",
       "      <td>NaN</td>\n",
       "      <td>NaN</td>\n",
       "      <td>NaN</td>\n",
       "      <td>NaN</td>\n",
       "      <td>1.5</td>\n",
       "      <td>8.000000</td>\n",
       "      <td>13.35</td>\n",
       "      <td>35.511111</td>\n",
       "      <td>3.1</td>\n",
       "      <td>2.50</td>\n",
       "      <td>...</td>\n",
       "      <td>PHO</td>\n",
       "      <td>LAC</td>\n",
       "      <td>NaN</td>\n",
       "      <td>0.475</td>\n",
       "      <td>-17.333333</td>\n",
       "      <td>SG</td>\n",
       "      <td>1.3</td>\n",
       "      <td>0.600000</td>\n",
       "      <td>NaN</td>\n",
       "      <td>5.4</td>\n",
       "    </tr>\n",
       "    <tr>\n",
       "      <th>3</th>\n",
       "      <td>NaN</td>\n",
       "      <td>NaN</td>\n",
       "      <td>NaN</td>\n",
       "      <td>NaN</td>\n",
       "      <td>2.0</td>\n",
       "      <td>6.285714</td>\n",
       "      <td>10.70</td>\n",
       "      <td>33.380952</td>\n",
       "      <td>3.1</td>\n",
       "      <td>3.00</td>\n",
       "      <td>...</td>\n",
       "      <td>PHO</td>\n",
       "      <td>SAC</td>\n",
       "      <td>NaN</td>\n",
       "      <td>0.475</td>\n",
       "      <td>-31.428571</td>\n",
       "      <td>SG</td>\n",
       "      <td>1.3</td>\n",
       "      <td>0.692308</td>\n",
       "      <td>NaN</td>\n",
       "      <td>16.5</td>\n",
       "    </tr>\n",
       "    <tr>\n",
       "      <th>4</th>\n",
       "      <td>NaN</td>\n",
       "      <td>NaN</td>\n",
       "      <td>NaN</td>\n",
       "      <td>NaN</td>\n",
       "      <td>2.5</td>\n",
       "      <td>7.200000</td>\n",
       "      <td>12.15</td>\n",
       "      <td>30.955556</td>\n",
       "      <td>3.1</td>\n",
       "      <td>3.25</td>\n",
       "      <td>...</td>\n",
       "      <td>PHO</td>\n",
       "      <td>UTA</td>\n",
       "      <td>NaN</td>\n",
       "      <td>0.475</td>\n",
       "      <td>-13.600000</td>\n",
       "      <td>SG</td>\n",
       "      <td>1.3</td>\n",
       "      <td>0.862069</td>\n",
       "      <td>NaN</td>\n",
       "      <td>8.4</td>\n",
       "    </tr>\n",
       "  </tbody>\n",
       "</table>\n",
       "<p>5 rows × 52 columns</p>\n",
       "</div>"
      ],
      "text/plain": [
       "   roto_fpts_per_min  roto_minutes  roto_fpts  roto_value  \\\n",
       "0                NaN           NaN        NaN         NaN   \n",
       "1                NaN           NaN        NaN         NaN   \n",
       "2                NaN           NaN        NaN         NaN   \n",
       "3                NaN           NaN        NaN         NaN   \n",
       "4                NaN           NaN        NaN         NaN   \n",
       "\n",
       "   free_throws_lag30_mean  field_goals_decay1_mean  game_score_lag30_mean  \\\n",
       "0                     NaN                      NaN                    NaN   \n",
       "1                     0.0                 6.000000                   8.10   \n",
       "2                     1.5                 8.000000                  13.35   \n",
       "3                     2.0                 6.285714                  10.70   \n",
       "4                     2.5                 7.200000                  12.15   \n",
       "\n",
       "   minutes_played_decay1_mean  PF_lastseason  \\\n",
       "0                         NaN            3.1   \n",
       "1                   27.066667            3.1   \n",
       "2                   35.511111            3.1   \n",
       "3                   33.380952            3.1   \n",
       "4                   30.955556            3.1   \n",
       "\n",
       "   free_throws_attempted_lag30_mean  ...  team  opponent  over_under  \\\n",
       "0                               NaN  ...   PHO       POR         NaN   \n",
       "1                              0.00  ...   PHO       LAL         NaN   \n",
       "2                              2.50  ...   PHO       LAC         NaN   \n",
       "3                              3.00  ...   PHO       SAC         NaN   \n",
       "4                              3.25  ...   PHO       UTA         NaN   \n",
       "\n",
       "   eff_field_goal_percent_lastseason  spread_decay1_mean  position  \\\n",
       "0                              0.475                 NaN        SG   \n",
       "1                              0.475          -48.000000        SG   \n",
       "2                              0.475          -17.333333        SG   \n",
       "3                              0.475          -31.428571        SG   \n",
       "4                              0.475          -13.600000        SG   \n",
       "\n",
       "   OWS_lastseason free_throws_percent_decay1  text_yesterday_and_today  \\\n",
       "0             1.3                        NaN                       NaN   \n",
       "1             1.3                        NaN                       NaN   \n",
       "2             1.3                   0.600000                       NaN   \n",
       "3             1.3                   0.692308                       NaN   \n",
       "4             1.3                   0.862069                       NaN   \n",
       "\n",
       "   game_score  \n",
       "0         8.1  \n",
       "1        18.6  \n",
       "2         5.4  \n",
       "3        16.5  \n",
       "4         8.4  \n",
       "\n",
       "[5 rows x 52 columns]"
      ]
     },
     "execution_count": 5,
     "metadata": {},
     "output_type": "execute_result"
    }
   ],
   "source": [
    "# Load data\n",
    "df = pd.read_csv(\n",
    "    \"https://s3.amazonaws.com/datarobot_public_datasets/DR_Demo_NBA_2017-2018.csv\"\n",
    ")\n",
    "df.head()"
   ]
  },
  {
   "cell_type": "code",
   "execution_count": 6,
   "id": "dfadd343-7cdf-40cc-b11d-8bb23b9079c4",
   "metadata": {},
   "outputs": [
    {
     "data": {
      "text/plain": [
       "<Axes: >"
      ]
     },
     "execution_count": 6,
     "metadata": {},
     "output_type": "execute_result"
    },
    {
     "data": {
      "image/png": "[encoded data removed]",
      "text/plain": [
       "<Figure size 640x480 with 1 Axes>"
      ]
     },
     "metadata": {},
     "output_type": "display_data"
    }
   ],
   "source": [
    "# Distribution of target\n",
    "target_column = \"game_score\"\n",
    "df[target_column].hist()"
   ]
  },
  {
   "cell_type": "code",
   "execution_count": 7,
   "id": "ac59a838-cca7-4a6a-83e8-b45a79b5bc92",
   "metadata": {},
   "outputs": [
    {
     "name": "stdout",
     "output_type": "stream",
     "text": [
      "(7999, 52)\n",
      "(2000, 52)\n"
     ]
    }
   ],
   "source": [
    "# Split data\n",
    "df_train = df.sample(frac=1 - TEST_DATA_FRACTION, replace=False, random_state=10)\n",
    "df_test = df.loc[~df.index.isin(df_train.index)]\n",
    "df_train = df_train.reset_index(drop=True)\n",
    "df_test = df_test.reset_index(drop=True)\n",
    "print(df_train.shape)\n",
    "print(df_test.shape)"
   ]
  },
  {
   "cell_type": "markdown",
   "id": "62b3fa0f-aac6-4c6f-a94c-58b9f9902361",
   "metadata": {
    "tags": []
   },
   "source": [
    "### 4. Modeling building and making predictions\n",
    "\n",
    "To create a DataRobot project and start building models, you can use the convenient `Project.start` function, which chains together project creation, file upload, and target selection. Once models are finished training, you'll retrieve the one DataRobot recommends for deployment and request predictions for both the training and testing sets. Note that the predictions made on the training dataset are _not_ in-sample, but rather out-of-sample (i.e., also referred to as [stacked predictions](https://docs.datarobot.com/en/docs/modeling/reference/model-detail/data-partitioning.html#)). These out-of-sample training predictions are a key component to each prediction interval method discussed in this notebook."
   ]
  },
  {
   "cell_type": "code",
   "execution_count": 8,
   "id": "46b04c0b-3edc-43af-8194-75edb10c15f4",
   "metadata": {},
   "outputs": [
    {
     "name": "stdout",
     "output_type": "stream",
     "text": [
      "In progress: 8, queued: 0 (waited: 0s)\n",
      "In progress: 8, queued: 0 (waited: 1s)\n",
      "In progress: 8, queued: 0 (waited: 1s)\n",
      "In progress: 8, queued: 0 (waited: 2s)\n",
      "In progress: 8, queued: 0 (waited: 4s)\n",
      "In progress: 8, queued: 0 (waited: 6s)\n",
      "In progress: 8, queued: 0 (waited: 10s)\n",
      "In progress: 8, queued: 0 (waited: 17s)\n",
      "In progress: 8, queued: 0 (waited: 30s)\n",
      "In progress: 7, queued: 0 (waited: 56s)\n",
      "In progress: 1, queued: 0 (waited: 108s)\n",
      "In progress: 6, queued: 0 (waited: 211s)\n",
      "In progress: 0, queued: 0 (waited: 332s)\n",
      "In progress: 1, queued: 0 (waited: 452s)\n",
      "In progress: 0, queued: 0 (waited: 573s)\n",
      "In progress: 0, queued: 0 (waited: 693s)\n"
     ]
    }
   ],
   "source": [
    "# Starting main project\n",
    "project = dr.Project.start(\n",
    "    sourcedata=df_train,\n",
    "    project_name=\"Conformal Inference AIA - NBA\",\n",
    "    target=target_column,\n",
    "    worker_count=-1,\n",
    ")\n",
    "\n",
    "# Unlock holdout set in order to train into it\n",
    "project.unlock_holdout()\n",
    "\n",
    "# Wait\n",
    "project.wait_for_autopilot(check_interval=120)"
   ]
  },
  {
   "cell_type": "code",
   "execution_count": 9,
   "id": "42a4e5dc-8e8a-4eb9-aaf8-d9eec374d713",
   "metadata": {},
   "outputs": [
    {
     "data": {
      "text/plain": [
       "Model('RandomForest Regressor')"
      ]
     },
     "execution_count": 9,
     "metadata": {},
     "output_type": "execute_result"
    }
   ],
   "source": [
    "# Get recommended model\n",
    "best_model = dr.ModelRecommendation.get(project.id).get_model()\n",
    "best_model"
   ]
  },
  {
   "cell_type": "code",
   "execution_count": 10,
   "id": "f452ae05-ee65-4358-9541-471df0e61702",
   "metadata": {},
   "outputs": [
    {
     "data": {
      "text/html": [
       "<div>\n",
       "<style scoped>\n",
       "    .dataframe tbody tr th:only-of-type {\n",
       "        vertical-align: middle;\n",
       "    }\n",
       "\n",
       "    .dataframe tbody tr th {\n",
       "        vertical-align: top;\n",
       "    }\n",
       "\n",
       "    .dataframe thead th {\n",
       "        text-align: right;\n",
       "    }\n",
       "</style>\n",
       "<table border=\"1\" class=\"dataframe\">\n",
       "  <thead>\n",
       "    <tr style=\"text-align: right;\">\n",
       "      <th></th>\n",
       "      <th>row_id</th>\n",
       "      <th>partition_id</th>\n",
       "      <th>prediction</th>\n",
       "    </tr>\n",
       "  </thead>\n",
       "  <tbody>\n",
       "    <tr>\n",
       "      <th>0</th>\n",
       "      <td>0</td>\n",
       "      <td>0.0</td>\n",
       "      <td>0.899231</td>\n",
       "    </tr>\n",
       "    <tr>\n",
       "      <th>1</th>\n",
       "      <td>1</td>\n",
       "      <td>Holdout</td>\n",
       "      <td>9.240274</td>\n",
       "    </tr>\n",
       "    <tr>\n",
       "      <th>2</th>\n",
       "      <td>2</td>\n",
       "      <td>0.0</td>\n",
       "      <td>15.043815</td>\n",
       "    </tr>\n",
       "    <tr>\n",
       "      <th>3</th>\n",
       "      <td>3</td>\n",
       "      <td>4.0</td>\n",
       "      <td>8.626567</td>\n",
       "    </tr>\n",
       "    <tr>\n",
       "      <th>4</th>\n",
       "      <td>4</td>\n",
       "      <td>2.0</td>\n",
       "      <td>15.435130</td>\n",
       "    </tr>\n",
       "  </tbody>\n",
       "</table>\n",
       "</div>"
      ],
      "text/plain": [
       "   row_id partition_id  prediction\n",
       "0       0          0.0    0.899231\n",
       "1       1      Holdout    9.240274\n",
       "2       2          0.0   15.043815\n",
       "3       3          4.0    8.626567\n",
       "4       4          2.0   15.435130"
      ]
     },
     "execution_count": 10,
     "metadata": {},
     "output_type": "execute_result"
    }
   ],
   "source": [
    "# Compute training predictions (necessary for each method)\n",
    "training_preds = compute_training_predictions(model=best_model)\n",
    "training_preds.head()"
   ]
  },
  {
   "cell_type": "code",
   "execution_count": 11,
   "id": "3d14a6b8-d893-40ee-a145-fa2d410337ec",
   "metadata": {},
   "outputs": [
    {
     "data": {
      "text/html": [
       "<div>\n",
       "<style scoped>\n",
       "    .dataframe tbody tr th:only-of-type {\n",
       "        vertical-align: middle;\n",
       "    }\n",
       "\n",
       "    .dataframe tbody tr th {\n",
       "        vertical-align: top;\n",
       "    }\n",
       "\n",
       "    .dataframe thead th {\n",
       "        text-align: right;\n",
       "    }\n",
       "</style>\n",
       "<table border=\"1\" class=\"dataframe\">\n",
       "  <thead>\n",
       "    <tr style=\"text-align: right;\">\n",
       "      <th></th>\n",
       "      <th>row_id</th>\n",
       "      <th>prediction</th>\n",
       "    </tr>\n",
       "  </thead>\n",
       "  <tbody>\n",
       "    <tr>\n",
       "      <th>0</th>\n",
       "      <td>0</td>\n",
       "      <td>14.275717</td>\n",
       "    </tr>\n",
       "    <tr>\n",
       "      <th>1</th>\n",
       "      <td>1</td>\n",
       "      <td>13.238045</td>\n",
       "    </tr>\n",
       "    <tr>\n",
       "      <th>2</th>\n",
       "      <td>2</td>\n",
       "      <td>12.827469</td>\n",
       "    </tr>\n",
       "    <tr>\n",
       "      <th>3</th>\n",
       "      <td>3</td>\n",
       "      <td>14.141054</td>\n",
       "    </tr>\n",
       "    <tr>\n",
       "      <th>4</th>\n",
       "      <td>4</td>\n",
       "      <td>7.113611</td>\n",
       "    </tr>\n",
       "  </tbody>\n",
       "</table>\n",
       "</div>"
      ],
      "text/plain": [
       "   row_id  prediction\n",
       "0       0   14.275717\n",
       "1       1   13.238045\n",
       "2       2   12.827469\n",
       "3       3   14.141054\n",
       "4       4    7.113611"
      ]
     },
     "execution_count": 11,
     "metadata": {},
     "output_type": "execute_result"
    }
   ],
   "source": [
    "# Request predictions on testing data\n",
    "pred_dataset = project.upload_dataset(sourcedata=df_test, max_wait=60 * 60 * 24)\n",
    "predict_job = best_model.request_predictions(dataset_id=pred_dataset.id)\n",
    "testing_preds = predict_job.get_result_when_complete(max_wait=60 * 60 * 24)\n",
    "testing_preds.head()"
   ]
  },
  {
   "cell_type": "code",
   "execution_count": 12,
   "id": "62845a83-8ba2-4f98-bd83-514b45a13258",
   "metadata": {},
   "outputs": [
    {
     "data": {
      "text/html": [
       "<div>\n",
       "<style scoped>\n",
       "    .dataframe tbody tr th:only-of-type {\n",
       "        vertical-align: middle;\n",
       "    }\n",
       "\n",
       "    .dataframe tbody tr th {\n",
       "        vertical-align: top;\n",
       "    }\n",
       "\n",
       "    .dataframe thead th {\n",
       "        text-align: right;\n",
       "    }\n",
       "</style>\n",
       "<table border=\"1\" class=\"dataframe\">\n",
       "  <thead>\n",
       "    <tr style=\"text-align: right;\">\n",
       "      <th></th>\n",
       "      <th>game_score</th>\n",
       "      <th>prediction</th>\n",
       "    </tr>\n",
       "  </thead>\n",
       "  <tbody>\n",
       "    <tr>\n",
       "      <th>0</th>\n",
       "      <td>0.0</td>\n",
       "      <td>0.899231</td>\n",
       "    </tr>\n",
       "    <tr>\n",
       "      <th>1</th>\n",
       "      <td>0.0</td>\n",
       "      <td>9.240274</td>\n",
       "    </tr>\n",
       "    <tr>\n",
       "      <th>2</th>\n",
       "      <td>21.6</td>\n",
       "      <td>15.043815</td>\n",
       "    </tr>\n",
       "    <tr>\n",
       "      <th>3</th>\n",
       "      <td>4.4</td>\n",
       "      <td>8.626567</td>\n",
       "    </tr>\n",
       "    <tr>\n",
       "      <th>4</th>\n",
       "      <td>26.7</td>\n",
       "      <td>15.435130</td>\n",
       "    </tr>\n",
       "    <tr>\n",
       "      <th>...</th>\n",
       "      <td>...</td>\n",
       "      <td>...</td>\n",
       "    </tr>\n",
       "    <tr>\n",
       "      <th>7994</th>\n",
       "      <td>18.4</td>\n",
       "      <td>19.801230</td>\n",
       "    </tr>\n",
       "    <tr>\n",
       "      <th>7995</th>\n",
       "      <td>12.9</td>\n",
       "      <td>10.349299</td>\n",
       "    </tr>\n",
       "    <tr>\n",
       "      <th>7996</th>\n",
       "      <td>19.3</td>\n",
       "      <td>14.453104</td>\n",
       "    </tr>\n",
       "    <tr>\n",
       "      <th>7997</th>\n",
       "      <td>9.8</td>\n",
       "      <td>23.360390</td>\n",
       "    </tr>\n",
       "    <tr>\n",
       "      <th>7998</th>\n",
       "      <td>8.1</td>\n",
       "      <td>9.220965</td>\n",
       "    </tr>\n",
       "  </tbody>\n",
       "</table>\n",
       "<p>7999 rows × 2 columns</p>\n",
       "</div>"
      ],
      "text/plain": [
       "      game_score  prediction\n",
       "0            0.0    0.899231\n",
       "1            0.0    9.240274\n",
       "2           21.6   15.043815\n",
       "3            4.4    8.626567\n",
       "4           26.7   15.435130\n",
       "...          ...         ...\n",
       "7994        18.4   19.801230\n",
       "7995        12.9   10.349299\n",
       "7996        19.3   14.453104\n",
       "7997         9.8   23.360390\n",
       "7998         8.1    9.220965\n",
       "\n",
       "[7999 rows x 2 columns]"
      ]
     },
     "metadata": {},
     "output_type": "display_data"
    },
    {
     "data": {
      "text/html": [
       "<div>\n",
       "<style scoped>\n",
       "    .dataframe tbody tr th:only-of-type {\n",
       "        vertical-align: middle;\n",
       "    }\n",
       "\n",
       "    .dataframe tbody tr th {\n",
       "        vertical-align: top;\n",
       "    }\n",
       "\n",
       "    .dataframe thead th {\n",
       "        text-align: right;\n",
       "    }\n",
       "</style>\n",
       "<table border=\"1\" class=\"dataframe\">\n",
       "  <thead>\n",
       "    <tr style=\"text-align: right;\">\n",
       "      <th></th>\n",
       "      <th>game_score</th>\n",
       "      <th>prediction</th>\n",
       "    </tr>\n",
       "  </thead>\n",
       "  <tbody>\n",
       "    <tr>\n",
       "      <th>0</th>\n",
       "      <td>5.4</td>\n",
       "      <td>14.275717</td>\n",
       "    </tr>\n",
       "    <tr>\n",
       "      <th>1</th>\n",
       "      <td>16.5</td>\n",
       "      <td>13.238045</td>\n",
       "    </tr>\n",
       "    <tr>\n",
       "      <th>2</th>\n",
       "      <td>7.2</td>\n",
       "      <td>12.827469</td>\n",
       "    </tr>\n",
       "    <tr>\n",
       "      <th>3</th>\n",
       "      <td>23.8</td>\n",
       "      <td>14.141054</td>\n",
       "    </tr>\n",
       "    <tr>\n",
       "      <th>4</th>\n",
       "      <td>0.0</td>\n",
       "      <td>7.113611</td>\n",
       "    </tr>\n",
       "    <tr>\n",
       "      <th>...</th>\n",
       "      <td>...</td>\n",
       "      <td>...</td>\n",
       "    </tr>\n",
       "    <tr>\n",
       "      <th>1995</th>\n",
       "      <td>17.0</td>\n",
       "      <td>10.358305</td>\n",
       "    </tr>\n",
       "    <tr>\n",
       "      <th>1996</th>\n",
       "      <td>25.0</td>\n",
       "      <td>16.455246</td>\n",
       "    </tr>\n",
       "    <tr>\n",
       "      <th>1997</th>\n",
       "      <td>-1.2</td>\n",
       "      <td>4.356278</td>\n",
       "    </tr>\n",
       "    <tr>\n",
       "      <th>1998</th>\n",
       "      <td>15.7</td>\n",
       "      <td>14.503841</td>\n",
       "    </tr>\n",
       "    <tr>\n",
       "      <th>1999</th>\n",
       "      <td>14.3</td>\n",
       "      <td>10.568885</td>\n",
       "    </tr>\n",
       "  </tbody>\n",
       "</table>\n",
       "<p>2000 rows × 2 columns</p>\n",
       "</div>"
      ],
      "text/plain": [
       "      game_score  prediction\n",
       "0            5.4   14.275717\n",
       "1           16.5   13.238045\n",
       "2            7.2   12.827469\n",
       "3           23.8   14.141054\n",
       "4            0.0    7.113611\n",
       "...          ...         ...\n",
       "1995        17.0   10.358305\n",
       "1996        25.0   16.455246\n",
       "1997        -1.2    4.356278\n",
       "1998        15.7   14.503841\n",
       "1999        14.3   10.568885\n",
       "\n",
       "[2000 rows x 2 columns]"
      ]
     },
     "metadata": {},
     "output_type": "display_data"
    }
   ],
   "source": [
    "# Join predictions training and testing datasets\n",
    "df_train = df_train.join(training_preds.set_index(\"row_id\"))\n",
    "df_test = df_test.join(testing_preds.set_index(\"row_id\"))\n",
    "display(df_train[[target_column, \"prediction\"]])\n",
    "display(df_test[[target_column, \"prediction\"]])"
   ]
  },
  {
   "cell_type": "code",
   "execution_count": 13,
   "id": "493ffd16-4eac-471e-9516-f441e59a71a0",
   "metadata": {},
   "outputs": [
    {
     "data": {
      "text/plain": [
       "<Axes: >"
      ]
     },
     "execution_count": 13,
     "metadata": {},
     "output_type": "execute_result"
    },
    {
     "data": {
      "image/png": "[encoded data removed]",
      "text/plain": [
       "<Figure size 640x480 with 1 Axes>"
      ]
     },
     "metadata": {},
     "output_type": "display_data"
    }
   ],
   "source": [
    "# Compute the residuals on the training data\n",
    "df_train[\"residuals\"] = df_train[target_column] - df_train[\"prediction\"]\n",
    "df_train[\"residuals\"].hist()"
   ]
  },
  {
   "cell_type": "markdown",
   "id": "ffb5ef33-083d-4150-9dfb-49f864572132",
   "metadata": {},
   "source": [
    "### 5. Method 1: Absolute conformal\n",
    "\n",
    "The first method you'll implement, regarded here as \"absolute conformal,\" is as follows:\n",
    "\n",
    "1. Take the absolute value of the out-of-sample residuals (these will be the conformity scores)\n",
    "2. Compute the quantile associated with the specified COVERAGE_LEVEL on the conformity scores\n",
    "3. Add and subtract this quantile value to the prediction\n",
    "\n",
    "The resulting prediction intervals are guaranteed to be symmetric and the same width (since you're simply applying a scalar value across all rows). For more information regarding this approach, see [Section 2.3](https://www.diva-portal.org/smash/get/diva2:887891/FULLTEXT01.pdf)."
   ]
  },
  {
   "cell_type": "code",
   "execution_count": 14,
   "id": "cd9ece4f-1e74-4c25-b750-e63fddc73f33",
   "metadata": {},
   "outputs": [
    {
     "data": {
      "text/plain": [
       "11.028431310477108"
      ]
     },
     "execution_count": 14,
     "metadata": {},
     "output_type": "execute_result"
    }
   ],
   "source": [
    "# Compute the conformity scores\n",
    "df_train[\"abs_residuals\"] = df_train[\"residuals\"].abs()\n",
    "abs_residuals_q = df_train[\"abs_residuals\"].quantile(COVERAGE_LEVEL)\n",
    "abs_residuals_q"
   ]
  },
  {
   "cell_type": "code",
   "execution_count": 15,
   "id": "0d75cc53-801d-4f85-b2e0-8fa72703f02b",
   "metadata": {},
   "outputs": [],
   "source": [
    "# Using the computed quantile, create the prediction intervals\n",
    "df_test[\"method_1_lower\"] = df_test[\"prediction\"] - abs_residuals_q\n",
    "df_test[\"method_1_upper\"] = df_test[\"prediction\"] + abs_residuals_q"
   ]
  },
  {
   "cell_type": "code",
   "execution_count": 16,
   "id": "7a8f6221-d077-42b2-9e77-2f001367b1c1",
   "metadata": {},
   "outputs": [
    {
     "name": "stdout",
     "output_type": "stream",
     "text": [
      "Absolute Conformal: Percentage in the range (expecting 90.00): 89.000000\n",
      "Absolute Conformal: Average width: 22.056863\n"
     ]
    }
   ],
   "source": [
    "# Compute metrics\n",
    "method_1_coverage = compute_coverage(\n",
    "    y_test=df_test[target_column].values,\n",
    "    y_lower=df_test[\"method_1_lower\"].values,\n",
    "    y_upper=df_test[\"method_1_upper\"].values,\n",
    "    significance=1 - COVERAGE_LEVEL,\n",
    "    name=\"Absolute Conformal\",\n",
    ")"
   ]
  },
  {
   "cell_type": "markdown",
   "id": "ff487a82-89a5-4de9-9c9a-e8bbacc1ae0e",
   "metadata": {
    "tags": []
   },
   "source": [
    "### 6. Method 2: Signed conformal\n",
    "\n",
    "\"Signed conformal\" follows a very similar procedure as the previous one:\n",
    "\n",
    "1. Determine the lower and upper quantile levels based on the specified COVERAGE_LEVEL\n",
    "2. Compute the lower and upper quantile values on the out-of-sample residuals (i.e., conformity scores)\n",
    "3. Add these quantile values to the prediction\n",
    "\n",
    "The main advantage to this approach over the previous one is that the prediction intervals are not forced to be symmetric, which can lead to better coverage for skewed targets. For more information regarding this approach, see [Section 3.2](https://www.diva-portal.org/smash/get/diva2:887891/FULLTEXT01.pdf)."
   ]
  },
  {
   "cell_type": "code",
   "execution_count": 17,
   "id": "dc486850-004b-4447-b04d-5f494b08c494",
   "metadata": {},
   "outputs": [
    {
     "data": {
      "text/plain": [
       "(0.05, 0.95)"
      ]
     },
     "execution_count": 17,
     "metadata": {},
     "output_type": "execute_result"
    }
   ],
   "source": [
    "# Compute lower and upper quantile levels to use based on the coverage\n",
    "lower_coverage_q = round((1 - COVERAGE_LEVEL) / 2, 2)\n",
    "upper_coverage_q = COVERAGE_LEVEL + (1 - COVERAGE_LEVEL) / 2\n",
    "lower_coverage_q, upper_coverage_q"
   ]
  },
  {
   "cell_type": "code",
   "execution_count": 18,
   "id": "295feaba-0396-4ed8-abd6-022202684a23",
   "metadata": {},
   "outputs": [
    {
     "data": {
      "text/plain": [
       "(-10.573999229291612, 11.617478915155703)"
      ]
     },
     "execution_count": 18,
     "metadata": {},
     "output_type": "execute_result"
    }
   ],
   "source": [
    "# Compute quantiles on the conformity scores\n",
    "residuals_q_low = df_train[\"residuals\"].quantile(lower_coverage_q)\n",
    "residuals_q_high = df_train[\"residuals\"].quantile(upper_coverage_q)\n",
    "residuals_q_low, residuals_q_high"
   ]
  },
  {
   "cell_type": "code",
   "execution_count": 19,
   "id": "eae1639f-21b5-4079-9ae9-5a0a03583e61",
   "metadata": {},
   "outputs": [],
   "source": [
    "# Using the quantile values, create the prediction intervals\n",
    "df_test[\"method_2_lower\"] = df_test[\"prediction\"] + residuals_q_low\n",
    "df_test[\"method_2_upper\"] = df_test[\"prediction\"] + residuals_q_high"
   ]
  },
  {
   "cell_type": "code",
   "execution_count": 20,
   "id": "700664cf-666e-4343-9c53-e9ada9312bc2",
   "metadata": {},
   "outputs": [
    {
     "name": "stdout",
     "output_type": "stream",
     "text": [
      "Signed Conformal: Percentage in the range (expecting 90.00): 88.900000\n",
      "Signed Conformal: Average width: 22.191478\n"
     ]
    }
   ],
   "source": [
    "# Compute metrics\n",
    "method_2_coverage = compute_coverage(\n",
    "    y_test=df_test[target_column].values,\n",
    "    y_lower=df_test[\"method_2_lower\"].values,\n",
    "    y_upper=df_test[\"method_2_upper\"].values,\n",
    "    significance=1 - COVERAGE_LEVEL,\n",
    "    name=\"Signed Conformal\",\n",
    ")"
   ]
  },
  {
   "cell_type": "markdown",
   "id": "2ab640e9-dae2-4f99-8ab4-fa3010d393bf",
   "metadata": {},
   "source": [
    "### 7. Method 3: Locally-weighted conformal\n",
    "\n",
    "While the primary advantage of the previous two methods is their simplicity, the disadvantage is that each prediction interval ends up being the exact same width. In many cases, it's desirable to have varying widths that reflect the degree of confidence (i.e., harder to predict rows get a larger prediction interval and vice versa). To this end, you can make them more adaptive by using an auxiliary model to help augment the width on a per-row basis, depending on how much error we'd expect to see in a particular row. The \"locally-weighted conformal\" method is as follows:\n",
    "\n",
    "1. Take the absolute value of the out-of-sample residuals\n",
    "2. Build a model that regresses against the absolute residuals as the target using the same feature set\n",
    "3. Compute the out-of-sample predictions from the absolute residuals model\n",
    "4. Scale the out-of-sample residuals using the auxillary model's predictions to create the conformity scores\n",
    "5. Compute the quantile associated with the specified COVERAGE_LEVEL on the conformity scores\n",
    "6. Multiply this quantile value and the auxillary model's predictions together (this will result in a locally-weighted offset to apply, specific to each row)\n",
    "7. Add and subtract this multiplied value to each prediction\n",
    "\n",
    "Although this approach is more involved, it addresses the disadvantage above by making the prediction intervals adaptive to each row while still being symmetric. For more information regarding this approach, see [Section 5.2](https://arxiv.org/abs/1604.04173). "
   ]
  },
  {
   "cell_type": "code",
   "execution_count": 21,
   "id": "36c7463b-3c34-42a6-8a2f-ffe0eb5e3648",
   "metadata": {},
   "outputs": [
    {
     "name": "stdout",
     "output_type": "stream",
     "text": [
      "In progress: 8, queued: 0 (waited: 0s)\n",
      "In progress: 8, queued: 0 (waited: 1s)\n",
      "In progress: 8, queued: 0 (waited: 1s)\n",
      "In progress: 8, queued: 0 (waited: 2s)\n",
      "In progress: 8, queued: 0 (waited: 3s)\n",
      "In progress: 8, queued: 0 (waited: 6s)\n",
      "In progress: 8, queued: 0 (waited: 9s)\n",
      "In progress: 8, queued: 0 (waited: 16s)\n",
      "In progress: 8, queued: 0 (waited: 30s)\n",
      "In progress: 7, queued: 0 (waited: 56s)\n",
      "In progress: 1, queued: 0 (waited: 108s)\n",
      "In progress: 6, queued: 0 (waited: 211s)\n",
      "In progress: 0, queued: 0 (waited: 331s)\n",
      "In progress: 1, queued: 0 (waited: 452s)\n",
      "In progress: 0, queued: 0 (waited: 572s)\n",
      "In progress: 0, queued: 0 (waited: 693s)\n"
     ]
    }
   ],
   "source": [
    "# Starting project to predict absolute residuals\n",
    "project_abs_residuals = dr.Project.start(\n",
    "    sourcedata=df_train.drop(\n",
    "        columns=[\n",
    "            target_column,\n",
    "            \"partition_id\",\n",
    "            \"prediction\",\n",
    "            \"residuals\",\n",
    "        ],\n",
    "        axis=1,\n",
    "    ),\n",
    "    project_name=f\"Predicting absolute residuals from {project.project_name}\",\n",
    "    target=\"abs_residuals\",\n",
    "    worker_count=-1,\n",
    ")\n",
    "project_abs_residuals.wait_for_autopilot(check_interval=120)"
   ]
  },
  {
   "cell_type": "code",
   "execution_count": 22,
   "id": "02f85acf-9d80-4fc6-96c2-7493c4c0256c",
   "metadata": {},
   "outputs": [
    {
     "data": {
      "text/plain": [
       "Model('RandomForest Regressor')"
      ]
     },
     "execution_count": 22,
     "metadata": {},
     "output_type": "execute_result"
    }
   ],
   "source": [
    "# Get recommended model\n",
    "best_model_abs_residuals = dr.ModelRecommendation.get(\n",
    "    project_abs_residuals.id\n",
    ").get_model()\n",
    "best_model_abs_residuals"
   ]
  },
  {
   "cell_type": "code",
   "execution_count": 23,
   "id": "6b5043d1-99ed-4268-9de1-08748edd23a4",
   "metadata": {},
   "outputs": [],
   "source": [
    "# Compute training predictions and join\n",
    "df_train = df_train.join(\n",
    "    compute_training_predictions(model=best_model_abs_residuals)\n",
    "    .rename(columns={\"prediction\": f\"abs_residuals_prediction\"})\n",
    "    .set_index(\"row_id\")\n",
    "    .drop(columns=[\"partition_id\"], axis=1)\n",
    ")"
   ]
  },
  {
   "cell_type": "code",
   "execution_count": 24,
   "id": "8defa1a6-7f49-42e7-a022-5a58b7be80d9",
   "metadata": {},
   "outputs": [],
   "source": [
    "# Now compute predictions on testing data and join\n",
    "pred_dataset_abs_residuals = project_abs_residuals.upload_dataset(\n",
    "    sourcedata=df_test, max_wait=60 * 60 * 24\n",
    ")\n",
    "df_test = df_test.join(\n",
    "    best_model_abs_residuals.request_predictions(\n",
    "        dataset_id=pred_dataset_abs_residuals.id\n",
    "    )\n",
    "    .get_result_when_complete(max_wait=60 * 60 * 24)\n",
    "    .rename(columns={\"prediction\": f\"abs_residuals_prediction\"})\n",
    "    .set_index(\"row_id\")\n",
    ")"
   ]
  },
  {
   "cell_type": "code",
   "execution_count": 25,
   "id": "84975196-0897-44c2-b604-fbb099ab78b6",
   "metadata": {},
   "outputs": [
    {
     "data": {
      "text/plain": [
       "2.0517307447009157"
      ]
     },
     "execution_count": 25,
     "metadata": {},
     "output_type": "execute_result"
    }
   ],
   "source": [
    "# Now we need to compute our locally-weighted conformity scores and take the quantile\n",
    "scaled_abs_residuals = df_train[\"abs_residuals\"] / df_train[\"abs_residuals_prediction\"]\n",
    "scaled_abs_residuals_q = scaled_abs_residuals.quantile(COVERAGE_LEVEL)\n",
    "scaled_abs_residuals_q"
   ]
  },
  {
   "cell_type": "code",
   "execution_count": 26,
   "id": "232b4552-35c9-433a-8999-b5d917ff2ab5",
   "metadata": {},
   "outputs": [],
   "source": [
    "# Using the quantile value and absolute residuals model, create the prediction intervals\n",
    "df_test[\"method_3_lower\"] = (\n",
    "    df_test[\"prediction\"] - df_test[\"abs_residuals_prediction\"] * scaled_abs_residuals_q\n",
    ")\n",
    "df_test[\"method_3_upper\"] = (\n",
    "    df_test[\"prediction\"] + df_test[\"abs_residuals_prediction\"] * scaled_abs_residuals_q\n",
    ")"
   ]
  },
  {
   "cell_type": "code",
   "execution_count": 27,
   "id": "82b478a1-9c83-4093-a593-9220be67ba0a",
   "metadata": {},
   "outputs": [
    {
     "name": "stdout",
     "output_type": "stream",
     "text": [
      "Locally-Weighted Conformal: Percentage in the range (expecting 90.00): 89.800000\n",
      "Locally-Weighted Conformal: Average width: 21.710734\n"
     ]
    }
   ],
   "source": [
    "# Compute metrics\n",
    "method_3_coverage = compute_coverage(\n",
    "    y_test=df_test[target_column].values,\n",
    "    y_lower=df_test[\"method_3_lower\"].values,\n",
    "    y_upper=df_test[\"method_3_upper\"].values,\n",
    "    significance=1 - COVERAGE_LEVEL,\n",
    "    name=\"Locally-Weighted Conformal\",\n",
    ")"
   ]
  },
  {
   "cell_type": "markdown",
   "id": "bd786175-7992-445f-8ae2-bf7a3cd8f763",
   "metadata": {
    "tags": []
   },
   "source": [
    "### 8. Method 4: Conformalized Quantile Regression\n",
    "\n",
    "If you consider \"locally-weighted conformal\" to be a model-based extension of \"absolute conformal,\" then you could consider \"conformalized quantile regression\" to be a model-based extension of \"signed conformal.\" The goal is similar: create more adaptive prediction intervals. However, it inherits the quality that the prediction intervals are not forced to be symmetric. The [reference paper](https://arxiv.org/abs/1905.03222) offers a symmetric and asymmetric formulation for the conformity scores. The former (Theorem 1) \"allows coverage errors to be spread arbitrarily over the left and right tails\" while the latter (Theorem 2) controls \"the left and right tails independently, resulting in a stronger coverage guarantee\" at the cost of slightly wider prediction intervals. Here, you'll use the symmetric version. The full method is as follows:\n",
    "\n",
    "1. Determine the lower and upper quantile levels based on the specified COVERAGE_LEVEL\n",
    "2. Train two quantile regression models at the lower and upper quantile levels, respectively, using the training set\n",
    "3. Compute the out-of-sample predictions for both quantile models\n",
    "4. Compute the conformity scores, $E$, such that $E = max[\\hat{q}_{lower} - y, y - \\hat{q}_{upper}]$ where $y$ is the target, $\\hat{q}_{lower}$ is the lower quantile predictions, and $\\hat{q}_{upper}$ is the upper quantile predictions\n",
    "4. Compute the quantile associated with the specified COVERAGE_LEVEL on $E$\n",
    "5. Add and subtract this quantile value to the quantile predictions\n",
    "\n",
    "Notably, this approach is completely independent of your main model. That is, it doesn't use any information about the initial recommended model defined earlier. This may or may not be desired, depending on the user's preference or use case requirements. To ensure the main model's predictions fall within its respective prediction interval, you'll simply extend the interval's boundary to be equal to the prediction itself (if the prediction lies outside of the respective prediction interval that is). Additionally, it's possible to experience quantile crossing (i.e., lower quantile predictions being greater than higher quantile predictions and vice versa for a given row of data). To combat this, the referenced paper offers a solution via rearrangement. A simplified version of this is implemented here.\n",
    "\n",
    "There are two ways to run quantile regression models in DataRobot:\n",
    "\n",
    "1. [Set the project metric to quantile loss](https://docs.datarobot.com/en/docs/modeling/automl-preview/quantile-reg.html) (which is currently a public-preview feature)\n",
    "2. Use DataRobot blueprints with algorithms that support quantile loss as a hyperparameter in your current project. These includes gradient boosted trees from scikit-learn and Keras neural networks.\n",
    "\n",
    "In this notebook, you'll use the second approach, since it's generally available. This involves using DataRobot's [advanced tuning](https://docs.datarobot.com/en/docs/modeling/analyze-models/evaluate/adv-tuning.html#advanced-tuning) functionality to change the loss function to the desired quantile loss."
   ]
  },
  {
   "cell_type": "code",
   "execution_count": 28,
   "id": "4e26e99a-1d34-40c7-95b6-b3f830b25b30",
   "metadata": {},
   "outputs": [
    {
     "data": {
      "text/plain": [
       "Model('Gradient Boosted Greedy Trees Regressor with Early Stopping (Least-Squares Loss)')"
      ]
     },
     "execution_count": 28,
     "metadata": {},
     "output_type": "execute_result"
    }
   ],
   "source": [
    "# Get a GBT from scikit-learn\n",
    "models = project.get_models()\n",
    "gbt_models = [x for x in models if x.model_type.startswith(\"Gradient Boosted\")]\n",
    "\n",
    "# Check for GBT model. If none, make one.\n",
    "if gbt_models:\n",
    "\n",
    "    # Get most accurate one on validation set\n",
    "    gbt_model = gbt_models[0]\n",
    "\n",
    "    # Make sure it's training on all the data\n",
    "    if gbt_model.sample_pct < 100:\n",
    "\n",
    "        # Train it on all the data\n",
    "        model_job_id = gbt_model.retrain(\n",
    "            sample_pct=100,\n",
    "            featurelist_id=gbt_model.featurelist_id,\n",
    "        )\n",
    "        gbt_model = wait_for_async_model_creation(\n",
    "            project_id=project.id, model_job_id=model_job_id, max_wait=60 * 60 * 24\n",
    "        )\n",
    "\n",
    "else:\n",
    "\n",
    "    # Pull models (will usually be at least one blueprint with a scikit-learn GBT)\n",
    "    gbt_bps = [\n",
    "        x\n",
    "        for x in project.get_blueprints()\n",
    "        if x.model_type.startswith(\"Gradient Boosted\")\n",
    "    ]\n",
    "\n",
    "    # Get first one\n",
    "    gbt_bp = gbt_bps[0]\n",
    "\n",
    "    # Train it on all the data\n",
    "    gbt_model = wait_for_async_model_creation(\n",
    "        project_id=project.id,\n",
    "        model_job_id=project.train(gbt_bp, sample_pct=100),\n",
    "        max_wait=60 * 60 * 24,\n",
    "    )\n",
    "\n",
    "gbt_model"
   ]
  },
  {
   "cell_type": "code",
   "execution_count": 29,
   "id": "78ab4011-e560-474c-bcfc-cdd785887d01",
   "metadata": {},
   "outputs": [
    {
     "data": {
      "text/plain": [
       "{0.05: Model('Gradient Boosted Greedy Trees Regressor with Early Stopping (Quantile Loss)'),\n",
       " 0.95: Model('Gradient Boosted Greedy Trees Regressor with Early Stopping (Quantile Loss)')}"
      ]
     },
     "execution_count": 29,
     "metadata": {},
     "output_type": "execute_result"
    }
   ],
   "source": [
    "# Train quantile models\n",
    "quantile_models = {lower_coverage_q: None, upper_coverage_q: None}\n",
    "\n",
    "# Tune main keras model\n",
    "for q in quantile_models.keys():\n",
    "\n",
    "    # Start\n",
    "    tune = gbt_model.start_advanced_tuning_session()\n",
    "\n",
    "    # Set loss and level\n",
    "    tune.set_parameter(\n",
    "        task_name=gbt_model.model_type, parameter_name=\"loss\", value=\"quantile\"\n",
    "    )\n",
    "    tune.set_parameter(task_name=gbt_model.model_type, parameter_name=\"alpha\", value=q)\n",
    "\n",
    "    # Save job\n",
    "    quantile_models[q] = tune.run()\n",
    "\n",
    "# Wait and get resulting models\n",
    "for q in quantile_models.keys():\n",
    "\n",
    "    quantile_models[q] = quantile_models[q].get_result_when_complete(\n",
    "        max_wait=60 * 60 * 24\n",
    "    )\n",
    "\n",
    "quantile_models"
   ]
  },
  {
   "cell_type": "code",
   "execution_count": 30,
   "id": "3a6046a9-a39a-45d9-a830-68699a58e350",
   "metadata": {},
   "outputs": [
    {
     "data": {
      "text/html": [
       "<div>\n",
       "<style scoped>\n",
       "    .dataframe tbody tr th:only-of-type {\n",
       "        vertical-align: middle;\n",
       "    }\n",
       "\n",
       "    .dataframe tbody tr th {\n",
       "        vertical-align: top;\n",
       "    }\n",
       "\n",
       "    .dataframe thead th {\n",
       "        text-align: right;\n",
       "    }\n",
       "</style>\n",
       "<table border=\"1\" class=\"dataframe\">\n",
       "  <thead>\n",
       "    <tr style=\"text-align: right;\">\n",
       "      <th></th>\n",
       "      <th>game_score</th>\n",
       "      <th>quantile_prediction_0.05</th>\n",
       "      <th>quantile_prediction_0.95</th>\n",
       "    </tr>\n",
       "  </thead>\n",
       "  <tbody>\n",
       "    <tr>\n",
       "      <th>0</th>\n",
       "      <td>0.0</td>\n",
       "      <td>-0.661701</td>\n",
       "      <td>7.367953</td>\n",
       "    </tr>\n",
       "    <tr>\n",
       "      <th>1</th>\n",
       "      <td>0.0</td>\n",
       "      <td>-0.109510</td>\n",
       "      <td>16.625219</td>\n",
       "    </tr>\n",
       "    <tr>\n",
       "      <th>2</th>\n",
       "      <td>21.6</td>\n",
       "      <td>3.752373</td>\n",
       "      <td>24.534147</td>\n",
       "    </tr>\n",
       "    <tr>\n",
       "      <th>3</th>\n",
       "      <td>4.4</td>\n",
       "      <td>0.521447</td>\n",
       "      <td>18.209039</td>\n",
       "    </tr>\n",
       "    <tr>\n",
       "      <th>4</th>\n",
       "      <td>26.7</td>\n",
       "      <td>1.367213</td>\n",
       "      <td>26.972765</td>\n",
       "    </tr>\n",
       "    <tr>\n",
       "      <th>...</th>\n",
       "      <td>...</td>\n",
       "      <td>...</td>\n",
       "      <td>...</td>\n",
       "    </tr>\n",
       "    <tr>\n",
       "      <th>7994</th>\n",
       "      <td>18.4</td>\n",
       "      <td>4.882632</td>\n",
       "      <td>35.834840</td>\n",
       "    </tr>\n",
       "    <tr>\n",
       "      <th>7995</th>\n",
       "      <td>12.9</td>\n",
       "      <td>0.879488</td>\n",
       "      <td>18.311118</td>\n",
       "    </tr>\n",
       "    <tr>\n",
       "      <th>7996</th>\n",
       "      <td>19.3</td>\n",
       "      <td>1.235300</td>\n",
       "      <td>23.512004</td>\n",
       "    </tr>\n",
       "    <tr>\n",
       "      <th>7997</th>\n",
       "      <td>9.8</td>\n",
       "      <td>5.622114</td>\n",
       "      <td>32.164047</td>\n",
       "    </tr>\n",
       "    <tr>\n",
       "      <th>7998</th>\n",
       "      <td>8.1</td>\n",
       "      <td>-0.046493</td>\n",
       "      <td>19.430948</td>\n",
       "    </tr>\n",
       "  </tbody>\n",
       "</table>\n",
       "<p>7999 rows × 3 columns</p>\n",
       "</div>"
      ],
      "text/plain": [
       "      game_score  quantile_prediction_0.05  quantile_prediction_0.95\n",
       "0            0.0                 -0.661701                  7.367953\n",
       "1            0.0                 -0.109510                 16.625219\n",
       "2           21.6                  3.752373                 24.534147\n",
       "3            4.4                  0.521447                 18.209039\n",
       "4           26.7                  1.367213                 26.972765\n",
       "...          ...                       ...                       ...\n",
       "7994        18.4                  4.882632                 35.834840\n",
       "7995        12.9                  0.879488                 18.311118\n",
       "7996        19.3                  1.235300                 23.512004\n",
       "7997         9.8                  5.622114                 32.164047\n",
       "7998         8.1                 -0.046493                 19.430948\n",
       "\n",
       "[7999 rows x 3 columns]"
      ]
     },
     "execution_count": 30,
     "metadata": {},
     "output_type": "execute_result"
    }
   ],
   "source": [
    "# Compute training predictions\n",
    "for q in quantile_models.keys():\n",
    "\n",
    "    df_train = df_train.join(\n",
    "        compute_training_predictions(model=quantile_models[q])\n",
    "        .rename(columns={\"prediction\": f\"quantile_prediction_{q}\"})\n",
    "        .set_index(\"row_id\")\n",
    "        .drop(columns=[\"partition_id\"], axis=1)\n",
    "    )\n",
    "\n",
    "# Check\n",
    "df_train[\n",
    "    [\n",
    "        target_column,\n",
    "        f\"quantile_prediction_{lower_coverage_q}\",\n",
    "        f\"quantile_prediction_{upper_coverage_q}\",\n",
    "    ]\n",
    "]"
   ]
  },
  {
   "cell_type": "code",
   "execution_count": 31,
   "id": "ce62e5c7-4655-4c63-99c9-4100336bc333",
   "metadata": {},
   "outputs": [
    {
     "data": {
      "text/html": [
       "<div>\n",
       "<style scoped>\n",
       "    .dataframe tbody tr th:only-of-type {\n",
       "        vertical-align: middle;\n",
       "    }\n",
       "\n",
       "    .dataframe tbody tr th {\n",
       "        vertical-align: top;\n",
       "    }\n",
       "\n",
       "    .dataframe thead th {\n",
       "        text-align: right;\n",
       "    }\n",
       "</style>\n",
       "<table border=\"1\" class=\"dataframe\">\n",
       "  <thead>\n",
       "    <tr style=\"text-align: right;\">\n",
       "      <th></th>\n",
       "      <th>game_score</th>\n",
       "      <th>quantile_prediction_0.05</th>\n",
       "      <th>quantile_prediction_0.95</th>\n",
       "    </tr>\n",
       "  </thead>\n",
       "  <tbody>\n",
       "    <tr>\n",
       "      <th>0</th>\n",
       "      <td>5.4</td>\n",
       "      <td>0.918277</td>\n",
       "      <td>25.233671</td>\n",
       "    </tr>\n",
       "    <tr>\n",
       "      <th>1</th>\n",
       "      <td>16.5</td>\n",
       "      <td>1.488291</td>\n",
       "      <td>25.160815</td>\n",
       "    </tr>\n",
       "    <tr>\n",
       "      <th>2</th>\n",
       "      <td>7.2</td>\n",
       "      <td>0.315117</td>\n",
       "      <td>24.488930</td>\n",
       "    </tr>\n",
       "    <tr>\n",
       "      <th>3</th>\n",
       "      <td>23.8</td>\n",
       "      <td>0.864427</td>\n",
       "      <td>23.131123</td>\n",
       "    </tr>\n",
       "    <tr>\n",
       "      <th>4</th>\n",
       "      <td>0.0</td>\n",
       "      <td>0.239838</td>\n",
       "      <td>21.055298</td>\n",
       "    </tr>\n",
       "    <tr>\n",
       "      <th>...</th>\n",
       "      <td>...</td>\n",
       "      <td>...</td>\n",
       "      <td>...</td>\n",
       "    </tr>\n",
       "    <tr>\n",
       "      <th>1995</th>\n",
       "      <td>17.0</td>\n",
       "      <td>-0.113189</td>\n",
       "      <td>23.151948</td>\n",
       "    </tr>\n",
       "    <tr>\n",
       "      <th>1996</th>\n",
       "      <td>25.0</td>\n",
       "      <td>5.386518</td>\n",
       "      <td>23.425884</td>\n",
       "    </tr>\n",
       "    <tr>\n",
       "      <th>1997</th>\n",
       "      <td>-1.2</td>\n",
       "      <td>-1.631877</td>\n",
       "      <td>22.678644</td>\n",
       "    </tr>\n",
       "    <tr>\n",
       "      <th>1998</th>\n",
       "      <td>15.7</td>\n",
       "      <td>2.107615</td>\n",
       "      <td>23.573162</td>\n",
       "    </tr>\n",
       "    <tr>\n",
       "      <th>1999</th>\n",
       "      <td>14.3</td>\n",
       "      <td>3.644082</td>\n",
       "      <td>22.918123</td>\n",
       "    </tr>\n",
       "  </tbody>\n",
       "</table>\n",
       "<p>2000 rows × 3 columns</p>\n",
       "</div>"
      ],
      "text/plain": [
       "      game_score  quantile_prediction_0.05  quantile_prediction_0.95\n",
       "0            5.4                  0.918277                 25.233671\n",
       "1           16.5                  1.488291                 25.160815\n",
       "2            7.2                  0.315117                 24.488930\n",
       "3           23.8                  0.864427                 23.131123\n",
       "4            0.0                  0.239838                 21.055298\n",
       "...          ...                       ...                       ...\n",
       "1995        17.0                 -0.113189                 23.151948\n",
       "1996        25.0                  5.386518                 23.425884\n",
       "1997        -1.2                 -1.631877                 22.678644\n",
       "1998        15.7                  2.107615                 23.573162\n",
       "1999        14.3                  3.644082                 22.918123\n",
       "\n",
       "[2000 rows x 3 columns]"
      ]
     },
     "execution_count": 31,
     "metadata": {},
     "output_type": "execute_result"
    }
   ],
   "source": [
    "# Making prediction on test data\n",
    "quantile_models_test_predict = quantile_models.copy()\n",
    "for q in quantile_models.keys():\n",
    "\n",
    "    quantile_models_test_predict[q] = quantile_models[q].request_predictions(\n",
    "        dataset_id=pred_dataset.id\n",
    "    )\n",
    "\n",
    "# Joining the results\n",
    "for q in quantile_models.keys():\n",
    "\n",
    "    df_test = df_test.join(\n",
    "        quantile_models_test_predict[q]\n",
    "        .get_result_when_complete(max_wait=60 * 60 * 24)\n",
    "        .rename(columns={\"prediction\": f\"quantile_prediction_{q}\"})\n",
    "        .set_index(\"row_id\")\n",
    "    )\n",
    "\n",
    "# Check\n",
    "df_test[\n",
    "    [\n",
    "        target_column,\n",
    "        f\"quantile_prediction_{lower_coverage_q}\",\n",
    "        f\"quantile_prediction_{upper_coverage_q}\",\n",
    "    ]\n",
    "]"
   ]
  },
  {
   "cell_type": "code",
   "execution_count": 32,
   "id": "915ffa51-2ea3-40e7-8746-e3a3206882eb",
   "metadata": {},
   "outputs": [
    {
     "name": "stdout",
     "output_type": "stream",
     "text": [
      "Number of rows with quantile crossing in training set (before rearrangement): 7\n",
      "Number of rows with quantile crossing in testing set (before rearrangement): 2\n",
      "Number of rows with quantile crossing in training set (after rearrangement): 0\n",
      "Number of rows with quantile crossing in testing set (after rearrangement): 0\n"
     ]
    }
   ],
   "source": [
    "# Implement quantile rearrangement\n",
    "q_crossing_train = (\n",
    "    df_train[f\"quantile_prediction_{lower_coverage_q}\"]\n",
    "    > df_train[f\"quantile_prediction_{upper_coverage_q}\"]\n",
    ").sum()\n",
    "q_crossing_test = (\n",
    "    df_test[f\"quantile_prediction_{lower_coverage_q}\"]\n",
    "    > df_test[f\"quantile_prediction_{upper_coverage_q}\"]\n",
    ").sum()\n",
    "print(\n",
    "    f\"Number of rows with quantile crossing in training set (before rearrangement): {q_crossing_train}\"\n",
    ")\n",
    "print(\n",
    "    f\"Number of rows with quantile crossing in testing set (before rearrangement): {q_crossing_test}\"\n",
    ")\n",
    "\n",
    "# Capture quantile columns\n",
    "quantile_pred_cols = [x for x in df_train.columns if x.startswith(\"quantile\")]\n",
    "\n",
    "# On training set\n",
    "df_train = df_train.drop(quantile_pred_cols, axis=1).join(\n",
    "    quantile_rearrangement(\n",
    "        quantile_preds=df_train[\n",
    "            [\n",
    "                f\"quantile_prediction_{lower_coverage_q}\",\n",
    "                f\"quantile_prediction_{upper_coverage_q}\",\n",
    "            ]\n",
    "        ],\n",
    "        quantiles=[lower_coverage_q, upper_coverage_q],\n",
    "    )\n",
    ")\n",
    "\n",
    "# On testing set\n",
    "df_test = df_test.drop(quantile_pred_cols, axis=1).join(\n",
    "    quantile_rearrangement(\n",
    "        quantile_preds=df_test[\n",
    "            [\n",
    "                f\"quantile_prediction_{lower_coverage_q}\",\n",
    "                f\"quantile_prediction_{upper_coverage_q}\",\n",
    "            ]\n",
    "        ],\n",
    "        quantiles=[lower_coverage_q, upper_coverage_q],\n",
    "    )\n",
    ")\n",
    "\n",
    "# Check again\n",
    "q_crossing_train = (\n",
    "    df_train[f\"quantile_prediction_{lower_coverage_q}\"]\n",
    "    > df_train[f\"quantile_prediction_{upper_coverage_q}\"]\n",
    ").sum()\n",
    "q_crossing_test = (\n",
    "    df_test[f\"quantile_prediction_{lower_coverage_q}\"]\n",
    "    > df_test[f\"quantile_prediction_{upper_coverage_q}\"]\n",
    ").sum()\n",
    "print(\n",
    "    f\"Number of rows with quantile crossing in training set (after rearrangement): {q_crossing_train}\"\n",
    ")\n",
    "print(\n",
    "    f\"Number of rows with quantile crossing in testing set (after rearrangement): {q_crossing_test}\"\n",
    ")"
   ]
  },
  {
   "cell_type": "code",
   "execution_count": 33,
   "id": "4303bacf-9f4e-4c8b-964d-7a407868b812",
   "metadata": {},
   "outputs": [
    {
     "data": {
      "text/plain": [
       "0.9252244694652537"
      ]
     },
     "execution_count": 33,
     "metadata": {},
     "output_type": "execute_result"
    }
   ],
   "source": [
    "# Now we compute our conformity scores and take the quantile\n",
    "E_cqr = np.maximum(\n",
    "    df_train[f\"quantile_prediction_{lower_coverage_q}\"] - df_train[target_column],\n",
    "    df_train[target_column] - df_train[f\"quantile_prediction_{upper_coverage_q}\"],\n",
    ")\n",
    "E_cqr_q = E_cqr.quantile(COVERAGE_LEVEL)\n",
    "E_cqr_q"
   ]
  },
  {
   "cell_type": "code",
   "execution_count": 34,
   "id": "5de01bdd-2c5d-4116-82a5-b59b4909a9ea",
   "metadata": {},
   "outputs": [],
   "source": [
    "# Create the prediction intervals\n",
    "df_test[\"method_4_lower\"] = df_test[f\"quantile_prediction_{lower_coverage_q}\"] - E_cqr_q\n",
    "df_test[\"method_4_upper\"] = df_test[f\"quantile_prediction_{upper_coverage_q}\"] + E_cqr_q"
   ]
  },
  {
   "cell_type": "code",
   "execution_count": 35,
   "id": "043017ee-2bee-4663-b48e-64caa1e732d4",
   "metadata": {},
   "outputs": [],
   "source": [
    "# Extend to make sure the prediction is inside the interval\n",
    "df_test[\"method_4_lower\"] = df_test[[\"method_4_lower\", \"prediction\"]].min(axis=1)\n",
    "df_test[\"method_4_upper\"] = df_test[[\"method_4_upper\", \"prediction\"]].max(axis=1)"
   ]
  },
  {
   "cell_type": "code",
   "execution_count": 36,
   "id": "313e2730-eebb-42cb-93de-db8dd2f40953",
   "metadata": {},
   "outputs": [
    {
     "name": "stdout",
     "output_type": "stream",
     "text": [
      "Conformalized Quantile Regression: Percentage in the range (expecting 90.00): 89.650000\n",
      "Conformalized Quantile Regression: Average width: 21.743307\n"
     ]
    }
   ],
   "source": [
    "# Compute metrics\n",
    "method_4_coverage = compute_coverage(\n",
    "    y_test=df_test[target_column].values,\n",
    "    y_lower=df_test[\"method_4_lower\"].values,\n",
    "    y_upper=df_test[\"method_4_upper\"].values,\n",
    "    significance=1 - COVERAGE_LEVEL,\n",
    "    name=\"Conformalized Quantile Regression\",\n",
    ")"
   ]
  },
  {
   "cell_type": "markdown",
   "id": "19c9aaa7-5932-4284-9f9d-c62188b537e6",
   "metadata": {},
   "source": [
    "### 9. Comparing methods\n",
    "\n",
    "Below you can see that the more advanced methods (i.e., \"locally-weighted conformal\" and \"conformalized quantile regression\") yield similar coverage rates while producing smaller prediction intervals on average. Notably, this is just one dataset, and it's suggested to empirically experiment with your own data to find the best method for your use case."
   ]
  },
  {
   "cell_type": "code",
   "execution_count": 37,
   "id": "f2eafa6d-1fdd-4864-b318-342f58570784",
   "metadata": {},
   "outputs": [
    {
     "data": {
      "text/html": [
       "<div>\n",
       "<style scoped>\n",
       "    .dataframe tbody tr th:only-of-type {\n",
       "        vertical-align: middle;\n",
       "    }\n",
       "\n",
       "    .dataframe tbody tr th {\n",
       "        vertical-align: top;\n",
       "    }\n",
       "\n",
       "    .dataframe thead th {\n",
       "        text-align: right;\n",
       "    }\n",
       "</style>\n",
       "<table border=\"1\" class=\"dataframe\">\n",
       "  <thead>\n",
       "    <tr style=\"text-align: right;\">\n",
       "      <th></th>\n",
       "      <th>Coverage</th>\n",
       "      <th>Average Width</th>\n",
       "      <th>Method</th>\n",
       "    </tr>\n",
       "  </thead>\n",
       "  <tbody>\n",
       "    <tr>\n",
       "      <th>0</th>\n",
       "      <td>89.00</td>\n",
       "      <td>22.056863</td>\n",
       "      <td>Absolute Conformal</td>\n",
       "    </tr>\n",
       "    <tr>\n",
       "      <th>1</th>\n",
       "      <td>88.90</td>\n",
       "      <td>22.191478</td>\n",
       "      <td>Signed Conformal</td>\n",
       "    </tr>\n",
       "    <tr>\n",
       "      <th>2</th>\n",
       "      <td>89.80</td>\n",
       "      <td>21.710734</td>\n",
       "      <td>Locally-Weighted Conformal</td>\n",
       "    </tr>\n",
       "    <tr>\n",
       "      <th>3</th>\n",
       "      <td>89.65</td>\n",
       "      <td>21.743307</td>\n",
       "      <td>Conformalized Quantile Regression</td>\n",
       "    </tr>\n",
       "  </tbody>\n",
       "</table>\n",
       "</div>"
      ],
      "text/plain": [
       "   Coverage  Average Width                             Method\n",
       "0     89.00      22.056863                 Absolute Conformal\n",
       "1     88.90      22.191478                   Signed Conformal\n",
       "2     89.80      21.710734         Locally-Weighted Conformal\n",
       "3     89.65      21.743307  Conformalized Quantile Regression"
      ]
     },
     "execution_count": 37,
     "metadata": {},
     "output_type": "execute_result"
    }
   ],
   "source": [
    "# Organize\n",
    "summary = pd.DataFrame(\n",
    "    {\n",
    "        \"Coverage\": [\n",
    "            method_1_coverage[0],\n",
    "            method_2_coverage[0],\n",
    "            method_3_coverage[0],\n",
    "            method_4_coverage[0],\n",
    "        ],\n",
    "        \"Average Width\": [\n",
    "            method_1_coverage[1],\n",
    "            method_2_coverage[1],\n",
    "            method_3_coverage[1],\n",
    "            method_4_coverage[1],\n",
    "        ],\n",
    "        \"Method\": [\n",
    "            \"Absolute Conformal\",\n",
    "            \"Signed Conformal\",\n",
    "            \"Locally-Weighted Conformal\",\n",
    "            \"Conformalized Quantile Regression\",\n",
    "        ],\n",
    "    }\n",
    ")\n",
    "summary"
   ]
  },
  {
   "cell_type": "markdown",
   "id": "e3ef19be-45bb-406a-bb18-3bda85556725",
   "metadata": {},
   "source": [
    "### 10. Conclusion\n",
    "\n",
    "This notebook demonstrates how one could build prediction intervals for any DataRobot model using methods derived from the conformal inference space. Conformal inference is a popular framework to use for generating such prediction intervals because they don't require strict distributional assumptions to achieve the desired coverage, so long as the testing data is exchangeable with the training data. This characteristic was confirmed in the analysis done here. Because each approach offers different pros and cons, it's worthwhile to use this AI Accelerator as a starting point for your own experiments to decide which one to implement for your use case. DataRobot offers the ability to easily implement each of these methods, even for the more advanced techniques. For more information on the topic of conformal inference, see the following [introductory paper](https://arxiv.org/abs/2107.07511)."
   ]
  }
 ],
 "metadata": {
  "kernelspec": {
   "display_name": "Python 3 (ipykernel)",
   "language": "python",
   "name": "python3"
  },
  "language_info": {
   "codemirror_mode": {
    "name": "ipython",
    "version": 3
   },
   "file_extension": ".py",
   "mimetype": "text/x-python",
   "name": "python",
   "nbconvert_exporter": "python",
   "pygments_lexer": "ipython3",
   "version": "3.9.19"
  }
 },
 "nbformat": 4,
 "nbformat_minor": 5
}
