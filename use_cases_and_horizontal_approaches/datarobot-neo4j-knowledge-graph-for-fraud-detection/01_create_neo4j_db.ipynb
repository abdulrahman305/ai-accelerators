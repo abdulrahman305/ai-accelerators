{
 "cells": [
  {
   "cell_type": "markdown",
   "id": "12927650-4c12-4644-9ca4-f617e895835e",
   "metadata": {},
   "source": [
    "# Create a database with neo4j\n",
    "\n",
    "### Prerequisites\n",
    "\n",
    "1) Install Neo4j 4.4.11 locally ( https://neo4j.com/download/ ).\n",
    "2) Confirm 'neo4j-admin' is on your PATH, or specify its absolute path.\n",
    "3) You have a .dump file from a previous 'neo4j-admin dump' or otherwise.\n",
    "\n",
    "### Load a new Neo4j 4.4.11 database from a .dump file\n",
    "\n",
    "Create or overwrite a local database from the .dump file.\n",
    "\n",
    "IMPORTANT: \n",
    " - If you have an active Neo4j server running, you may need to stop it first \n",
    "   so that 'neo4j-admin load' doesn't conflict with a running database.\n",
    " - The database name is the name you want to store your data under.\n",
    "\n",
    "Use Cases:\n",
    " - Migrating data from one instance to another.\n",
    " - Replacing a local dev DB with a known data set.\n",
    "\"\"\""
   ]
  },
  {
   "cell_type": "code",
   "execution_count": null,
   "id": "2bf55c8d-940b-48ce-8369-5cfea7400109",
   "metadata": {},
   "outputs": [],
   "source": [
    "import os\n",
    "import subprocess\n",
    "\n",
    "from IPython.display import display, Markdown\n",
    "import requests\n",
    "\n",
    "# ------------------------------\n",
    "# Step 1: Define your configuration and download the DB file\n",
    "# ------------------------------\n",
    "\n",
    "NEO4J_VERSION = \"4.4.11\"  # for reference or checks\n",
    "NEO4J_HOME = \"/path/to/neo4j-4.4.11\"  # e.g. your local Neo4j 4.4.11 install\n",
    "DATABASE_NAME = \"dr-neo4j-fraud-ai-accelerator\"  # name of the DB to create\n",
    "DUMP_FILE_PATH = (\n",
    "    \"./fraud-detection-neo4j-4-4-11-Feb-6-2025-01-35-39.dump\"  # path to your .dump file\n",
    ")\n",
    "\n",
    "# Download dataset from S3\n",
    "response = requests.get(\n",
    "    \"https://s3.us-east-1.amazonaws.com/datarobot_public_datasets/ai_accelerators/fraud-detection-neo4j-4-4-11-Feb-6-2025-01-35-39.dump\",\n",
    "    stream=True,\n",
    ")\n",
    "response.raise_for_status()  # Raises HTTPError if the request returned an unsuccessful status code.\n",
    "\n",
    "with open(DUMP_FILE_PATH, \"wb\") as f:\n",
    "    for chunk in response.iter_content(chunk_size=8192):\n",
    "        if chunk:  # filter out keep-alive new chunks\n",
    "            f.write(chunk)\n",
    "print(f\"File downloaded successfully and saved to {DUMP_FILE_PATH}\")\n",
    "\n",
    "# If neo4j-admin is not on PATH, specify the full path:\n",
    "NEO4J_ADMIN_CMD = os.path.join(NEO4J_HOME, \"bin\", \"neo4j-admin\")\n",
    "\n",
    "# If your environment uses systemd or something else to start/stop, adapt as needed\n",
    "# e.g. \"sudo systemctl stop neo4j\" or \"neo4j stop\" if you're using older scripts\n",
    "STOP_NEO4J_CMD = os.path.join(NEO4J_HOME, \"bin\", \"neo4j\") + \" stop\"\n",
    "START_NEO4J_CMD = os.path.join(NEO4J_HOME, \"bin\", \"neo4j\") + \" start\""
   ]
  },
  {
   "cell_type": "markdown",
   "id": "3b0b2342-89c1-42e0-8619-a674eeb54ba6",
   "metadata": {},
   "source": [
    "## Stop any running Neo4j instance\n",
    "\n",
    "This is an optional step."
   ]
  },
  {
   "cell_type": "code",
   "execution_count": null,
   "id": "738503b3-97cd-4166-8a84-1f02d78f76cb",
   "metadata": {},
   "outputs": [],
   "source": [
    "print(\"Stopping any running Neo4j instance (optional if not running)...\")\n",
    "\n",
    "try:\n",
    "    subprocess.run(STOP_NEO4J_CMD.split(), check=True)\n",
    "    print(\"Neo4j service stopped.\")\n",
    "except subprocess.CalledProcessError as e:\n",
    "    print(\"Warning: Attempt to stop Neo4j failed or Neo4j was not running.\")\n",
    "    print(e)"
   ]
  },
  {
   "cell_type": "markdown",
   "id": "3da9ccae-8613-477a-b281-d4a9ebb8e7df",
   "metadata": {},
   "source": [
    "## Load the database\n",
    "\n",
    "Run a command like:\n",
    "  neo4j-admin load --database=DATABASE_NAME --from=DUMP_FILE_PATH --force\n",
    "\n",
    "The `--force` flag overwrites if the database already exists. In 4.4.x, 'neo4j-admin load' is the recommended approach. "
   ]
  },
  {
   "cell_type": "code",
   "execution_count": null,
   "id": "fabdfd87-e465-405f-90fd-4ea2fc55268d",
   "metadata": {},
   "outputs": [],
   "source": [
    "load_cmd = [\n",
    "    NEO4J_ADMIN_CMD,\n",
    "    \"load\",\n",
    "    \"--database\",\n",
    "    DATABASE_NAME,\n",
    "    \"--from\",\n",
    "    DUMP_FILE_PATH,\n",
    "    \"--force\",\n",
    "]\n",
    "\n",
    "print(\"\\nLoading DB with command:\", \" \".join(load_cmd))\n",
    "try:\n",
    "    subprocess.run(load_cmd, check=True)\n",
    "    print(f\"Successfully loaded {DUMP_FILE_PATH} into '{DATABASE_NAME}'.\")\n",
    "except subprocess.CalledProcessError as e:\n",
    "    print(\"Error while loading DB from dump:\")\n",
    "    print(e)\n",
    "    raise SystemExit(\"Failed to load database.\")"
   ]
  },
  {
   "cell_type": "markdown",
   "id": "b14f8b29-bac8-4aef-9801-c6b1a29e0d57",
   "metadata": {},
   "source": [
    "## (Re)Start Neo4j "
   ]
  },
  {
   "cell_type": "code",
   "execution_count": null,
   "id": "f489747c-ced4-4f89-babe-a19663e9f353",
   "metadata": {},
   "outputs": [],
   "source": [
    "print(\"\\nStarting Neo4j service...\")\n",
    "\n",
    "try:\n",
    "    subprocess.run(START_NEO4J_CMD.split(), check=True)\n",
    "    print(\"Neo4j started successfully.\")\n",
    "except subprocess.CalledProcessError as e:\n",
    "    print(\"Error starting Neo4j service:\")\n",
    "    print(e)\n",
    "    raise SystemExit(\"Failed to start Neo4j.\")"
   ]
  },
  {
   "cell_type": "markdown",
   "id": "d2a58718-e9b0-4ad3-bc5c-7bc8a31d0594",
   "metadata": {},
   "source": [
    "## Provide a summary"
   ]
  },
  {
   "cell_type": "code",
   "execution_count": null,
   "id": "265caf31-e77a-4b18-8fa2-8b217957faf7",
   "metadata": {},
   "outputs": [],
   "source": [
    "msg = f\"\"\"\n",
    "**Summary**:\n",
    "- Neo4j 4.4.11 home: `{NEO4J_HOME}`\n",
    "- Database name: `{DATABASE_NAME}`\n",
    "- Dump file used: `{DUMP_FILE_PATH}`\n",
    "\n",
    "You have now loaded and started Neo4j. You can connect to \n",
    "this new DB (4.4.11) and confirm your data.\n",
    "\n",
    "**Example**: \n",
    "In Neo4j Browser:\n",
    "  :use {DATABASE_NAME}\n",
    "  MATCH (n) RETURN n LIMIT 10;\n",
    "\n",
    "**Done.**\n",
    "\"\"\"\n",
    "display(Markdown(msg))"
   ]
  }
 ],
 "metadata": {
  "kernelspec": {
   "display_name": "Python 3 (ipykernel)",
   "language": "python",
   "name": "python3"
  },
  "language_info": {
   "codemirror_mode": {
    "name": "ipython",
    "version": 3
   },
   "file_extension": ".py",
   "mimetype": "text/x-python",
   "name": "python",
   "nbconvert_exporter": "python",
   "pygments_lexer": "ipython3",
   "version": "3.10.4"
  }
 },
 "nbformat": 4,
 "nbformat_minor": 5
}
