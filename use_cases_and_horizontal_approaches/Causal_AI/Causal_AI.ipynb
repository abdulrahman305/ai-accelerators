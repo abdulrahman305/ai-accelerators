{
 "cells": [
  {
   "cell_type": "markdown",
   "metadata": {
    "application/vnd.databricks.v1+cell": {
     "cellMetadata": {},
     "inputWidgets": {},
     "nuid": "ad9c4103-876a-4bcc-8210-2242544d48b9",
     "showTitle": false,
     "title": ""
    }
   },
   "source": [
    "# Causal AI with DataRobot: Inverse Propensity of Treatment Weighting\n",
    "\n",
    "## Summary\n",
    "\n",
    "Predictive AI models are a powerful tool for uncovering subtle predictive relationships between observed variables. But sometimes, you need to draw conclusions about the causal relationship between two variables, not just the observed correlation. To achieve this \"Causal AI\", you can use the DataRobot platform and a quasi-experimental technique called \"Inverse Propensity of Treatment Weighting\". This notebook will apply this technique to data on diabetes hospital patient readmission. \n",
    "\n",
    "This notebook outlines how to:\n",
    "\n",
    "1. Understand Inverse Propensity of Treatment Weighting\n",
    "1. Prepare data for a Propensity of Treatment model\n",
    "1. Fit a Propensity of Treatment model with DataRobot\n",
    "1. Calculate Inverse Propensity of Treatment Weights\n",
    "1. Evaluate the causal relationship using Inverse Propensity of Treatment Weighting\n",
    "\n",
    "### Understanding Inverse Propensity of Treatment Weighting\n",
    "In this notebook, you will be working with data recording hospital readmission outcomes for diabetes patients. You will evaluate the causal relationship between the diabetes patients' medication status and their subsequent chance of being readmitted to the hospital. \n",
    "\n",
    "To evaluate this causal relationship experimentally, you would have to randomly assign patients to the treament group (those receiving medication) vs. not, and then follow those patients to see whether they get readmitted to the hospital or not. But in the scenario for this notebook, you don't have experimental data! You only have observational data. In other words, some patients walk in taking medication, others don't. You have not controlled the assignment of the \"treatment\" condition (medication) to the subjects of the study. So while you could use predictive modeling to understand if the medication status of patients walking in is predictive of later readmission, you can't directly use predictive models to make conclusions about whether the medication has a *causal effect* on readmission. \n",
    "\n",
    "In this scenario, you can use a \"quasi-experimental\" technique; this is a set of techniques for approximating experimental setups without actually having a true experiment. Specifically, you can use a technique called \"Inverse Propensity of Treatment Weighting\".\n",
    "\n",
    "Inverse Propensity of Treatment Weighting consists of the following steps:\n",
    "1. Fit a predictive model to estimate the probability for each study participant being assinged to the treatment group (their \"propensity of treatment\").\n",
    "1. Calculate a special weight for each participant based on their propensity of treatment (the \"inverse propensity of treatment weight\"), which will adjust the treatment and control groups to become more similar to each other in terms of the observed confounding variables.\n",
    "1. Evaluate the causal relationship between the treatment and the outcome using the adjusted/weighted populations (pseudopopulations).\n",
    "\n",
    "While this technique is not as valid as the gold standard of a randomized controlled trial, it can bring you a lot closer to obtaining comparable treatment and control groups from which to judge a causal relationship. \n",
    " \n",
    "For a more detailed description of this technique, see:\n",
    "\n",
    "> Chesnaye, N. C., Stel, V. S., Tripepi, G., Dekker, F. W., Fu, E. L., Zoccali, C., & Jager, K. J. (2021). An introduction to inverse probability of treatment weighting in observational research. Clinical kidney journal, 15(1), 14–20. https://doi.org/10.1093/ckj/sfab158"
   ]
  },
  {
   "cell_type": "markdown",
   "metadata": {},
   "source": [
    "### Setup\n",
    "To start, set up your libraries, DataRobot connection, and data ingest.\n",
    "\n",
    "#### Import libraries"
   ]
  },
  {
   "cell_type": "code",
   "execution_count": 66,
   "metadata": {},
   "outputs": [],
   "source": [
    "from io import BytesIO\n",
    "import os\n",
    "\n",
    "import datarobot as dr\n",
    "import matplotlib.pyplot as plt\n",
    "from matplotlib.ticker import PercentFormatter\n",
    "import pandas as pd\n",
    "import seaborn as sns"
   ]
  },
  {
   "cell_type": "markdown",
   "metadata": {},
   "source": [
    "#### Connect to DataRobot\n",
    "\n",
    "You can read more about different options for [connecting to DataRobot from the client](https://docs.datarobot.com/en/docs/api/api-quickstart/api-qs.html)."
   ]
  },
  {
   "cell_type": "code",
   "execution_count": 18,
   "metadata": {},
   "outputs": [
    {
     "data": {
      "text/plain": [
       "<datarobot.rest.RESTClientObject at 0x7fa7bed4d610>"
      ]
     },
     "execution_count": 18,
     "metadata": {},
     "output_type": "execute_result"
    }
   ],
   "source": [
    "dr.Client()"
   ]
  },
  {
   "cell_type": "markdown",
   "metadata": {},
   "source": [
    "#### Data Ingest\n",
    "\n",
    "This data is a modified subset of the data from the following research article:\n",
    "> Strack, B., DeShazo, J. P., Gennings, C., Olmo, J. L., Ventura, S., Cios, K. J., & Clore, J. N. (2014). Impact of HbA1c measurement on hospital readmission rates: analysis of 70,000 clinical database patient records. BioMed research international, 2014, 781670. https://doi.org/10.1155/2014/781670\n",
    "\n",
    "The number of rows and columns have been reduced for the purposes of this example."
   ]
  },
  {
   "cell_type": "code",
   "execution_count": 19,
   "metadata": {},
   "outputs": [
    {
     "data": {
      "text/html": [
       "<div>\n",
       "<style scoped>\n",
       "    .dataframe tbody tr th:only-of-type {\n",
       "        vertical-align: middle;\n",
       "    }\n",
       "\n",
       "    .dataframe tbody tr th {\n",
       "        vertical-align: top;\n",
       "    }\n",
       "\n",
       "    .dataframe thead th {\n",
       "        text-align: right;\n",
       "    }\n",
       "</style>\n",
       "<table border=\"1\" class=\"dataframe\">\n",
       "  <thead>\n",
       "    <tr style=\"text-align: right;\">\n",
       "      <th></th>\n",
       "      <th>readmitted</th>\n",
       "      <th>race</th>\n",
       "      <th>gender</th>\n",
       "      <th>age</th>\n",
       "      <th>weight</th>\n",
       "      <th>admission_type_id</th>\n",
       "      <th>admission_source_id</th>\n",
       "      <th>number_inpatient</th>\n",
       "      <th>medical_specialty</th>\n",
       "      <th>num_lab_procedures</th>\n",
       "      <th>number_diagnoses</th>\n",
       "      <th>num_medications</th>\n",
       "      <th>time_in_hospital</th>\n",
       "      <th>diabetesMed</th>\n",
       "    </tr>\n",
       "  </thead>\n",
       "  <tbody>\n",
       "    <tr>\n",
       "      <th>0</th>\n",
       "      <td>False</td>\n",
       "      <td>Caucasian</td>\n",
       "      <td>Female</td>\n",
       "      <td>[50-60)</td>\n",
       "      <td>?</td>\n",
       "      <td>Elective</td>\n",
       "      <td>Physician Referral</td>\n",
       "      <td>0</td>\n",
       "      <td>Surgery-Neuro</td>\n",
       "      <td>35</td>\n",
       "      <td>9</td>\n",
       "      <td>21</td>\n",
       "      <td>1</td>\n",
       "      <td>No</td>\n",
       "    </tr>\n",
       "    <tr>\n",
       "      <th>1</th>\n",
       "      <td>False</td>\n",
       "      <td>Caucasian</td>\n",
       "      <td>Female</td>\n",
       "      <td>[20-30)</td>\n",
       "      <td>[50-75)</td>\n",
       "      <td>Urgent</td>\n",
       "      <td>Physician Referral</td>\n",
       "      <td>0</td>\n",
       "      <td>?</td>\n",
       "      <td>8</td>\n",
       "      <td>6</td>\n",
       "      <td>5</td>\n",
       "      <td>2</td>\n",
       "      <td>No</td>\n",
       "    </tr>\n",
       "    <tr>\n",
       "      <th>2</th>\n",
       "      <td>True</td>\n",
       "      <td>Caucasian</td>\n",
       "      <td>Male</td>\n",
       "      <td>[80-90)</td>\n",
       "      <td>?</td>\n",
       "      <td>Not Available</td>\n",
       "      <td>NaN</td>\n",
       "      <td>1</td>\n",
       "      <td>Family/GeneralPractice</td>\n",
       "      <td>12</td>\n",
       "      <td>9</td>\n",
       "      <td>21</td>\n",
       "      <td>7</td>\n",
       "      <td>Yes</td>\n",
       "    </tr>\n",
       "    <tr>\n",
       "      <th>3</th>\n",
       "      <td>False</td>\n",
       "      <td>AfricanAmerican</td>\n",
       "      <td>Female</td>\n",
       "      <td>[50-60)</td>\n",
       "      <td>?</td>\n",
       "      <td>Emergency</td>\n",
       "      <td>Transfer from another health care facility</td>\n",
       "      <td>0</td>\n",
       "      <td>?</td>\n",
       "      <td>33</td>\n",
       "      <td>3</td>\n",
       "      <td>5</td>\n",
       "      <td>4</td>\n",
       "      <td>Yes</td>\n",
       "    </tr>\n",
       "    <tr>\n",
       "      <th>4</th>\n",
       "      <td>False</td>\n",
       "      <td>AfricanAmerican</td>\n",
       "      <td>Female</td>\n",
       "      <td>[50-60)</td>\n",
       "      <td>?</td>\n",
       "      <td>Emergency</td>\n",
       "      <td>Emergency Room</td>\n",
       "      <td>0</td>\n",
       "      <td>Psychiatry</td>\n",
       "      <td>31</td>\n",
       "      <td>7</td>\n",
       "      <td>13</td>\n",
       "      <td>5</td>\n",
       "      <td>Yes</td>\n",
       "    </tr>\n",
       "    <tr>\n",
       "      <th>...</th>\n",
       "      <td>...</td>\n",
       "      <td>...</td>\n",
       "      <td>...</td>\n",
       "      <td>...</td>\n",
       "      <td>...</td>\n",
       "      <td>...</td>\n",
       "      <td>...</td>\n",
       "      <td>...</td>\n",
       "      <td>...</td>\n",
       "      <td>...</td>\n",
       "      <td>...</td>\n",
       "      <td>...</td>\n",
       "      <td>...</td>\n",
       "      <td>...</td>\n",
       "    </tr>\n",
       "    <tr>\n",
       "      <th>9995</th>\n",
       "      <td>False</td>\n",
       "      <td>Caucasian</td>\n",
       "      <td>Female</td>\n",
       "      <td>[60-70)</td>\n",
       "      <td>?</td>\n",
       "      <td>Elective</td>\n",
       "      <td>Physician Referral</td>\n",
       "      <td>0</td>\n",
       "      <td>?</td>\n",
       "      <td>30</td>\n",
       "      <td>7</td>\n",
       "      <td>29</td>\n",
       "      <td>3</td>\n",
       "      <td>Yes</td>\n",
       "    </tr>\n",
       "    <tr>\n",
       "      <th>9996</th>\n",
       "      <td>False</td>\n",
       "      <td>AfricanAmerican</td>\n",
       "      <td>Male</td>\n",
       "      <td>[60-70)</td>\n",
       "      <td>?</td>\n",
       "      <td>Urgent</td>\n",
       "      <td>Emergency Room</td>\n",
       "      <td>0</td>\n",
       "      <td>Emergency/Trauma</td>\n",
       "      <td>1</td>\n",
       "      <td>9</td>\n",
       "      <td>15</td>\n",
       "      <td>8</td>\n",
       "      <td>Yes</td>\n",
       "    </tr>\n",
       "    <tr>\n",
       "      <th>9997</th>\n",
       "      <td>True</td>\n",
       "      <td>AfricanAmerican</td>\n",
       "      <td>Female</td>\n",
       "      <td>[70-80)</td>\n",
       "      <td>?</td>\n",
       "      <td>Emergency</td>\n",
       "      <td>Emergency Room</td>\n",
       "      <td>1</td>\n",
       "      <td>InternalMedicine</td>\n",
       "      <td>46</td>\n",
       "      <td>6</td>\n",
       "      <td>14</td>\n",
       "      <td>13</td>\n",
       "      <td>No</td>\n",
       "    </tr>\n",
       "    <tr>\n",
       "      <th>9998</th>\n",
       "      <td>False</td>\n",
       "      <td>Caucasian</td>\n",
       "      <td>Male</td>\n",
       "      <td>[80-90)</td>\n",
       "      <td>?</td>\n",
       "      <td>Urgent</td>\n",
       "      <td>Emergency Room</td>\n",
       "      <td>3</td>\n",
       "      <td>InternalMedicine</td>\n",
       "      <td>62</td>\n",
       "      <td>9</td>\n",
       "      <td>7</td>\n",
       "      <td>2</td>\n",
       "      <td>No</td>\n",
       "    </tr>\n",
       "    <tr>\n",
       "      <th>9999</th>\n",
       "      <td>False</td>\n",
       "      <td>Caucasian</td>\n",
       "      <td>Male</td>\n",
       "      <td>[70-80)</td>\n",
       "      <td>?</td>\n",
       "      <td>Elective</td>\n",
       "      <td>Physician Referral</td>\n",
       "      <td>1</td>\n",
       "      <td>?</td>\n",
       "      <td>61</td>\n",
       "      <td>9</td>\n",
       "      <td>18</td>\n",
       "      <td>8</td>\n",
       "      <td>Yes</td>\n",
       "    </tr>\n",
       "  </tbody>\n",
       "</table>\n",
       "<p>10000 rows × 14 columns</p>\n",
       "</div>"
      ],
      "text/plain": [
       "      readmitted             race  gender      age   weight admission_type_id  \\\n",
       "0          False        Caucasian  Female  [50-60)        ?          Elective   \n",
       "1          False        Caucasian  Female  [20-30)  [50-75)            Urgent   \n",
       "2           True        Caucasian    Male  [80-90)        ?     Not Available   \n",
       "3          False  AfricanAmerican  Female  [50-60)        ?         Emergency   \n",
       "4          False  AfricanAmerican  Female  [50-60)        ?         Emergency   \n",
       "...          ...              ...     ...      ...      ...               ...   \n",
       "9995       False        Caucasian  Female  [60-70)        ?          Elective   \n",
       "9996       False  AfricanAmerican    Male  [60-70)        ?            Urgent   \n",
       "9997        True  AfricanAmerican  Female  [70-80)        ?         Emergency   \n",
       "9998       False        Caucasian    Male  [80-90)        ?            Urgent   \n",
       "9999       False        Caucasian    Male  [70-80)        ?          Elective   \n",
       "\n",
       "                             admission_source_id  number_inpatient  \\\n",
       "0                             Physician Referral                 0   \n",
       "1                             Physician Referral                 0   \n",
       "2                                            NaN                 1   \n",
       "3     Transfer from another health care facility                 0   \n",
       "4                                 Emergency Room                 0   \n",
       "...                                          ...               ...   \n",
       "9995                          Physician Referral                 0   \n",
       "9996                              Emergency Room                 0   \n",
       "9997                              Emergency Room                 1   \n",
       "9998                              Emergency Room                 3   \n",
       "9999                          Physician Referral                 1   \n",
       "\n",
       "           medical_specialty  num_lab_procedures  number_diagnoses  \\\n",
       "0              Surgery-Neuro                  35                 9   \n",
       "1                          ?                   8                 6   \n",
       "2     Family/GeneralPractice                  12                 9   \n",
       "3                          ?                  33                 3   \n",
       "4                 Psychiatry                  31                 7   \n",
       "...                      ...                 ...               ...   \n",
       "9995                       ?                  30                 7   \n",
       "9996        Emergency/Trauma                   1                 9   \n",
       "9997        InternalMedicine                  46                 6   \n",
       "9998        InternalMedicine                  62                 9   \n",
       "9999                       ?                  61                 9   \n",
       "\n",
       "      num_medications  time_in_hospital diabetesMed  \n",
       "0                  21                 1          No  \n",
       "1                   5                 2          No  \n",
       "2                  21                 7         Yes  \n",
       "3                   5                 4         Yes  \n",
       "4                  13                 5         Yes  \n",
       "...               ...               ...         ...  \n",
       "9995               29                 3         Yes  \n",
       "9996               15                 8         Yes  \n",
       "9997               14                13          No  \n",
       "9998                7                 2          No  \n",
       "9999               18                 8         Yes  \n",
       "\n",
       "[10000 rows x 14 columns]"
      ]
     },
     "execution_count": 19,
     "metadata": {},
     "output_type": "execute_result"
    }
   ],
   "source": [
    "working_df = pd.read_csv(\"storage/diabetes_subset.csv\")\n",
    "working_df"
   ]
  },
  {
   "cell_type": "markdown",
   "metadata": {},
   "source": [
    "In this dataset, you have the outcome of hospital readmission (`readmitted`), the treatment variable of diabetes medication (`diabetesMed`), and a number of covariates."
   ]
  },
  {
   "cell_type": "markdown",
   "metadata": {},
   "source": [
    "#### Visualization\n",
    "\n",
    "To start off, take a look at the observed correlation of the treatment variable and the outcome.\n",
    "\n",
    "It appears that patients that are on diabetes medication have slightly higher rates of readmission. But is this a causal effect, or a spurious correlation? To find that out you need to obtain comparable treatment and control groups."
   ]
  },
  {
   "cell_type": "code",
   "execution_count": 34,
   "metadata": {},
   "outputs": [
    {
     "data": {
      "image/png": "[encoded data removed]",
      "text/plain": [
       "<Figure size 432x288 with 1 Axes>"
      ]
     },
     "metadata": {
      "needs_background": "light"
     },
     "output_type": "display_data"
    }
   ],
   "source": [
    "plot_df = working_df.groupby(\"diabetesMed\").readmitted.mean().to_frame().reset_index()\n",
    "p = sns.barplot(data=plot_df, x=\"diabetesMed\", y=\"readmitted\")\n",
    "p.axes.yaxis.set_major_formatter(PercentFormatter(1))"
   ]
  },
  {
   "cell_type": "markdown",
   "metadata": {},
   "source": [
    "## Prepare data for a Propensity of Treatment model\n",
    "\n",
    "The data for the Propensity of Treatment model is simply all of the variables in your dataset **except** the outcome (here, the `readmitted` variable). Remember, in this first stage, the target for your model will be the treatment variable (`diabetesMed`), not the readmission outcome."
   ]
  },
  {
   "cell_type": "code",
   "execution_count": 43,
   "metadata": {},
   "outputs": [
    {
     "data": {
      "text/html": [
       "<div>\n",
       "<style scoped>\n",
       "    .dataframe tbody tr th:only-of-type {\n",
       "        vertical-align: middle;\n",
       "    }\n",
       "\n",
       "    .dataframe tbody tr th {\n",
       "        vertical-align: top;\n",
       "    }\n",
       "\n",
       "    .dataframe thead th {\n",
       "        text-align: right;\n",
       "    }\n",
       "</style>\n",
       "<table border=\"1\" class=\"dataframe\">\n",
       "  <thead>\n",
       "    <tr style=\"text-align: right;\">\n",
       "      <th></th>\n",
       "      <th>race</th>\n",
       "      <th>gender</th>\n",
       "      <th>age</th>\n",
       "      <th>weight</th>\n",
       "      <th>admission_type_id</th>\n",
       "      <th>admission_source_id</th>\n",
       "      <th>number_inpatient</th>\n",
       "      <th>medical_specialty</th>\n",
       "      <th>num_lab_procedures</th>\n",
       "      <th>number_diagnoses</th>\n",
       "      <th>num_medications</th>\n",
       "      <th>time_in_hospital</th>\n",
       "      <th>diabetesMed</th>\n",
       "    </tr>\n",
       "  </thead>\n",
       "  <tbody>\n",
       "    <tr>\n",
       "      <th>0</th>\n",
       "      <td>Caucasian</td>\n",
       "      <td>Female</td>\n",
       "      <td>[50-60)</td>\n",
       "      <td>?</td>\n",
       "      <td>Elective</td>\n",
       "      <td>Physician Referral</td>\n",
       "      <td>0</td>\n",
       "      <td>Surgery-Neuro</td>\n",
       "      <td>35</td>\n",
       "      <td>9</td>\n",
       "      <td>21</td>\n",
       "      <td>1</td>\n",
       "      <td>No</td>\n",
       "    </tr>\n",
       "    <tr>\n",
       "      <th>1</th>\n",
       "      <td>Caucasian</td>\n",
       "      <td>Female</td>\n",
       "      <td>[20-30)</td>\n",
       "      <td>[50-75)</td>\n",
       "      <td>Urgent</td>\n",
       "      <td>Physician Referral</td>\n",
       "      <td>0</td>\n",
       "      <td>?</td>\n",
       "      <td>8</td>\n",
       "      <td>6</td>\n",
       "      <td>5</td>\n",
       "      <td>2</td>\n",
       "      <td>No</td>\n",
       "    </tr>\n",
       "    <tr>\n",
       "      <th>2</th>\n",
       "      <td>Caucasian</td>\n",
       "      <td>Male</td>\n",
       "      <td>[80-90)</td>\n",
       "      <td>?</td>\n",
       "      <td>Not Available</td>\n",
       "      <td>NaN</td>\n",
       "      <td>1</td>\n",
       "      <td>Family/GeneralPractice</td>\n",
       "      <td>12</td>\n",
       "      <td>9</td>\n",
       "      <td>21</td>\n",
       "      <td>7</td>\n",
       "      <td>Yes</td>\n",
       "    </tr>\n",
       "    <tr>\n",
       "      <th>3</th>\n",
       "      <td>AfricanAmerican</td>\n",
       "      <td>Female</td>\n",
       "      <td>[50-60)</td>\n",
       "      <td>?</td>\n",
       "      <td>Emergency</td>\n",
       "      <td>Transfer from another health care facility</td>\n",
       "      <td>0</td>\n",
       "      <td>?</td>\n",
       "      <td>33</td>\n",
       "      <td>3</td>\n",
       "      <td>5</td>\n",
       "      <td>4</td>\n",
       "      <td>Yes</td>\n",
       "    </tr>\n",
       "    <tr>\n",
       "      <th>4</th>\n",
       "      <td>AfricanAmerican</td>\n",
       "      <td>Female</td>\n",
       "      <td>[50-60)</td>\n",
       "      <td>?</td>\n",
       "      <td>Emergency</td>\n",
       "      <td>Emergency Room</td>\n",
       "      <td>0</td>\n",
       "      <td>Psychiatry</td>\n",
       "      <td>31</td>\n",
       "      <td>7</td>\n",
       "      <td>13</td>\n",
       "      <td>5</td>\n",
       "      <td>Yes</td>\n",
       "    </tr>\n",
       "    <tr>\n",
       "      <th>...</th>\n",
       "      <td>...</td>\n",
       "      <td>...</td>\n",
       "      <td>...</td>\n",
       "      <td>...</td>\n",
       "      <td>...</td>\n",
       "      <td>...</td>\n",
       "      <td>...</td>\n",
       "      <td>...</td>\n",
       "      <td>...</td>\n",
       "      <td>...</td>\n",
       "      <td>...</td>\n",
       "      <td>...</td>\n",
       "      <td>...</td>\n",
       "    </tr>\n",
       "    <tr>\n",
       "      <th>9995</th>\n",
       "      <td>Caucasian</td>\n",
       "      <td>Female</td>\n",
       "      <td>[60-70)</td>\n",
       "      <td>?</td>\n",
       "      <td>Elective</td>\n",
       "      <td>Physician Referral</td>\n",
       "      <td>0</td>\n",
       "      <td>?</td>\n",
       "      <td>30</td>\n",
       "      <td>7</td>\n",
       "      <td>29</td>\n",
       "      <td>3</td>\n",
       "      <td>Yes</td>\n",
       "    </tr>\n",
       "    <tr>\n",
       "      <th>9996</th>\n",
       "      <td>AfricanAmerican</td>\n",
       "      <td>Male</td>\n",
       "      <td>[60-70)</td>\n",
       "      <td>?</td>\n",
       "      <td>Urgent</td>\n",
       "      <td>Emergency Room</td>\n",
       "      <td>0</td>\n",
       "      <td>Emergency/Trauma</td>\n",
       "      <td>1</td>\n",
       "      <td>9</td>\n",
       "      <td>15</td>\n",
       "      <td>8</td>\n",
       "      <td>Yes</td>\n",
       "    </tr>\n",
       "    <tr>\n",
       "      <th>9997</th>\n",
       "      <td>AfricanAmerican</td>\n",
       "      <td>Female</td>\n",
       "      <td>[70-80)</td>\n",
       "      <td>?</td>\n",
       "      <td>Emergency</td>\n",
       "      <td>Emergency Room</td>\n",
       "      <td>1</td>\n",
       "      <td>InternalMedicine</td>\n",
       "      <td>46</td>\n",
       "      <td>6</td>\n",
       "      <td>14</td>\n",
       "      <td>13</td>\n",
       "      <td>No</td>\n",
       "    </tr>\n",
       "    <tr>\n",
       "      <th>9998</th>\n",
       "      <td>Caucasian</td>\n",
       "      <td>Male</td>\n",
       "      <td>[80-90)</td>\n",
       "      <td>?</td>\n",
       "      <td>Urgent</td>\n",
       "      <td>Emergency Room</td>\n",
       "      <td>3</td>\n",
       "      <td>InternalMedicine</td>\n",
       "      <td>62</td>\n",
       "      <td>9</td>\n",
       "      <td>7</td>\n",
       "      <td>2</td>\n",
       "      <td>No</td>\n",
       "    </tr>\n",
       "    <tr>\n",
       "      <th>9999</th>\n",
       "      <td>Caucasian</td>\n",
       "      <td>Male</td>\n",
       "      <td>[70-80)</td>\n",
       "      <td>?</td>\n",
       "      <td>Elective</td>\n",
       "      <td>Physician Referral</td>\n",
       "      <td>1</td>\n",
       "      <td>?</td>\n",
       "      <td>61</td>\n",
       "      <td>9</td>\n",
       "      <td>18</td>\n",
       "      <td>8</td>\n",
       "      <td>Yes</td>\n",
       "    </tr>\n",
       "  </tbody>\n",
       "</table>\n",
       "<p>10000 rows × 13 columns</p>\n",
       "</div>"
      ],
      "text/plain": [
       "                 race  gender      age   weight admission_type_id  \\\n",
       "0           Caucasian  Female  [50-60)        ?          Elective   \n",
       "1           Caucasian  Female  [20-30)  [50-75)            Urgent   \n",
       "2           Caucasian    Male  [80-90)        ?     Not Available   \n",
       "3     AfricanAmerican  Female  [50-60)        ?         Emergency   \n",
       "4     AfricanAmerican  Female  [50-60)        ?         Emergency   \n",
       "...               ...     ...      ...      ...               ...   \n",
       "9995        Caucasian  Female  [60-70)        ?          Elective   \n",
       "9996  AfricanAmerican    Male  [60-70)        ?            Urgent   \n",
       "9997  AfricanAmerican  Female  [70-80)        ?         Emergency   \n",
       "9998        Caucasian    Male  [80-90)        ?            Urgent   \n",
       "9999        Caucasian    Male  [70-80)        ?          Elective   \n",
       "\n",
       "                             admission_source_id  number_inpatient  \\\n",
       "0                             Physician Referral                 0   \n",
       "1                             Physician Referral                 0   \n",
       "2                                            NaN                 1   \n",
       "3     Transfer from another health care facility                 0   \n",
       "4                                 Emergency Room                 0   \n",
       "...                                          ...               ...   \n",
       "9995                          Physician Referral                 0   \n",
       "9996                              Emergency Room                 0   \n",
       "9997                              Emergency Room                 1   \n",
       "9998                              Emergency Room                 3   \n",
       "9999                          Physician Referral                 1   \n",
       "\n",
       "           medical_specialty  num_lab_procedures  number_diagnoses  \\\n",
       "0              Surgery-Neuro                  35                 9   \n",
       "1                          ?                   8                 6   \n",
       "2     Family/GeneralPractice                  12                 9   \n",
       "3                          ?                  33                 3   \n",
       "4                 Psychiatry                  31                 7   \n",
       "...                      ...                 ...               ...   \n",
       "9995                       ?                  30                 7   \n",
       "9996        Emergency/Trauma                   1                 9   \n",
       "9997        InternalMedicine                  46                 6   \n",
       "9998        InternalMedicine                  62                 9   \n",
       "9999                       ?                  61                 9   \n",
       "\n",
       "      num_medications  time_in_hospital diabetesMed  \n",
       "0                  21                 1          No  \n",
       "1                   5                 2          No  \n",
       "2                  21                 7         Yes  \n",
       "3                   5                 4         Yes  \n",
       "4                  13                 5         Yes  \n",
       "...               ...               ...         ...  \n",
       "9995               29                 3         Yes  \n",
       "9996               15                 8         Yes  \n",
       "9997               14                13          No  \n",
       "9998                7                 2          No  \n",
       "9999               18                 8         Yes  \n",
       "\n",
       "[10000 rows x 13 columns]"
      ]
     },
     "execution_count": 43,
     "metadata": {},
     "output_type": "execute_result"
    }
   ],
   "source": [
    "propensity_df = working_df.drop(columns=[\"readmitted\"])\n",
    "propensity_df"
   ]
  },
  {
   "cell_type": "markdown",
   "metadata": {},
   "source": [
    "### Examine differences between treatment and control groups\n",
    "\n",
    "Now take a look at your unadjusted treatment and control groups. How different are they on the covariates?"
   ]
  },
  {
   "cell_type": "code",
   "execution_count": 44,
   "metadata": {},
   "outputs": [
    {
     "data": {
      "text/plain": [
       "<AxesSubplot:xlabel='number_diagnoses', ylabel='Density'>"
      ]
     },
     "execution_count": 44,
     "metadata": {},
     "output_type": "execute_result"
    },
    {
     "data": {
      "image/png": "[encoded data removed]",
      "text/plain": [
       "<Figure size 432x288 with 1 Axes>"
      ]
     },
     "metadata": {
      "needs_background": "light"
     },
     "output_type": "display_data"
    }
   ],
   "source": [
    "sns.kdeplot(data=propensity_df, x=\"number_diagnoses\", hue=\"diabetesMed\", common_norm=False)"
   ]
  },
  {
   "cell_type": "code",
   "execution_count": 45,
   "metadata": {},
   "outputs": [
    {
     "data": {
      "text/plain": [
       "<AxesSubplot:xlabel='num_lab_procedures', ylabel='Density'>"
      ]
     },
     "execution_count": 45,
     "metadata": {},
     "output_type": "execute_result"
    },
    {
     "data": {
      "image/png": "[encoded data removed]",
      "text/plain": [
       "<Figure size 432x288 with 1 Axes>"
      ]
     },
     "metadata": {
      "needs_background": "light"
     },
     "output_type": "display_data"
    }
   ],
   "source": [
    "sns.kdeplot(data=propensity_df, x=\"num_lab_procedures\", hue=\"diabetesMed\", common_norm=False)"
   ]
  },
  {
   "cell_type": "code",
   "execution_count": 46,
   "metadata": {},
   "outputs": [
    {
     "data": {
      "text/plain": [
       "<AxesSubplot:xlabel='num_medications', ylabel='Density'>"
      ]
     },
     "execution_count": 46,
     "metadata": {},
     "output_type": "execute_result"
    },
    {
     "data": {
      "image/png": "[encoded data removed]",
      "text/plain": [
       "<Figure size 432x288 with 1 Axes>"
      ]
     },
     "metadata": {
      "needs_background": "light"
     },
     "output_type": "display_data"
    }
   ],
   "source": [
    "sns.kdeplot(data=propensity_df, x=\"num_medications\", hue=\"diabetesMed\", common_norm=False)"
   ]
  },
  {
   "cell_type": "code",
   "execution_count": 47,
   "metadata": {},
   "outputs": [
    {
     "data": {
      "text/plain": [
       "<AxesSubplot:xlabel='time_in_hospital', ylabel='Density'>"
      ]
     },
     "execution_count": 47,
     "metadata": {},
     "output_type": "execute_result"
    },
    {
     "data": {
      "image/png": "[encoded data removed]",
      "text/plain": [
       "<Figure size 432x288 with 1 Axes>"
      ]
     },
     "metadata": {
      "needs_background": "light"
     },
     "output_type": "display_data"
    }
   ],
   "source": [
    "sns.kdeplot(data=propensity_df, x=\"time_in_hospital\", hue=\"diabetesMed\", common_norm=False)"
   ]
  },
  {
   "cell_type": "code",
   "execution_count": 48,
   "metadata": {},
   "outputs": [
    {
     "data": {
      "image/png": "[encoded data removed]",
      "text/plain": [
       "<Figure size 432x288 with 1 Axes>"
      ]
     },
     "metadata": {
      "needs_background": "light"
     },
     "output_type": "display_data"
    }
   ],
   "source": [
    "plot_df = (\n",
    "    propensity_df.assign(sampling_weight=1)  # unweighted\n",
    "    .groupby([\"diabetesMed\", \"age\"])\n",
    "    .sampling_weight.sum()\n",
    "    .pipe(lambda df: df / df.groupby(\"diabetesMed\").transform(\"sum\"))\n",
    "    .to_frame(\"percent\")\n",
    "    .reset_index()\n",
    ")\n",
    "p = sns.barplot(data=plot_df, x=\"age\", y=\"percent\", hue=\"diabetesMed\")\n",
    "p.axes.yaxis.set_major_formatter(PercentFormatter(1))"
   ]
  },
  {
   "cell_type": "markdown",
   "metadata": {},
   "source": [
    "(For a complete analysis, you would continue looking at the remaining covariates.)\n",
    "\n",
    "From the above plots, you can see that the treatment and control groups (`diabetesMed==Yes` vs. `diabetesMed==No`) have somewhat different distributions for the covariates `num_medications`, `time_in_hospital`, and `age`. These differences between the treatment and control groups could be confounding the causal relationship, so it makes sense to perform the adjustment to make the groups more comparable."
   ]
  },
  {
   "cell_type": "markdown",
   "metadata": {},
   "source": [
    "## Fit a Propensity of Treatment model with DataRobot\n",
    "\n",
    "For the next step, you need to fit a model predicting the propensity of treatment for each subject. With DataRobot, you can explore many competing models in parallel, to determine which one performs best.\n",
    "\n",
    "In this stage of the process, DataRobot is a great fit for the job. When modeling the propensity for treatment, you want to account for all the confounding variables you can, and make capture whatever association they have with treatment. The power of the DataRobot platform to explore wide feature sets and experiment across many different modeling approaches gives you your best chance of accomplishing this goal."
   ]
  },
  {
   "cell_type": "markdown",
   "metadata": {},
   "source": [
    "Start by creating a Project from your propensity dataframe."
   ]
  },
  {
   "cell_type": "code",
   "execution_count": 50,
   "metadata": {},
   "outputs": [],
   "source": [
    "propensity_project = dr.Project.create(\n",
    "    sourcedata=propensity_df, project_name=\"Propensity of Diabetes Medication\"\n",
    ")"
   ]
  },
  {
   "cell_type": "code",
   "execution_count": 54,
   "metadata": {},
   "outputs": [
    {
     "name": "stdout",
     "output_type": "stream",
     "text": [
      "Project ID: 65a6e93036f2e192eda09089\n"
     ]
    }
   ],
   "source": [
    "print(f\"Project ID: {propensity_project.id}\")"
   ]
  },
  {
   "cell_type": "markdown",
   "metadata": {},
   "source": [
    "Then kick off the `analyze_and_model()` process using the treatment variable (`diabetesMed`) as your target."
   ]
  },
  {
   "cell_type": "code",
   "execution_count": 56,
   "metadata": {},
   "outputs": [
    {
     "data": {
      "text/plain": [
       "Project(Propensity of Diabetes Medication)"
      ]
     },
     "execution_count": 56,
     "metadata": {},
     "output_type": "execute_result"
    }
   ],
   "source": [
    "propensity_project.analyze_and_model(target=\"diabetesMed\", worker_count=-1)"
   ]
  },
  {
   "cell_type": "markdown",
   "metadata": {},
   "source": [
    "Now wait for the autopilot to complete, as DataRobot explores a wide variety of featurization and modeling techniques."
   ]
  },
  {
   "cell_type": "code",
   "execution_count": 57,
   "metadata": {},
   "outputs": [
    {
     "name": "stdout",
     "output_type": "stream",
     "text": [
      "In progress: 4, queued: 0 (waited: 0s)\n",
      "In progress: 4, queued: 0 (waited: 1s)\n",
      "In progress: 4, queued: 0 (waited: 1s)\n",
      "In progress: 4, queued: 0 (waited: 2s)\n",
      "In progress: 3, queued: 0 (waited: 3s)\n",
      "In progress: 2, queued: 0 (waited: 5s)\n",
      "In progress: 1, queued: 0 (waited: 9s)\n",
      "In progress: 1, queued: 0 (waited: 16s)\n",
      "In progress: 1, queued: 0 (waited: 29s)\n",
      "In progress: 1, queued: 0 (waited: 55s)\n",
      "In progress: 16, queued: 0 (waited: 85s)\n",
      "In progress: 4, queued: 0 (waited: 116s)\n",
      "In progress: 0, queued: 0 (waited: 147s)\n",
      "In progress: 0, queued: 0 (waited: 177s)\n",
      "In progress: 1, queued: 0 (waited: 207s)\n",
      "In progress: 1, queued: 0 (waited: 238s)\n",
      "In progress: 0, queued: 0 (waited: 268s)\n",
      "In progress: 0, queued: 0 (waited: 299s)\n",
      "In progress: 0, queued: 0 (waited: 329s)\n"
     ]
    }
   ],
   "source": [
    "propensity_project.wait_for_autopilot(check_interval=30)"
   ]
  },
  {
   "cell_type": "code",
   "execution_count": 58,
   "metadata": {},
   "outputs": [
    {
     "data": {
      "text/plain": [
       "'https://app.datarobot.com/projects/65a6e93036f2e192eda09089/models'"
      ]
     },
     "execution_count": 58,
     "metadata": {},
     "output_type": "execute_result"
    }
   ],
   "source": [
    "propensity_project.get_uri()"
   ]
  },
  {
   "cell_type": "markdown",
   "metadata": {},
   "source": [
    "Now that your Project has completed, examine the models of the project, their performance metrics, and insights about them, in order to decide which model works best.\n",
    "\n",
    "Start by examining the top performing-model on the leaderboard."
   ]
  },
  {
   "cell_type": "code",
   "execution_count": 59,
   "metadata": {},
   "outputs": [
    {
     "data": {
      "text/plain": [
       "Model('Light Gradient Boosting on ElasticNet Predictions ')"
      ]
     },
     "execution_count": 59,
     "metadata": {},
     "output_type": "execute_result"
    }
   ],
   "source": [
    "propensity_model = propensity_project.get_top_model()\n",
    "propensity_model"
   ]
  },
  {
   "cell_type": "code",
   "execution_count": 60,
   "metadata": {},
   "outputs": [
    {
     "data": {
      "text/plain": [
       "'https://app.datarobot.com/projects/65a6e93036f2e192eda09089/models/65a6eb2e6edd73b1994d580c'"
      ]
     },
     "execution_count": 60,
     "metadata": {},
     "output_type": "execute_result"
    }
   ],
   "source": [
    "propensity_model.get_uri()"
   ]
  },
  {
   "cell_type": "markdown",
   "metadata": {},
   "source": [
    "Take a look at the model's performance metrics."
   ]
  },
  {
   "cell_type": "code",
   "execution_count": 62,
   "metadata": {},
   "outputs": [
    {
     "data": {
      "text/plain": [
       "{'validation': 0.68786,\n",
       " 'crossValidation': 0.67601,\n",
       " 'holdout': 0.66838,\n",
       " 'training': None,\n",
       " 'backtestingScores': None,\n",
       " 'backtesting': None}"
      ]
     },
     "execution_count": 62,
     "metadata": {},
     "output_type": "execute_result"
    }
   ],
   "source": [
    "propensity_model.metrics.get(\"AUC\")"
   ]
  },
  {
   "cell_type": "code",
   "execution_count": 63,
   "metadata": {},
   "outputs": [
    {
     "data": {
      "text/plain": [
       "{'validation': 0.52338,\n",
       " 'crossValidation': 0.5273,\n",
       " 'holdout': 0.53231,\n",
       " 'training': None,\n",
       " 'backtestingScores': None,\n",
       " 'backtesting': None}"
      ]
     },
     "execution_count": 63,
     "metadata": {},
     "output_type": "execute_result"
    }
   ],
   "source": [
    "propensity_model.metrics.get(\"LogLoss\")"
   ]
  },
  {
   "cell_type": "markdown",
   "metadata": {},
   "source": [
    "And take a look at insights, such as Feature Impact to see which covariates are most predictive of treatment."
   ]
  },
  {
   "cell_type": "code",
   "execution_count": 70,
   "metadata": {},
   "outputs": [],
   "source": [
    "def plot_feature_impact(datarobot_model, title=None, max_features=100):\n",
    "    \"\"\"This function plots feature impact\n",
    "    Input:\n",
    "        datarobot_model: <Datarobot Model object>\n",
    "        title : <string> --> title of graph\n",
    "    \"\"\"\n",
    "    # Get feature impact\n",
    "    feature_impacts = datarobot_model.get_or_request_feature_impact()\n",
    "\n",
    "    # Sort feature impact based on normalised impact\n",
    "    feature_impacts.sort(key=lambda x: x[\"impactNormalized\"], reverse=True)\n",
    "\n",
    "    fi_df = pd.DataFrame(feature_impacts)  # Save feature impact in pandas dataframe\n",
    "    fig, ax = plt.subplots(figsize=(14, 5))\n",
    "    b = sns.barplot(y=\"featureName\", x=\"impactNormalized\", data=fi_df[:max_features], color=\"b\")\n",
    "    b.axes.set_title(\"Feature Impact\" if not title else title, fontsize=20)"
   ]
  },
  {
   "cell_type": "code",
   "execution_count": 71,
   "metadata": {},
   "outputs": [
    {
     "data": {
      "image/png": "[encoded data removed]",
      "text/plain": [
       "<Figure size 1008x360 with 1 Axes>"
      ]
     },
     "metadata": {
      "needs_background": "light"
     },
     "output_type": "display_data"
    }
   ],
   "source": [
    "plot_feature_impact(propensity_model)"
   ]
  },
  {
   "cell_type": "markdown",
   "metadata": {},
   "source": [
    "For a real research project, you would dive deeper into this model as well as other models on the leaderboard. For now, proceed with this top model."
   ]
  },
  {
   "cell_type": "markdown",
   "metadata": {},
   "source": [
    "## Calculate Inverse Propensity of Treatment Weights\n",
    "\n",
    "Now that you have a propensity of treatment model, you will calculate the Inverse Propensity of Treatment Weights."
   ]
  },
  {
   "cell_type": "markdown",
   "metadata": {},
   "source": [
    "### Obtain propensity scores\n",
    "\n",
    "As a first step, you must obtain the predictions from the Propensity of Treatment model.\n",
    "\n",
    "To do this, submit the feature data from the propensity dataframe to the model via `request_predictions()`. \n",
    "\n",
    "Note that because we are submitting the same feature data as training, this will result in in-sample predictions, i.e., predictions from a model that has already seen this data. That is defensible in this case, where you are trying to characterize the propensity of treatment in this specific study population, rather than generalizing to future study populations. However, if you wanted out-of-sample predictions on the training data from DataRobot, you could use `model.request_training_predictions()` instead. "
   ]
  },
  {
   "cell_type": "code",
   "execution_count": 75,
   "metadata": {},
   "outputs": [
    {
     "data": {
      "text/html": [
       "<div>\n",
       "<style scoped>\n",
       "    .dataframe tbody tr th:only-of-type {\n",
       "        vertical-align: middle;\n",
       "    }\n",
       "\n",
       "    .dataframe tbody tr th {\n",
       "        vertical-align: top;\n",
       "    }\n",
       "\n",
       "    .dataframe thead th {\n",
       "        text-align: right;\n",
       "    }\n",
       "</style>\n",
       "<table border=\"1\" class=\"dataframe\">\n",
       "  <thead>\n",
       "    <tr style=\"text-align: right;\">\n",
       "      <th></th>\n",
       "      <th>race</th>\n",
       "      <th>gender</th>\n",
       "      <th>age</th>\n",
       "      <th>weight</th>\n",
       "      <th>admission_type_id</th>\n",
       "      <th>admission_source_id</th>\n",
       "      <th>number_inpatient</th>\n",
       "      <th>medical_specialty</th>\n",
       "      <th>num_lab_procedures</th>\n",
       "      <th>number_diagnoses</th>\n",
       "      <th>num_medications</th>\n",
       "      <th>time_in_hospital</th>\n",
       "    </tr>\n",
       "  </thead>\n",
       "  <tbody>\n",
       "    <tr>\n",
       "      <th>0</th>\n",
       "      <td>Caucasian</td>\n",
       "      <td>Female</td>\n",
       "      <td>[50-60)</td>\n",
       "      <td>?</td>\n",
       "      <td>Elective</td>\n",
       "      <td>Physician Referral</td>\n",
       "      <td>0</td>\n",
       "      <td>Surgery-Neuro</td>\n",
       "      <td>35</td>\n",
       "      <td>9</td>\n",
       "      <td>21</td>\n",
       "      <td>1</td>\n",
       "    </tr>\n",
       "    <tr>\n",
       "      <th>1</th>\n",
       "      <td>Caucasian</td>\n",
       "      <td>Female</td>\n",
       "      <td>[20-30)</td>\n",
       "      <td>[50-75)</td>\n",
       "      <td>Urgent</td>\n",
       "      <td>Physician Referral</td>\n",
       "      <td>0</td>\n",
       "      <td>?</td>\n",
       "      <td>8</td>\n",
       "      <td>6</td>\n",
       "      <td>5</td>\n",
       "      <td>2</td>\n",
       "    </tr>\n",
       "    <tr>\n",
       "      <th>2</th>\n",
       "      <td>Caucasian</td>\n",
       "      <td>Male</td>\n",
       "      <td>[80-90)</td>\n",
       "      <td>?</td>\n",
       "      <td>Not Available</td>\n",
       "      <td>NaN</td>\n",
       "      <td>1</td>\n",
       "      <td>Family/GeneralPractice</td>\n",
       "      <td>12</td>\n",
       "      <td>9</td>\n",
       "      <td>21</td>\n",
       "      <td>7</td>\n",
       "    </tr>\n",
       "    <tr>\n",
       "      <th>3</th>\n",
       "      <td>AfricanAmerican</td>\n",
       "      <td>Female</td>\n",
       "      <td>[50-60)</td>\n",
       "      <td>?</td>\n",
       "      <td>Emergency</td>\n",
       "      <td>Transfer from another health care facility</td>\n",
       "      <td>0</td>\n",
       "      <td>?</td>\n",
       "      <td>33</td>\n",
       "      <td>3</td>\n",
       "      <td>5</td>\n",
       "      <td>4</td>\n",
       "    </tr>\n",
       "    <tr>\n",
       "      <th>4</th>\n",
       "      <td>AfricanAmerican</td>\n",
       "      <td>Female</td>\n",
       "      <td>[50-60)</td>\n",
       "      <td>?</td>\n",
       "      <td>Emergency</td>\n",
       "      <td>Emergency Room</td>\n",
       "      <td>0</td>\n",
       "      <td>Psychiatry</td>\n",
       "      <td>31</td>\n",
       "      <td>7</td>\n",
       "      <td>13</td>\n",
       "      <td>5</td>\n",
       "    </tr>\n",
       "    <tr>\n",
       "      <th>...</th>\n",
       "      <td>...</td>\n",
       "      <td>...</td>\n",
       "      <td>...</td>\n",
       "      <td>...</td>\n",
       "      <td>...</td>\n",
       "      <td>...</td>\n",
       "      <td>...</td>\n",
       "      <td>...</td>\n",
       "      <td>...</td>\n",
       "      <td>...</td>\n",
       "      <td>...</td>\n",
       "      <td>...</td>\n",
       "    </tr>\n",
       "    <tr>\n",
       "      <th>9995</th>\n",
       "      <td>Caucasian</td>\n",
       "      <td>Female</td>\n",
       "      <td>[60-70)</td>\n",
       "      <td>?</td>\n",
       "      <td>Elective</td>\n",
       "      <td>Physician Referral</td>\n",
       "      <td>0</td>\n",
       "      <td>?</td>\n",
       "      <td>30</td>\n",
       "      <td>7</td>\n",
       "      <td>29</td>\n",
       "      <td>3</td>\n",
       "    </tr>\n",
       "    <tr>\n",
       "      <th>9996</th>\n",
       "      <td>AfricanAmerican</td>\n",
       "      <td>Male</td>\n",
       "      <td>[60-70)</td>\n",
       "      <td>?</td>\n",
       "      <td>Urgent</td>\n",
       "      <td>Emergency Room</td>\n",
       "      <td>0</td>\n",
       "      <td>Emergency/Trauma</td>\n",
       "      <td>1</td>\n",
       "      <td>9</td>\n",
       "      <td>15</td>\n",
       "      <td>8</td>\n",
       "    </tr>\n",
       "    <tr>\n",
       "      <th>9997</th>\n",
       "      <td>AfricanAmerican</td>\n",
       "      <td>Female</td>\n",
       "      <td>[70-80)</td>\n",
       "      <td>?</td>\n",
       "      <td>Emergency</td>\n",
       "      <td>Emergency Room</td>\n",
       "      <td>1</td>\n",
       "      <td>InternalMedicine</td>\n",
       "      <td>46</td>\n",
       "      <td>6</td>\n",
       "      <td>14</td>\n",
       "      <td>13</td>\n",
       "    </tr>\n",
       "    <tr>\n",
       "      <th>9998</th>\n",
       "      <td>Caucasian</td>\n",
       "      <td>Male</td>\n",
       "      <td>[80-90)</td>\n",
       "      <td>?</td>\n",
       "      <td>Urgent</td>\n",
       "      <td>Emergency Room</td>\n",
       "      <td>3</td>\n",
       "      <td>InternalMedicine</td>\n",
       "      <td>62</td>\n",
       "      <td>9</td>\n",
       "      <td>7</td>\n",
       "      <td>2</td>\n",
       "    </tr>\n",
       "    <tr>\n",
       "      <th>9999</th>\n",
       "      <td>Caucasian</td>\n",
       "      <td>Male</td>\n",
       "      <td>[70-80)</td>\n",
       "      <td>?</td>\n",
       "      <td>Elective</td>\n",
       "      <td>Physician Referral</td>\n",
       "      <td>1</td>\n",
       "      <td>?</td>\n",
       "      <td>61</td>\n",
       "      <td>9</td>\n",
       "      <td>18</td>\n",
       "      <td>8</td>\n",
       "    </tr>\n",
       "  </tbody>\n",
       "</table>\n",
       "<p>10000 rows × 12 columns</p>\n",
       "</div>"
      ],
      "text/plain": [
       "                 race  gender      age   weight admission_type_id  \\\n",
       "0           Caucasian  Female  [50-60)        ?          Elective   \n",
       "1           Caucasian  Female  [20-30)  [50-75)            Urgent   \n",
       "2           Caucasian    Male  [80-90)        ?     Not Available   \n",
       "3     AfricanAmerican  Female  [50-60)        ?         Emergency   \n",
       "4     AfricanAmerican  Female  [50-60)        ?         Emergency   \n",
       "...               ...     ...      ...      ...               ...   \n",
       "9995        Caucasian  Female  [60-70)        ?          Elective   \n",
       "9996  AfricanAmerican    Male  [60-70)        ?            Urgent   \n",
       "9997  AfricanAmerican  Female  [70-80)        ?         Emergency   \n",
       "9998        Caucasian    Male  [80-90)        ?            Urgent   \n",
       "9999        Caucasian    Male  [70-80)        ?          Elective   \n",
       "\n",
       "                             admission_source_id  number_inpatient  \\\n",
       "0                             Physician Referral                 0   \n",
       "1                             Physician Referral                 0   \n",
       "2                                            NaN                 1   \n",
       "3     Transfer from another health care facility                 0   \n",
       "4                                 Emergency Room                 0   \n",
       "...                                          ...               ...   \n",
       "9995                          Physician Referral                 0   \n",
       "9996                              Emergency Room                 0   \n",
       "9997                              Emergency Room                 1   \n",
       "9998                              Emergency Room                 3   \n",
       "9999                          Physician Referral                 1   \n",
       "\n",
       "           medical_specialty  num_lab_procedures  number_diagnoses  \\\n",
       "0              Surgery-Neuro                  35                 9   \n",
       "1                          ?                   8                 6   \n",
       "2     Family/GeneralPractice                  12                 9   \n",
       "3                          ?                  33                 3   \n",
       "4                 Psychiatry                  31                 7   \n",
       "...                      ...                 ...               ...   \n",
       "9995                       ?                  30                 7   \n",
       "9996        Emergency/Trauma                   1                 9   \n",
       "9997        InternalMedicine                  46                 6   \n",
       "9998        InternalMedicine                  62                 9   \n",
       "9999                       ?                  61                 9   \n",
       "\n",
       "      num_medications  time_in_hospital  \n",
       "0                  21                 1  \n",
       "1                   5                 2  \n",
       "2                  21                 7  \n",
       "3                   5                 4  \n",
       "4                  13                 5  \n",
       "...               ...               ...  \n",
       "9995               29                 3  \n",
       "9996               15                 8  \n",
       "9997               14                13  \n",
       "9998                7                 2  \n",
       "9999               18                 8  \n",
       "\n",
       "[10000 rows x 12 columns]"
      ]
     },
     "execution_count": 75,
     "metadata": {},
     "output_type": "execute_result"
    }
   ],
   "source": [
    "scoring_df = propensity_df.drop(columns=[\"diabetesMed\"])\n",
    "scoring_df"
   ]
  },
  {
   "cell_type": "code",
   "execution_count": 76,
   "metadata": {},
   "outputs": [
    {
     "data": {
      "text/plain": [
       "PredictJob(Model('65a6eb2e6edd73b1994d580c'), status=queue)"
      ]
     },
     "execution_count": 76,
     "metadata": {},
     "output_type": "execute_result"
    }
   ],
   "source": [
    "predict_job = propensity_model.request_predictions(dataframe=scoring_df)\n",
    "predict_job"
   ]
  },
  {
   "cell_type": "code",
   "execution_count": 77,
   "metadata": {},
   "outputs": [
    {
     "data": {
      "text/html": [
       "<div>\n",
       "<style scoped>\n",
       "    .dataframe tbody tr th:only-of-type {\n",
       "        vertical-align: middle;\n",
       "    }\n",
       "\n",
       "    .dataframe tbody tr th {\n",
       "        vertical-align: top;\n",
       "    }\n",
       "\n",
       "    .dataframe thead th {\n",
       "        text-align: right;\n",
       "    }\n",
       "</style>\n",
       "<table border=\"1\" class=\"dataframe\">\n",
       "  <thead>\n",
       "    <tr style=\"text-align: right;\">\n",
       "      <th></th>\n",
       "      <th>row_id</th>\n",
       "      <th>prediction</th>\n",
       "      <th>positive_probability</th>\n",
       "      <th>prediction_threshold</th>\n",
       "      <th>class_No</th>\n",
       "      <th>class_Yes</th>\n",
       "    </tr>\n",
       "  </thead>\n",
       "  <tbody>\n",
       "    <tr>\n",
       "      <th>0</th>\n",
       "      <td>0</td>\n",
       "      <td>Yes</td>\n",
       "      <td>0.812269</td>\n",
       "      <td>0.5</td>\n",
       "      <td>0.187731</td>\n",
       "      <td>0.812269</td>\n",
       "    </tr>\n",
       "    <tr>\n",
       "      <th>1</th>\n",
       "      <td>1</td>\n",
       "      <td>Yes</td>\n",
       "      <td>0.547232</td>\n",
       "      <td>0.5</td>\n",
       "      <td>0.452768</td>\n",
       "      <td>0.547232</td>\n",
       "    </tr>\n",
       "    <tr>\n",
       "      <th>2</th>\n",
       "      <td>2</td>\n",
       "      <td>Yes</td>\n",
       "      <td>0.889528</td>\n",
       "      <td>0.5</td>\n",
       "      <td>0.110472</td>\n",
       "      <td>0.889528</td>\n",
       "    </tr>\n",
       "    <tr>\n",
       "      <th>3</th>\n",
       "      <td>3</td>\n",
       "      <td>Yes</td>\n",
       "      <td>0.551166</td>\n",
       "      <td>0.5</td>\n",
       "      <td>0.448834</td>\n",
       "      <td>0.551166</td>\n",
       "    </tr>\n",
       "    <tr>\n",
       "      <th>4</th>\n",
       "      <td>4</td>\n",
       "      <td>Yes</td>\n",
       "      <td>0.769513</td>\n",
       "      <td>0.5</td>\n",
       "      <td>0.230487</td>\n",
       "      <td>0.769513</td>\n",
       "    </tr>\n",
       "    <tr>\n",
       "      <th>...</th>\n",
       "      <td>...</td>\n",
       "      <td>...</td>\n",
       "      <td>...</td>\n",
       "      <td>...</td>\n",
       "      <td>...</td>\n",
       "      <td>...</td>\n",
       "    </tr>\n",
       "    <tr>\n",
       "      <th>9995</th>\n",
       "      <td>9995</td>\n",
       "      <td>Yes</td>\n",
       "      <td>0.903911</td>\n",
       "      <td>0.5</td>\n",
       "      <td>0.096089</td>\n",
       "      <td>0.903911</td>\n",
       "    </tr>\n",
       "    <tr>\n",
       "      <th>9996</th>\n",
       "      <td>9996</td>\n",
       "      <td>Yes</td>\n",
       "      <td>0.832543</td>\n",
       "      <td>0.5</td>\n",
       "      <td>0.167457</td>\n",
       "      <td>0.832543</td>\n",
       "    </tr>\n",
       "    <tr>\n",
       "      <th>9997</th>\n",
       "      <td>9997</td>\n",
       "      <td>Yes</td>\n",
       "      <td>0.738654</td>\n",
       "      <td>0.5</td>\n",
       "      <td>0.261346</td>\n",
       "      <td>0.738654</td>\n",
       "    </tr>\n",
       "    <tr>\n",
       "      <th>9998</th>\n",
       "      <td>9998</td>\n",
       "      <td>Yes</td>\n",
       "      <td>0.709603</td>\n",
       "      <td>0.5</td>\n",
       "      <td>0.290397</td>\n",
       "      <td>0.709603</td>\n",
       "    </tr>\n",
       "    <tr>\n",
       "      <th>9999</th>\n",
       "      <td>9999</td>\n",
       "      <td>Yes</td>\n",
       "      <td>0.758729</td>\n",
       "      <td>0.5</td>\n",
       "      <td>0.241271</td>\n",
       "      <td>0.758729</td>\n",
       "    </tr>\n",
       "  </tbody>\n",
       "</table>\n",
       "<p>10000 rows × 6 columns</p>\n",
       "</div>"
      ],
      "text/plain": [
       "      row_id prediction  positive_probability  prediction_threshold  class_No  \\\n",
       "0          0        Yes              0.812269                   0.5  0.187731   \n",
       "1          1        Yes              0.547232                   0.5  0.452768   \n",
       "2          2        Yes              0.889528                   0.5  0.110472   \n",
       "3          3        Yes              0.551166                   0.5  0.448834   \n",
       "4          4        Yes              0.769513                   0.5  0.230487   \n",
       "...      ...        ...                   ...                   ...       ...   \n",
       "9995    9995        Yes              0.903911                   0.5  0.096089   \n",
       "9996    9996        Yes              0.832543                   0.5  0.167457   \n",
       "9997    9997        Yes              0.738654                   0.5  0.261346   \n",
       "9998    9998        Yes              0.709603                   0.5  0.290397   \n",
       "9999    9999        Yes              0.758729                   0.5  0.241271   \n",
       "\n",
       "      class_Yes  \n",
       "0      0.812269  \n",
       "1      0.547232  \n",
       "2      0.889528  \n",
       "3      0.551166  \n",
       "4      0.769513  \n",
       "...         ...  \n",
       "9995   0.903911  \n",
       "9996   0.832543  \n",
       "9997   0.738654  \n",
       "9998   0.709603  \n",
       "9999   0.758729  \n",
       "\n",
       "[10000 rows x 6 columns]"
      ]
     },
     "execution_count": 77,
     "metadata": {},
     "output_type": "execute_result"
    }
   ],
   "source": [
    "propensity_predictions = predict_job.get_result_when_complete()\n",
    "propensity_predictions"
   ]
  },
  {
   "cell_type": "code",
   "execution_count": 84,
   "metadata": {},
   "outputs": [
    {
     "data": {
      "text/html": [
       "<div>\n",
       "<style scoped>\n",
       "    .dataframe tbody tr th:only-of-type {\n",
       "        vertical-align: middle;\n",
       "    }\n",
       "\n",
       "    .dataframe tbody tr th {\n",
       "        vertical-align: top;\n",
       "    }\n",
       "\n",
       "    .dataframe thead th {\n",
       "        text-align: right;\n",
       "    }\n",
       "</style>\n",
       "<table border=\"1\" class=\"dataframe\">\n",
       "  <thead>\n",
       "    <tr style=\"text-align: right;\">\n",
       "      <th></th>\n",
       "      <th>propensity_score</th>\n",
       "    </tr>\n",
       "    <tr>\n",
       "      <th>row_id</th>\n",
       "      <th></th>\n",
       "    </tr>\n",
       "  </thead>\n",
       "  <tbody>\n",
       "    <tr>\n",
       "      <th>0</th>\n",
       "      <td>0.812269</td>\n",
       "    </tr>\n",
       "    <tr>\n",
       "      <th>1</th>\n",
       "      <td>0.547232</td>\n",
       "    </tr>\n",
       "    <tr>\n",
       "      <th>2</th>\n",
       "      <td>0.889528</td>\n",
       "    </tr>\n",
       "    <tr>\n",
       "      <th>3</th>\n",
       "      <td>0.551166</td>\n",
       "    </tr>\n",
       "    <tr>\n",
       "      <th>4</th>\n",
       "      <td>0.769513</td>\n",
       "    </tr>\n",
       "    <tr>\n",
       "      <th>...</th>\n",
       "      <td>...</td>\n",
       "    </tr>\n",
       "    <tr>\n",
       "      <th>9995</th>\n",
       "      <td>0.903911</td>\n",
       "    </tr>\n",
       "    <tr>\n",
       "      <th>9996</th>\n",
       "      <td>0.832543</td>\n",
       "    </tr>\n",
       "    <tr>\n",
       "      <th>9997</th>\n",
       "      <td>0.738654</td>\n",
       "    </tr>\n",
       "    <tr>\n",
       "      <th>9998</th>\n",
       "      <td>0.709603</td>\n",
       "    </tr>\n",
       "    <tr>\n",
       "      <th>9999</th>\n",
       "      <td>0.758729</td>\n",
       "    </tr>\n",
       "  </tbody>\n",
       "</table>\n",
       "<p>10000 rows × 1 columns</p>\n",
       "</div>"
      ],
      "text/plain": [
       "        propensity_score\n",
       "row_id                  \n",
       "0               0.812269\n",
       "1               0.547232\n",
       "2               0.889528\n",
       "3               0.551166\n",
       "4               0.769513\n",
       "...                  ...\n",
       "9995            0.903911\n",
       "9996            0.832543\n",
       "9997            0.738654\n",
       "9998            0.709603\n",
       "9999            0.758729\n",
       "\n",
       "[10000 rows x 1 columns]"
      ]
     },
     "execution_count": 84,
     "metadata": {},
     "output_type": "execute_result"
    }
   ],
   "source": [
    "propensity_scores_df = (\n",
    "    propensity_predictions[[\"row_id\", \"class_Yes\"]]\n",
    "    .set_index(\"row_id\")\n",
    "    .rename(columns={\"class_Yes\": \"propensity_score\"})\n",
    ")\n",
    "propensity_scores_df"
   ]
  },
  {
   "cell_type": "code",
   "execution_count": 86,
   "metadata": {},
   "outputs": [
    {
     "data": {
      "text/plain": [
       "array([[<AxesSubplot:title={'center':'propensity_score'}>]], dtype=object)"
      ]
     },
     "execution_count": 86,
     "metadata": {},
     "output_type": "execute_result"
    },
    {
     "data": {
      "image/png": "[encoded data removed]",
      "text/plain": [
       "<Figure size 432x288 with 1 Axes>"
      ]
     },
     "metadata": {
      "needs_background": "light"
     },
     "output_type": "display_data"
    }
   ],
   "source": [
    "propensity_scores_df.hist()"
   ]
  },
  {
   "cell_type": "markdown",
   "metadata": {},
   "source": [
    "### Compute Inverse Propensity of Treatment Weights\n",
    "Now that you have your Propensity of Treatment scores, you can calculate the Inverse Propensity of Treatment weights and join them back to your original dataset."
   ]
  },
  {
   "cell_type": "code",
   "execution_count": 171,
   "metadata": {},
   "outputs": [],
   "source": [
    "def compute_iptw(df, stabilize=True):\n",
    "    if stabilize:\n",
    "        # Compute \"stablized\" weights to deal with extreme weight values\n",
    "        numerator_treatment = (working_df.diabetesMed == \"Yes\").mean()\n",
    "        numerator_control = (working_df.diabetesMed == \"No\").mean()\n",
    "    else:\n",
    "        # Use non-stablized weights\n",
    "        numerator_treatment = 1\n",
    "        numerator_control = 1\n",
    "    return (df.diabetesMed == \"Yes\") * numerator_treatment / (df.propensity_score) + (\n",
    "        df.diabetesMed == \"No\"\n",
    "    ) * numerator_control / (1 - df.propensity_score)"
   ]
  },
  {
   "cell_type": "code",
   "execution_count": 172,
   "metadata": {},
   "outputs": [
    {
     "data": {
      "text/html": [
       "<div>\n",
       "<style scoped>\n",
       "    .dataframe tbody tr th:only-of-type {\n",
       "        vertical-align: middle;\n",
       "    }\n",
       "\n",
       "    .dataframe tbody tr th {\n",
       "        vertical-align: top;\n",
       "    }\n",
       "\n",
       "    .dataframe thead th {\n",
       "        text-align: right;\n",
       "    }\n",
       "</style>\n",
       "<table border=\"1\" class=\"dataframe\">\n",
       "  <thead>\n",
       "    <tr style=\"text-align: right;\">\n",
       "      <th></th>\n",
       "      <th>readmitted</th>\n",
       "      <th>race</th>\n",
       "      <th>gender</th>\n",
       "      <th>age</th>\n",
       "      <th>weight</th>\n",
       "      <th>admission_type_id</th>\n",
       "      <th>admission_source_id</th>\n",
       "      <th>number_inpatient</th>\n",
       "      <th>medical_specialty</th>\n",
       "      <th>num_lab_procedures</th>\n",
       "      <th>number_diagnoses</th>\n",
       "      <th>num_medications</th>\n",
       "      <th>time_in_hospital</th>\n",
       "      <th>diabetesMed</th>\n",
       "      <th>propensity_score</th>\n",
       "      <th>sampling_weight</th>\n",
       "    </tr>\n",
       "    <tr>\n",
       "      <th>row_id</th>\n",
       "      <th></th>\n",
       "      <th></th>\n",
       "      <th></th>\n",
       "      <th></th>\n",
       "      <th></th>\n",
       "      <th></th>\n",
       "      <th></th>\n",
       "      <th></th>\n",
       "      <th></th>\n",
       "      <th></th>\n",
       "      <th></th>\n",
       "      <th></th>\n",
       "      <th></th>\n",
       "      <th></th>\n",
       "      <th></th>\n",
       "      <th></th>\n",
       "    </tr>\n",
       "  </thead>\n",
       "  <tbody>\n",
       "    <tr>\n",
       "      <th>0</th>\n",
       "      <td>False</td>\n",
       "      <td>Caucasian</td>\n",
       "      <td>Female</td>\n",
       "      <td>[50-60)</td>\n",
       "      <td>?</td>\n",
       "      <td>Elective</td>\n",
       "      <td>Physician Referral</td>\n",
       "      <td>0</td>\n",
       "      <td>Surgery-Neuro</td>\n",
       "      <td>35</td>\n",
       "      <td>9</td>\n",
       "      <td>21</td>\n",
       "      <td>1</td>\n",
       "      <td>No</td>\n",
       "      <td>0.812269</td>\n",
       "      <td>1.343415</td>\n",
       "    </tr>\n",
       "    <tr>\n",
       "      <th>1</th>\n",
       "      <td>False</td>\n",
       "      <td>Caucasian</td>\n",
       "      <td>Female</td>\n",
       "      <td>[20-30)</td>\n",
       "      <td>[50-75)</td>\n",
       "      <td>Urgent</td>\n",
       "      <td>Physician Referral</td>\n",
       "      <td>0</td>\n",
       "      <td>?</td>\n",
       "      <td>8</td>\n",
       "      <td>6</td>\n",
       "      <td>5</td>\n",
       "      <td>2</td>\n",
       "      <td>No</td>\n",
       "      <td>0.547232</td>\n",
       "      <td>0.557018</td>\n",
       "    </tr>\n",
       "    <tr>\n",
       "      <th>2</th>\n",
       "      <td>True</td>\n",
       "      <td>Caucasian</td>\n",
       "      <td>Male</td>\n",
       "      <td>[80-90)</td>\n",
       "      <td>?</td>\n",
       "      <td>Not Available</td>\n",
       "      <td>NaN</td>\n",
       "      <td>1</td>\n",
       "      <td>Family/GeneralPractice</td>\n",
       "      <td>12</td>\n",
       "      <td>9</td>\n",
       "      <td>21</td>\n",
       "      <td>7</td>\n",
       "      <td>Yes</td>\n",
       "      <td>0.889528</td>\n",
       "      <td>0.840671</td>\n",
       "    </tr>\n",
       "    <tr>\n",
       "      <th>3</th>\n",
       "      <td>False</td>\n",
       "      <td>AfricanAmerican</td>\n",
       "      <td>Female</td>\n",
       "      <td>[50-60)</td>\n",
       "      <td>?</td>\n",
       "      <td>Emergency</td>\n",
       "      <td>Transfer from another health care facility</td>\n",
       "      <td>0</td>\n",
       "      <td>?</td>\n",
       "      <td>33</td>\n",
       "      <td>3</td>\n",
       "      <td>5</td>\n",
       "      <td>4</td>\n",
       "      <td>Yes</td>\n",
       "      <td>0.551166</td>\n",
       "      <td>1.356761</td>\n",
       "    </tr>\n",
       "    <tr>\n",
       "      <th>4</th>\n",
       "      <td>False</td>\n",
       "      <td>AfricanAmerican</td>\n",
       "      <td>Female</td>\n",
       "      <td>[50-60)</td>\n",
       "      <td>?</td>\n",
       "      <td>Emergency</td>\n",
       "      <td>Emergency Room</td>\n",
       "      <td>0</td>\n",
       "      <td>Psychiatry</td>\n",
       "      <td>31</td>\n",
       "      <td>7</td>\n",
       "      <td>13</td>\n",
       "      <td>5</td>\n",
       "      <td>Yes</td>\n",
       "      <td>0.769513</td>\n",
       "      <td>0.971783</td>\n",
       "    </tr>\n",
       "    <tr>\n",
       "      <th>...</th>\n",
       "      <td>...</td>\n",
       "      <td>...</td>\n",
       "      <td>...</td>\n",
       "      <td>...</td>\n",
       "      <td>...</td>\n",
       "      <td>...</td>\n",
       "      <td>...</td>\n",
       "      <td>...</td>\n",
       "      <td>...</td>\n",
       "      <td>...</td>\n",
       "      <td>...</td>\n",
       "      <td>...</td>\n",
       "      <td>...</td>\n",
       "      <td>...</td>\n",
       "      <td>...</td>\n",
       "      <td>...</td>\n",
       "    </tr>\n",
       "    <tr>\n",
       "      <th>9995</th>\n",
       "      <td>False</td>\n",
       "      <td>Caucasian</td>\n",
       "      <td>Female</td>\n",
       "      <td>[60-70)</td>\n",
       "      <td>?</td>\n",
       "      <td>Elective</td>\n",
       "      <td>Physician Referral</td>\n",
       "      <td>0</td>\n",
       "      <td>?</td>\n",
       "      <td>30</td>\n",
       "      <td>7</td>\n",
       "      <td>29</td>\n",
       "      <td>3</td>\n",
       "      <td>Yes</td>\n",
       "      <td>0.903911</td>\n",
       "      <td>0.827293</td>\n",
       "    </tr>\n",
       "    <tr>\n",
       "      <th>9996</th>\n",
       "      <td>False</td>\n",
       "      <td>AfricanAmerican</td>\n",
       "      <td>Male</td>\n",
       "      <td>[60-70)</td>\n",
       "      <td>?</td>\n",
       "      <td>Urgent</td>\n",
       "      <td>Emergency Room</td>\n",
       "      <td>0</td>\n",
       "      <td>Emergency/Trauma</td>\n",
       "      <td>1</td>\n",
       "      <td>9</td>\n",
       "      <td>15</td>\n",
       "      <td>8</td>\n",
       "      <td>Yes</td>\n",
       "      <td>0.832543</td>\n",
       "      <td>0.898212</td>\n",
       "    </tr>\n",
       "    <tr>\n",
       "      <th>9997</th>\n",
       "      <td>True</td>\n",
       "      <td>AfricanAmerican</td>\n",
       "      <td>Female</td>\n",
       "      <td>[70-80)</td>\n",
       "      <td>?</td>\n",
       "      <td>Emergency</td>\n",
       "      <td>Emergency Room</td>\n",
       "      <td>1</td>\n",
       "      <td>InternalMedicine</td>\n",
       "      <td>46</td>\n",
       "      <td>6</td>\n",
       "      <td>14</td>\n",
       "      <td>13</td>\n",
       "      <td>No</td>\n",
       "      <td>0.738654</td>\n",
       "      <td>0.965004</td>\n",
       "    </tr>\n",
       "    <tr>\n",
       "      <th>9998</th>\n",
       "      <td>False</td>\n",
       "      <td>Caucasian</td>\n",
       "      <td>Male</td>\n",
       "      <td>[80-90)</td>\n",
       "      <td>?</td>\n",
       "      <td>Urgent</td>\n",
       "      <td>Emergency Room</td>\n",
       "      <td>3</td>\n",
       "      <td>InternalMedicine</td>\n",
       "      <td>62</td>\n",
       "      <td>9</td>\n",
       "      <td>7</td>\n",
       "      <td>2</td>\n",
       "      <td>No</td>\n",
       "      <td>0.709603</td>\n",
       "      <td>0.868465</td>\n",
       "    </tr>\n",
       "    <tr>\n",
       "      <th>9999</th>\n",
       "      <td>False</td>\n",
       "      <td>Caucasian</td>\n",
       "      <td>Male</td>\n",
       "      <td>[70-80)</td>\n",
       "      <td>?</td>\n",
       "      <td>Elective</td>\n",
       "      <td>Physician Referral</td>\n",
       "      <td>1</td>\n",
       "      <td>?</td>\n",
       "      <td>61</td>\n",
       "      <td>9</td>\n",
       "      <td>18</td>\n",
       "      <td>8</td>\n",
       "      <td>Yes</td>\n",
       "      <td>0.758729</td>\n",
       "      <td>0.985596</td>\n",
       "    </tr>\n",
       "  </tbody>\n",
       "</table>\n",
       "<p>10000 rows × 16 columns</p>\n",
       "</div>"
      ],
      "text/plain": [
       "        readmitted             race  gender      age   weight  \\\n",
       "row_id                                                          \n",
       "0            False        Caucasian  Female  [50-60)        ?   \n",
       "1            False        Caucasian  Female  [20-30)  [50-75)   \n",
       "2             True        Caucasian    Male  [80-90)        ?   \n",
       "3            False  AfricanAmerican  Female  [50-60)        ?   \n",
       "4            False  AfricanAmerican  Female  [50-60)        ?   \n",
       "...            ...              ...     ...      ...      ...   \n",
       "9995         False        Caucasian  Female  [60-70)        ?   \n",
       "9996         False  AfricanAmerican    Male  [60-70)        ?   \n",
       "9997          True  AfricanAmerican  Female  [70-80)        ?   \n",
       "9998         False        Caucasian    Male  [80-90)        ?   \n",
       "9999         False        Caucasian    Male  [70-80)        ?   \n",
       "\n",
       "       admission_type_id                         admission_source_id  \\\n",
       "row_id                                                                 \n",
       "0               Elective                          Physician Referral   \n",
       "1                 Urgent                          Physician Referral   \n",
       "2          Not Available                                         NaN   \n",
       "3              Emergency  Transfer from another health care facility   \n",
       "4              Emergency                              Emergency Room   \n",
       "...                  ...                                         ...   \n",
       "9995            Elective                          Physician Referral   \n",
       "9996              Urgent                              Emergency Room   \n",
       "9997           Emergency                              Emergency Room   \n",
       "9998              Urgent                              Emergency Room   \n",
       "9999            Elective                          Physician Referral   \n",
       "\n",
       "        number_inpatient       medical_specialty  num_lab_procedures  \\\n",
       "row_id                                                                 \n",
       "0                      0           Surgery-Neuro                  35   \n",
       "1                      0                       ?                   8   \n",
       "2                      1  Family/GeneralPractice                  12   \n",
       "3                      0                       ?                  33   \n",
       "4                      0              Psychiatry                  31   \n",
       "...                  ...                     ...                 ...   \n",
       "9995                   0                       ?                  30   \n",
       "9996                   0        Emergency/Trauma                   1   \n",
       "9997                   1        InternalMedicine                  46   \n",
       "9998                   3        InternalMedicine                  62   \n",
       "9999                   1                       ?                  61   \n",
       "\n",
       "        number_diagnoses  num_medications  time_in_hospital diabetesMed  \\\n",
       "row_id                                                                    \n",
       "0                      9               21                 1          No   \n",
       "1                      6                5                 2          No   \n",
       "2                      9               21                 7         Yes   \n",
       "3                      3                5                 4         Yes   \n",
       "4                      7               13                 5         Yes   \n",
       "...                  ...              ...               ...         ...   \n",
       "9995                   7               29                 3         Yes   \n",
       "9996                   9               15                 8         Yes   \n",
       "9997                   6               14                13          No   \n",
       "9998                   9                7                 2          No   \n",
       "9999                   9               18                 8         Yes   \n",
       "\n",
       "        propensity_score  sampling_weight  \n",
       "row_id                                     \n",
       "0               0.812269         1.343415  \n",
       "1               0.547232         0.557018  \n",
       "2               0.889528         0.840671  \n",
       "3               0.551166         1.356761  \n",
       "4               0.769513         0.971783  \n",
       "...                  ...              ...  \n",
       "9995            0.903911         0.827293  \n",
       "9996            0.832543         0.898212  \n",
       "9997            0.738654         0.965004  \n",
       "9998            0.709603         0.868465  \n",
       "9999            0.758729         0.985596  \n",
       "\n",
       "[10000 rows x 16 columns]"
      ]
     },
     "execution_count": 172,
     "metadata": {},
     "output_type": "execute_result"
    }
   ],
   "source": [
    "iptw_df = (\n",
    "    working_df.assign(\n",
    "        row_id=lambda df: range(df.shape[0])\n",
    "    )  # assign a 0 to (N-1) row ID, to match up with predictions\n",
    "    .set_index(\"row_id\")\n",
    "    .join(propensity_scores_df, how=\"left\")  # join propensity scores\n",
    "    .assign(sampling_weight=compute_iptw)\n",
    ")\n",
    "iptw_df"
   ]
  },
  {
   "cell_type": "code",
   "execution_count": 173,
   "metadata": {},
   "outputs": [
    {
     "data": {
      "text/plain": [
       "<AxesSubplot:xlabel='sampling_weight', ylabel='Density'>"
      ]
     },
     "execution_count": 173,
     "metadata": {},
     "output_type": "execute_result"
    },
    {
     "data": {
      "image/png": "[encoded data removed]",
      "text/plain": [
       "<Figure size 432x288 with 1 Axes>"
      ]
     },
     "metadata": {
      "needs_background": "light"
     },
     "output_type": "display_data"
    }
   ],
   "source": [
    "sns.kdeplot(data=iptw_df, x=\"sampling_weight\", hue=\"diabetesMed\", common_norm=False)"
   ]
  },
  {
   "cell_type": "markdown",
   "metadata": {},
   "source": [
    "## Evaluate the causal relationship using Inverse Propensity of Treatment Weighting\n",
    "\n",
    "Now that you have computed the Inverse Propensity of Treatment Weights, you can create adjusted treatment and control groups which should be more similar to each other on observed covariates, and thus more valid to compare to determine a causal relationship. "
   ]
  },
  {
   "cell_type": "markdown",
   "metadata": {},
   "source": [
    "### Examine adjusted treatment and control populations\n",
    "\n",
    "To start, take a look at your covariates in the unadjusted vs. adjusted populations. You will see that the adjusted treatment and control groups are much more similar."
   ]
  },
  {
   "cell_type": "code",
   "execution_count": 163,
   "metadata": {},
   "outputs": [
    {
     "data": {
      "image/png": "[encoded data removed]",
      "text/plain": [
       "<Figure size 1080x360 with 2 Axes>"
      ]
     },
     "metadata": {
      "needs_background": "light"
     },
     "output_type": "display_data"
    }
   ],
   "source": [
    "fig, axes = plt.subplots(1, 2, figsize=(15, 5), sharey=True)\n",
    "fig.suptitle(\"num_medications\")\n",
    "axes[0].set_title(\"Unadjusted\")\n",
    "axes[1].set_title(\"Adjusted\")\n",
    "sns.kdeplot(\n",
    "    data=propensity_df, x=\"num_medications\", hue=\"diabetesMed\", common_norm=False, ax=axes[0]\n",
    ")\n",
    "sns.kdeplot(\n",
    "    data=iptw_df,\n",
    "    x=\"num_medications\",\n",
    "    hue=\"diabetesMed\",\n",
    "    common_norm=False,\n",
    "    ax=axes[1],\n",
    "    weights=\"sampling_weight\",\n",
    ")\n",
    "None"
   ]
  },
  {
   "cell_type": "code",
   "execution_count": 164,
   "metadata": {},
   "outputs": [
    {
     "data": {
      "image/png": "[encoded data removed]",
      "text/plain": [
       "<Figure size 1080x360 with 2 Axes>"
      ]
     },
     "metadata": {
      "needs_background": "light"
     },
     "output_type": "display_data"
    }
   ],
   "source": [
    "fig, axes = plt.subplots(1, 2, figsize=(15, 5), sharey=True)\n",
    "fig.suptitle(\"time_in_hospital\")\n",
    "axes[0].set_title(\"Unadjusted\")\n",
    "axes[1].set_title(\"Adjusted\")\n",
    "sns.kdeplot(\n",
    "    data=propensity_df, x=\"time_in_hospital\", hue=\"diabetesMed\", common_norm=False, ax=axes[0]\n",
    ")\n",
    "sns.kdeplot(\n",
    "    data=iptw_df,\n",
    "    x=\"time_in_hospital\",\n",
    "    hue=\"diabetesMed\",\n",
    "    common_norm=False,\n",
    "    ax=axes[1],\n",
    "    weights=\"sampling_weight\",\n",
    ")\n",
    "None"
   ]
  },
  {
   "cell_type": "code",
   "execution_count": 251,
   "metadata": {},
   "outputs": [],
   "source": [
    "PERCENT_FORMAT_STRING_0_100 = (\n",
    "    \"{x:.1f}%\"  # format string for formatting 0-100 floats as a percentage\n",
    ")\n",
    "\n",
    "\n",
    "def prepare_categorical_plot_df(categorical_var, weight=True):\n",
    "    if not weight:\n",
    "        plot_df = iptw_df.assign(sampling_weight=1)  # unweighted\n",
    "    else:\n",
    "        plot_df = iptw_df\n",
    "\n",
    "    plot_df = (\n",
    "        plot_df.groupby([\"diabetesMed\", categorical_var])\n",
    "        .sampling_weight.sum()\n",
    "        .pipe(\n",
    "            lambda df: 100 * (df / df.groupby(\"diabetesMed\").transform(\"sum\"))\n",
    "        )  # we are using 0-100 values for percentage (for compatibility with bar labels)\n",
    "        .to_frame(\"percent\")\n",
    "        .reset_index()\n",
    "    )\n",
    "\n",
    "    return plot_df"
   ]
  },
  {
   "cell_type": "code",
   "execution_count": 254,
   "metadata": {},
   "outputs": [
    {
     "data": {
      "image/png": "[encoded data removed]",
      "text/plain": [
       "<Figure size 1080x360 with 2 Axes>"
      ]
     },
     "metadata": {
      "needs_background": "light"
     },
     "output_type": "display_data"
    }
   ],
   "source": [
    "fig, axes = plt.subplots(1, 2, figsize=(15, 5), sharey=True)\n",
    "fig.suptitle(\"time_in_hospital\")\n",
    "axes[0].set_title(\"Unadjusted\")\n",
    "axes[1].set_title(\"Adjusted\")\n",
    "sns.barplot(\n",
    "    data=prepare_categorical_plot_df(\"age\", weight=False),\n",
    "    x=\"age\",\n",
    "    y=\"percent\",\n",
    "    hue=\"diabetesMed\",\n",
    "    ax=axes[0],\n",
    ")\n",
    "sns.barplot(\n",
    "    data=prepare_categorical_plot_df(\"age\", weight=True),\n",
    "    x=\"age\",\n",
    "    y=\"percent\",\n",
    "    hue=\"diabetesMed\",\n",
    "    ax=axes[1],\n",
    ")\n",
    "axes[0].yaxis.set_major_formatter(PERCENT_FORMAT_STRING_0_100)\n",
    "None"
   ]
  },
  {
   "cell_type": "markdown",
   "metadata": {},
   "source": [
    "For a complete analysis, you would continue to look at all of your covariates. You might also quantitatively assess the difference in treatment and control populations by using e.g. a standardized difference of means comparison to ensure that the treatment and control groups are comparable."
   ]
  },
  {
   "cell_type": "markdown",
   "metadata": {},
   "source": [
    "## Examine adjusted treatment effect\n",
    "Now that you have more comparable treatment and control groups, it's time to look at your core outcome of interest: hospital readmission. How do the adjusted treatment and control groups look on this outcome?"
   ]
  },
  {
   "cell_type": "code",
   "execution_count": 255,
   "metadata": {},
   "outputs": [
    {
     "data": {
      "image/png": "[encoded data removed]",
      "text/plain": [
       "<Figure size 1080x360 with 2 Axes>"
      ]
     },
     "metadata": {
      "needs_background": "light"
     },
     "output_type": "display_data"
    }
   ],
   "source": [
    "fig, axes = plt.subplots(1, 2, figsize=(15, 5), sharey=True)\n",
    "fig.suptitle(\"readmitted\")\n",
    "axes[0].set_title(\"Unadjusted\")\n",
    "axes[1].set_title(\"Adjusted\")\n",
    "sns.barplot(\n",
    "    data=prepare_categorical_plot_df(\"readmitted\", weight=False).pipe(\n",
    "        lambda df: df[df.readmitted == True]\n",
    "    ),\n",
    "    x=\"diabetesMed\",\n",
    "    y=\"percent\",\n",
    "    ax=axes[0],\n",
    ")\n",
    "sns.barplot(\n",
    "    data=prepare_categorical_plot_df(\"readmitted\", weight=True).pipe(\n",
    "        lambda df: df[df.readmitted == True]\n",
    "    ),\n",
    "    x=\"diabetesMed\",\n",
    "    y=\"percent\",\n",
    "    ax=axes[1],\n",
    ")\n",
    "axes[0].yaxis.set_major_formatter(PERCENT_FORMAT_STRING_0_100)\n",
    "for ax in axes:\n",
    "    for container in ax.containers:\n",
    "        ax.bar_label(container, fmt=\"%.1f%%\")\n",
    "None"
   ]
  },
  {
   "cell_type": "markdown",
   "metadata": {},
   "source": [
    "As you can see here, the treatment effect as measured from the adjusted treatment and control groups is nearly identical to the unadjusted treatment effect! Even after adjustment for your observed confounding variables, it still looks like patients on diabetes medication have higher readmission rates, which is an intriguing result.\n",
    "\n",
    "What can you conclude from this? There are a few possibilities:\n",
    "1. Diabetes medication really does cause an increased risk of readmission for diabetes hospital patients. What causal pathway could explain this?\n",
    "1. There is an unobserved confounding variable that explains this association, which was not accounted for in the propensity of treatment model. For example, there is not a good measure of \"severity of illness\" in the observed variables, nor a measure of the reason for hospitalization. How would results differ if these variables were included?\n",
    "1. Diabetes medication as you have measured it is not a sufficiently \"consistent\" measure, i.e. there are multiple types of medications that have different effects. What would happen if you analyzed the effect of specific medications?\n",
    "\n",
    "The path doesn't end here! Further evaluation of assumptions, the inclusion of additional data, and engagement with other research lie ahead in refining this use case.\n",
    "\n",
    "For whatever use case you'd like to tackle with Inverse Propensity of Treatment Weighting, the DataRobot platform is a powerful tool for obtaining the most effective propensity scores and disentangling confounding factors from your treatment effect."
   ]
  }
 ],
 "metadata": {
  "kernelspec": {
   "display_name": "Python 3 (ipykernel)",
   "language": "python",
   "name": "python3"
  },
  "language_info": {
   "codemirror_mode": {
    "name": "ipython",
    "version": 3
   },
   "file_extension": ".py",
   "mimetype": "text/x-python",
   "name": "python",
   "nbconvert_exporter": "python",
   "pygments_lexer": "ipython3",
   "version": "3.8.10"
  },
  "toc-autonumbering": true,
  "toc-showmarkdowntxt": true,
  "vscode": {
   "interpreter": {
    "hash": "397704579725e15f5c7cb49fe5f0341eb7531c82d19f2c29d197e8b64ab5776b"
   }
  }
 },
 "nbformat": 4,
 "nbformat_minor": 4
}
